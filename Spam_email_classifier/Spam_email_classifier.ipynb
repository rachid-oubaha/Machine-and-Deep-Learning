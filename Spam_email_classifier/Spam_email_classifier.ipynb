{
 "cells": [
  {
   "cell_type": "code",
   "execution_count": 111,
   "metadata": {},
   "outputs": [],
   "source": [
    "# Load Dependencies\n",
    "import pandas as pd\n",
    "from keras.preprocessing.text import Tokenizer\n",
    "from keras.preprocessing.sequence import pad_sequences\n",
    "import sklearn.metrics as metrics\n",
    "from keras.preprocessing import sequence\n",
    "from keras.models import Sequential\n",
    "from keras.layers import Dense, Dropout, Embedding, SimpleRNN , LSTM\n",
    "from keras.datasets import imdb\n",
    "from keras.callbacks import TensorBoard\n",
    "import numpy as np\n",
    "import seaborn as sns\n",
    "import matplotlib.pyplot as plt\n",
    "import re"
   ]
  },
  {
   "cell_type": "code",
   "execution_count": 76,
   "metadata": {},
   "outputs": [],
   "source": [
    "# Hyper-Parameters\n",
    "max_fatures = 3000\n",
    "no_classes = 1\n",
    "max_length = 100\n",
    "batch_size = 64\n",
    "embedding_vector = 64\n",
    "dropout_rate = 0.5\n",
    "no_epochs = 3"
   ]
  },
  {
   "cell_type": "code",
   "execution_count": 77,
   "metadata": {},
   "outputs": [
    {
     "name": "stdout",
     "output_type": "stream",
     "text": [
      "Data loaded successfully.\n",
      "(5572, 2)\n",
      "  label                                            message\n",
      "0   ham  Go until jurong point, crazy.. Available only ...\n",
      "1   ham                      Ok lar... Joking wif u oni...\n",
      "2  spam  Free entry in 2 a wkly comp to win FA Cup fina...\n",
      "3   ham  U dun say so early hor... U c already then say...\n",
      "4   ham  Nah I don't think he goes to usf, he lives aro...\n"
     ]
    },
    {
     "name": "stderr",
     "output_type": "stream",
     "text": [
      "C:\\Users\\hp\\Conda\\Anaconda3\\lib\\site-packages\\ipykernel_launcher.py:3: FutureWarning: read_table is deprecated, use read_csv instead, passing sep='\\t'.\n",
      "  This is separate from the ipykernel package so we can avoid doing imports until\n"
     ]
    }
   ],
   "source": [
    "# read file into pandas using a relative path\n",
    "path = 'sms.tsv'\n",
    "sms = pd.read_table(path, header=None, names=['label', 'message'])\n",
    "print('Data loaded successfully.')\n",
    "print(sms.shape)\n",
    "print(sms.head())"
   ]
  },
  {
   "cell_type": "code",
   "execution_count": 78,
   "metadata": {},
   "outputs": [],
   "source": [
    "sms['message'] = sms['message'].apply(lambda x: x.lower())\n",
    "sms['message'] = sms['message'].apply((lambda x: re.sub('[^a-zA-z0-9\\s]','',x)))"
   ]
  },
  {
   "cell_type": "code",
   "execution_count": 79,
   "metadata": {},
   "outputs": [
    {
     "name": "stdout",
     "output_type": "stream",
     "text": [
      "  label                                            message\n",
      "0   ham  go until jurong point crazy available only in ...\n",
      "1   ham                            ok lar joking wif u oni\n",
      "2  spam  free entry in 2 a wkly comp to win fa cup fina...\n",
      "3   ham        u dun say so early hor u c already then say\n",
      "4   ham  nah i dont think he goes to usf he lives aroun...\n"
     ]
    }
   ],
   "source": [
    "print(sms.head())"
   ]
  },
  {
   "cell_type": "code",
   "execution_count": 99,
   "metadata": {},
   "outputs": [
    {
     "name": "stdout",
     "output_type": "stream",
     "text": [
      "ham     4825\n",
      "spam     747\n",
      "Name: label, dtype: int64\n"
     ]
    },
    {
     "data": {
      "text/plain": [
       "<matplotlib.axes._subplots.AxesSubplot at 0xc663aff828>"
      ]
     },
     "execution_count": 99,
     "metadata": {},
     "output_type": "execute_result"
    },
    {
     "data": {
      "image/png": "[encoded data removed]",
      "text/plain": [
       "<Figure size 432x288 with 1 Axes>"
      ]
     },
     "metadata": {
      "needs_background": "light"
     },
     "output_type": "display_data"
    }
   ],
   "source": [
    "# # Class Distribution\n",
    "class_dist = sms.label.value_counts()\n",
    "print(class_dist)\n",
    "sns.barplot(class_dist.index,class_dist)"
   ]
  },
  {
   "cell_type": "code",
   "execution_count": 81,
   "metadata": {},
   "outputs": [],
   "source": [
    "# Data Preprocessing\n",
    "tokenizer = Tokenizer(num_words=max_fatures, split=' ')\n",
    "tokenizer.fit_on_texts(sms['message'].values)\n",
    "X = tokenizer.texts_to_sequences(sms['message'].values)\n",
    "X = pad_sequences(X, maxlen=max_length)"
   ]
  },
  {
   "cell_type": "code",
   "execution_count": 83,
   "metadata": {},
   "outputs": [
    {
     "name": "stdout",
     "output_type": "stream",
     "text": [
      "2786 1393 1393\n",
      "2786 1393 1393\n"
     ]
    }
   ],
   "source": [
    "#split data\n",
    "Y = sms.label.map({'ham':0, 'spam':1})\n",
    "\n",
    "def split_data(X):\n",
    "    training = X[:int(len(X)*0.5)] # 50% for training\n",
    "    validation = X[int(len(X)*0.5):int(len(X)*0.75)] # 25% for training\n",
    "    testing = X[int(len(X)*0.75):] # 25% for training\n",
    "    return training,validation,testing\n",
    "\n",
    "X_train , X_validate , X_test = split_data(X)\n",
    "Y_train , Y_validate , Y_test = split_data(Y)\n",
    "print(len(X_train) , len(X_validate) , len(X_test))\n",
    "print(len(Y_train) , len(Y_validate) , len(Y_test))\n"
   ]
  },
  {
   "cell_type": "markdown",
   "metadata": {},
   "source": [
    "## SimpleRNN"
   ]
  },
  {
   "cell_type": "code",
   "execution_count": 65,
   "metadata": {},
   "outputs": [
    {
     "name": "stdout",
     "output_type": "stream",
     "text": [
      "Building Simple RNN Model..\n"
     ]
    }
   ],
   "source": [
    "# Design Neural Network Architecture with SimpleRNN\n",
    "print('Building Simple RNN Model..')\n",
    "\n",
    "RNN_model = Sequential()\n",
    "# Add Embedding layer\n",
    "RNN_model.add(Embedding(max_fatures, embedding_vector, input_length=max_length))\n",
    "RNN_model.add(Dropout(dropout_rate))\n",
    "# Add Simple RNN layer\n",
    "RNN_model.add(SimpleRNN(units = 64 ,input_shape=(100, 64)))\n",
    "# Add Dense Hidden Layer\n",
    "RNN_model.add(Dense(256, activation='relu'))\n",
    "RNN_model.add(Dropout(dropout_rate))\n",
    "RNN_model.add(Dense(128, activation='relu'))\n",
    "RNN_model.add(Dropout(dropout_rate))\n",
    "# Output Layer \n",
    "RNN_model.add(Dense(no_classes, activation='sigmoid'))"
   ]
  },
  {
   "cell_type": "code",
   "execution_count": 66,
   "metadata": {},
   "outputs": [
    {
     "name": "stdout",
     "output_type": "stream",
     "text": [
      "_________________________________________________________________\n",
      "Layer (type)                 Output Shape              Param #   \n",
      "=================================================================\n",
      "embedding_2 (Embedding)      (None, 100, 64)           192000    \n",
      "_________________________________________________________________\n",
      "dropout_4 (Dropout)          (None, 100, 64)           0         \n",
      "_________________________________________________________________\n",
      "simple_rnn_2 (SimpleRNN)     (None, 64)                8256      \n",
      "_________________________________________________________________\n",
      "dense_4 (Dense)              (None, 256)               16640     \n",
      "_________________________________________________________________\n",
      "dropout_5 (Dropout)          (None, 256)               0         \n",
      "_________________________________________________________________\n",
      "dense_5 (Dense)              (None, 128)               32896     \n",
      "_________________________________________________________________\n",
      "dropout_6 (Dropout)          (None, 128)               0         \n",
      "_________________________________________________________________\n",
      "dense_6 (Dense)              (None, 1)                 129       \n",
      "=================================================================\n",
      "Total params: 249,921\n",
      "Trainable params: 249,921\n",
      "Non-trainable params: 0\n",
      "_________________________________________________________________\n"
     ]
    }
   ],
   "source": [
    "RNN_model.summary()"
   ]
  },
  {
   "cell_type": "markdown",
   "metadata": {},
   "source": [
    "## LSTM"
   ]
  },
  {
   "cell_type": "code",
   "execution_count": 84,
   "metadata": {},
   "outputs": [
    {
     "name": "stdout",
     "output_type": "stream",
     "text": [
      "Building Simple RNN Model..\n"
     ]
    }
   ],
   "source": [
    "# Design Neural Network Architecture with SimpleRNN\n",
    "print('Building Simple RNN Model..')\n",
    "\n",
    "RNN_model = Sequential()\n",
    "# Add Embedding layer\n",
    "RNN_model.add(Embedding(max_fatures, embedding_vector, input_length=max_length))\n",
    "RNN_model.add(Dropout(dropout_rate))\n",
    "# Add Simple RNN layer\n",
    "RNN_model.add(LSTM(units = 64 , dropout=0.2, recurrent_dropout=0.2, input_shape=(100, 64)))\n",
    "# Add Dense Hidden Layer\n",
    "RNN_model.add(Dense(256, activation='relu'))\n",
    "RNN_model.add(Dropout(dropout_rate))\n",
    "RNN_model.add(Dense(128, activation='relu'))\n",
    "RNN_model.add(Dropout(dropout_rate))\n",
    "# Output Layer \n",
    "RNN_model.add(Dense(no_classes, activation='sigmoid'))"
   ]
  },
  {
   "cell_type": "code",
   "execution_count": 85,
   "metadata": {},
   "outputs": [
    {
     "name": "stdout",
     "output_type": "stream",
     "text": [
      "_________________________________________________________________\n",
      "Layer (type)                 Output Shape              Param #   \n",
      "=================================================================\n",
      "embedding_3 (Embedding)      (None, 100, 64)           192000    \n",
      "_________________________________________________________________\n",
      "dropout_7 (Dropout)          (None, 100, 64)           0         \n",
      "_________________________________________________________________\n",
      "lstm_1 (LSTM)                (None, 64)                33024     \n",
      "_________________________________________________________________\n",
      "dense_7 (Dense)              (None, 256)               16640     \n",
      "_________________________________________________________________\n",
      "dropout_8 (Dropout)          (None, 256)               0         \n",
      "_________________________________________________________________\n",
      "dense_8 (Dense)              (None, 128)               32896     \n",
      "_________________________________________________________________\n",
      "dropout_9 (Dropout)          (None, 128)               0         \n",
      "_________________________________________________________________\n",
      "dense_9 (Dense)              (None, 1)                 129       \n",
      "=================================================================\n",
      "Total params: 274,689\n",
      "Trainable params: 274,689\n",
      "Non-trainable params: 0\n",
      "_________________________________________________________________\n"
     ]
    }
   ],
   "source": [
    "RNN_model.summary()"
   ]
  },
  {
   "cell_type": "code",
   "execution_count": 86,
   "metadata": {},
   "outputs": [],
   "source": [
    "# Configure model\n",
    "RNN_model.compile(loss='binary_crossentropy', optimizer='adam', metrics=['accuracy'])"
   ]
  },
  {
   "cell_type": "code",
   "execution_count": 109,
   "metadata": {},
   "outputs": [
    {
     "name": "stdout",
     "output_type": "stream",
     "text": [
      "Training the model..\n",
      "Train on 2786 samples, validate on 1393 samples\n",
      "Epoch 1/3\n",
      " - 12s - loss: 0.0276 - acc: 0.9910 - val_loss: 0.0805 - val_acc: 0.9806\n",
      "Epoch 2/3\n",
      " - 11s - loss: 0.0172 - acc: 0.9961 - val_loss: 0.0924 - val_acc: 0.9785\n",
      "Epoch 3/3\n",
      " - 11s - loss: 0.0100 - acc: 0.9978 - val_loss: 0.1329 - val_acc: 0.9777\n"
     ]
    }
   ],
   "source": [
    "# Train!\n",
    "print('Training the model..')\n",
    "history = RNN_model.fit(X_train, Y_train, batch_size=batch_size, verbose=2, epochs=no_epochs, validation_data=(X_validate, Y_validate))"
   ]
  },
  {
   "cell_type": "code",
   "execution_count": 88,
   "metadata": {},
   "outputs": [
    {
     "name": "stdout",
     "output_type": "stream",
     "text": [
      "1393/1393 [==============================] - 2s 1ms/step\n",
      "acc: 0.98\n"
     ]
    }
   ],
   "source": [
    "# evaluate the classification model\n",
    "_,acc = RNN_model.evaluate(X_test, Y_test)\n",
    "print(\"acc: %.2f\" % (acc))"
   ]
  },
  {
   "cell_type": "code",
   "execution_count": 89,
   "metadata": {},
   "outputs": [
    {
     "name": "stdout",
     "output_type": "stream",
     "text": [
      "[[1202   17]\n",
      " [   9  165]]\n"
     ]
    }
   ],
   "source": [
    "# confusion matrix\n",
    "y_pred = RNN_model.predict(X_test,batch_size=1,verbose = 2)\n",
    "y_pred = np.where(y_pred < 0.5, 0, 1)\n",
    "matrix = metrics.confusion_matrix(y_pred,Y_test)\n",
    "print(matrix)\n"
   ]
  },
  {
   "cell_type": "code",
   "execution_count": 113,
   "metadata": {},
   "outputs": [
    {
     "data": {
      "image/png": "[encoded data removed]",
      "text/plain": [
       "<Figure size 432x288 with 1 Axes>"
      ]
     },
     "metadata": {
      "needs_background": "light"
     },
     "output_type": "display_data"
    }
   ],
   "source": [
    "# Accuracy vs Epoch\n",
    "plt.title('Accuracy')\n",
    "plt.plot(history.history['acc'], label='train')\n",
    "plt.plot(history.history['val_acc'], label='test')\n",
    "plt.legend()\n",
    "plt.show();"
   ]
  },
  {
   "cell_type": "code",
   "execution_count": 114,
   "metadata": {},
   "outputs": [
    {
     "data": {
      "image/png": "[encoded data removed]",
      "text/plain": [
       "<Figure size 432x288 with 1 Axes>"
      ]
     },
     "metadata": {
      "needs_background": "light"
     },
     "output_type": "display_data"
    }
   ],
   "source": [
    "# Loss vs Epoch\n",
    "epoch_count = range(1, len(history.history['loss']) + 1)\n",
    "plt.plot(epoch_count, history.history['loss'], 'r--')\n",
    "plt.plot(epoch_count, history.history['val_loss'], 'b-')\n",
    "plt.legend(['Training Loss', 'Validation Loss'])\n",
    "plt.xlabel('Epoch')\n",
    "plt.ylabel('Loss')\n",
    "plt.show()"
   ]
  },
  {
   "cell_type": "markdown",
   "metadata": {},
   "source": [
    "### Making predictions on new data"
   ]
  },
  {
   "cell_type": "code",
   "execution_count": 74,
   "metadata": {},
   "outputs": [
    {
     "name": "stdout",
     "output_type": "stream",
     "text": [
      "[[   0    0    0    0    0    0    0    0    0    0    0    0    0    0\n",
      "     0    0    0    0    0    0    0    0    0    0    0    0    0    0\n",
      "     0    0    0    0    0    0    0    0    0    0    0    0    0    0\n",
      "     0    0    0    0    0    0    0    0    0    0    0    0    0    0\n",
      "     0    0    0    0    0    0    0    0    0    0    0    0    0    0\n",
      "     0    0    0    0    0    0    0    0    0    0    6  231  140   24\n",
      "   362 2885    6  161  143   60  140    2   43   98   72  463    1  903\n",
      "    72 1834]]\n",
      "[[0.00215031]]\n",
      "Ham\n"
     ]
    }
   ],
   "source": [
    "msg = ['u dun say so early hor u c already then say i dont think he goes to usf he lives aroun.']\n",
    "#vectorizing the tweet by the pre-fitted tokenizer instance\n",
    "msg = tokenizer.texts_to_sequences(msg)\n",
    "#padding the tweet to have exactly the same shape as `embedding_2` input\n",
    "msg = pad_sequences(msg, maxlen=max_length, dtype='int32', value=0)\n",
    "print(msg)\n",
    "sentiment = RNN_model.predict(msg,batch_size=1,verbose = 2)\n",
    "print(sentiment)\n",
    "if(sentiment[0][0] >= .5):\n",
    "    print(\"Spam\")\n",
    "else:\n",
    "    print(\"Ham\")\n"
   ]
  },
  {
   "cell_type": "code",
   "execution_count": null,
   "metadata": {},
   "outputs": [],
   "source": []
  }
 ],
 "metadata": {
  "kernelspec": {
   "display_name": "Python 3",
   "language": "python",
   "name": "python3"
  },
  "language_info": {
   "codemirror_mode": {
    "name": "ipython",
    "version": 3
   },
   "file_extension": ".py",
   "mimetype": "text/x-python",
   "name": "python",
   "nbconvert_exporter": "python",
   "pygments_lexer": "ipython3",
   "version": "3.7.3"
  }
 },
 "nbformat": 4,
 "nbformat_minor": 2
}
