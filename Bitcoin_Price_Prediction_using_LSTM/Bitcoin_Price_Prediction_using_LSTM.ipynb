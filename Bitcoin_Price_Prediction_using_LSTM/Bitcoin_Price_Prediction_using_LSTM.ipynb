{
  "nbformat": 4,
  "nbformat_minor": 0,
  "metadata": {
    "colab": {
      "name": "Bitcoin_Price_Prediction_using_LSTM.ipynb",
      "provenance": [],
      "collapsed_sections": []
    },
    "kernelspec": {
      "name": "python3",
      "display_name": "Python 3"
    },
    "language_info": {
      "name": "python"
    },
    "accelerator": "GPU"
  },
  "cells": [
    {
      "cell_type": "code",
      "metadata": {
        "colab": {
          "base_uri": "https://localhost:8080/"
        },
        "id": "guZf4_sCEkbC",
        "outputId": "69fe97e4-7a15-4668-de04-6e6aaeca20ce"
      },
      "source": [
        "pip install python-binance"
      ],
      "execution_count": 1,
      "outputs": [
        {
          "output_type": "stream",
          "name": "stdout",
          "text": [
            "Collecting python-binance\n",
            "  Downloading python_binance-1.0.15-py2.py3-none-any.whl (63 kB)\n",
            "\u001b[?25l\r\u001b[K     |█████▏                          | 10 kB 27.7 MB/s eta 0:00:01\r\u001b[K     |██████████▎                     | 20 kB 17.4 MB/s eta 0:00:01\r\u001b[K     |███████████████▍                | 30 kB 10.4 MB/s eta 0:00:01\r\u001b[K     |████████████████████▌           | 40 kB 8.4 MB/s eta 0:00:01\r\u001b[K     |█████████████████████████▋      | 51 kB 5.2 MB/s eta 0:00:01\r\u001b[K     |██████████████████████████████▊ | 61 kB 5.3 MB/s eta 0:00:01\r\u001b[K     |████████████████████████████████| 63 kB 2.1 MB/s \n",
            "\u001b[?25hRequirement already satisfied: requests in /usr/local/lib/python3.7/dist-packages (from python-binance) (2.23.0)\n",
            "Collecting aiohttp\n",
            "  Downloading aiohttp-3.8.1-cp37-cp37m-manylinux_2_5_x86_64.manylinux1_x86_64.manylinux_2_12_x86_64.manylinux2010_x86_64.whl (1.1 MB)\n",
            "\u001b[K     |████████████████████████████████| 1.1 MB 10.6 MB/s \n",
            "\u001b[?25hRequirement already satisfied: six in /usr/local/lib/python3.7/dist-packages (from python-binance) (1.15.0)\n",
            "Collecting dateparser\n",
            "  Downloading dateparser-1.1.0-py2.py3-none-any.whl (288 kB)\n",
            "\u001b[K     |████████████████████████████████| 288 kB 70.2 MB/s \n",
            "\u001b[?25hCollecting websockets==9.1\n",
            "  Downloading websockets-9.1-cp37-cp37m-manylinux2010_x86_64.whl (103 kB)\n",
            "\u001b[K     |████████████████████████████████| 103 kB 70.0 MB/s \n",
            "\u001b[?25hCollecting ujson\n",
            "  Downloading ujson-5.1.0-cp37-cp37m-manylinux_2_17_x86_64.manylinux2014_x86_64.whl (43 kB)\n",
            "\u001b[K     |████████████████████████████████| 43 kB 2.7 MB/s \n",
            "\u001b[?25hRequirement already satisfied: charset-normalizer<3.0,>=2.0 in /usr/local/lib/python3.7/dist-packages (from aiohttp->python-binance) (2.0.11)\n",
            "Collecting frozenlist>=1.1.1\n",
            "  Downloading frozenlist-1.3.0-cp37-cp37m-manylinux_2_5_x86_64.manylinux1_x86_64.manylinux_2_17_x86_64.manylinux2014_x86_64.whl (144 kB)\n",
            "\u001b[K     |████████████████████████████████| 144 kB 73.5 MB/s \n",
            "\u001b[?25hCollecting asynctest==0.13.0\n",
            "  Downloading asynctest-0.13.0-py3-none-any.whl (26 kB)\n",
            "Requirement already satisfied: typing-extensions>=3.7.4 in /usr/local/lib/python3.7/dist-packages (from aiohttp->python-binance) (3.10.0.2)\n",
            "Collecting async-timeout<5.0,>=4.0.0a3\n",
            "  Downloading async_timeout-4.0.2-py3-none-any.whl (5.8 kB)\n",
            "Collecting yarl<2.0,>=1.0\n",
            "  Downloading yarl-1.7.2-cp37-cp37m-manylinux_2_5_x86_64.manylinux1_x86_64.manylinux_2_12_x86_64.manylinux2010_x86_64.whl (271 kB)\n",
            "\u001b[K     |████████████████████████████████| 271 kB 71.6 MB/s \n",
            "\u001b[?25hCollecting multidict<7.0,>=4.5\n",
            "  Downloading multidict-6.0.2-cp37-cp37m-manylinux_2_17_x86_64.manylinux2014_x86_64.whl (94 kB)\n",
            "\u001b[K     |████████████████████████████████| 94 kB 544 kB/s \n",
            "\u001b[?25hRequirement already satisfied: attrs>=17.3.0 in /usr/local/lib/python3.7/dist-packages (from aiohttp->python-binance) (21.4.0)\n",
            "Collecting aiosignal>=1.1.2\n",
            "  Downloading aiosignal-1.2.0-py3-none-any.whl (8.2 kB)\n",
            "Requirement already satisfied: idna>=2.0 in /usr/local/lib/python3.7/dist-packages (from yarl<2.0,>=1.0->aiohttp->python-binance) (2.10)\n",
            "Requirement already satisfied: regex!=2019.02.19,!=2021.8.27 in /usr/local/lib/python3.7/dist-packages (from dateparser->python-binance) (2019.12.20)\n",
            "Requirement already satisfied: pytz in /usr/local/lib/python3.7/dist-packages (from dateparser->python-binance) (2018.9)\n",
            "Requirement already satisfied: python-dateutil in /usr/local/lib/python3.7/dist-packages (from dateparser->python-binance) (2.8.2)\n",
            "Requirement already satisfied: tzlocal in /usr/local/lib/python3.7/dist-packages (from dateparser->python-binance) (1.5.1)\n",
            "Requirement already satisfied: chardet<4,>=3.0.2 in /usr/local/lib/python3.7/dist-packages (from requests->python-binance) (3.0.4)\n",
            "Requirement already satisfied: urllib3!=1.25.0,!=1.25.1,<1.26,>=1.21.1 in /usr/local/lib/python3.7/dist-packages (from requests->python-binance) (1.24.3)\n",
            "Requirement already satisfied: certifi>=2017.4.17 in /usr/local/lib/python3.7/dist-packages (from requests->python-binance) (2021.10.8)\n",
            "Installing collected packages: multidict, frozenlist, yarl, asynctest, async-timeout, aiosignal, websockets, ujson, dateparser, aiohttp, python-binance\n",
            "Successfully installed aiohttp-3.8.1 aiosignal-1.2.0 async-timeout-4.0.2 asynctest-0.13.0 dateparser-1.1.0 frozenlist-1.3.0 multidict-6.0.2 python-binance-1.0.15 ujson-5.1.0 websockets-9.1 yarl-1.7.2\n"
          ]
        }
      ]
    },
    {
      "cell_type": "code",
      "metadata": {
        "colab": {
          "base_uri": "https://localhost:8080/"
        },
        "id": "5QckaR0VFfXj",
        "outputId": "0e13115a-cd70-4b65-e5b1-4aa04be01f7d"
      },
      "source": [
        "pip install websocket_client"
      ],
      "execution_count": 2,
      "outputs": [
        {
          "output_type": "stream",
          "name": "stdout",
          "text": [
            "Collecting websocket_client\n",
            "  Downloading websocket_client-1.2.3-py3-none-any.whl (53 kB)\n",
            "\u001b[?25l\r\u001b[K     |██████▏                         | 10 kB 30.9 MB/s eta 0:00:01\r\u001b[K     |████████████▎                   | 20 kB 16.6 MB/s eta 0:00:01\r\u001b[K     |██████████████████▍             | 30 kB 9.8 MB/s eta 0:00:01\r\u001b[K     |████████████████████████▌       | 40 kB 8.0 MB/s eta 0:00:01\r\u001b[K     |██████████████████████████████▋ | 51 kB 5.1 MB/s eta 0:00:01\r\u001b[K     |████████████████████████████████| 53 kB 1.7 MB/s \n",
            "\u001b[?25hInstalling collected packages: websocket-client\n",
            "Successfully installed websocket-client-1.2.3\n"
          ]
        }
      ]
    },
    {
      "cell_type": "code",
      "metadata": {
        "id": "RoJrwqGhEptb"
      },
      "source": [
        "from binance.client import Client\n",
        "from binance.enums import *\n",
        "import time, datetime\n",
        "import pandas as pd\n",
        "from datetime import datetime, timedelta\n",
        "\n",
        "import matplotlib.pyplot as plt\n",
        "\n",
        "import math\n",
        "import numpy as np\n",
        "from functools import reduce\n",
        "\n",
        "from sklearn.preprocessing import StandardScaler\n",
        "from sklearn.metrics import mean_squared_error, mean_absolute_error, explained_variance_score, r2_score \n",
        "from sklearn.metrics import mean_poisson_deviance, mean_gamma_deviance, accuracy_score\n",
        "import sklearn.metrics as metrics\n",
        "\n",
        "from tensorflow.keras.models import Sequential\n",
        "from tensorflow.keras.layers import Dense, Dropout\n",
        "from tensorflow.keras.layers import LSTM\n",
        "from tensorflow.keras.callbacks import ModelCheckpoint, EarlyStopping"
      ],
      "execution_count": 3,
      "outputs": []
    },
    {
      "cell_type": "markdown",
      "metadata": {
        "id": "pZRwedZ413fc"
      },
      "source": [
        "# **data scraping**"
      ]
    },
    {
      "cell_type": "markdown",
      "metadata": {
        "id": "Jc1cN2MmFJ7_"
      },
      "source": [
        "**OHLC data:**\n",
        "An OHLC chart is a type of bar chart that shows open, high, low, and closing prices for each period. "
      ]
    },
    {
      "cell_type": "code",
      "metadata": {
        "id": "2P-o9QZ9GCvt"
      },
      "source": [
        "SOCKET = \"wss://stream.binance.com:9443/ws/btcusdt@kline_1m\"\n",
        "TRADE_SYMBOL = 'BTCUSDT'\n",
        "TRADE_SYMBOL_HISTORY = 'BTCUSDT'\n",
        "API_KEY = 'ziew'\n",
        "API_SECRET = 'ziew'"
      ],
      "execution_count": 12,
      "outputs": []
    },
    {
      "cell_type": "code",
      "metadata": {
        "id": "nwn5cSQZF_wT"
      },
      "source": [
        "client = Client(API_KEY, API_SECRET)#, tld='us')"
      ],
      "execution_count": 13,
      "outputs": []
    },
    {
      "cell_type": "code",
      "metadata": {
        "id": "U8JBPdGREpwG"
      },
      "source": [
        "\n",
        "def GetHistoricalData(howLong):\n",
        "    howLong = howLong\n",
        "    # Calculate the timestamps for the binance api function\n",
        "    untilThisDate = datetime.now()\n",
        "    # sinceThisDate = untilThisDate - datetime.timedelta(days = howLong)\n",
        "    sinceThisDate = untilThisDate - timedelta(hours = howLong)\n",
        "    # Execute the query from binance - timestamps must be converted to strings !\n",
        "    candle = client.get_historical_klines(TRADE_SYMBOL_HISTORY, Client.KLINE_INTERVAL_1MINUTE, str(sinceThisDate), str(untilThisDate))\n",
        "    # print(\"TYPE\", type(candle),\"\\n\",candle)\n",
        "\n",
        "    # Create a dataframe to label all the columns returned by binance so we work with them later.\n",
        "    df = pd.DataFrame(candle, columns=['dateTime', 'open', 'high', 'low', 'close', 'volume', 'closeTime', 'quoteAssetVolume', 'numberOfTrades', 'takerBuyBaseVol', 'takerBuyQuoteVol', 'ignore'])\n",
        "    # as timestamp is returned in ms, let us convert this back to proper timestamps.\n",
        "    df.dateTime = pd.to_datetime(df.dateTime, unit='ms').dt.strftime('%Y-%m-%d %H:%M:%S')\n",
        "    # df.set_index('dateTime', inplace=True)\n",
        "\n",
        "    df[\"open\"] = df.open.astype(float)\n",
        "    df[\"high\"] = df.high.astype(float)\n",
        "    df[\"low\"] = df.low.astype(float)\n",
        "    df[\"close\"] = df.close.astype(float)\n",
        "    df[\"volume\"] = df.volume.astype(float)\n",
        "\n",
        "    # Get rid of columns we do not need\n",
        "    df = df.drop(['quoteAssetVolume', 'numberOfTrades', 'takerBuyBaseVol','takerBuyQuoteVol', 'ignore','closeTime'], axis=1)\n",
        "\n",
        "    return df"
      ],
      "execution_count": 14,
      "outputs": []
    },
    {
      "cell_type": "code",
      "metadata": {
        "colab": {
          "base_uri": "https://localhost:8080/"
        },
        "id": "w9ocX0QHE3fv",
        "outputId": "7c12e354-f70f-4f7c-9acf-a2c23a5f59b0"
      },
      "source": [
        "print(\"Launching script...\")\n",
        "df=GetHistoricalData(24*1000) # TAKE INTO ACCOUNT GMT-2 #10 days"
      ],
      "execution_count": 15,
      "outputs": [
        {
          "output_type": "stream",
          "name": "stdout",
          "text": [
            "Launching script...\n"
          ]
        }
      ]
    },
    {
      "cell_type": "code",
      "metadata": {
        "colab": {
          "base_uri": "https://localhost:8080/",
          "height": 206
        },
        "id": "tOan9Nvc2-RQ",
        "outputId": "8b55c94a-ffc5-48a9-916b-e9483d15d67a"
      },
      "source": [
        "df.tail()"
      ],
      "execution_count": 16,
      "outputs": [
        {
          "output_type": "execute_result",
          "data": {
            "text/html": [
              "\n",
              "  <div id=\"df-7f54b8e9-c82f-494e-9eed-112cbfa2496e\">\n",
              "    <div class=\"colab-df-container\">\n",
              "      <div>\n",
              "<style scoped>\n",
              "    .dataframe tbody tr th:only-of-type {\n",
              "        vertical-align: middle;\n",
              "    }\n",
              "\n",
              "    .dataframe tbody tr th {\n",
              "        vertical-align: top;\n",
              "    }\n",
              "\n",
              "    .dataframe thead th {\n",
              "        text-align: right;\n",
              "    }\n",
              "</style>\n",
              "<table border=\"1\" class=\"dataframe\">\n",
              "  <thead>\n",
              "    <tr style=\"text-align: right;\">\n",
              "      <th></th>\n",
              "      <th>dateTime</th>\n",
              "      <th>open</th>\n",
              "      <th>high</th>\n",
              "      <th>low</th>\n",
              "      <th>close</th>\n",
              "      <th>volume</th>\n",
              "    </tr>\n",
              "  </thead>\n",
              "  <tbody>\n",
              "    <tr>\n",
              "      <th>1436946</th>\n",
              "      <td>2022-02-13 19:48:00</td>\n",
              "      <td>41940.24</td>\n",
              "      <td>42015.50</td>\n",
              "      <td>41939.61</td>\n",
              "      <td>42013.05</td>\n",
              "      <td>22.57388</td>\n",
              "    </tr>\n",
              "    <tr>\n",
              "      <th>1436947</th>\n",
              "      <td>2022-02-13 19:49:00</td>\n",
              "      <td>42013.05</td>\n",
              "      <td>42038.76</td>\n",
              "      <td>42007.43</td>\n",
              "      <td>42014.95</td>\n",
              "      <td>11.91401</td>\n",
              "    </tr>\n",
              "    <tr>\n",
              "      <th>1436948</th>\n",
              "      <td>2022-02-13 19:50:00</td>\n",
              "      <td>42012.80</td>\n",
              "      <td>42022.00</td>\n",
              "      <td>41973.50</td>\n",
              "      <td>41987.29</td>\n",
              "      <td>50.84685</td>\n",
              "    </tr>\n",
              "    <tr>\n",
              "      <th>1436949</th>\n",
              "      <td>2022-02-13 19:51:00</td>\n",
              "      <td>41987.29</td>\n",
              "      <td>42010.34</td>\n",
              "      <td>41987.28</td>\n",
              "      <td>41992.60</td>\n",
              "      <td>6.60631</td>\n",
              "    </tr>\n",
              "    <tr>\n",
              "      <th>1436950</th>\n",
              "      <td>2022-02-13 19:52:00</td>\n",
              "      <td>41992.61</td>\n",
              "      <td>42010.79</td>\n",
              "      <td>41989.02</td>\n",
              "      <td>42002.18</td>\n",
              "      <td>9.97790</td>\n",
              "    </tr>\n",
              "  </tbody>\n",
              "</table>\n",
              "</div>\n",
              "      <button class=\"colab-df-convert\" onclick=\"convertToInteractive('df-7f54b8e9-c82f-494e-9eed-112cbfa2496e')\"\n",
              "              title=\"Convert this dataframe to an interactive table.\"\n",
              "              style=\"display:none;\">\n",
              "        \n",
              "  <svg xmlns=\"http://www.w3.org/2000/svg\" height=\"24px\"viewBox=\"0 0 24 24\"\n",
              "       width=\"24px\">\n",
              "    <path d=\"M0 0h24v24H0V0z\" fill=\"none\"/>\n",
              "    <path d=\"M18.56 5.44l.94 2.06.94-2.06 2.06-.94-2.06-.94-.94-2.06-.94 2.06-2.06.94zm-11 1L8.5 8.5l.94-2.06 2.06-.94-2.06-.94L8.5 2.5l-.94 2.06-2.06.94zm10 10l.94 2.06.94-2.06 2.06-.94-2.06-.94-.94-2.06-.94 2.06-2.06.94z\"/><path d=\"M17.41 7.96l-1.37-1.37c-.4-.4-.92-.59-1.43-.59-.52 0-1.04.2-1.43.59L10.3 9.45l-7.72 7.72c-.78.78-.78 2.05 0 2.83L4 21.41c.39.39.9.59 1.41.59.51 0 1.02-.2 1.41-.59l7.78-7.78 2.81-2.81c.8-.78.8-2.07 0-2.86zM5.41 20L4 18.59l7.72-7.72 1.47 1.35L5.41 20z\"/>\n",
              "  </svg>\n",
              "      </button>\n",
              "      \n",
              "  <style>\n",
              "    .colab-df-container {\n",
              "      display:flex;\n",
              "      flex-wrap:wrap;\n",
              "      gap: 12px;\n",
              "    }\n",
              "\n",
              "    .colab-df-convert {\n",
              "      background-color: #E8F0FE;\n",
              "      border: none;\n",
              "      border-radius: 50%;\n",
              "      cursor: pointer;\n",
              "      display: none;\n",
              "      fill: #1967D2;\n",
              "      height: 32px;\n",
              "      padding: 0 0 0 0;\n",
              "      width: 32px;\n",
              "    }\n",
              "\n",
              "    .colab-df-convert:hover {\n",
              "      background-color: #E2EBFA;\n",
              "      box-shadow: 0px 1px 2px rgba(60, 64, 67, 0.3), 0px 1px 3px 1px rgba(60, 64, 67, 0.15);\n",
              "      fill: #174EA6;\n",
              "    }\n",
              "\n",
              "    [theme=dark] .colab-df-convert {\n",
              "      background-color: #3B4455;\n",
              "      fill: #D2E3FC;\n",
              "    }\n",
              "\n",
              "    [theme=dark] .colab-df-convert:hover {\n",
              "      background-color: #434B5C;\n",
              "      box-shadow: 0px 1px 3px 1px rgba(0, 0, 0, 0.15);\n",
              "      filter: drop-shadow(0px 1px 2px rgba(0, 0, 0, 0.3));\n",
              "      fill: #FFFFFF;\n",
              "    }\n",
              "  </style>\n",
              "\n",
              "      <script>\n",
              "        const buttonEl =\n",
              "          document.querySelector('#df-7f54b8e9-c82f-494e-9eed-112cbfa2496e button.colab-df-convert');\n",
              "        buttonEl.style.display =\n",
              "          google.colab.kernel.accessAllowed ? 'block' : 'none';\n",
              "\n",
              "        async function convertToInteractive(key) {\n",
              "          const element = document.querySelector('#df-7f54b8e9-c82f-494e-9eed-112cbfa2496e');\n",
              "          const dataTable =\n",
              "            await google.colab.kernel.invokeFunction('convertToInteractive',\n",
              "                                                     [key], {});\n",
              "          if (!dataTable) return;\n",
              "\n",
              "          const docLinkHtml = 'Like what you see? Visit the ' +\n",
              "            '<a target=\"_blank\" href=https://colab.research.google.com/notebooks/data_table.ipynb>data table notebook</a>'\n",
              "            + ' to learn more about interactive tables.';\n",
              "          element.innerHTML = '';\n",
              "          dataTable['output_type'] = 'display_data';\n",
              "          await google.colab.output.renderOutput(dataTable, element);\n",
              "          const docLink = document.createElement('div');\n",
              "          docLink.innerHTML = docLinkHtml;\n",
              "          element.appendChild(docLink);\n",
              "        }\n",
              "      </script>\n",
              "    </div>\n",
              "  </div>\n",
              "  "
            ],
            "text/plain": [
              "                    dateTime      open      high       low     close    volume\n",
              "1436946  2022-02-13 19:48:00  41940.24  42015.50  41939.61  42013.05  22.57388\n",
              "1436947  2022-02-13 19:49:00  42013.05  42038.76  42007.43  42014.95  11.91401\n",
              "1436948  2022-02-13 19:50:00  42012.80  42022.00  41973.50  41987.29  50.84685\n",
              "1436949  2022-02-13 19:51:00  41987.29  42010.34  41987.28  41992.60   6.60631\n",
              "1436950  2022-02-13 19:52:00  41992.61  42010.79  41989.02  42002.18   9.97790"
            ]
          },
          "metadata": {},
          "execution_count": 16
        }
      ]
    },
    {
      "cell_type": "code",
      "metadata": {
        "colab": {
          "base_uri": "https://localhost:8080/"
        },
        "id": "apWon5Q_3BG8",
        "outputId": "df0a1e91-fd12-469c-a088-2f2818592681"
      },
      "source": [
        "df.shape"
      ],
      "execution_count": 17,
      "outputs": [
        {
          "output_type": "execute_result",
          "data": {
            "text/plain": [
              "(1436951, 6)"
            ]
          },
          "metadata": {},
          "execution_count": 17
        }
      ]
    },
    {
      "cell_type": "code",
      "metadata": {
        "colab": {
          "base_uri": "https://localhost:8080/"
        },
        "id": "vox8cNL94BMM",
        "outputId": "95dec112-7aa9-4912-844d-f0249062c6f6"
      },
      "source": [
        "df.info()"
      ],
      "execution_count": 18,
      "outputs": [
        {
          "output_type": "stream",
          "name": "stdout",
          "text": [
            "<class 'pandas.core.frame.DataFrame'>\n",
            "RangeIndex: 1436951 entries, 0 to 1436950\n",
            "Data columns (total 6 columns):\n",
            " #   Column    Non-Null Count    Dtype  \n",
            "---  ------    --------------    -----  \n",
            " 0   dateTime  1436951 non-null  object \n",
            " 1   open      1436951 non-null  float64\n",
            " 2   high      1436951 non-null  float64\n",
            " 3   low       1436951 non-null  float64\n",
            " 4   close     1436951 non-null  float64\n",
            " 5   volume    1436951 non-null  float64\n",
            "dtypes: float64(5), object(1)\n",
            "memory usage: 65.8+ MB\n"
          ]
        }
      ]
    },
    {
      "cell_type": "code",
      "metadata": {
        "colab": {
          "base_uri": "https://localhost:8080/",
          "height": 300
        },
        "id": "XxhiU5rr3JSj",
        "outputId": "70ea97ec-0d08-44b9-e963-7312d843f87e"
      },
      "source": [
        "include =['float', 'int']\n",
        "df.describe(include = include)"
      ],
      "execution_count": 19,
      "outputs": [
        {
          "output_type": "execute_result",
          "data": {
            "text/html": [
              "\n",
              "  <div id=\"df-ecebafff-c28a-43ba-a03b-fce3b0ef72c1\">\n",
              "    <div class=\"colab-df-container\">\n",
              "      <div>\n",
              "<style scoped>\n",
              "    .dataframe tbody tr th:only-of-type {\n",
              "        vertical-align: middle;\n",
              "    }\n",
              "\n",
              "    .dataframe tbody tr th {\n",
              "        vertical-align: top;\n",
              "    }\n",
              "\n",
              "    .dataframe thead th {\n",
              "        text-align: right;\n",
              "    }\n",
              "</style>\n",
              "<table border=\"1\" class=\"dataframe\">\n",
              "  <thead>\n",
              "    <tr style=\"text-align: right;\">\n",
              "      <th></th>\n",
              "      <th>open</th>\n",
              "      <th>high</th>\n",
              "      <th>low</th>\n",
              "      <th>close</th>\n",
              "      <th>volume</th>\n",
              "    </tr>\n",
              "  </thead>\n",
              "  <tbody>\n",
              "    <tr>\n",
              "      <th>count</th>\n",
              "      <td>1.436951e+06</td>\n",
              "      <td>1.436951e+06</td>\n",
              "      <td>1.436951e+06</td>\n",
              "      <td>1.436951e+06</td>\n",
              "      <td>1.436951e+06</td>\n",
              "    </tr>\n",
              "    <tr>\n",
              "      <th>mean</th>\n",
              "      <td>2.520801e+04</td>\n",
              "      <td>2.522554e+04</td>\n",
              "      <td>2.519036e+04</td>\n",
              "      <td>2.520803e+04</td>\n",
              "      <td>4.434002e+01</td>\n",
              "    </tr>\n",
              "    <tr>\n",
              "      <th>std</th>\n",
              "      <td>1.908842e+04</td>\n",
              "      <td>1.910210e+04</td>\n",
              "      <td>1.907477e+04</td>\n",
              "      <td>1.908842e+04</td>\n",
              "      <td>6.708241e+01</td>\n",
              "    </tr>\n",
              "    <tr>\n",
              "      <th>min</th>\n",
              "      <td>3.810000e+03</td>\n",
              "      <td>3.900000e+03</td>\n",
              "      <td>3.782130e+03</td>\n",
              "      <td>3.810780e+03</td>\n",
              "      <td>0.000000e+00</td>\n",
              "    </tr>\n",
              "    <tr>\n",
              "      <th>25%</th>\n",
              "      <td>9.238130e+03</td>\n",
              "      <td>9.241360e+03</td>\n",
              "      <td>9.234580e+03</td>\n",
              "      <td>9.238105e+03</td>\n",
              "      <td>1.488478e+01</td>\n",
              "    </tr>\n",
              "    <tr>\n",
              "      <th>50%</th>\n",
              "      <td>1.177683e+04</td>\n",
              "      <td>1.178340e+04</td>\n",
              "      <td>1.177000e+04</td>\n",
              "      <td>1.177692e+04</td>\n",
              "      <td>2.647667e+01</td>\n",
              "    </tr>\n",
              "    <tr>\n",
              "      <th>75%</th>\n",
              "      <td>4.319119e+04</td>\n",
              "      <td>4.321711e+04</td>\n",
              "      <td>4.316487e+04</td>\n",
              "      <td>4.319111e+04</td>\n",
              "      <td>4.855745e+01</td>\n",
              "    </tr>\n",
              "    <tr>\n",
              "      <th>max</th>\n",
              "      <td>6.900000e+04</td>\n",
              "      <td>6.900000e+04</td>\n",
              "      <td>6.878670e+04</td>\n",
              "      <td>6.900000e+04</td>\n",
              "      <td>3.564139e+03</td>\n",
              "    </tr>\n",
              "  </tbody>\n",
              "</table>\n",
              "</div>\n",
              "      <button class=\"colab-df-convert\" onclick=\"convertToInteractive('df-ecebafff-c28a-43ba-a03b-fce3b0ef72c1')\"\n",
              "              title=\"Convert this dataframe to an interactive table.\"\n",
              "              style=\"display:none;\">\n",
              "        \n",
              "  <svg xmlns=\"http://www.w3.org/2000/svg\" height=\"24px\"viewBox=\"0 0 24 24\"\n",
              "       width=\"24px\">\n",
              "    <path d=\"M0 0h24v24H0V0z\" fill=\"none\"/>\n",
              "    <path d=\"M18.56 5.44l.94 2.06.94-2.06 2.06-.94-2.06-.94-.94-2.06-.94 2.06-2.06.94zm-11 1L8.5 8.5l.94-2.06 2.06-.94-2.06-.94L8.5 2.5l-.94 2.06-2.06.94zm10 10l.94 2.06.94-2.06 2.06-.94-2.06-.94-.94-2.06-.94 2.06-2.06.94z\"/><path d=\"M17.41 7.96l-1.37-1.37c-.4-.4-.92-.59-1.43-.59-.52 0-1.04.2-1.43.59L10.3 9.45l-7.72 7.72c-.78.78-.78 2.05 0 2.83L4 21.41c.39.39.9.59 1.41.59.51 0 1.02-.2 1.41-.59l7.78-7.78 2.81-2.81c.8-.78.8-2.07 0-2.86zM5.41 20L4 18.59l7.72-7.72 1.47 1.35L5.41 20z\"/>\n",
              "  </svg>\n",
              "      </button>\n",
              "      \n",
              "  <style>\n",
              "    .colab-df-container {\n",
              "      display:flex;\n",
              "      flex-wrap:wrap;\n",
              "      gap: 12px;\n",
              "    }\n",
              "\n",
              "    .colab-df-convert {\n",
              "      background-color: #E8F0FE;\n",
              "      border: none;\n",
              "      border-radius: 50%;\n",
              "      cursor: pointer;\n",
              "      display: none;\n",
              "      fill: #1967D2;\n",
              "      height: 32px;\n",
              "      padding: 0 0 0 0;\n",
              "      width: 32px;\n",
              "    }\n",
              "\n",
              "    .colab-df-convert:hover {\n",
              "      background-color: #E2EBFA;\n",
              "      box-shadow: 0px 1px 2px rgba(60, 64, 67, 0.3), 0px 1px 3px 1px rgba(60, 64, 67, 0.15);\n",
              "      fill: #174EA6;\n",
              "    }\n",
              "\n",
              "    [theme=dark] .colab-df-convert {\n",
              "      background-color: #3B4455;\n",
              "      fill: #D2E3FC;\n",
              "    }\n",
              "\n",
              "    [theme=dark] .colab-df-convert:hover {\n",
              "      background-color: #434B5C;\n",
              "      box-shadow: 0px 1px 3px 1px rgba(0, 0, 0, 0.15);\n",
              "      filter: drop-shadow(0px 1px 2px rgba(0, 0, 0, 0.3));\n",
              "      fill: #FFFFFF;\n",
              "    }\n",
              "  </style>\n",
              "\n",
              "      <script>\n",
              "        const buttonEl =\n",
              "          document.querySelector('#df-ecebafff-c28a-43ba-a03b-fce3b0ef72c1 button.colab-df-convert');\n",
              "        buttonEl.style.display =\n",
              "          google.colab.kernel.accessAllowed ? 'block' : 'none';\n",
              "\n",
              "        async function convertToInteractive(key) {\n",
              "          const element = document.querySelector('#df-ecebafff-c28a-43ba-a03b-fce3b0ef72c1');\n",
              "          const dataTable =\n",
              "            await google.colab.kernel.invokeFunction('convertToInteractive',\n",
              "                                                     [key], {});\n",
              "          if (!dataTable) return;\n",
              "\n",
              "          const docLinkHtml = 'Like what you see? Visit the ' +\n",
              "            '<a target=\"_blank\" href=https://colab.research.google.com/notebooks/data_table.ipynb>data table notebook</a>'\n",
              "            + ' to learn more about interactive tables.';\n",
              "          element.innerHTML = '';\n",
              "          dataTable['output_type'] = 'display_data';\n",
              "          await google.colab.output.renderOutput(dataTable, element);\n",
              "          const docLink = document.createElement('div');\n",
              "          docLink.innerHTML = docLinkHtml;\n",
              "          element.appendChild(docLink);\n",
              "        }\n",
              "      </script>\n",
              "    </div>\n",
              "  </div>\n",
              "  "
            ],
            "text/plain": [
              "               open          high           low         close        volume\n",
              "count  1.436951e+06  1.436951e+06  1.436951e+06  1.436951e+06  1.436951e+06\n",
              "mean   2.520801e+04  2.522554e+04  2.519036e+04  2.520803e+04  4.434002e+01\n",
              "std    1.908842e+04  1.910210e+04  1.907477e+04  1.908842e+04  6.708241e+01\n",
              "min    3.810000e+03  3.900000e+03  3.782130e+03  3.810780e+03  0.000000e+00\n",
              "25%    9.238130e+03  9.241360e+03  9.234580e+03  9.238105e+03  1.488478e+01\n",
              "50%    1.177683e+04  1.178340e+04  1.177000e+04  1.177692e+04  2.647667e+01\n",
              "75%    4.319119e+04  4.321711e+04  4.316487e+04  4.319111e+04  4.855745e+01\n",
              "max    6.900000e+04  6.900000e+04  6.878670e+04  6.900000e+04  3.564139e+03"
            ]
          },
          "metadata": {},
          "execution_count": 19
        }
      ]
    },
    {
      "cell_type": "code",
      "metadata": {
        "id": "kKcJoD776VRY"
      },
      "source": [
        "#covert datatime column from object dtype to datetime dtype\n",
        "df[\"dateTime\"] = df.dateTime.astype('datetime64[ns]')"
      ],
      "execution_count": 20,
      "outputs": []
    },
    {
      "cell_type": "code",
      "source": [
        "df = df.rename({'close': 'price'}, axis='columns')"
      ],
      "metadata": {
        "id": "5f-qJ4OB8eZp"
      },
      "execution_count": 21,
      "outputs": []
    },
    {
      "cell_type": "code",
      "metadata": {
        "colab": {
          "base_uri": "https://localhost:8080/"
        },
        "id": "GCE5Z5yu7w24",
        "outputId": "11453dbf-0f2d-4f7a-db4e-0eda30243317"
      },
      "source": [
        "df.info()"
      ],
      "execution_count": 22,
      "outputs": [
        {
          "output_type": "stream",
          "name": "stdout",
          "text": [
            "<class 'pandas.core.frame.DataFrame'>\n",
            "RangeIndex: 1436951 entries, 0 to 1436950\n",
            "Data columns (total 6 columns):\n",
            " #   Column    Non-Null Count    Dtype         \n",
            "---  ------    --------------    -----         \n",
            " 0   dateTime  1436951 non-null  datetime64[ns]\n",
            " 1   open      1436951 non-null  float64       \n",
            " 2   high      1436951 non-null  float64       \n",
            " 3   low       1436951 non-null  float64       \n",
            " 4   price     1436951 non-null  float64       \n",
            " 5   volume    1436951 non-null  float64       \n",
            "dtypes: datetime64[ns](1), float64(5)\n",
            "memory usage: 65.8 MB\n"
          ]
        }
      ]
    },
    {
      "cell_type": "code",
      "source": [
        "#Set time column as Index\n",
        "df.set_index('dateTime',inplace=True)"
      ],
      "metadata": {
        "id": "gPupeSr9-lbx"
      },
      "execution_count": 23,
      "outputs": []
    },
    {
      "cell_type": "code",
      "source": [
        "df.tail()"
      ],
      "metadata": {
        "colab": {
          "base_uri": "https://localhost:8080/",
          "height": 238
        },
        "id": "3XHEBaTI_Dp9",
        "outputId": "264d9ae4-f746-4f0f-cda8-b1f81976a179"
      },
      "execution_count": 24,
      "outputs": [
        {
          "output_type": "execute_result",
          "data": {
            "text/html": [
              "\n",
              "  <div id=\"df-a79e859b-7fcf-4caa-89d0-710b6925c7a4\">\n",
              "    <div class=\"colab-df-container\">\n",
              "      <div>\n",
              "<style scoped>\n",
              "    .dataframe tbody tr th:only-of-type {\n",
              "        vertical-align: middle;\n",
              "    }\n",
              "\n",
              "    .dataframe tbody tr th {\n",
              "        vertical-align: top;\n",
              "    }\n",
              "\n",
              "    .dataframe thead th {\n",
              "        text-align: right;\n",
              "    }\n",
              "</style>\n",
              "<table border=\"1\" class=\"dataframe\">\n",
              "  <thead>\n",
              "    <tr style=\"text-align: right;\">\n",
              "      <th></th>\n",
              "      <th>open</th>\n",
              "      <th>high</th>\n",
              "      <th>low</th>\n",
              "      <th>price</th>\n",
              "      <th>volume</th>\n",
              "    </tr>\n",
              "    <tr>\n",
              "      <th>dateTime</th>\n",
              "      <th></th>\n",
              "      <th></th>\n",
              "      <th></th>\n",
              "      <th></th>\n",
              "      <th></th>\n",
              "    </tr>\n",
              "  </thead>\n",
              "  <tbody>\n",
              "    <tr>\n",
              "      <th>2022-02-13 19:48:00</th>\n",
              "      <td>41940.24</td>\n",
              "      <td>42015.50</td>\n",
              "      <td>41939.61</td>\n",
              "      <td>42013.05</td>\n",
              "      <td>22.57388</td>\n",
              "    </tr>\n",
              "    <tr>\n",
              "      <th>2022-02-13 19:49:00</th>\n",
              "      <td>42013.05</td>\n",
              "      <td>42038.76</td>\n",
              "      <td>42007.43</td>\n",
              "      <td>42014.95</td>\n",
              "      <td>11.91401</td>\n",
              "    </tr>\n",
              "    <tr>\n",
              "      <th>2022-02-13 19:50:00</th>\n",
              "      <td>42012.80</td>\n",
              "      <td>42022.00</td>\n",
              "      <td>41973.50</td>\n",
              "      <td>41987.29</td>\n",
              "      <td>50.84685</td>\n",
              "    </tr>\n",
              "    <tr>\n",
              "      <th>2022-02-13 19:51:00</th>\n",
              "      <td>41987.29</td>\n",
              "      <td>42010.34</td>\n",
              "      <td>41987.28</td>\n",
              "      <td>41992.60</td>\n",
              "      <td>6.60631</td>\n",
              "    </tr>\n",
              "    <tr>\n",
              "      <th>2022-02-13 19:52:00</th>\n",
              "      <td>41992.61</td>\n",
              "      <td>42010.79</td>\n",
              "      <td>41989.02</td>\n",
              "      <td>42002.18</td>\n",
              "      <td>9.97790</td>\n",
              "    </tr>\n",
              "  </tbody>\n",
              "</table>\n",
              "</div>\n",
              "      <button class=\"colab-df-convert\" onclick=\"convertToInteractive('df-a79e859b-7fcf-4caa-89d0-710b6925c7a4')\"\n",
              "              title=\"Convert this dataframe to an interactive table.\"\n",
              "              style=\"display:none;\">\n",
              "        \n",
              "  <svg xmlns=\"http://www.w3.org/2000/svg\" height=\"24px\"viewBox=\"0 0 24 24\"\n",
              "       width=\"24px\">\n",
              "    <path d=\"M0 0h24v24H0V0z\" fill=\"none\"/>\n",
              "    <path d=\"M18.56 5.44l.94 2.06.94-2.06 2.06-.94-2.06-.94-.94-2.06-.94 2.06-2.06.94zm-11 1L8.5 8.5l.94-2.06 2.06-.94-2.06-.94L8.5 2.5l-.94 2.06-2.06.94zm10 10l.94 2.06.94-2.06 2.06-.94-2.06-.94-.94-2.06-.94 2.06-2.06.94z\"/><path d=\"M17.41 7.96l-1.37-1.37c-.4-.4-.92-.59-1.43-.59-.52 0-1.04.2-1.43.59L10.3 9.45l-7.72 7.72c-.78.78-.78 2.05 0 2.83L4 21.41c.39.39.9.59 1.41.59.51 0 1.02-.2 1.41-.59l7.78-7.78 2.81-2.81c.8-.78.8-2.07 0-2.86zM5.41 20L4 18.59l7.72-7.72 1.47 1.35L5.41 20z\"/>\n",
              "  </svg>\n",
              "      </button>\n",
              "      \n",
              "  <style>\n",
              "    .colab-df-container {\n",
              "      display:flex;\n",
              "      flex-wrap:wrap;\n",
              "      gap: 12px;\n",
              "    }\n",
              "\n",
              "    .colab-df-convert {\n",
              "      background-color: #E8F0FE;\n",
              "      border: none;\n",
              "      border-radius: 50%;\n",
              "      cursor: pointer;\n",
              "      display: none;\n",
              "      fill: #1967D2;\n",
              "      height: 32px;\n",
              "      padding: 0 0 0 0;\n",
              "      width: 32px;\n",
              "    }\n",
              "\n",
              "    .colab-df-convert:hover {\n",
              "      background-color: #E2EBFA;\n",
              "      box-shadow: 0px 1px 2px rgba(60, 64, 67, 0.3), 0px 1px 3px 1px rgba(60, 64, 67, 0.15);\n",
              "      fill: #174EA6;\n",
              "    }\n",
              "\n",
              "    [theme=dark] .colab-df-convert {\n",
              "      background-color: #3B4455;\n",
              "      fill: #D2E3FC;\n",
              "    }\n",
              "\n",
              "    [theme=dark] .colab-df-convert:hover {\n",
              "      background-color: #434B5C;\n",
              "      box-shadow: 0px 1px 3px 1px rgba(0, 0, 0, 0.15);\n",
              "      filter: drop-shadow(0px 1px 2px rgba(0, 0, 0, 0.3));\n",
              "      fill: #FFFFFF;\n",
              "    }\n",
              "  </style>\n",
              "\n",
              "      <script>\n",
              "        const buttonEl =\n",
              "          document.querySelector('#df-a79e859b-7fcf-4caa-89d0-710b6925c7a4 button.colab-df-convert');\n",
              "        buttonEl.style.display =\n",
              "          google.colab.kernel.accessAllowed ? 'block' : 'none';\n",
              "\n",
              "        async function convertToInteractive(key) {\n",
              "          const element = document.querySelector('#df-a79e859b-7fcf-4caa-89d0-710b6925c7a4');\n",
              "          const dataTable =\n",
              "            await google.colab.kernel.invokeFunction('convertToInteractive',\n",
              "                                                     [key], {});\n",
              "          if (!dataTable) return;\n",
              "\n",
              "          const docLinkHtml = 'Like what you see? Visit the ' +\n",
              "            '<a target=\"_blank\" href=https://colab.research.google.com/notebooks/data_table.ipynb>data table notebook</a>'\n",
              "            + ' to learn more about interactive tables.';\n",
              "          element.innerHTML = '';\n",
              "          dataTable['output_type'] = 'display_data';\n",
              "          await google.colab.output.renderOutput(dataTable, element);\n",
              "          const docLink = document.createElement('div');\n",
              "          docLink.innerHTML = docLinkHtml;\n",
              "          element.appendChild(docLink);\n",
              "        }\n",
              "      </script>\n",
              "    </div>\n",
              "  </div>\n",
              "  "
            ],
            "text/plain": [
              "                         open      high       low     price    volume\n",
              "dateTime                                                             \n",
              "2022-02-13 19:48:00  41940.24  42015.50  41939.61  42013.05  22.57388\n",
              "2022-02-13 19:49:00  42013.05  42038.76  42007.43  42014.95  11.91401\n",
              "2022-02-13 19:50:00  42012.80  42022.00  41973.50  41987.29  50.84685\n",
              "2022-02-13 19:51:00  41987.29  42010.34  41987.28  41992.60   6.60631\n",
              "2022-02-13 19:52:00  41992.61  42010.79  41989.02  42002.18   9.97790"
            ]
          },
          "metadata": {},
          "execution_count": 24
        }
      ]
    },
    {
      "cell_type": "code",
      "source": [
        "#plot\n",
        "df['price'].plot(title = \"Bitcoin Weighted Price\",x = \"time\",y = \"price\",figsize=(20, 10))\n",
        "plt.show()"
      ],
      "metadata": {
        "colab": {
          "base_uri": "https://localhost:8080/",
          "height": 587
        },
        "id": "lCwjQHaY_tqa",
        "outputId": "009d7d8d-381d-43c5-a367-75c98f98988f"
      },
      "execution_count": 25,
      "outputs": [
        {
          "output_type": "display_data",
          "data": {
            "image/png": "[encoded data removed]",
            "text/plain": [
              "<Figure size 1440x720 with 1 Axes>"
            ]
          },
          "metadata": {
            "needs_background": "light"
          }
        }
      ]
    },
    {
      "cell_type": "markdown",
      "metadata": {
        "id": "u5MKAJNJ2D5C"
      },
      "source": [
        "## **Time series**"
      ]
    },
    {
      "cell_type": "code",
      "metadata": {
        "colab": {
          "base_uri": "https://localhost:8080/",
          "height": 715
        },
        "id": "aM-PSPiM2CEU",
        "outputId": "9c4bb0f6-185d-49fc-92cc-4b4b2911278b"
      },
      "source": [
        "#Auto-correlation \n",
        "plt.figure(figsize=(20,15))\n",
        "plt.suptitle('Lag Plots', fontsize=22)\n",
        "\n",
        "plt.subplot(3,3,1)\n",
        "pd.plotting.lag_plot(df['price'], lag=1) #minute lag\n",
        "plt.title('1-Minute Lag')\n",
        "\n",
        "plt.subplot(3,3,2)\n",
        "pd.plotting.lag_plot(df['price'], lag=60) #hourley lag\n",
        "plt.title('1-Hour Lag')\n",
        "\n",
        "plt.subplot(3,3,3)\n",
        "pd.plotting.lag_plot(df['price'], lag=1440) #Daily lag\n",
        "plt.title('Daily Lag')\n",
        "\n",
        "plt.subplot(3,3,4)\n",
        "pd.plotting.lag_plot(df['price'], lag=10080) #weekly lag\n",
        "plt.title('Weekly Lag')"
      ],
      "execution_count": 26,
      "outputs": [
        {
          "output_type": "execute_result",
          "data": {
            "text/plain": [
              "Text(0.5, 1.0, 'Weekly Lag')"
            ]
          },
          "metadata": {},
          "execution_count": 26
        },
        {
          "output_type": "display_data",
          "data": {
            "image/png": "[encoded data removed]",
            "text/plain": [
              "<Figure size 1440x1080 with 4 Axes>"
            ]
          },
          "metadata": {
            "needs_background": "light"
          }
        }
      ]
    },
    {
      "cell_type": "code",
      "metadata": {
        "colab": {
          "base_uri": "https://localhost:8080/",
          "height": 359
        },
        "id": "KB5RuLS72CJX",
        "outputId": "993a970b-584f-4214-b08c-a89a80ead652"
      },
      "source": [
        "df['date'] = pd.to_datetime(df.index,unit='H').date\n",
        "display(df.head())\n",
        "group = df.groupby('date')\n",
        "new_df = group['price'].mean()\n",
        "display(new_df.head())"
      ],
      "execution_count": 27,
      "outputs": [
        {
          "output_type": "display_data",
          "data": {
            "text/html": [
              "\n",
              "  <div id=\"df-bc16c60a-2777-42f2-ad70-04e030a367e0\">\n",
              "    <div class=\"colab-df-container\">\n",
              "      <div>\n",
              "<style scoped>\n",
              "    .dataframe tbody tr th:only-of-type {\n",
              "        vertical-align: middle;\n",
              "    }\n",
              "\n",
              "    .dataframe tbody tr th {\n",
              "        vertical-align: top;\n",
              "    }\n",
              "\n",
              "    .dataframe thead th {\n",
              "        text-align: right;\n",
              "    }\n",
              "</style>\n",
              "<table border=\"1\" class=\"dataframe\">\n",
              "  <thead>\n",
              "    <tr style=\"text-align: right;\">\n",
              "      <th></th>\n",
              "      <th>open</th>\n",
              "      <th>high</th>\n",
              "      <th>low</th>\n",
              "      <th>price</th>\n",
              "      <th>volume</th>\n",
              "      <th>date</th>\n",
              "    </tr>\n",
              "    <tr>\n",
              "      <th>dateTime</th>\n",
              "      <th></th>\n",
              "      <th></th>\n",
              "      <th></th>\n",
              "      <th></th>\n",
              "      <th></th>\n",
              "      <th></th>\n",
              "    </tr>\n",
              "  </thead>\n",
              "  <tbody>\n",
              "    <tr>\n",
              "      <th>2019-05-20 19:53:00</th>\n",
              "      <td>7816.67</td>\n",
              "      <td>7819.98</td>\n",
              "      <td>7815.15</td>\n",
              "      <td>7819.04</td>\n",
              "      <td>12.914511</td>\n",
              "      <td>2019-05-20</td>\n",
              "    </tr>\n",
              "    <tr>\n",
              "      <th>2019-05-20 19:54:00</th>\n",
              "      <td>7818.61</td>\n",
              "      <td>7819.02</td>\n",
              "      <td>7810.03</td>\n",
              "      <td>7810.35</td>\n",
              "      <td>22.260995</td>\n",
              "      <td>2019-05-20</td>\n",
              "    </tr>\n",
              "    <tr>\n",
              "      <th>2019-05-20 19:55:00</th>\n",
              "      <td>7812.75</td>\n",
              "      <td>7815.27</td>\n",
              "      <td>7810.00</td>\n",
              "      <td>7810.03</td>\n",
              "      <td>16.796854</td>\n",
              "      <td>2019-05-20</td>\n",
              "    </tr>\n",
              "    <tr>\n",
              "      <th>2019-05-20 19:56:00</th>\n",
              "      <td>7811.25</td>\n",
              "      <td>7811.98</td>\n",
              "      <td>7796.48</td>\n",
              "      <td>7796.48</td>\n",
              "      <td>21.814203</td>\n",
              "      <td>2019-05-20</td>\n",
              "    </tr>\n",
              "    <tr>\n",
              "      <th>2019-05-20 19:57:00</th>\n",
              "      <td>7796.14</td>\n",
              "      <td>7804.63</td>\n",
              "      <td>7782.10</td>\n",
              "      <td>7801.68</td>\n",
              "      <td>51.611655</td>\n",
              "      <td>2019-05-20</td>\n",
              "    </tr>\n",
              "  </tbody>\n",
              "</table>\n",
              "</div>\n",
              "      <button class=\"colab-df-convert\" onclick=\"convertToInteractive('df-bc16c60a-2777-42f2-ad70-04e030a367e0')\"\n",
              "              title=\"Convert this dataframe to an interactive table.\"\n",
              "              style=\"display:none;\">\n",
              "        \n",
              "  <svg xmlns=\"http://www.w3.org/2000/svg\" height=\"24px\"viewBox=\"0 0 24 24\"\n",
              "       width=\"24px\">\n",
              "    <path d=\"M0 0h24v24H0V0z\" fill=\"none\"/>\n",
              "    <path d=\"M18.56 5.44l.94 2.06.94-2.06 2.06-.94-2.06-.94-.94-2.06-.94 2.06-2.06.94zm-11 1L8.5 8.5l.94-2.06 2.06-.94-2.06-.94L8.5 2.5l-.94 2.06-2.06.94zm10 10l.94 2.06.94-2.06 2.06-.94-2.06-.94-.94-2.06-.94 2.06-2.06.94z\"/><path d=\"M17.41 7.96l-1.37-1.37c-.4-.4-.92-.59-1.43-.59-.52 0-1.04.2-1.43.59L10.3 9.45l-7.72 7.72c-.78.78-.78 2.05 0 2.83L4 21.41c.39.39.9.59 1.41.59.51 0 1.02-.2 1.41-.59l7.78-7.78 2.81-2.81c.8-.78.8-2.07 0-2.86zM5.41 20L4 18.59l7.72-7.72 1.47 1.35L5.41 20z\"/>\n",
              "  </svg>\n",
              "      </button>\n",
              "      \n",
              "  <style>\n",
              "    .colab-df-container {\n",
              "      display:flex;\n",
              "      flex-wrap:wrap;\n",
              "      gap: 12px;\n",
              "    }\n",
              "\n",
              "    .colab-df-convert {\n",
              "      background-color: #E8F0FE;\n",
              "      border: none;\n",
              "      border-radius: 50%;\n",
              "      cursor: pointer;\n",
              "      display: none;\n",
              "      fill: #1967D2;\n",
              "      height: 32px;\n",
              "      padding: 0 0 0 0;\n",
              "      width: 32px;\n",
              "    }\n",
              "\n",
              "    .colab-df-convert:hover {\n",
              "      background-color: #E2EBFA;\n",
              "      box-shadow: 0px 1px 2px rgba(60, 64, 67, 0.3), 0px 1px 3px 1px rgba(60, 64, 67, 0.15);\n",
              "      fill: #174EA6;\n",
              "    }\n",
              "\n",
              "    [theme=dark] .colab-df-convert {\n",
              "      background-color: #3B4455;\n",
              "      fill: #D2E3FC;\n",
              "    }\n",
              "\n",
              "    [theme=dark] .colab-df-convert:hover {\n",
              "      background-color: #434B5C;\n",
              "      box-shadow: 0px 1px 3px 1px rgba(0, 0, 0, 0.15);\n",
              "      filter: drop-shadow(0px 1px 2px rgba(0, 0, 0, 0.3));\n",
              "      fill: #FFFFFF;\n",
              "    }\n",
              "  </style>\n",
              "\n",
              "      <script>\n",
              "        const buttonEl =\n",
              "          document.querySelector('#df-bc16c60a-2777-42f2-ad70-04e030a367e0 button.colab-df-convert');\n",
              "        buttonEl.style.display =\n",
              "          google.colab.kernel.accessAllowed ? 'block' : 'none';\n",
              "\n",
              "        async function convertToInteractive(key) {\n",
              "          const element = document.querySelector('#df-bc16c60a-2777-42f2-ad70-04e030a367e0');\n",
              "          const dataTable =\n",
              "            await google.colab.kernel.invokeFunction('convertToInteractive',\n",
              "                                                     [key], {});\n",
              "          if (!dataTable) return;\n",
              "\n",
              "          const docLinkHtml = 'Like what you see? Visit the ' +\n",
              "            '<a target=\"_blank\" href=https://colab.research.google.com/notebooks/data_table.ipynb>data table notebook</a>'\n",
              "            + ' to learn more about interactive tables.';\n",
              "          element.innerHTML = '';\n",
              "          dataTable['output_type'] = 'display_data';\n",
              "          await google.colab.output.renderOutput(dataTable, element);\n",
              "          const docLink = document.createElement('div');\n",
              "          docLink.innerHTML = docLinkHtml;\n",
              "          element.appendChild(docLink);\n",
              "        }\n",
              "      </script>\n",
              "    </div>\n",
              "  </div>\n",
              "  "
            ],
            "text/plain": [
              "                        open     high      low    price     volume        date\n",
              "dateTime                                                                      \n",
              "2019-05-20 19:53:00  7816.67  7819.98  7815.15  7819.04  12.914511  2019-05-20\n",
              "2019-05-20 19:54:00  7818.61  7819.02  7810.03  7810.35  22.260995  2019-05-20\n",
              "2019-05-20 19:55:00  7812.75  7815.27  7810.00  7810.03  16.796854  2019-05-20\n",
              "2019-05-20 19:56:00  7811.25  7811.98  7796.48  7796.48  21.814203  2019-05-20\n",
              "2019-05-20 19:57:00  7796.14  7804.63  7782.10  7801.68  51.611655  2019-05-20"
            ]
          },
          "metadata": {}
        },
        {
          "output_type": "display_data",
          "data": {
            "text/plain": [
              "date\n",
              "2019-05-20    7930.106478\n",
              "2019-05-21    7907.481326\n",
              "2019-05-22    7864.892000\n",
              "2019-05-23    7687.198743\n",
              "2019-05-24    7940.863500\n",
              "Name: price, dtype: float64"
            ]
          },
          "metadata": {}
        }
      ]
    },
    {
      "cell_type": "code",
      "source": [
        "new_df.shape"
      ],
      "metadata": {
        "colab": {
          "base_uri": "https://localhost:8080/"
        },
        "id": "wsKPWv2z_XDW",
        "outputId": "7072e2a8-6956-49bd-a153-b01665e3a0d5"
      },
      "execution_count": 28,
      "outputs": [
        {
          "output_type": "execute_result",
          "data": {
            "text/plain": [
              "(1001,)"
            ]
          },
          "metadata": {},
          "execution_count": 28
        }
      ]
    },
    {
      "cell_type": "markdown",
      "metadata": {
        "id": "VK3Pw6zWSJMb"
      },
      "source": [
        "## Data Split"
      ]
    },
    {
      "cell_type": "code",
      "metadata": {
        "id": "T4yvM_zy2CMy"
      },
      "source": [
        "# Train data from 1 to Total data length - 50 days \n",
        "train = new_df[:850].values\n",
        "# Test data : the last 50 days\n",
        "test = new_df[850:].values"
      ],
      "execution_count": 114,
      "outputs": []
    },
    {
      "cell_type": "code",
      "metadata": {
        "id": "74wKvepR2CPi",
        "colab": {
          "base_uri": "https://localhost:8080/"
        },
        "outputId": "7d104dc8-444a-407b-f871-b8d6c4e828ed"
      },
      "source": [
        "print(train.shape,test.shape)"
      ],
      "execution_count": 115,
      "outputs": [
        {
          "output_type": "stream",
          "name": "stdout",
          "text": [
            "(850,) (151,)\n"
          ]
        }
      ]
    },
    {
      "cell_type": "markdown",
      "source": [
        "## Data Scaling"
      ],
      "metadata": {
        "id": "WFkU1-qSB2cQ"
      }
    },
    {
      "cell_type": "markdown",
      "source": [
        "Standard Scaler for Data"
      ],
      "metadata": {
        "id": "wYsx8gBHEbsM"
      }
    },
    {
      "cell_type": "markdown",
      "source": [
        "we first need to split the data into training and test set before applying normalization over data.\n",
        "\n",
        "we should perform feature normalisation over the training data. Then perform normalisation on testing instances as well, but this time using the mean and variance of training explanatory variables. In this way, we can test and evaluate whether our model can generalize well to new, unseen data points"
      ],
      "metadata": {
        "id": "e4vmRAYa994M"
      }
    },
    {
      "cell_type": "code",
      "source": [
        ""
      ],
      "metadata": {
        "id": "hlIhNCs6Bgl4"
      },
      "execution_count": null,
      "outputs": []
    },
    {
      "cell_type": "code",
      "source": [
        "train = train.reshape(-1,1)\n",
        "test = test.reshape(-1,1)"
      ],
      "metadata": {
        "id": "ORtcd_2jLqjf"
      },
      "execution_count": 116,
      "outputs": []
    },
    {
      "cell_type": "code",
      "source": [
        "scaler = StandardScaler(copy=True, with_mean=True, with_std=True)\n",
        "#scaled_train  = scaler.fit_transform(train)\n",
        "\n",
        "scaler = scaler.fit(train)\n",
        "scaled_train = scaler.transform(train)\n",
        "\n",
        "#scaler_test  = StandardScaler(copy=True, with_mean=True, with_std=True)\n",
        "scaled_test   = scaler.transform(test)\n"
      ],
      "metadata": {
        "id": "mGCHKdD0Bgj1"
      },
      "execution_count": 117,
      "outputs": []
    },
    {
      "cell_type": "code",
      "source": [
        "scaled_train[0:50]"
      ],
      "metadata": {
        "colab": {
          "base_uri": "https://localhost:8080/"
        },
        "id": "AvMpwAghOcUS",
        "outputId": "6b909386-98b0-4d91-ed0c-a5f3a86dd580"
      },
      "execution_count": 119,
      "outputs": [
        {
          "output_type": "execute_result",
          "data": {
            "text/plain": [
              "array([[-0.76061967],\n",
              "       [-0.7619665 ],\n",
              "       [-0.76450174],\n",
              "       [-0.7750794 ],\n",
              "       [-0.75997933],\n",
              "       [-0.75647704],\n",
              "       [-0.75158654],\n",
              "       [-0.71379499],\n",
              "       [-0.71417907],\n",
              "       [-0.71838698],\n",
              "       [-0.71911574],\n",
              "       [-0.73499714],\n",
              "       [-0.72430917],\n",
              "       [-0.71751428],\n",
              "       [-0.72485733],\n",
              "       [-0.76381959],\n",
              "       [-0.77032508],\n",
              "       [-0.77202598],\n",
              "       [-0.76158477],\n",
              "       [-0.76159633],\n",
              "       [-0.76982936],\n",
              "       [-0.7687927 ],\n",
              "       [-0.76456741],\n",
              "       [-0.75674165],\n",
              "       [-0.74811672],\n",
              "       [-0.73689988],\n",
              "       [-0.715861  ],\n",
              "       [-0.69368644],\n",
              "       [-0.68514928],\n",
              "       [-0.68856695],\n",
              "       [-0.68858816],\n",
              "       [-0.67718808],\n",
              "       [-0.65041418],\n",
              "       [-0.59443994],\n",
              "       [-0.58843143],\n",
              "       [-0.58398929],\n",
              "       [-0.55659245],\n",
              "       [-0.47450056],\n",
              "       [-0.51984151],\n",
              "       [-0.5291879 ],\n",
              "       [-0.52299709],\n",
              "       [-0.54142741],\n",
              "       [-0.59230849],\n",
              "       [-0.61730182],\n",
              "       [-0.55926466],\n",
              "       [-0.53557354],\n",
              "       [-0.57008301],\n",
              "       [-0.55583778],\n",
              "       [-0.56094401],\n",
              "       [-0.53419484]])"
            ]
          },
          "metadata": {},
          "execution_count": 119
        }
      ]
    },
    {
      "cell_type": "markdown",
      "source": [
        "## Dataset Generator for LSTM"
      ],
      "metadata": {
        "id": "HlCnxFKaNIHr"
      }
    },
    {
      "cell_type": "markdown",
      "source": [
        "The input will be -> 1, 2, 3, 4, 5, 6, 7 \n",
        "\n",
        "And the output will be -> 8 \n",
        "-------\n",
        "The input will be -> 2, 3, 4, 5, 6, 7, 8 \n",
        "\n",
        "And the output will be -> 9\n",
        "-------\n",
        "..."
      ],
      "metadata": {
        "id": "v3Z5qnAQUdRS"
      }
    },
    {
      "cell_type": "code",
      "source": [
        "def data_generator(data,lookback  = 7):\n",
        "  x = [data[i:(i + lookback), 0] for i in range(len(data)-lookback)]\n",
        "  y = [data[i+lookback, 0] for i in range(len(data)-lookback)]\n",
        "  return np.array(x), np.array(y)"
      ],
      "metadata": {
        "id": "PMnRtxcuBgqr"
      },
      "execution_count": 120,
      "outputs": []
    },
    {
      "cell_type": "code",
      "source": [
        "trainX, trainY = data_generator(scaled_train)\n",
        "testX, testY = data_generator(scaled_test)"
      ],
      "metadata": {
        "id": "7SHpwOVaPkaI"
      },
      "execution_count": 121,
      "outputs": []
    },
    {
      "cell_type": "code",
      "source": [
        "print(\"trainX: \", trainX.shape)\n",
        "print(\"trainY: \", trainY.shape)\n",
        "print(\"testX: \", testX.shape)\n",
        "print(\"testY\", testY.shape)"
      ],
      "metadata": {
        "colab": {
          "base_uri": "https://localhost:8080/"
        },
        "id": "aTGpPbK0RCBg",
        "outputId": "f8907644-be59-4691-b4ad-f4b51de2efdf"
      },
      "execution_count": 123,
      "outputs": [
        {
          "output_type": "stream",
          "name": "stdout",
          "text": [
            "trainX:  (843, 7)\n",
            "trainY:  (843,)\n",
            "testX:  (144, 7)\n",
            "testY (144,)\n"
          ]
        }
      ]
    },
    {
      "cell_type": "markdown",
      "source": [
        "Data Generator for Classification"
      ],
      "metadata": {
        "id": "Reb8g2Tbv108"
      }
    },
    {
      "cell_type": "code",
      "source": [
        "def data_generator_clf(x,y):\n",
        "  x = x[1:]\n",
        "  y = [0 if y[i] > y[i+1] else 1 for i in range(len(y)-1)]\n",
        "  return np.array(x), np.array(y)"
      ],
      "metadata": {
        "id": "YcS2vW6TwCVZ"
      },
      "execution_count": 124,
      "outputs": []
    },
    {
      "cell_type": "code",
      "source": [
        "trainX_clf, trainY_clf = data_generator_clf(trainX,trainY)\n",
        "testX_clf, testY_clf = data_generator_clf(testX, testY)"
      ],
      "metadata": {
        "id": "WzOvQ_4-wI0U"
      },
      "execution_count": 125,
      "outputs": []
    },
    {
      "cell_type": "code",
      "source": [
        "print(\"trainX classification: \", trainX_clf.shape)\n",
        "print(\"trainY classification: \", trainY_clf.shape)\n",
        "print(\"testX classification: \", testX_clf.shape)\n",
        "print(\"testY classification\", testY_clf.shape)"
      ],
      "metadata": {
        "colab": {
          "base_uri": "https://localhost:8080/"
        },
        "id": "-g7UfOFW7f_n",
        "outputId": "afbd7398-f110-409d-b0ac-8dfb348b204b"
      },
      "execution_count": 126,
      "outputs": [
        {
          "output_type": "stream",
          "name": "stdout",
          "text": [
            "trainX classification:  (842, 7)\n",
            "trainY classification:  (842,)\n",
            "testX classification:  (143, 7)\n",
            "testY classification (143,)\n"
          ]
        }
      ]
    },
    {
      "cell_type": "code",
      "source": [
        "trainY_clf[0:50]"
      ],
      "metadata": {
        "colab": {
          "base_uri": "https://localhost:8080/"
        },
        "id": "v73Zfg3a7vCS",
        "outputId": "52b8e5fa-042b-40dc-8c8a-465155991ed0"
      },
      "execution_count": 127,
      "outputs": [
        {
          "output_type": "execute_result",
          "data": {
            "text/plain": [
              "array([0, 0, 0, 0, 1, 1, 0, 0, 0, 0, 1, 0, 0, 1, 1, 1, 1, 1, 1, 1, 1, 0,\n",
              "       0, 1, 1, 1, 1, 1, 1, 1, 0, 0, 1, 0, 0, 0, 1, 1, 0, 1, 0, 1, 1, 1,\n",
              "       0, 0, 0, 0, 0, 0])"
            ]
          },
          "metadata": {},
          "execution_count": 127
        }
      ]
    },
    {
      "cell_type": "markdown",
      "source": [
        "For LSTM we need to reshape input to be a 3D Tensor of samples, time steps, features.\n",
        "\n",
        "The number of time steps is equal to the number of LSTM cells"
      ],
      "metadata": {
        "id": "hmnKOuid5Q6b"
      }
    },
    {
      "cell_type": "code",
      "source": [
        "# We use the reshape() function on the NumPy array to reshape the one-dimensional array into a three-dimensional array.\n",
        "def data_reshape(data):\n",
        "  return np.reshape(data, (data.shape[0], data.shape[1], 1))"
      ],
      "metadata": {
        "id": "S8JWwGTmYODi"
      },
      "execution_count": 134,
      "outputs": []
    },
    {
      "cell_type": "code",
      "source": [
        "trainX = data_reshape(trainX)\n",
        "testX = data_reshape(testX)\n",
        "\n",
        "print(\"Shape of trainX: \", trainX.shape)\n",
        "print(\"Shape of testX: \", testX.shape)"
      ],
      "metadata": {
        "colab": {
          "base_uri": "https://localhost:8080/"
        },
        "id": "tSra9YuNYupj",
        "outputId": "096ded6c-034d-4d37-f60c-1162cab79787"
      },
      "execution_count": 135,
      "outputs": [
        {
          "output_type": "stream",
          "name": "stdout",
          "text": [
            "Shape of trainX:  (843, 7, 1)\n",
            "Shape of testX:  (144, 7, 1)\n"
          ]
        }
      ]
    },
    {
      "cell_type": "code",
      "source": [
        "trainX_clf = data_reshape(trainX_clf)\n",
        "testX_clf = data_reshape(testX_clf)\n",
        "\n",
        "print(\"Shape of trainX: \", trainX_clf.shape)\n",
        "print(\"Shape of testX: \", testX_clf.shape)"
      ],
      "metadata": {
        "colab": {
          "base_uri": "https://localhost:8080/"
        },
        "id": "OZo5S3Q7IIdU",
        "outputId": "cb226204-86db-4718-f61a-52c03e539e42"
      },
      "execution_count": 136,
      "outputs": [
        {
          "output_type": "stream",
          "name": "stdout",
          "text": [
            "Shape of trainX:  (842, 7, 1)\n",
            "Shape of testX:  (143, 7, 1)\n"
          ]
        }
      ]
    },
    {
      "cell_type": "markdown",
      "source": [
        "## LSTM Model"
      ],
      "metadata": {
        "id": "wYyoZ9jqWLQE"
      }
    },
    {
      "cell_type": "markdown",
      "source": [
        "to convert an input sequence into an output sequence we use **return_sequences=True**."
      ],
      "metadata": {
        "id": "A-YDSL9eE5OH"
      }
    },
    {
      "cell_type": "code",
      "source": [
        "# the input to every LSTM layer must be three-dimensional.\n",
        "model = Sequential()\n",
        "# input_shape is supposed to be (timesteps, n_features).\n",
        "model.add(LSTM(units = 128, activation = 'relu',return_sequences=True, input_shape = (trainX.shape[1], trainX.shape[2])))\n",
        "model.add(Dropout(0.2))\n",
        "# Adding a second LSTM layer and some Dropout regularisation\n",
        "model.add(LSTM(units = 64, input_shape = (trainX.shape[1], trainX.shape[2])))\n",
        "model.add(Dropout(0.2))\n",
        "\n",
        "\n",
        "\n",
        "# output layer\n",
        "model.add(Dense(units = 1))"
      ],
      "metadata": {
        "id": "xHk8-pYOTii3",
        "colab": {
          "base_uri": "https://localhost:8080/"
        },
        "outputId": "db170855-5695-48ad-d806-eaae41bc34e9"
      },
      "execution_count": 104,
      "outputs": [
        {
          "output_type": "stream",
          "name": "stdout",
          "text": [
            "WARNING:tensorflow:Layer lstm_8 will not use cuDNN kernels since it doesn't meet the criteria. It will use a generic GPU kernel as fallback when running on GPU.\n"
          ]
        }
      ]
    },
    {
      "cell_type": "code",
      "source": [
        "model.summary()"
      ],
      "metadata": {
        "colab": {
          "base_uri": "https://localhost:8080/"
        },
        "id": "vKmWvP1JXoVh",
        "outputId": "bdf37a17-0e5a-4e5c-d1ce-2f197139bb36"
      },
      "execution_count": 105,
      "outputs": [
        {
          "output_type": "stream",
          "name": "stdout",
          "text": [
            "Model: \"sequential_7\"\n",
            "_________________________________________________________________\n",
            " Layer (type)                Output Shape              Param #   \n",
            "=================================================================\n",
            " lstm_8 (LSTM)               (None, 7, 128)            66560     \n",
            "                                                                 \n",
            " dropout_16 (Dropout)        (None, 7, 128)            0         \n",
            "                                                                 \n",
            " lstm_9 (LSTM)               (None, 64)                49408     \n",
            "                                                                 \n",
            " dropout_17 (Dropout)        (None, 64)                0         \n",
            "                                                                 \n",
            " dense_18 (Dense)            (None, 1)                 65        \n",
            "                                                                 \n",
            "=================================================================\n",
            "Total params: 116,033\n",
            "Trainable params: 116,033\n",
            "Non-trainable params: 0\n",
            "_________________________________________________________________\n"
          ]
        }
      ]
    },
    {
      "cell_type": "code",
      "source": [
        "# Compiling the LSTM\n",
        "model.compile(optimizer = 'adam', loss = 'mean_squared_error')\n",
        "\n",
        "#checkpoint_path = 'my_best_model.hdf5'\n",
        "'''\n",
        "checkpoint = ModelCheckpoint(filepath=checkpoint_path, \n",
        "                             monitor='val_loss',\n",
        "                             verbose=1, \n",
        "                             save_best_only=True,\n",
        "                             mode='min')\n",
        "'''\n",
        "\n",
        "earlystopping = EarlyStopping(monitor='val_loss', patience=5, restore_best_weights=True)\n",
        "ep = 100\n",
        "BS = 8\n",
        "\n",
        "callbacks = [earlystopping]\n",
        "# callbacks = [checkpoint]\n",
        "\n",
        "\n",
        "history = model.fit(trainX, trainY, batch_size = BS, epochs = ep, verbose=1, shuffle=False, validation_data=(testX, testY), callbacks=callbacks)"
      ],
      "metadata": {
        "colab": {
          "base_uri": "https://localhost:8080/"
        },
        "id": "dx5-0EBlYHOq",
        "outputId": "f010c021-7a04-439b-a0a0-699d11a302d7"
      },
      "execution_count": 106,
      "outputs": [
        {
          "output_type": "stream",
          "name": "stdout",
          "text": [
            "Epoch 1/100\n",
            "106/106 [==============================] - 4s 21ms/step - loss: 0.1431 - val_loss: 0.2591\n",
            "Epoch 2/100\n",
            "106/106 [==============================] - 2s 16ms/step - loss: 0.0726 - val_loss: 0.1052\n",
            "Epoch 3/100\n",
            "106/106 [==============================] - 2s 16ms/step - loss: 0.0380 - val_loss: 0.0465\n",
            "Epoch 4/100\n",
            "106/106 [==============================] - 2s 16ms/step - loss: 0.0344 - val_loss: 0.0308\n",
            "Epoch 5/100\n",
            "106/106 [==============================] - 2s 16ms/step - loss: 0.0293 - val_loss: 0.0304\n",
            "Epoch 6/100\n",
            "106/106 [==============================] - 2s 16ms/step - loss: 0.0389 - val_loss: 0.0319\n",
            "Epoch 7/100\n",
            "106/106 [==============================] - 2s 16ms/step - loss: 0.0330 - val_loss: 0.0281\n",
            "Epoch 8/100\n",
            "106/106 [==============================] - 2s 16ms/step - loss: 0.0285 - val_loss: 0.0269\n",
            "Epoch 9/100\n",
            "106/106 [==============================] - 2s 16ms/step - loss: 0.0244 - val_loss: 0.0267\n",
            "Epoch 10/100\n",
            "106/106 [==============================] - 2s 17ms/step - loss: 0.0245 - val_loss: 0.0273\n",
            "Epoch 11/100\n",
            "106/106 [==============================] - 2s 17ms/step - loss: 0.0264 - val_loss: 0.0327\n",
            "Epoch 12/100\n",
            "106/106 [==============================] - 2s 17ms/step - loss: 0.0376 - val_loss: 0.0282\n",
            "Epoch 13/100\n",
            "106/106 [==============================] - 2s 17ms/step - loss: 0.0268 - val_loss: 0.0383\n",
            "Epoch 14/100\n",
            "106/106 [==============================] - 2s 17ms/step - loss: 0.0273 - val_loss: 0.0383\n"
          ]
        }
      ]
    },
    {
      "cell_type": "code",
      "source": [
        "# Save the model\n",
        "model.save_weights('LSTM_RNN_.h5')"
      ],
      "metadata": {
        "id": "OD3c6DF7aXv4"
      },
      "execution_count": 55,
      "outputs": []
    },
    {
      "cell_type": "code",
      "source": [
        "# Load the model\n",
        "model.load_weights('LSTM_RNN_.h5')"
      ],
      "metadata": {
        "id": "elRDhyjzXp_r"
      },
      "execution_count": 56,
      "outputs": []
    },
    {
      "cell_type": "code",
      "source": [
        "plt.figure(figsize=(16,7))\n",
        "plt.plot(history.history['loss'], label='train')\n",
        "plt.plot(history.history['val_loss'], label='test')\n",
        "\n",
        "plt.legend()\n",
        "plt.show()"
      ],
      "metadata": {
        "colab": {
          "base_uri": "https://localhost:8080/",
          "height": 428
        },
        "id": "EPq-IHCWcZDu",
        "outputId": "55ba8aad-5b35-45d3-f003-f18b2b93e8e0"
      },
      "execution_count": 57,
      "outputs": [
        {
          "output_type": "display_data",
          "data": {
            "image/png": "[encoded data removed]",
            "text/plain": [
              "<Figure size 1152x504 with 1 Axes>"
            ]
          },
          "metadata": {
            "needs_background": "light"
          }
        }
      ]
    },
    {
      "cell_type": "markdown",
      "source": [
        "LSTM for classification"
      ],
      "metadata": {
        "id": "q-mKxqzoHDUl"
      }
    },
    {
      "cell_type": "code",
      "source": [
        "\n",
        "# Design Neural Network Architecture with LSTM\n",
        "print('Building Simple RNN Model..')\n",
        "\n",
        "model_clf = Sequential()\n",
        "# input_shape is supposed to be (timesteps, n_features).\n",
        "model_clf.add(LSTM(units = 128, activation = 'relu',return_sequences=True, input_shape = (trainX_clf.shape[1], trainX_clf.shape[2])))\n",
        "model_clf.add(Dropout(0.2))\n",
        "# Adding a second LSTM layer and some Dropout regularisation\n",
        "model_clf.add(LSTM(units = 64, input_shape = (trainX.shape[1], trainX.shape[2])))\n",
        "model_clf.add(Dropout(0.2))\n",
        "\n",
        "# Add Dense Hidden Layer\n",
        "\n",
        "model_clf.add(Dense(256, activation='relu'))\n",
        "model_clf.add(Dropout(0.3))\n",
        "model_clf.add(Dense(128, activation='relu'))\n",
        "model_clf.add(Dropout(0.3))\n",
        "\n",
        "# Output Layer \n",
        "model_clf.add(Dense(1, activation='sigmoid'))"
      ],
      "metadata": {
        "colab": {
          "base_uri": "https://localhost:8080/"
        },
        "id": "sMDc-jE1HCm3",
        "outputId": "c921be97-5fe7-4807-8b09-2ef86f7d4318"
      },
      "execution_count": 137,
      "outputs": [
        {
          "output_type": "stream",
          "name": "stdout",
          "text": [
            "Building Simple RNN Model..\n",
            "WARNING:tensorflow:Layer lstm_10 will not use cuDNN kernels since it doesn't meet the criteria. It will use a generic GPU kernel as fallback when running on GPU.\n"
          ]
        }
      ]
    },
    {
      "cell_type": "code",
      "source": [
        "# Summary\n",
        "model_clf.summary()"
      ],
      "metadata": {
        "colab": {
          "base_uri": "https://localhost:8080/"
        },
        "id": "h1YVUnwxIjaA",
        "outputId": "7a88d04a-9044-4553-ee86-4726779e6a24"
      },
      "execution_count": 138,
      "outputs": [
        {
          "output_type": "stream",
          "name": "stdout",
          "text": [
            "Model: \"sequential_11\"\n",
            "_________________________________________________________________\n",
            " Layer (type)                Output Shape              Param #   \n",
            "=================================================================\n",
            " lstm_10 (LSTM)              (None, 7, 128)            66560     \n",
            "                                                                 \n",
            " dropout_22 (Dropout)        (None, 7, 128)            0         \n",
            "                                                                 \n",
            " lstm_11 (LSTM)              (None, 64)                49408     \n",
            "                                                                 \n",
            " dropout_23 (Dropout)        (None, 64)                0         \n",
            "                                                                 \n",
            " dense_27 (Dense)            (None, 256)               16640     \n",
            "                                                                 \n",
            " dropout_24 (Dropout)        (None, 256)               0         \n",
            "                                                                 \n",
            " dense_28 (Dense)            (None, 128)               32896     \n",
            "                                                                 \n",
            " dropout_25 (Dropout)        (None, 128)               0         \n",
            "                                                                 \n",
            " dense_29 (Dense)            (None, 1)                 129       \n",
            "                                                                 \n",
            "=================================================================\n",
            "Total params: 165,633\n",
            "Trainable params: 165,633\n",
            "Non-trainable params: 0\n",
            "_________________________________________________________________\n"
          ]
        }
      ]
    },
    {
      "cell_type": "code",
      "source": [
        "# Configure model\n",
        "model_clf.compile(loss='binary_crossentropy', optimizer='adam', metrics=['accuracy'])"
      ],
      "metadata": {
        "id": "7ehjcHMNImJz"
      },
      "execution_count": 139,
      "outputs": []
    },
    {
      "cell_type": "code",
      "source": [
        "# Train!\n",
        "print('Training the model..')\n",
        "history_clf = model_clf.fit(trainX_clf, trainY_clf, batch_size=BS, verbose=2, epochs=ep,shuffle=False, validation_data=(testX_clf, testY_clf), callbacks=callbacks)"
      ],
      "metadata": {
        "colab": {
          "base_uri": "https://localhost:8080/"
        },
        "id": "DfN-7BTkI6Ws",
        "outputId": "54b7d398-3b24-4888-c23e-40d8ce03dae8"
      },
      "execution_count": null,
      "outputs": [
        {
          "output_type": "stream",
          "name": "stdout",
          "text": [
            "Training the model..\n",
            "Epoch 1/100\n",
            "106/106 - 7s - loss: 0.6964 - accuracy: 0.5143 - val_loss: 0.6933 - val_accuracy: 0.4965 - 7s/epoch - 69ms/step\n",
            "Epoch 2/100\n",
            "106/106 - 2s - loss: 0.6926 - accuracy: 0.5143 - val_loss: 0.6967 - val_accuracy: 0.4965 - 2s/epoch - 15ms/step\n",
            "Epoch 3/100\n",
            "106/106 - 2s - loss: 0.6941 - accuracy: 0.5238 - val_loss: 0.6968 - val_accuracy: 0.4965 - 2s/epoch - 15ms/step\n",
            "Epoch 4/100\n",
            "106/106 - 2s - loss: 0.6932 - accuracy: 0.5297 - val_loss: 0.6982 - val_accuracy: 0.4965 - 2s/epoch - 15ms/step\n",
            "Epoch 5/100\n",
            "106/106 - 2s - loss: 0.6921 - accuracy: 0.5392 - val_loss: 0.6977 - val_accuracy: 0.4965 - 2s/epoch - 15ms/step\n",
            "Epoch 6/100\n"
          ]
        }
      ]
    },
    {
      "cell_type": "code",
      "source": [
        "# evaluate the classification model\n",
        "_,acc = model_clf.evaluate(testX_clf, testY_clf)\n",
        "print(\"acc: %.2f\" % (acc))"
      ],
      "metadata": {
        "colab": {
          "base_uri": "https://localhost:8080/"
        },
        "id": "x4Sz2uosJ2QR",
        "outputId": "60f3dabc-9a4f-4bd8-bb73-6528f471eecc"
      },
      "execution_count": 142,
      "outputs": [
        {
          "output_type": "stream",
          "name": "stdout",
          "text": [
            "5/5 [==============================] - 0s 5ms/step - loss: 0.6933 - accuracy: 0.4965\n",
            "acc: 0.50\n"
          ]
        }
      ]
    },
    {
      "cell_type": "code",
      "source": [
        "# Accuracy vs Epoch\n",
        "plt.title('Accuracy')\n",
        "plt.plot(history_clf.history['accuracy'], label='train')\n",
        "plt.plot(history_clf.history['val_accuracy'], label='test')\n",
        "plt.legend()\n",
        "plt.show();"
      ],
      "metadata": {
        "colab": {
          "base_uri": "https://localhost:8080/",
          "height": 281
        },
        "id": "z-apZnTcKVjS",
        "outputId": "92d84958-5001-4037-dcb8-8804559ebc7d"
      },
      "execution_count": 144,
      "outputs": [
        {
          "data": {
            "image/png": "[encoded data removed]",
            "text/plain": [
              "<Figure size 432x288 with 1 Axes>"
            ]
          },
          "metadata": {},
          "output_type": "display_data"
        }
      ]
    },
    {
      "cell_type": "markdown",
      "source": [
        "## LSTM Predictions vs. Actual testY"
      ],
      "metadata": {
        "id": "zgEdxyqedChF"
      }
    },
    {
      "cell_type": "markdown",
      "source": [
        "We need to transfer the scale data to the original data (real value), So we are going to use **inverse_transform** to Scale back the data to the original representation."
      ],
      "metadata": {
        "id": "KisM38l3JvoR"
      }
    },
    {
      "cell_type": "code",
      "source": [
        "\n",
        "predicted_test_data = model.predict(testX)\n",
        "predicted_test_data = scaler.inverse_transform(predicted_test_data.reshape(-1, 1))\n",
        "test_actual = scaler.inverse_transform(testY.reshape(-1, 1))"
      ],
      "metadata": {
        "id": "wxaxgNzycZGp"
      },
      "execution_count": 66,
      "outputs": []
    },
    {
      "cell_type": "markdown",
      "source": [
        "What if we buy 1 bitcoin everyday  for  X days,how much money can I make?"
      ],
      "metadata": {
        "id": "AwiClrCatEvz"
      }
    },
    {
      "cell_type": "code",
      "source": [
        "l = zip(predicted_test_data,test_actual)\n",
        "m = map(lambda x: x[0]-x[1], l)\n",
        "r = reduce(lambda x,y: x + y, m)\n",
        "print(\"the number of days: 144\")\n",
        "print(\"result of Predictions - Actual testY:\", r)"
      ],
      "metadata": {
        "id": "4h793o48l_yQ",
        "colab": {
          "base_uri": "https://localhost:8080/"
        },
        "outputId": "7f963899-0641-43f9-83a9-16a7469be823"
      },
      "execution_count": 69,
      "outputs": [
        {
          "output_type": "stream",
          "name": "stdout",
          "text": [
            "the number of days: 144\n",
            "result of Predictions - Actual testY: [113718.5097539]\n"
          ]
        }
      ]
    },
    {
      "cell_type": "code",
      "source": [
        "plt.figure(figsize=(16,7))\n",
        "\n",
        "plt.plot(predicted_test_data, 'r', marker='.', label='Predicted Test')\n",
        "\n",
        "plt.plot(test_actual, 'b', marker='.', label='Actual Test')\n",
        "\n",
        "plt.legend()\n",
        "plt.show()"
      ],
      "metadata": {
        "colab": {
          "base_uri": "https://localhost:8080/",
          "height": 428
        },
        "id": "WUA3_d48cZKl",
        "outputId": "fd6209fa-7984-4c28-e915-28a4409c6931"
      },
      "execution_count": 70,
      "outputs": [
        {
          "output_type": "display_data",
          "data": {
            "image/png": "[encoded data removed]",
            "text/plain": [
              "<Figure size 1152x504 with 1 Axes>"
            ]
          },
          "metadata": {
            "needs_background": "light"
          }
        }
      ]
    },
    {
      "cell_type": "markdown",
      "source": [
        "##Mean squared error\n",
        "\n",
        "![RMSE1.jpg](data:image/jpeg;base64,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)"
      ],
      "metadata": {
        "id": "xtuhVvv-fDue"
      }
    },
    {
      "cell_type": "code",
      "source": [
        "# Transformation to original form and making the predictions\n",
        "\n",
        "predicted_btc_price_train_data = model.predict(trainX)\n",
        "\n",
        "predicted_btc_price_train_data = scaler.inverse_transform(predicted_btc_price_train_data.reshape(-1, 1))\n",
        "\n",
        "train_actual = scaler.inverse_transform(trainY.reshape(-1, 1))"
      ],
      "metadata": {
        "id": "rZX8-c4iO-bI"
      },
      "execution_count": 71,
      "outputs": []
    },
    {
      "cell_type": "code",
      "source": [
        "# Train Data\n",
        "rmse_lstm_train = math.sqrt(mean_squared_error(train_actual, predicted_btc_price_train_data))\n",
        "\n",
        "print('Test RMSE: %.3f' % rmse_lstm_train)"
      ],
      "metadata": {
        "id": "-HTubC_nfOrO",
        "colab": {
          "base_uri": "https://localhost:8080/"
        },
        "outputId": "cf942530-43f9-4740-e5dd-f2dd52d80880"
      },
      "execution_count": 72,
      "outputs": [
        {
          "output_type": "stream",
          "name": "stdout",
          "text": [
            "Test RMSE: 2275.118\n"
          ]
        }
      ]
    },
    {
      "cell_type": "code",
      "source": [
        "# Test Data\n",
        "rmse_lstm_test = math.sqrt(mean_squared_error(test_actual, predicted_test_data))\n",
        "\n",
        "print('Test RMSE: %.3f' % rmse_lstm_test)"
      ],
      "metadata": {
        "id": "NY5Qs95rfGtq",
        "colab": {
          "base_uri": "https://localhost:8080/"
        },
        "outputId": "b0701353-f728-445d-d14f-33a3114db695"
      },
      "execution_count": 73,
      "outputs": [
        {
          "output_type": "stream",
          "name": "stdout",
          "text": [
            "Test RMSE: 2487.654\n"
          ]
        }
      ]
    },
    {
      "cell_type": "markdown",
      "source": [
        "\n",
        "##Future Price Predictions\n",
        "\n",
        "For 10 Days beyond the actual trading days for which I dont have the ground truth data (i.e. for 10-days into future for which I dont have actual Trading Price yet)\n",
        "We are going to forecast the Bitcoin Prices for the next 10 days from today.\n"
      ],
      "metadata": {
        "id": "eqzR17Q6Pe2W"
      }
    },
    {
      "cell_type": "code",
      "source": [
        "days = 10\n",
        "lookback  = testX.shape[1]"
      ],
      "metadata": {
        "id": "ToHSin2ZPfVz"
      },
      "execution_count": 78,
      "outputs": []
    },
    {
      "cell_type": "code",
      "source": [
        "testX_last_n_days =testX[-1] #testX[testX.shape[0] - lookback :  ]\n",
        "testX_last_n_days = np.reshape(testX_last_n_days, (1, testX.shape[1], 1))\n",
        "print(testX_last_n_days.shape)\n",
        "print(testX_last_n_days)\n",
        "print(type(testX_last_n_days))"
      ],
      "metadata": {
        "id": "cGmLw4MZPf4V",
        "colab": {
          "base_uri": "https://localhost:8080/"
        },
        "outputId": "c7020dbf-af52-4bf0-809f-a3ac5ee7d865"
      },
      "execution_count": 75,
      "outputs": [
        {
          "output_type": "stream",
          "name": "stdout",
          "text": [
            "(1, 7, 1)\n",
            "[[[1.24314877]\n",
            "  [1.33252975]\n",
            "  [1.37718972]\n",
            "  [1.38140152]\n",
            "  [1.40518681]\n",
            "  [1.33648628]\n",
            "  [1.28662592]]]\n",
            "<class 'numpy.ndarray'>\n"
          ]
        }
      ]
    },
    {
      "cell_type": "code",
      "source": [
        "# convert testX_last_n_days to queue\n",
        "queue = testX_last_n_days\n",
        "predicted_values = []\n",
        "print(queue)\n",
        "\n",
        "for i in range(days):\n",
        "  \n",
        "  predicted_value = model.predict(queue)[0]  #predicted_value = model.predict(testX_last_n_days)\n",
        "  queue = queue.tolist()\n",
        "\n",
        "  queue[0].pop(0)\n",
        "\n",
        "  queue[0].append(predicted_value)\n",
        "\n",
        "  predicted_value = scaler.inverse_transform(predicted_value.reshape(-1, 1))\n",
        "  predicted_values.append(predicted_value)\n",
        "\n",
        "\n",
        "  next_price = scaler.inverse_transform(queue[0][-1].reshape(-1, 1))\n",
        "  last_price = scaler.inverse_transform(np.array(queue[0][-2]).reshape(-1, 1))\n",
        "  if next_price > last_price:\n",
        "    print(\"Buy crypto || +{s} ({p} %)\".format(s = next_price - last_price, p = (next_price-last_price)/last_price))\n",
        "  else:\n",
        "    print(\"Sell crypto || {s} ({p} %)\".format(s = last_price - next_price, p = (next_price-last_price)/last_price))\n",
        "\n",
        "  queue = np.asarray(queue).astype('float32')\n",
        " \n"
      ],
      "metadata": {
        "id": "h1gjM10NPf8I",
        "colab": {
          "base_uri": "https://localhost:8080/"
        },
        "outputId": "af1f8f62-aa98-4573-d0d8-880110d9ea5a"
      },
      "execution_count": 76,
      "outputs": [
        {
          "output_type": "stream",
          "name": "stdout",
          "text": [
            "[[[1.24314877]\n",
            "  [1.33252975]\n",
            "  [1.37718972]\n",
            "  [1.38140152]\n",
            "  [1.40518681]\n",
            "  [1.33648628]\n",
            "  [1.28662592]]]\n",
            "Buy crypto || +[[2159.75484375]] ([[0.05103197]] %)\n",
            "Buy crypto || +[[306.37329576]] ([[0.00688768]] %)\n",
            "Buy crypto || +[[361.00158316]] ([[0.00806028]] %)\n",
            "Buy crypto || +[[343.30599929]] ([[0.00760389]] %)\n",
            "Buy crypto || +[[357.73686143]] ([[0.00786372]] %)\n",
            "Buy crypto || +[[376.5515874]] ([[0.00821272]] %)\n",
            "Buy crypto || +[[465.6340439]] ([[0.01007292]] %)\n",
            "Buy crypto || +[[523.32093987]] ([[0.01120794]] %)\n",
            "Buy crypto || +[[437.86038991]] ([[0.0092737]] %)\n",
            "Buy crypto || +[[452.11022138]] ([[0.00948752]] %)\n"
          ]
        }
      ]
    },
    {
      "cell_type": "code",
      "source": [
        "print(\"Forecast for the next %2d Days Beyond the actual trading days \"%  (days))\n",
        "print(np.array(predicted_values))\n",
        "print(np.array(predicted_values).shape)"
      ],
      "metadata": {
        "colab": {
          "base_uri": "https://localhost:8080/"
        },
        "id": "_kYVQuKiUPdP",
        "outputId": "21cb03a6-3d4a-4481-bf74-0c2b6cf7bbc0"
      },
      "execution_count": 77,
      "outputs": [
        {
          "output_type": "stream",
          "name": "stdout",
          "text": [
            "Forecast for the next 10 Days Beyond the actual trading days \n",
            "[[[44481.363]]\n",
            "\n",
            " [[44787.74 ]]\n",
            "\n",
            " [[45148.74 ]]\n",
            "\n",
            " [[45492.043]]\n",
            "\n",
            " [[45849.78 ]]\n",
            "\n",
            " [[46226.332]]\n",
            "\n",
            " [[46691.965]]\n",
            "\n",
            " [[47215.285]]\n",
            "\n",
            " [[47653.145]]\n",
            "\n",
            " [[48105.254]]]\n",
            "(10, 1, 1)\n"
          ]
        }
      ]
    },
    {
      "cell_type": "markdown",
      "source": [
        "## Plot future Predictions (Future 10-days ) "
      ],
      "metadata": {
        "id": "vr2bXV4oaktA"
      }
    },
    {
      "cell_type": "code",
      "source": [
        "predicted = np.array(predicted_values).flatten()"
      ],
      "metadata": {
        "id": "V6I2nPyCUPr-"
      },
      "execution_count": 79,
      "outputs": []
    },
    {
      "cell_type": "code",
      "source": [
        "predicted"
      ],
      "metadata": {
        "colab": {
          "base_uri": "https://localhost:8080/"
        },
        "id": "LqIGKTjTq8Et",
        "outputId": "6fa673af-bede-471f-8b15-58115d0820af"
      },
      "execution_count": 80,
      "outputs": [
        {
          "output_type": "execute_result",
          "data": {
            "text/plain": [
              "array([44481.363, 44787.74 , 45148.74 , 45492.043, 45849.78 , 46226.332,\n",
              "       46691.965, 47215.285, 47653.145, 48105.254], dtype=float32)"
            ]
          },
          "metadata": {},
          "execution_count": 80
        }
      ]
    },
    {
      "cell_type": "code",
      "source": [
        "plt.figure(figsize=(16,7))\n",
        "\n",
        "plt.plot(predicted, 'r', marker='.',lw=5, label='Predicted')\n",
        "\n",
        "#plt.plot(yy, marker='.',lw=5, label='Actual')\n",
        "\n",
        "plt.legend()\n",
        "\n",
        "plt.show()"
      ],
      "metadata": {
        "id": "W8VFTJlMajzI",
        "colab": {
          "base_uri": "https://localhost:8080/",
          "height": 428
        },
        "outputId": "5202d3f3-c419-4597-d8b3-7358a7279685"
      },
      "execution_count": 81,
      "outputs": [
        {
          "output_type": "display_data",
          "data": {
            "image/png": "[encoded data removed]",
            "text/plain": [
              "<Figure size 1152x504 with 1 Axes>"
            ]
          },
          "metadata": {
            "needs_background": "light"
          }
        }
      ]
    },
    {
      "cell_type": "code",
      "source": [
        ""
      ],
      "metadata": {
        "id": "7ZeyijMiaj2W"
      },
      "execution_count": 70,
      "outputs": []
    }
  ]
}