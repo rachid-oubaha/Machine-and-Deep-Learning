{
  "nbformat": 4,
  "nbformat_minor": 0,
  "metadata": {
    "colab": {
      "name": "Bitcoin_Price_Prediction_using_LSTM.ipynb",
      "provenance": [],
      "collapsed_sections": []
    },
    "kernelspec": {
      "name": "python3",
      "display_name": "Python 3"
    },
    "language_info": {
      "name": "python"
    },
    "accelerator": "GPU"
  },
  "cells": [
    {
      "cell_type": "code",
      "metadata": {
        "colab": {
          "base_uri": "https://localhost:8080/"
        },
        "id": "guZf4_sCEkbC",
        "outputId": "faf67392-225f-41fa-acb3-72430914e4df"
      },
      "source": [
        "pip install python-binance"
      ],
      "execution_count": 1,
      "outputs": [
        {
          "output_type": "stream",
          "name": "stdout",
          "text": [
            "Collecting python-binance\n",
            "  Downloading python_binance-1.0.15-py2.py3-none-any.whl (63 kB)\n",
            "\u001b[K     |████████████████████████████████| 63 kB 1.6 MB/s \n",
            "\u001b[?25hCollecting dateparser\n",
            "  Downloading dateparser-1.1.0-py2.py3-none-any.whl (288 kB)\n",
            "\u001b[K     |████████████████████████████████| 288 kB 8.8 MB/s \n",
            "\u001b[?25hCollecting websockets==9.1\n",
            "  Downloading websockets-9.1-cp37-cp37m-manylinux2010_x86_64.whl (103 kB)\n",
            "\u001b[K     |████████████████████████████████| 103 kB 36.7 MB/s \n",
            "\u001b[?25hRequirement already satisfied: requests in /usr/local/lib/python3.7/dist-packages (from python-binance) (2.23.0)\n",
            "Collecting aiohttp\n",
            "  Downloading aiohttp-3.8.1-cp37-cp37m-manylinux_2_5_x86_64.manylinux1_x86_64.manylinux_2_12_x86_64.manylinux2010_x86_64.whl (1.1 MB)\n",
            "\u001b[K     |████████████████████████████████| 1.1 MB 42.4 MB/s \n",
            "\u001b[?25hCollecting ujson\n",
            "  Downloading ujson-5.1.0-cp37-cp37m-manylinux_2_17_x86_64.manylinux2014_x86_64.whl (43 kB)\n",
            "\u001b[K     |████████████████████████████████| 43 kB 2.2 MB/s \n",
            "\u001b[?25hRequirement already satisfied: six in /usr/local/lib/python3.7/dist-packages (from python-binance) (1.15.0)\n",
            "Requirement already satisfied: charset-normalizer<3.0,>=2.0 in /usr/local/lib/python3.7/dist-packages (from aiohttp->python-binance) (2.0.12)\n",
            "Requirement already satisfied: attrs>=17.3.0 in /usr/local/lib/python3.7/dist-packages (from aiohttp->python-binance) (21.4.0)\n",
            "Collecting frozenlist>=1.1.1\n",
            "  Downloading frozenlist-1.3.0-cp37-cp37m-manylinux_2_5_x86_64.manylinux1_x86_64.manylinux_2_17_x86_64.manylinux2014_x86_64.whl (144 kB)\n",
            "\u001b[K     |████████████████████████████████| 144 kB 49.8 MB/s \n",
            "\u001b[?25hCollecting multidict<7.0,>=4.5\n",
            "  Downloading multidict-6.0.2-cp37-cp37m-manylinux_2_17_x86_64.manylinux2014_x86_64.whl (94 kB)\n",
            "\u001b[K     |████████████████████████████████| 94 kB 2.7 MB/s \n",
            "\u001b[?25hCollecting async-timeout<5.0,>=4.0.0a3\n",
            "  Downloading async_timeout-4.0.2-py3-none-any.whl (5.8 kB)\n",
            "Collecting yarl<2.0,>=1.0\n",
            "  Downloading yarl-1.7.2-cp37-cp37m-manylinux_2_5_x86_64.manylinux1_x86_64.manylinux_2_12_x86_64.manylinux2010_x86_64.whl (271 kB)\n",
            "\u001b[K     |████████████████████████████████| 271 kB 41.1 MB/s \n",
            "\u001b[?25hCollecting asynctest==0.13.0\n",
            "  Downloading asynctest-0.13.0-py3-none-any.whl (26 kB)\n",
            "Collecting aiosignal>=1.1.2\n",
            "  Downloading aiosignal-1.2.0-py3-none-any.whl (8.2 kB)\n",
            "Requirement already satisfied: typing-extensions>=3.7.4 in /usr/local/lib/python3.7/dist-packages (from aiohttp->python-binance) (3.10.0.2)\n",
            "Requirement already satisfied: idna>=2.0 in /usr/local/lib/python3.7/dist-packages (from yarl<2.0,>=1.0->aiohttp->python-binance) (2.10)\n",
            "Requirement already satisfied: tzlocal in /usr/local/lib/python3.7/dist-packages (from dateparser->python-binance) (1.5.1)\n",
            "Requirement already satisfied: regex!=2019.02.19,!=2021.8.27 in /usr/local/lib/python3.7/dist-packages (from dateparser->python-binance) (2019.12.20)\n",
            "Requirement already satisfied: python-dateutil in /usr/local/lib/python3.7/dist-packages (from dateparser->python-binance) (2.8.2)\n",
            "Requirement already satisfied: pytz in /usr/local/lib/python3.7/dist-packages (from dateparser->python-binance) (2018.9)\n",
            "Requirement already satisfied: chardet<4,>=3.0.2 in /usr/local/lib/python3.7/dist-packages (from requests->python-binance) (3.0.4)\n",
            "Requirement already satisfied: urllib3!=1.25.0,!=1.25.1,<1.26,>=1.21.1 in /usr/local/lib/python3.7/dist-packages (from requests->python-binance) (1.24.3)\n",
            "Requirement already satisfied: certifi>=2017.4.17 in /usr/local/lib/python3.7/dist-packages (from requests->python-binance) (2021.10.8)\n",
            "Installing collected packages: multidict, frozenlist, yarl, asynctest, async-timeout, aiosignal, websockets, ujson, dateparser, aiohttp, python-binance\n",
            "Successfully installed aiohttp-3.8.1 aiosignal-1.2.0 async-timeout-4.0.2 asynctest-0.13.0 dateparser-1.1.0 frozenlist-1.3.0 multidict-6.0.2 python-binance-1.0.15 ujson-5.1.0 websockets-9.1 yarl-1.7.2\n"
          ]
        }
      ]
    },
    {
      "cell_type": "code",
      "metadata": {
        "colab": {
          "base_uri": "https://localhost:8080/"
        },
        "id": "5QckaR0VFfXj",
        "outputId": "7a3c4f56-e8f0-4123-8282-7a0b264ffe55"
      },
      "source": [
        "pip install websocket_client"
      ],
      "execution_count": 2,
      "outputs": [
        {
          "output_type": "stream",
          "name": "stdout",
          "text": [
            "Collecting websocket_client\n",
            "  Downloading websocket_client-1.3.1-py3-none-any.whl (54 kB)\n",
            "\u001b[?25l\r\u001b[K     |██████                          | 10 kB 26.0 MB/s eta 0:00:01\r\u001b[K     |████████████                    | 20 kB 9.5 MB/s eta 0:00:01\r\u001b[K     |██████████████████▏             | 30 kB 6.3 MB/s eta 0:00:01\r\u001b[K     |████████████████████████▏       | 40 kB 5.9 MB/s eta 0:00:01\r\u001b[K     |██████████████████████████████▏ | 51 kB 3.9 MB/s eta 0:00:01\r\u001b[K     |████████████████████████████████| 54 kB 1.7 MB/s \n",
            "\u001b[?25hInstalling collected packages: websocket-client\n",
            "Successfully installed websocket-client-1.3.1\n"
          ]
        }
      ]
    },
    {
      "cell_type": "code",
      "metadata": {
        "id": "RoJrwqGhEptb"
      },
      "source": [
        "from binance.client import Client\n",
        "from binance.enums import *\n",
        "import time, datetime\n",
        "import pandas as pd\n",
        "from datetime import datetime, timedelta\n",
        "\n",
        "import matplotlib.pyplot as plt\n",
        "\n",
        "import math\n",
        "import numpy as np\n",
        "from functools import reduce\n",
        "\n",
        "from sklearn.preprocessing import StandardScaler\n",
        "from sklearn.metrics import mean_squared_error, mean_absolute_error, explained_variance_score, r2_score \n",
        "from sklearn.metrics import mean_poisson_deviance, mean_gamma_deviance, accuracy_score\n",
        "import sklearn.metrics as metrics\n",
        "\n",
        "from tensorflow.keras.models import Sequential\n",
        "from tensorflow.keras.layers import Dense, Dropout\n",
        "from tensorflow.keras.layers import LSTM\n",
        "from tensorflow.keras.callbacks import ModelCheckpoint, EarlyStopping"
      ],
      "execution_count": 3,
      "outputs": []
    },
    {
      "cell_type": "markdown",
      "metadata": {
        "id": "pZRwedZ413fc"
      },
      "source": [
        "# **data scraping**"
      ]
    },
    {
      "cell_type": "markdown",
      "metadata": {
        "id": "Jc1cN2MmFJ7_"
      },
      "source": [
        "**OHLC data:**\n",
        "An OHLC chart is a type of bar chart that shows open, high, low, and closing prices for each period. "
      ]
    },
    {
      "cell_type": "code",
      "metadata": {
        "id": "2P-o9QZ9GCvt"
      },
      "source": [
        "SOCKET = \"wss://stream.binance.com:9443/ws/btcusdt@kline_1m\"\n",
        "TRADE_SYMBOL = 'BTCUSDT'\n",
        "TRADE_SYMBOL_HISTORY = 'BTCUSDT'\n",
        "API_KEY = 'ziew'\n",
        "API_SECRET = 'ziew'"
      ],
      "execution_count": 4,
      "outputs": []
    },
    {
      "cell_type": "code",
      "metadata": {
        "id": "nwn5cSQZF_wT"
      },
      "source": [
        "client = Client(API_KEY, API_SECRET)#, tld='us')"
      ],
      "execution_count": 5,
      "outputs": []
    },
    {
      "cell_type": "code",
      "metadata": {
        "id": "U8JBPdGREpwG"
      },
      "source": [
        "\n",
        "def GetHistoricalData(howLong):\n",
        "    howLong = howLong\n",
        "    # Calculate the timestamps for the binance api function\n",
        "    untilThisDate = datetime.now()\n",
        "    # sinceThisDate = untilThisDate - datetime.timedelta(days = howLong)\n",
        "    sinceThisDate = untilThisDate - timedelta(hours = howLong)\n",
        "    # Execute the query from binance - timestamps must be converted to strings !\n",
        "    candle = client.get_historical_klines(TRADE_SYMBOL_HISTORY, Client.KLINE_INTERVAL_1MINUTE, str(sinceThisDate), str(untilThisDate))\n",
        "    # print(\"TYPE\", type(candle),\"\\n\",candle)\n",
        "\n",
        "    # Create a dataframe to label all the columns returned by binance so we work with them later.\n",
        "    df = pd.DataFrame(candle, columns=['dateTime', 'open', 'high', 'low', 'close', 'volume', 'closeTime', 'quoteAssetVolume', 'numberOfTrades', 'takerBuyBaseVol', 'takerBuyQuoteVol', 'ignore'])\n",
        "    # as timestamp is returned in ms, let us convert this back to proper timestamps.\n",
        "    df.dateTime = pd.to_datetime(df.dateTime, unit='ms').dt.strftime('%Y-%m-%d %H:%M:%S')\n",
        "    # df.set_index('dateTime', inplace=True)\n",
        "\n",
        "    df[\"open\"] = df.open.astype(float)\n",
        "    df[\"high\"] = df.high.astype(float)\n",
        "    df[\"low\"] = df.low.astype(float)\n",
        "    df[\"close\"] = df.close.astype(float)\n",
        "    df[\"volume\"] = df.volume.astype(float)\n",
        "\n",
        "    # Get rid of columns we do not need\n",
        "    df = df.drop(['quoteAssetVolume', 'numberOfTrades', 'takerBuyBaseVol','takerBuyQuoteVol', 'ignore','closeTime'], axis=1)\n",
        "\n",
        "    return df"
      ],
      "execution_count": 6,
      "outputs": []
    },
    {
      "cell_type": "code",
      "metadata": {
        "colab": {
          "base_uri": "https://localhost:8080/"
        },
        "id": "w9ocX0QHE3fv",
        "outputId": "4e890959-ece9-4f5c-ece3-f25a6b6cae42"
      },
      "source": [
        "print(\"Launching script...\")\n",
        "df=GetHistoricalData(24*1100) # TAKE INTO ACCOUNT GMT-2 #1100 days"
      ],
      "execution_count": 7,
      "outputs": [
        {
          "output_type": "stream",
          "name": "stdout",
          "text": [
            "Launching script...\n"
          ]
        }
      ]
    },
    {
      "cell_type": "code",
      "metadata": {
        "colab": {
          "base_uri": "https://localhost:8080/",
          "height": 206
        },
        "id": "tOan9Nvc2-RQ",
        "outputId": "be210e9b-32eb-43ea-d5f8-9f75acccb4c3"
      },
      "source": [
        "df.tail()"
      ],
      "execution_count": 9,
      "outputs": [
        {
          "output_type": "execute_result",
          "data": {
            "text/html": [
              "\n",
              "  <div id=\"df-cf3b0a9d-ed4f-4cdd-a77e-bbe957fc8566\">\n",
              "    <div class=\"colab-df-container\">\n",
              "      <div>\n",
              "<style scoped>\n",
              "    .dataframe tbody tr th:only-of-type {\n",
              "        vertical-align: middle;\n",
              "    }\n",
              "\n",
              "    .dataframe tbody tr th {\n",
              "        vertical-align: top;\n",
              "    }\n",
              "\n",
              "    .dataframe thead th {\n",
              "        text-align: right;\n",
              "    }\n",
              "</style>\n",
              "<table border=\"1\" class=\"dataframe\">\n",
              "  <thead>\n",
              "    <tr style=\"text-align: right;\">\n",
              "      <th></th>\n",
              "      <th>dateTime</th>\n",
              "      <th>open</th>\n",
              "      <th>high</th>\n",
              "      <th>low</th>\n",
              "      <th>close</th>\n",
              "      <th>volume</th>\n",
              "    </tr>\n",
              "  </thead>\n",
              "  <tbody>\n",
              "    <tr>\n",
              "      <th>1579986</th>\n",
              "      <td>2022-02-27 22:07:00</td>\n",
              "      <td>37535.15</td>\n",
              "      <td>37555.97</td>\n",
              "      <td>37512.20</td>\n",
              "      <td>37526.11</td>\n",
              "      <td>17.57807</td>\n",
              "    </tr>\n",
              "    <tr>\n",
              "      <th>1579987</th>\n",
              "      <td>2022-02-27 22:08:00</td>\n",
              "      <td>37526.10</td>\n",
              "      <td>37537.12</td>\n",
              "      <td>37510.37</td>\n",
              "      <td>37520.42</td>\n",
              "      <td>10.49549</td>\n",
              "    </tr>\n",
              "    <tr>\n",
              "      <th>1579988</th>\n",
              "      <td>2022-02-27 22:09:00</td>\n",
              "      <td>37520.42</td>\n",
              "      <td>37584.14</td>\n",
              "      <td>37520.41</td>\n",
              "      <td>37540.02</td>\n",
              "      <td>37.91936</td>\n",
              "    </tr>\n",
              "    <tr>\n",
              "      <th>1579989</th>\n",
              "      <td>2022-02-27 22:10:00</td>\n",
              "      <td>37540.02</td>\n",
              "      <td>37552.11</td>\n",
              "      <td>37487.40</td>\n",
              "      <td>37490.00</td>\n",
              "      <td>28.66044</td>\n",
              "    </tr>\n",
              "    <tr>\n",
              "      <th>1579990</th>\n",
              "      <td>2022-02-27 22:11:00</td>\n",
              "      <td>37490.01</td>\n",
              "      <td>37528.57</td>\n",
              "      <td>37456.91</td>\n",
              "      <td>37521.50</td>\n",
              "      <td>19.07429</td>\n",
              "    </tr>\n",
              "  </tbody>\n",
              "</table>\n",
              "</div>\n",
              "      <button class=\"colab-df-convert\" onclick=\"convertToInteractive('df-cf3b0a9d-ed4f-4cdd-a77e-bbe957fc8566')\"\n",
              "              title=\"Convert this dataframe to an interactive table.\"\n",
              "              style=\"display:none;\">\n",
              "        \n",
              "  <svg xmlns=\"http://www.w3.org/2000/svg\" height=\"24px\"viewBox=\"0 0 24 24\"\n",
              "       width=\"24px\">\n",
              "    <path d=\"M0 0h24v24H0V0z\" fill=\"none\"/>\n",
              "    <path d=\"M18.56 5.44l.94 2.06.94-2.06 2.06-.94-2.06-.94-.94-2.06-.94 2.06-2.06.94zm-11 1L8.5 8.5l.94-2.06 2.06-.94-2.06-.94L8.5 2.5l-.94 2.06-2.06.94zm10 10l.94 2.06.94-2.06 2.06-.94-2.06-.94-.94-2.06-.94 2.06-2.06.94z\"/><path d=\"M17.41 7.96l-1.37-1.37c-.4-.4-.92-.59-1.43-.59-.52 0-1.04.2-1.43.59L10.3 9.45l-7.72 7.72c-.78.78-.78 2.05 0 2.83L4 21.41c.39.39.9.59 1.41.59.51 0 1.02-.2 1.41-.59l7.78-7.78 2.81-2.81c.8-.78.8-2.07 0-2.86zM5.41 20L4 18.59l7.72-7.72 1.47 1.35L5.41 20z\"/>\n",
              "  </svg>\n",
              "      </button>\n",
              "      \n",
              "  <style>\n",
              "    .colab-df-container {\n",
              "      display:flex;\n",
              "      flex-wrap:wrap;\n",
              "      gap: 12px;\n",
              "    }\n",
              "\n",
              "    .colab-df-convert {\n",
              "      background-color: #E8F0FE;\n",
              "      border: none;\n",
              "      border-radius: 50%;\n",
              "      cursor: pointer;\n",
              "      display: none;\n",
              "      fill: #1967D2;\n",
              "      height: 32px;\n",
              "      padding: 0 0 0 0;\n",
              "      width: 32px;\n",
              "    }\n",
              "\n",
              "    .colab-df-convert:hover {\n",
              "      background-color: #E2EBFA;\n",
              "      box-shadow: 0px 1px 2px rgba(60, 64, 67, 0.3), 0px 1px 3px 1px rgba(60, 64, 67, 0.15);\n",
              "      fill: #174EA6;\n",
              "    }\n",
              "\n",
              "    [theme=dark] .colab-df-convert {\n",
              "      background-color: #3B4455;\n",
              "      fill: #D2E3FC;\n",
              "    }\n",
              "\n",
              "    [theme=dark] .colab-df-convert:hover {\n",
              "      background-color: #434B5C;\n",
              "      box-shadow: 0px 1px 3px 1px rgba(0, 0, 0, 0.15);\n",
              "      filter: drop-shadow(0px 1px 2px rgba(0, 0, 0, 0.3));\n",
              "      fill: #FFFFFF;\n",
              "    }\n",
              "  </style>\n",
              "\n",
              "      <script>\n",
              "        const buttonEl =\n",
              "          document.querySelector('#df-cf3b0a9d-ed4f-4cdd-a77e-bbe957fc8566 button.colab-df-convert');\n",
              "        buttonEl.style.display =\n",
              "          google.colab.kernel.accessAllowed ? 'block' : 'none';\n",
              "\n",
              "        async function convertToInteractive(key) {\n",
              "          const element = document.querySelector('#df-cf3b0a9d-ed4f-4cdd-a77e-bbe957fc8566');\n",
              "          const dataTable =\n",
              "            await google.colab.kernel.invokeFunction('convertToInteractive',\n",
              "                                                     [key], {});\n",
              "          if (!dataTable) return;\n",
              "\n",
              "          const docLinkHtml = 'Like what you see? Visit the ' +\n",
              "            '<a target=\"_blank\" href=https://colab.research.google.com/notebooks/data_table.ipynb>data table notebook</a>'\n",
              "            + ' to learn more about interactive tables.';\n",
              "          element.innerHTML = '';\n",
              "          dataTable['output_type'] = 'display_data';\n",
              "          await google.colab.output.renderOutput(dataTable, element);\n",
              "          const docLink = document.createElement('div');\n",
              "          docLink.innerHTML = docLinkHtml;\n",
              "          element.appendChild(docLink);\n",
              "        }\n",
              "      </script>\n",
              "    </div>\n",
              "  </div>\n",
              "  "
            ],
            "text/plain": [
              "                    dateTime      open      high       low     close    volume\n",
              "1579986  2022-02-27 22:07:00  37535.15  37555.97  37512.20  37526.11  17.57807\n",
              "1579987  2022-02-27 22:08:00  37526.10  37537.12  37510.37  37520.42  10.49549\n",
              "1579988  2022-02-27 22:09:00  37520.42  37584.14  37520.41  37540.02  37.91936\n",
              "1579989  2022-02-27 22:10:00  37540.02  37552.11  37487.40  37490.00  28.66044\n",
              "1579990  2022-02-27 22:11:00  37490.01  37528.57  37456.91  37521.50  19.07429"
            ]
          },
          "metadata": {},
          "execution_count": 9
        }
      ]
    },
    {
      "cell_type": "code",
      "metadata": {
        "colab": {
          "base_uri": "https://localhost:8080/"
        },
        "id": "apWon5Q_3BG8",
        "outputId": "9c58f935-1da0-401b-8028-cfad79944433"
      },
      "source": [
        "df.shape"
      ],
      "execution_count": 10,
      "outputs": [
        {
          "output_type": "execute_result",
          "data": {
            "text/plain": [
              "(1579991, 6)"
            ]
          },
          "metadata": {},
          "execution_count": 10
        }
      ]
    },
    {
      "cell_type": "code",
      "metadata": {
        "colab": {
          "base_uri": "https://localhost:8080/"
        },
        "id": "vox8cNL94BMM",
        "outputId": "d7facc21-51c2-4c01-ac5b-2699f1463174"
      },
      "source": [
        "df.info()"
      ],
      "execution_count": 11,
      "outputs": [
        {
          "output_type": "stream",
          "name": "stdout",
          "text": [
            "<class 'pandas.core.frame.DataFrame'>\n",
            "RangeIndex: 1579991 entries, 0 to 1579990\n",
            "Data columns (total 6 columns):\n",
            " #   Column    Non-Null Count    Dtype  \n",
            "---  ------    --------------    -----  \n",
            " 0   dateTime  1579991 non-null  object \n",
            " 1   open      1579991 non-null  float64\n",
            " 2   high      1579991 non-null  float64\n",
            " 3   low       1579991 non-null  float64\n",
            " 4   close     1579991 non-null  float64\n",
            " 5   volume    1579991 non-null  float64\n",
            "dtypes: float64(5), object(1)\n",
            "memory usage: 72.3+ MB\n"
          ]
        }
      ]
    },
    {
      "cell_type": "code",
      "metadata": {
        "colab": {
          "base_uri": "https://localhost:8080/",
          "height": 300
        },
        "id": "XxhiU5rr3JSj",
        "outputId": "1c783aef-ef9b-4be5-c5f7-529915bf0e41"
      },
      "source": [
        "include =['float', 'int']\n",
        "df.describe(include = include)"
      ],
      "execution_count": 12,
      "outputs": [
        {
          "output_type": "execute_result",
          "data": {
            "text/html": [
              "\n",
              "  <div id=\"df-7b211299-5448-44bb-be94-8c16c1df425a\">\n",
              "    <div class=\"colab-df-container\">\n",
              "      <div>\n",
              "<style scoped>\n",
              "    .dataframe tbody tr th:only-of-type {\n",
              "        vertical-align: middle;\n",
              "    }\n",
              "\n",
              "    .dataframe tbody tr th {\n",
              "        vertical-align: top;\n",
              "    }\n",
              "\n",
              "    .dataframe thead th {\n",
              "        text-align: right;\n",
              "    }\n",
              "</style>\n",
              "<table border=\"1\" class=\"dataframe\">\n",
              "  <thead>\n",
              "    <tr style=\"text-align: right;\">\n",
              "      <th></th>\n",
              "      <th>open</th>\n",
              "      <th>high</th>\n",
              "      <th>low</th>\n",
              "      <th>close</th>\n",
              "      <th>volume</th>\n",
              "    </tr>\n",
              "  </thead>\n",
              "  <tbody>\n",
              "    <tr>\n",
              "      <th>count</th>\n",
              "      <td>1.579991e+06</td>\n",
              "      <td>1.579991e+06</td>\n",
              "      <td>1.579991e+06</td>\n",
              "      <td>1.579991e+06</td>\n",
              "      <td>1.579991e+06</td>\n",
              "    </tr>\n",
              "    <tr>\n",
              "      <th>mean</th>\n",
              "      <td>2.382540e+04</td>\n",
              "      <td>2.384185e+04</td>\n",
              "      <td>2.380883e+04</td>\n",
              "      <td>2.382542e+04</td>\n",
              "      <td>4.269391e+01</td>\n",
              "    </tr>\n",
              "    <tr>\n",
              "      <th>std</th>\n",
              "      <td>1.908548e+04</td>\n",
              "      <td>1.909913e+04</td>\n",
              "      <td>1.907187e+04</td>\n",
              "      <td>1.908548e+04</td>\n",
              "      <td>6.530334e+01</td>\n",
              "    </tr>\n",
              "    <tr>\n",
              "      <th>min</th>\n",
              "      <td>3.674850e+03</td>\n",
              "      <td>3.679000e+03</td>\n",
              "      <td>3.670690e+03</td>\n",
              "      <td>3.674850e+03</td>\n",
              "      <td>0.000000e+00</td>\n",
              "    </tr>\n",
              "    <tr>\n",
              "      <th>25%</th>\n",
              "      <td>8.752410e+03</td>\n",
              "      <td>8.757300e+03</td>\n",
              "      <td>8.747540e+03</td>\n",
              "      <td>8.752320e+03</td>\n",
              "      <td>1.401756e+01</td>\n",
              "    </tr>\n",
              "    <tr>\n",
              "      <th>50%</th>\n",
              "      <td>1.136800e+04</td>\n",
              "      <td>1.137281e+04</td>\n",
              "      <td>1.136309e+04</td>\n",
              "      <td>1.136803e+04</td>\n",
              "      <td>2.526840e+01</td>\n",
              "    </tr>\n",
              "    <tr>\n",
              "      <th>75%</th>\n",
              "      <td>4.172229e+04</td>\n",
              "      <td>4.174805e+04</td>\n",
              "      <td>4.169958e+04</td>\n",
              "      <td>4.172228e+04</td>\n",
              "      <td>4.681302e+01</td>\n",
              "    </tr>\n",
              "    <tr>\n",
              "      <th>max</th>\n",
              "      <td>6.900000e+04</td>\n",
              "      <td>6.900000e+04</td>\n",
              "      <td>6.878670e+04</td>\n",
              "      <td>6.900000e+04</td>\n",
              "      <td>3.564139e+03</td>\n",
              "    </tr>\n",
              "  </tbody>\n",
              "</table>\n",
              "</div>\n",
              "      <button class=\"colab-df-convert\" onclick=\"convertToInteractive('df-7b211299-5448-44bb-be94-8c16c1df425a')\"\n",
              "              title=\"Convert this dataframe to an interactive table.\"\n",
              "              style=\"display:none;\">\n",
              "        \n",
              "  <svg xmlns=\"http://www.w3.org/2000/svg\" height=\"24px\"viewBox=\"0 0 24 24\"\n",
              "       width=\"24px\">\n",
              "    <path d=\"M0 0h24v24H0V0z\" fill=\"none\"/>\n",
              "    <path d=\"M18.56 5.44l.94 2.06.94-2.06 2.06-.94-2.06-.94-.94-2.06-.94 2.06-2.06.94zm-11 1L8.5 8.5l.94-2.06 2.06-.94-2.06-.94L8.5 2.5l-.94 2.06-2.06.94zm10 10l.94 2.06.94-2.06 2.06-.94-2.06-.94-.94-2.06-.94 2.06-2.06.94z\"/><path d=\"M17.41 7.96l-1.37-1.37c-.4-.4-.92-.59-1.43-.59-.52 0-1.04.2-1.43.59L10.3 9.45l-7.72 7.72c-.78.78-.78 2.05 0 2.83L4 21.41c.39.39.9.59 1.41.59.51 0 1.02-.2 1.41-.59l7.78-7.78 2.81-2.81c.8-.78.8-2.07 0-2.86zM5.41 20L4 18.59l7.72-7.72 1.47 1.35L5.41 20z\"/>\n",
              "  </svg>\n",
              "      </button>\n",
              "      \n",
              "  <style>\n",
              "    .colab-df-container {\n",
              "      display:flex;\n",
              "      flex-wrap:wrap;\n",
              "      gap: 12px;\n",
              "    }\n",
              "\n",
              "    .colab-df-convert {\n",
              "      background-color: #E8F0FE;\n",
              "      border: none;\n",
              "      border-radius: 50%;\n",
              "      cursor: pointer;\n",
              "      display: none;\n",
              "      fill: #1967D2;\n",
              "      height: 32px;\n",
              "      padding: 0 0 0 0;\n",
              "      width: 32px;\n",
              "    }\n",
              "\n",
              "    .colab-df-convert:hover {\n",
              "      background-color: #E2EBFA;\n",
              "      box-shadow: 0px 1px 2px rgba(60, 64, 67, 0.3), 0px 1px 3px 1px rgba(60, 64, 67, 0.15);\n",
              "      fill: #174EA6;\n",
              "    }\n",
              "\n",
              "    [theme=dark] .colab-df-convert {\n",
              "      background-color: #3B4455;\n",
              "      fill: #D2E3FC;\n",
              "    }\n",
              "\n",
              "    [theme=dark] .colab-df-convert:hover {\n",
              "      background-color: #434B5C;\n",
              "      box-shadow: 0px 1px 3px 1px rgba(0, 0, 0, 0.15);\n",
              "      filter: drop-shadow(0px 1px 2px rgba(0, 0, 0, 0.3));\n",
              "      fill: #FFFFFF;\n",
              "    }\n",
              "  </style>\n",
              "\n",
              "      <script>\n",
              "        const buttonEl =\n",
              "          document.querySelector('#df-7b211299-5448-44bb-be94-8c16c1df425a button.colab-df-convert');\n",
              "        buttonEl.style.display =\n",
              "          google.colab.kernel.accessAllowed ? 'block' : 'none';\n",
              "\n",
              "        async function convertToInteractive(key) {\n",
              "          const element = document.querySelector('#df-7b211299-5448-44bb-be94-8c16c1df425a');\n",
              "          const dataTable =\n",
              "            await google.colab.kernel.invokeFunction('convertToInteractive',\n",
              "                                                     [key], {});\n",
              "          if (!dataTable) return;\n",
              "\n",
              "          const docLinkHtml = 'Like what you see? Visit the ' +\n",
              "            '<a target=\"_blank\" href=https://colab.research.google.com/notebooks/data_table.ipynb>data table notebook</a>'\n",
              "            + ' to learn more about interactive tables.';\n",
              "          element.innerHTML = '';\n",
              "          dataTable['output_type'] = 'display_data';\n",
              "          await google.colab.output.renderOutput(dataTable, element);\n",
              "          const docLink = document.createElement('div');\n",
              "          docLink.innerHTML = docLinkHtml;\n",
              "          element.appendChild(docLink);\n",
              "        }\n",
              "      </script>\n",
              "    </div>\n",
              "  </div>\n",
              "  "
            ],
            "text/plain": [
              "               open          high           low         close        volume\n",
              "count  1.579991e+06  1.579991e+06  1.579991e+06  1.579991e+06  1.579991e+06\n",
              "mean   2.382540e+04  2.384185e+04  2.380883e+04  2.382542e+04  4.269391e+01\n",
              "std    1.908548e+04  1.909913e+04  1.907187e+04  1.908548e+04  6.530334e+01\n",
              "min    3.674850e+03  3.679000e+03  3.670690e+03  3.674850e+03  0.000000e+00\n",
              "25%    8.752410e+03  8.757300e+03  8.747540e+03  8.752320e+03  1.401756e+01\n",
              "50%    1.136800e+04  1.137281e+04  1.136309e+04  1.136803e+04  2.526840e+01\n",
              "75%    4.172229e+04  4.174805e+04  4.169958e+04  4.172228e+04  4.681302e+01\n",
              "max    6.900000e+04  6.900000e+04  6.878670e+04  6.900000e+04  3.564139e+03"
            ]
          },
          "metadata": {},
          "execution_count": 12
        }
      ]
    },
    {
      "cell_type": "code",
      "metadata": {
        "id": "kKcJoD776VRY"
      },
      "source": [
        "#covert datatime column from object dtype to datetime dtype\n",
        "df[\"dateTime\"] = df.dateTime.astype('datetime64[ns]')"
      ],
      "execution_count": 13,
      "outputs": []
    },
    {
      "cell_type": "code",
      "source": [
        "df = df.rename({'close': 'price'}, axis='columns')"
      ],
      "metadata": {
        "id": "5f-qJ4OB8eZp"
      },
      "execution_count": 14,
      "outputs": []
    },
    {
      "cell_type": "code",
      "metadata": {
        "colab": {
          "base_uri": "https://localhost:8080/"
        },
        "id": "GCE5Z5yu7w24",
        "outputId": "75a7ccc3-e2df-4cfd-b5db-b3070ef489c8"
      },
      "source": [
        "df.info()"
      ],
      "execution_count": 15,
      "outputs": [
        {
          "output_type": "stream",
          "name": "stdout",
          "text": [
            "<class 'pandas.core.frame.DataFrame'>\n",
            "RangeIndex: 1579991 entries, 0 to 1579990\n",
            "Data columns (total 6 columns):\n",
            " #   Column    Non-Null Count    Dtype         \n",
            "---  ------    --------------    -----         \n",
            " 0   dateTime  1579991 non-null  datetime64[ns]\n",
            " 1   open      1579991 non-null  float64       \n",
            " 2   high      1579991 non-null  float64       \n",
            " 3   low       1579991 non-null  float64       \n",
            " 4   price     1579991 non-null  float64       \n",
            " 5   volume    1579991 non-null  float64       \n",
            "dtypes: datetime64[ns](1), float64(5)\n",
            "memory usage: 72.3 MB\n"
          ]
        }
      ]
    },
    {
      "cell_type": "code",
      "source": [
        "#Set time column as Index\n",
        "df.set_index('dateTime',inplace=True)"
      ],
      "metadata": {
        "id": "gPupeSr9-lbx"
      },
      "execution_count": 16,
      "outputs": []
    },
    {
      "cell_type": "code",
      "source": [
        "df.tail()"
      ],
      "metadata": {
        "colab": {
          "base_uri": "https://localhost:8080/",
          "height": 238
        },
        "id": "3XHEBaTI_Dp9",
        "outputId": "08b5119c-1345-420f-b071-ec79c63639e6"
      },
      "execution_count": 17,
      "outputs": [
        {
          "output_type": "execute_result",
          "data": {
            "text/html": [
              "\n",
              "  <div id=\"df-b45f6087-b8f2-4805-b8df-ff13ac4091c9\">\n",
              "    <div class=\"colab-df-container\">\n",
              "      <div>\n",
              "<style scoped>\n",
              "    .dataframe tbody tr th:only-of-type {\n",
              "        vertical-align: middle;\n",
              "    }\n",
              "\n",
              "    .dataframe tbody tr th {\n",
              "        vertical-align: top;\n",
              "    }\n",
              "\n",
              "    .dataframe thead th {\n",
              "        text-align: right;\n",
              "    }\n",
              "</style>\n",
              "<table border=\"1\" class=\"dataframe\">\n",
              "  <thead>\n",
              "    <tr style=\"text-align: right;\">\n",
              "      <th></th>\n",
              "      <th>open</th>\n",
              "      <th>high</th>\n",
              "      <th>low</th>\n",
              "      <th>price</th>\n",
              "      <th>volume</th>\n",
              "    </tr>\n",
              "    <tr>\n",
              "      <th>dateTime</th>\n",
              "      <th></th>\n",
              "      <th></th>\n",
              "      <th></th>\n",
              "      <th></th>\n",
              "      <th></th>\n",
              "    </tr>\n",
              "  </thead>\n",
              "  <tbody>\n",
              "    <tr>\n",
              "      <th>2022-02-27 22:07:00</th>\n",
              "      <td>37535.15</td>\n",
              "      <td>37555.97</td>\n",
              "      <td>37512.20</td>\n",
              "      <td>37526.11</td>\n",
              "      <td>17.57807</td>\n",
              "    </tr>\n",
              "    <tr>\n",
              "      <th>2022-02-27 22:08:00</th>\n",
              "      <td>37526.10</td>\n",
              "      <td>37537.12</td>\n",
              "      <td>37510.37</td>\n",
              "      <td>37520.42</td>\n",
              "      <td>10.49549</td>\n",
              "    </tr>\n",
              "    <tr>\n",
              "      <th>2022-02-27 22:09:00</th>\n",
              "      <td>37520.42</td>\n",
              "      <td>37584.14</td>\n",
              "      <td>37520.41</td>\n",
              "      <td>37540.02</td>\n",
              "      <td>37.91936</td>\n",
              "    </tr>\n",
              "    <tr>\n",
              "      <th>2022-02-27 22:10:00</th>\n",
              "      <td>37540.02</td>\n",
              "      <td>37552.11</td>\n",
              "      <td>37487.40</td>\n",
              "      <td>37490.00</td>\n",
              "      <td>28.66044</td>\n",
              "    </tr>\n",
              "    <tr>\n",
              "      <th>2022-02-27 22:11:00</th>\n",
              "      <td>37490.01</td>\n",
              "      <td>37528.57</td>\n",
              "      <td>37456.91</td>\n",
              "      <td>37521.50</td>\n",
              "      <td>19.07429</td>\n",
              "    </tr>\n",
              "  </tbody>\n",
              "</table>\n",
              "</div>\n",
              "      <button class=\"colab-df-convert\" onclick=\"convertToInteractive('df-b45f6087-b8f2-4805-b8df-ff13ac4091c9')\"\n",
              "              title=\"Convert this dataframe to an interactive table.\"\n",
              "              style=\"display:none;\">\n",
              "        \n",
              "  <svg xmlns=\"http://www.w3.org/2000/svg\" height=\"24px\"viewBox=\"0 0 24 24\"\n",
              "       width=\"24px\">\n",
              "    <path d=\"M0 0h24v24H0V0z\" fill=\"none\"/>\n",
              "    <path d=\"M18.56 5.44l.94 2.06.94-2.06 2.06-.94-2.06-.94-.94-2.06-.94 2.06-2.06.94zm-11 1L8.5 8.5l.94-2.06 2.06-.94-2.06-.94L8.5 2.5l-.94 2.06-2.06.94zm10 10l.94 2.06.94-2.06 2.06-.94-2.06-.94-.94-2.06-.94 2.06-2.06.94z\"/><path d=\"M17.41 7.96l-1.37-1.37c-.4-.4-.92-.59-1.43-.59-.52 0-1.04.2-1.43.59L10.3 9.45l-7.72 7.72c-.78.78-.78 2.05 0 2.83L4 21.41c.39.39.9.59 1.41.59.51 0 1.02-.2 1.41-.59l7.78-7.78 2.81-2.81c.8-.78.8-2.07 0-2.86zM5.41 20L4 18.59l7.72-7.72 1.47 1.35L5.41 20z\"/>\n",
              "  </svg>\n",
              "      </button>\n",
              "      \n",
              "  <style>\n",
              "    .colab-df-container {\n",
              "      display:flex;\n",
              "      flex-wrap:wrap;\n",
              "      gap: 12px;\n",
              "    }\n",
              "\n",
              "    .colab-df-convert {\n",
              "      background-color: #E8F0FE;\n",
              "      border: none;\n",
              "      border-radius: 50%;\n",
              "      cursor: pointer;\n",
              "      display: none;\n",
              "      fill: #1967D2;\n",
              "      height: 32px;\n",
              "      padding: 0 0 0 0;\n",
              "      width: 32px;\n",
              "    }\n",
              "\n",
              "    .colab-df-convert:hover {\n",
              "      background-color: #E2EBFA;\n",
              "      box-shadow: 0px 1px 2px rgba(60, 64, 67, 0.3), 0px 1px 3px 1px rgba(60, 64, 67, 0.15);\n",
              "      fill: #174EA6;\n",
              "    }\n",
              "\n",
              "    [theme=dark] .colab-df-convert {\n",
              "      background-color: #3B4455;\n",
              "      fill: #D2E3FC;\n",
              "    }\n",
              "\n",
              "    [theme=dark] .colab-df-convert:hover {\n",
              "      background-color: #434B5C;\n",
              "      box-shadow: 0px 1px 3px 1px rgba(0, 0, 0, 0.15);\n",
              "      filter: drop-shadow(0px 1px 2px rgba(0, 0, 0, 0.3));\n",
              "      fill: #FFFFFF;\n",
              "    }\n",
              "  </style>\n",
              "\n",
              "      <script>\n",
              "        const buttonEl =\n",
              "          document.querySelector('#df-b45f6087-b8f2-4805-b8df-ff13ac4091c9 button.colab-df-convert');\n",
              "        buttonEl.style.display =\n",
              "          google.colab.kernel.accessAllowed ? 'block' : 'none';\n",
              "\n",
              "        async function convertToInteractive(key) {\n",
              "          const element = document.querySelector('#df-b45f6087-b8f2-4805-b8df-ff13ac4091c9');\n",
              "          const dataTable =\n",
              "            await google.colab.kernel.invokeFunction('convertToInteractive',\n",
              "                                                     [key], {});\n",
              "          if (!dataTable) return;\n",
              "\n",
              "          const docLinkHtml = 'Like what you see? Visit the ' +\n",
              "            '<a target=\"_blank\" href=https://colab.research.google.com/notebooks/data_table.ipynb>data table notebook</a>'\n",
              "            + ' to learn more about interactive tables.';\n",
              "          element.innerHTML = '';\n",
              "          dataTable['output_type'] = 'display_data';\n",
              "          await google.colab.output.renderOutput(dataTable, element);\n",
              "          const docLink = document.createElement('div');\n",
              "          docLink.innerHTML = docLinkHtml;\n",
              "          element.appendChild(docLink);\n",
              "        }\n",
              "      </script>\n",
              "    </div>\n",
              "  </div>\n",
              "  "
            ],
            "text/plain": [
              "                         open      high       low     price    volume\n",
              "dateTime                                                             \n",
              "2022-02-27 22:07:00  37535.15  37555.97  37512.20  37526.11  17.57807\n",
              "2022-02-27 22:08:00  37526.10  37537.12  37510.37  37520.42  10.49549\n",
              "2022-02-27 22:09:00  37520.42  37584.14  37520.41  37540.02  37.91936\n",
              "2022-02-27 22:10:00  37540.02  37552.11  37487.40  37490.00  28.66044\n",
              "2022-02-27 22:11:00  37490.01  37528.57  37456.91  37521.50  19.07429"
            ]
          },
          "metadata": {},
          "execution_count": 17
        }
      ]
    },
    {
      "cell_type": "code",
      "source": [
        "#plot\n",
        "df['price'].plot(title = \"Bitcoin Weighted Price\",x = \"time\",y = \"price\",figsize=(20, 10))\n",
        "plt.show()"
      ],
      "metadata": {
        "colab": {
          "base_uri": "https://localhost:8080/",
          "height": 587
        },
        "id": "lCwjQHaY_tqa",
        "outputId": "bf134851-9707-4f87-d49b-234927ce6ca3"
      },
      "execution_count": 18,
      "outputs": [
        {
          "output_type": "display_data",
          "data": {
            "image/png": "[encoded data removed]",
            "text/plain": [
              "<Figure size 1440x720 with 1 Axes>"
            ]
          },
          "metadata": {
            "needs_background": "light"
          }
        }
      ]
    },
    {
      "cell_type": "markdown",
      "metadata": {
        "id": "u5MKAJNJ2D5C"
      },
      "source": [
        "## **Time series**"
      ]
    },
    {
      "cell_type": "code",
      "metadata": {
        "colab": {
          "base_uri": "https://localhost:8080/",
          "height": 715
        },
        "id": "aM-PSPiM2CEU",
        "outputId": "4528d287-843e-49cf-e213-2ca4d055808a"
      },
      "source": [
        "#Auto-correlation \n",
        "plt.figure(figsize=(20,15))\n",
        "plt.suptitle('Lag Plots', fontsize=22)\n",
        "\n",
        "plt.subplot(3,3,1)\n",
        "pd.plotting.lag_plot(df['price'], lag=1) #minute lag\n",
        "plt.title('1-Minute Lag')\n",
        "\n",
        "plt.subplot(3,3,2)\n",
        "pd.plotting.lag_plot(df['price'], lag=60) #hourley lag\n",
        "plt.title('1-Hour Lag')\n",
        "\n",
        "plt.subplot(3,3,3)\n",
        "pd.plotting.lag_plot(df['price'], lag=1440) #Daily lag\n",
        "plt.title('Daily Lag')\n",
        "\n",
        "plt.subplot(3,3,4)\n",
        "pd.plotting.lag_plot(df['price'], lag=10080) #weekly lag\n",
        "plt.title('Weekly Lag')"
      ],
      "execution_count": 19,
      "outputs": [
        {
          "output_type": "execute_result",
          "data": {
            "text/plain": [
              "Text(0.5, 1.0, 'Weekly Lag')"
            ]
          },
          "metadata": {},
          "execution_count": 19
        },
        {
          "output_type": "display_data",
          "data": {
            "image/png": "[encoded data removed]",
            "text/plain": [
              "<Figure size 1440x1080 with 4 Axes>"
            ]
          },
          "metadata": {
            "needs_background": "light"
          }
        }
      ]
    },
    {
      "cell_type": "code",
      "metadata": {
        "colab": {
          "base_uri": "https://localhost:8080/",
          "height": 359
        },
        "id": "KB5RuLS72CJX",
        "outputId": "986df4bc-09b4-44c8-e31c-c0b80b471db2"
      },
      "source": [
        "df['date'] = pd.to_datetime(df.index,unit='H').date\n",
        "display(df.head())\n",
        "group = df.groupby('date')\n",
        "new_df = group['price'].mean()\n",
        "display(new_df.head())"
      ],
      "execution_count": 20,
      "outputs": [
        {
          "output_type": "display_data",
          "data": {
            "text/html": [
              "\n",
              "  <div id=\"df-dd140c7b-dfc0-4359-bf9f-9716fe0b3e73\">\n",
              "    <div class=\"colab-df-container\">\n",
              "      <div>\n",
              "<style scoped>\n",
              "    .dataframe tbody tr th:only-of-type {\n",
              "        vertical-align: middle;\n",
              "    }\n",
              "\n",
              "    .dataframe tbody tr th {\n",
              "        vertical-align: top;\n",
              "    }\n",
              "\n",
              "    .dataframe thead th {\n",
              "        text-align: right;\n",
              "    }\n",
              "</style>\n",
              "<table border=\"1\" class=\"dataframe\">\n",
              "  <thead>\n",
              "    <tr style=\"text-align: right;\">\n",
              "      <th></th>\n",
              "      <th>open</th>\n",
              "      <th>high</th>\n",
              "      <th>low</th>\n",
              "      <th>price</th>\n",
              "      <th>volume</th>\n",
              "      <th>date</th>\n",
              "    </tr>\n",
              "    <tr>\n",
              "      <th>dateTime</th>\n",
              "      <th></th>\n",
              "      <th></th>\n",
              "      <th></th>\n",
              "      <th></th>\n",
              "      <th></th>\n",
              "      <th></th>\n",
              "    </tr>\n",
              "  </thead>\n",
              "  <tbody>\n",
              "    <tr>\n",
              "      <th>2019-02-23 22:12:00</th>\n",
              "      <td>4114.81</td>\n",
              "      <td>4116.34</td>\n",
              "      <td>4114.28</td>\n",
              "      <td>4115.02</td>\n",
              "      <td>25.329495</td>\n",
              "      <td>2019-02-23</td>\n",
              "    </tr>\n",
              "    <tr>\n",
              "      <th>2019-02-23 22:13:00</th>\n",
              "      <td>4116.00</td>\n",
              "      <td>4116.35</td>\n",
              "      <td>4115.01</td>\n",
              "      <td>4115.08</td>\n",
              "      <td>5.953686</td>\n",
              "      <td>2019-02-23</td>\n",
              "    </tr>\n",
              "    <tr>\n",
              "      <th>2019-02-23 22:14:00</th>\n",
              "      <td>4116.29</td>\n",
              "      <td>4118.90</td>\n",
              "      <td>4115.06</td>\n",
              "      <td>4116.60</td>\n",
              "      <td>23.756569</td>\n",
              "      <td>2019-02-23</td>\n",
              "    </tr>\n",
              "    <tr>\n",
              "      <th>2019-02-23 22:15:00</th>\n",
              "      <td>4117.49</td>\n",
              "      <td>4121.82</td>\n",
              "      <td>4116.62</td>\n",
              "      <td>4119.60</td>\n",
              "      <td>38.157370</td>\n",
              "      <td>2019-02-23</td>\n",
              "    </tr>\n",
              "    <tr>\n",
              "      <th>2019-02-23 22:16:00</th>\n",
              "      <td>4120.03</td>\n",
              "      <td>4123.13</td>\n",
              "      <td>4119.25</td>\n",
              "      <td>4123.13</td>\n",
              "      <td>7.569117</td>\n",
              "      <td>2019-02-23</td>\n",
              "    </tr>\n",
              "  </tbody>\n",
              "</table>\n",
              "</div>\n",
              "      <button class=\"colab-df-convert\" onclick=\"convertToInteractive('df-dd140c7b-dfc0-4359-bf9f-9716fe0b3e73')\"\n",
              "              title=\"Convert this dataframe to an interactive table.\"\n",
              "              style=\"display:none;\">\n",
              "        \n",
              "  <svg xmlns=\"http://www.w3.org/2000/svg\" height=\"24px\"viewBox=\"0 0 24 24\"\n",
              "       width=\"24px\">\n",
              "    <path d=\"M0 0h24v24H0V0z\" fill=\"none\"/>\n",
              "    <path d=\"M18.56 5.44l.94 2.06.94-2.06 2.06-.94-2.06-.94-.94-2.06-.94 2.06-2.06.94zm-11 1L8.5 8.5l.94-2.06 2.06-.94-2.06-.94L8.5 2.5l-.94 2.06-2.06.94zm10 10l.94 2.06.94-2.06 2.06-.94-2.06-.94-.94-2.06-.94 2.06-2.06.94z\"/><path d=\"M17.41 7.96l-1.37-1.37c-.4-.4-.92-.59-1.43-.59-.52 0-1.04.2-1.43.59L10.3 9.45l-7.72 7.72c-.78.78-.78 2.05 0 2.83L4 21.41c.39.39.9.59 1.41.59.51 0 1.02-.2 1.41-.59l7.78-7.78 2.81-2.81c.8-.78.8-2.07 0-2.86zM5.41 20L4 18.59l7.72-7.72 1.47 1.35L5.41 20z\"/>\n",
              "  </svg>\n",
              "      </button>\n",
              "      \n",
              "  <style>\n",
              "    .colab-df-container {\n",
              "      display:flex;\n",
              "      flex-wrap:wrap;\n",
              "      gap: 12px;\n",
              "    }\n",
              "\n",
              "    .colab-df-convert {\n",
              "      background-color: #E8F0FE;\n",
              "      border: none;\n",
              "      border-radius: 50%;\n",
              "      cursor: pointer;\n",
              "      display: none;\n",
              "      fill: #1967D2;\n",
              "      height: 32px;\n",
              "      padding: 0 0 0 0;\n",
              "      width: 32px;\n",
              "    }\n",
              "\n",
              "    .colab-df-convert:hover {\n",
              "      background-color: #E2EBFA;\n",
              "      box-shadow: 0px 1px 2px rgba(60, 64, 67, 0.3), 0px 1px 3px 1px rgba(60, 64, 67, 0.15);\n",
              "      fill: #174EA6;\n",
              "    }\n",
              "\n",
              "    [theme=dark] .colab-df-convert {\n",
              "      background-color: #3B4455;\n",
              "      fill: #D2E3FC;\n",
              "    }\n",
              "\n",
              "    [theme=dark] .colab-df-convert:hover {\n",
              "      background-color: #434B5C;\n",
              "      box-shadow: 0px 1px 3px 1px rgba(0, 0, 0, 0.15);\n",
              "      filter: drop-shadow(0px 1px 2px rgba(0, 0, 0, 0.3));\n",
              "      fill: #FFFFFF;\n",
              "    }\n",
              "  </style>\n",
              "\n",
              "      <script>\n",
              "        const buttonEl =\n",
              "          document.querySelector('#df-dd140c7b-dfc0-4359-bf9f-9716fe0b3e73 button.colab-df-convert');\n",
              "        buttonEl.style.display =\n",
              "          google.colab.kernel.accessAllowed ? 'block' : 'none';\n",
              "\n",
              "        async function convertToInteractive(key) {\n",
              "          const element = document.querySelector('#df-dd140c7b-dfc0-4359-bf9f-9716fe0b3e73');\n",
              "          const dataTable =\n",
              "            await google.colab.kernel.invokeFunction('convertToInteractive',\n",
              "                                                     [key], {});\n",
              "          if (!dataTable) return;\n",
              "\n",
              "          const docLinkHtml = 'Like what you see? Visit the ' +\n",
              "            '<a target=\"_blank\" href=https://colab.research.google.com/notebooks/data_table.ipynb>data table notebook</a>'\n",
              "            + ' to learn more about interactive tables.';\n",
              "          element.innerHTML = '';\n",
              "          dataTable['output_type'] = 'display_data';\n",
              "          await google.colab.output.renderOutput(dataTable, element);\n",
              "          const docLink = document.createElement('div');\n",
              "          docLink.innerHTML = docLinkHtml;\n",
              "          element.appendChild(docLink);\n",
              "        }\n",
              "      </script>\n",
              "    </div>\n",
              "  </div>\n",
              "  "
            ],
            "text/plain": [
              "                        open     high      low    price     volume        date\n",
              "dateTime                                                                      \n",
              "2019-02-23 22:12:00  4114.81  4116.34  4114.28  4115.02  25.329495  2019-02-23\n",
              "2019-02-23 22:13:00  4116.00  4116.35  4115.01  4115.08   5.953686  2019-02-23\n",
              "2019-02-23 22:14:00  4116.29  4118.90  4115.06  4116.60  23.756569  2019-02-23\n",
              "2019-02-23 22:15:00  4117.49  4121.82  4116.62  4119.60  38.157370  2019-02-23\n",
              "2019-02-23 22:16:00  4120.03  4123.13  4119.25  4123.13   7.569117  2019-02-23"
            ]
          },
          "metadata": {}
        },
        {
          "output_type": "display_data",
          "data": {
            "text/plain": [
              "date\n",
              "2019-02-23    4118.302130\n",
              "2019-02-24    3999.993771\n",
              "2019-02-25    3810.477681\n",
              "2019-02-26    3814.986535\n",
              "2019-02-27    3809.681312\n",
              "Name: price, dtype: float64"
            ]
          },
          "metadata": {}
        }
      ]
    },
    {
      "cell_type": "code",
      "source": [
        "new_df.shape"
      ],
      "metadata": {
        "colab": {
          "base_uri": "https://localhost:8080/"
        },
        "id": "wsKPWv2z_XDW",
        "outputId": "9e6715d4-4fee-4b1c-f314-4787572409c1"
      },
      "execution_count": 21,
      "outputs": [
        {
          "output_type": "execute_result",
          "data": {
            "text/plain": [
              "(1101,)"
            ]
          },
          "metadata": {},
          "execution_count": 21
        }
      ]
    },
    {
      "cell_type": "markdown",
      "metadata": {
        "id": "VK3Pw6zWSJMb"
      },
      "source": [
        "## Data Split"
      ]
    },
    {
      "cell_type": "code",
      "metadata": {
        "id": "T4yvM_zy2CMy"
      },
      "source": [
        "# Train data = 950\n",
        "# Test data =  151\n",
        "#  Train data from 1 to Total data length - 151 days \n",
        "train = new_df[:950].values\n",
        "# Test data : the last 151 days\n",
        "test = new_df[950:].values"
      ],
      "execution_count": 22,
      "outputs": []
    },
    {
      "cell_type": "code",
      "metadata": {
        "id": "74wKvepR2CPi",
        "colab": {
          "base_uri": "https://localhost:8080/"
        },
        "outputId": "262ab552-6f9e-447a-db01-27279dee9ad5"
      },
      "source": [
        "print(train.shape,test.shape)"
      ],
      "execution_count": 24,
      "outputs": [
        {
          "output_type": "stream",
          "name": "stdout",
          "text": [
            "(950,) (151,)\n"
          ]
        }
      ]
    },
    {
      "cell_type": "markdown",
      "source": [
        "## Data Scaling"
      ],
      "metadata": {
        "id": "WFkU1-qSB2cQ"
      }
    },
    {
      "cell_type": "markdown",
      "source": [
        "Standard Scaler for Data"
      ],
      "metadata": {
        "id": "wYsx8gBHEbsM"
      }
    },
    {
      "cell_type": "markdown",
      "source": [
        "we first need to split the data into training and test set before applying normalization over data.\n",
        "\n",
        "we should perform feature normalisation over the training data. Then perform normalisation on testing instances as well, but this time using the mean and variance of training explanatory variables. In this way, we can test and evaluate whether our model can generalize well to new, unseen data points"
      ],
      "metadata": {
        "id": "e4vmRAYa994M"
      }
    },
    {
      "cell_type": "code",
      "source": [
        "train = train.reshape(-1,1)\n",
        "test = test.reshape(-1,1)"
      ],
      "metadata": {
        "id": "ORtcd_2jLqjf"
      },
      "execution_count": 25,
      "outputs": []
    },
    {
      "cell_type": "code",
      "source": [
        "scaler = StandardScaler(copy=True, with_mean=True, with_std=True)\n",
        "#scaled_train  = scaler.fit_transform(train)\n",
        "\n",
        "scaler = scaler.fit(train)\n",
        "scaled_train = scaler.transform(train)\n",
        "\n",
        "#scaler_test  = StandardScaler(copy=True, with_mean=True, with_std=True)\n",
        "scaled_test   = scaler.transform(test)\n"
      ],
      "metadata": {
        "id": "mGCHKdD0Bgj1"
      },
      "execution_count": 26,
      "outputs": []
    },
    {
      "cell_type": "code",
      "source": [
        "scaled_train[0:50]"
      ],
      "metadata": {
        "colab": {
          "base_uri": "https://localhost:8080/"
        },
        "id": "AvMpwAghOcUS",
        "outputId": "547f4571-93c9-44b5-ecc3-8bf97df28b8f"
      },
      "execution_count": 27,
      "outputs": [
        {
          "output_type": "execute_result",
          "data": {
            "text/plain": [
              "array([[-0.92323604],\n",
              "       [-0.93027804],\n",
              "       [-0.9415585 ],\n",
              "       [-0.94129012],\n",
              "       [-0.9416059 ],\n",
              "       [-0.94064731],\n",
              "       [-0.94019971],\n",
              "       [-0.94110492],\n",
              "       [-0.94113509],\n",
              "       [-0.94595833],\n",
              "       [-0.94341824],\n",
              "       [-0.93921755],\n",
              "       [-0.93762647],\n",
              "       [-0.93665508],\n",
              "       [-0.93552024],\n",
              "       [-0.93550097],\n",
              "       [-0.93714675],\n",
              "       [-0.93731614],\n",
              "       [-0.93791781],\n",
              "       [-0.93792836],\n",
              "       [-0.9358981 ],\n",
              "       [-0.93052078],\n",
              "       [-0.93137806],\n",
              "       [-0.93101751],\n",
              "       [-0.93053302],\n",
              "       [-0.92957968],\n",
              "       [-0.92947132],\n",
              "       [-0.93091554],\n",
              "       [-0.93046562],\n",
              "       [-0.93090373],\n",
              "       [-0.93200368],\n",
              "       [-0.93430108],\n",
              "       [-0.92983216],\n",
              "       [-0.92887894],\n",
              "       [-0.92596724],\n",
              "       [-0.9246811 ],\n",
              "       [-0.92427956],\n",
              "       [-0.92222099],\n",
              "       [-0.89403649],\n",
              "       [-0.87134132],\n",
              "       [-0.87382274],\n",
              "       [-0.87277365],\n",
              "       [-0.8692109 ],\n",
              "       [-0.86345281],\n",
              "       [-0.85926953],\n",
              "       [-0.86113872],\n",
              "       [-0.85699659],\n",
              "       [-0.86510064],\n",
              "       [-0.86998687],\n",
              "       [-0.86753853]])"
            ]
          },
          "metadata": {},
          "execution_count": 27
        }
      ]
    },
    {
      "cell_type": "markdown",
      "source": [
        "## Dataset Generator for LSTM"
      ],
      "metadata": {
        "id": "HlCnxFKaNIHr"
      }
    },
    {
      "cell_type": "markdown",
      "source": [
        "The input will be -> 1, 2, 3, 4, 5, 6, 7 \n",
        "\n",
        "And the output will be -> 8 \n",
        "-------\n",
        "The input will be -> 2, 3, 4, 5, 6, 7, 8 \n",
        "\n",
        "And the output will be -> 9\n",
        "-------\n",
        "..."
      ],
      "metadata": {
        "id": "v3Z5qnAQUdRS"
      }
    },
    {
      "cell_type": "code",
      "source": [
        "def data_generator(data,lookback  = 7):\n",
        "  x = [data[i:(i + lookback), 0] for i in range(len(data)-lookback)]\n",
        "  y = [data[i+lookback, 0] for i in range(len(data)-lookback)]\n",
        "  return np.array(x), np.array(y)"
      ],
      "metadata": {
        "id": "PMnRtxcuBgqr"
      },
      "execution_count": 28,
      "outputs": []
    },
    {
      "cell_type": "code",
      "source": [
        "trainX, trainY = data_generator(scaled_train)\n",
        "testX, testY = data_generator(scaled_test)"
      ],
      "metadata": {
        "id": "7SHpwOVaPkaI"
      },
      "execution_count": 29,
      "outputs": []
    },
    {
      "cell_type": "code",
      "source": [
        "print(\"trainX: \", trainX.shape)\n",
        "print(\"trainY: \", trainY.shape)\n",
        "print(\"testX: \", testX.shape)\n",
        "print(\"testY\", testY.shape)"
      ],
      "metadata": {
        "colab": {
          "base_uri": "https://localhost:8080/"
        },
        "id": "aTGpPbK0RCBg",
        "outputId": "9d72a196-e361-41e9-8a6a-38d254f2c085"
      },
      "execution_count": 30,
      "outputs": [
        {
          "output_type": "stream",
          "name": "stdout",
          "text": [
            "trainX:  (943, 7)\n",
            "trainY:  (943,)\n",
            "testX:  (144, 7)\n",
            "testY (144,)\n"
          ]
        }
      ]
    },
    {
      "cell_type": "markdown",
      "source": [
        "Data Generator for Classification"
      ],
      "metadata": {
        "id": "Reb8g2Tbv108"
      }
    },
    {
      "cell_type": "code",
      "source": [
        "def data_generator_clf(x,y):\n",
        "  x = x[1:]\n",
        "  y = [0 if y[i] > y[i+1] else 1 for i in range(len(y)-1)]\n",
        "  return np.array(x), np.array(y)"
      ],
      "metadata": {
        "id": "YcS2vW6TwCVZ"
      },
      "execution_count": 31,
      "outputs": []
    },
    {
      "cell_type": "code",
      "source": [
        "trainX_clf, trainY_clf = data_generator_clf(trainX,trainY)\n",
        "testX_clf, testY_clf = data_generator_clf(testX, testY)"
      ],
      "metadata": {
        "id": "WzOvQ_4-wI0U"
      },
      "execution_count": 32,
      "outputs": []
    },
    {
      "cell_type": "code",
      "source": [
        "print(\"trainX classification: \", trainX_clf.shape)\n",
        "print(\"trainY classification: \", trainY_clf.shape)\n",
        "print(\"testX classification: \", testX_clf.shape)\n",
        "print(\"testY classification\", testY_clf.shape)"
      ],
      "metadata": {
        "colab": {
          "base_uri": "https://localhost:8080/"
        },
        "id": "-g7UfOFW7f_n",
        "outputId": "9cc7ec89-0351-4226-cae9-9b88c01e4706"
      },
      "execution_count": 33,
      "outputs": [
        {
          "output_type": "stream",
          "name": "stdout",
          "text": [
            "trainX classification:  (942, 7)\n",
            "trainY classification:  (942,)\n",
            "testX classification:  (143, 7)\n",
            "testY classification (143,)\n"
          ]
        }
      ]
    },
    {
      "cell_type": "code",
      "source": [
        "trainY_clf[0:50]"
      ],
      "metadata": {
        "colab": {
          "base_uri": "https://localhost:8080/"
        },
        "id": "v73Zfg3a7vCS",
        "outputId": "c1bcb560-94ec-472b-b1cc-f9e4d84381eb"
      },
      "execution_count": 34,
      "outputs": [
        {
          "output_type": "execute_result",
          "data": {
            "text/plain": [
              "array([0, 0, 1, 1, 1, 1, 1, 1, 0, 0, 0, 0, 1, 1, 0, 1, 1, 1, 1, 0, 1, 0,\n",
              "       0, 0, 1, 1, 1, 1, 1, 1, 1, 1, 0, 1, 1, 1, 1, 0, 1, 0, 0, 1, 1, 1,\n",
              "       0, 1, 1, 0, 1, 0])"
            ]
          },
          "metadata": {},
          "execution_count": 34
        }
      ]
    },
    {
      "cell_type": "markdown",
      "source": [
        "For LSTM we need to reshape input to be a 3D Tensor of samples, time steps, features.\n",
        "\n",
        "The number of time steps is equal to the number of LSTM cells"
      ],
      "metadata": {
        "id": "hmnKOuid5Q6b"
      }
    },
    {
      "cell_type": "code",
      "source": [
        "# We use the reshape() function on the NumPy array to reshape the one-dimensional array into a three-dimensional array.\n",
        "def data_reshape(data):\n",
        "  return np.reshape(data, (data.shape[0], data.shape[1], 1))"
      ],
      "metadata": {
        "id": "S8JWwGTmYODi"
      },
      "execution_count": 35,
      "outputs": []
    },
    {
      "cell_type": "code",
      "source": [
        "trainX = data_reshape(trainX)\n",
        "testX = data_reshape(testX)\n",
        "\n",
        "print(\"Shape of trainX: \", trainX.shape)\n",
        "print(\"Shape of testX: \", testX.shape)"
      ],
      "metadata": {
        "colab": {
          "base_uri": "https://localhost:8080/"
        },
        "id": "tSra9YuNYupj",
        "outputId": "34d5ab77-d11b-4fc1-98e3-042c10809952"
      },
      "execution_count": 36,
      "outputs": [
        {
          "output_type": "stream",
          "name": "stdout",
          "text": [
            "Shape of trainX:  (943, 7, 1)\n",
            "Shape of testX:  (144, 7, 1)\n"
          ]
        }
      ]
    },
    {
      "cell_type": "code",
      "source": [
        "trainX_clf = data_reshape(trainX_clf)\n",
        "testX_clf = data_reshape(testX_clf)\n",
        "\n",
        "print(\"Shape of trainX: \", trainX_clf.shape)\n",
        "print(\"Shape of testX: \", testX_clf.shape)"
      ],
      "metadata": {
        "colab": {
          "base_uri": "https://localhost:8080/"
        },
        "id": "OZo5S3Q7IIdU",
        "outputId": "2e99590a-f7b0-4afb-b9c4-50a86abf8301"
      },
      "execution_count": 37,
      "outputs": [
        {
          "output_type": "stream",
          "name": "stdout",
          "text": [
            "Shape of trainX:  (942, 7, 1)\n",
            "Shape of testX:  (143, 7, 1)\n"
          ]
        }
      ]
    },
    {
      "cell_type": "markdown",
      "source": [
        "## LSTM Model"
      ],
      "metadata": {
        "id": "wYyoZ9jqWLQE"
      }
    },
    {
      "cell_type": "markdown",
      "source": [
        "to convert an input sequence into an output sequence we use **return_sequences=True**."
      ],
      "metadata": {
        "id": "A-YDSL9eE5OH"
      }
    },
    {
      "cell_type": "code",
      "source": [
        "# the input to every LSTM layer must be three-dimensional.\n",
        "model = Sequential()\n",
        "# input_shape is supposed to be (timesteps, n_features).\n",
        "model.add(LSTM(units = 128, activation = 'relu',return_sequences=True, input_shape = (trainX.shape[1], trainX.shape[2])))\n",
        "model.add(Dropout(0.2))\n",
        "# Adding a second LSTM layer and some Dropout regularisation\n",
        "model.add(LSTM(units = 64, input_shape = (trainX.shape[1], trainX.shape[2])))\n",
        "model.add(Dropout(0.2))\n",
        "\n",
        "\n",
        "\n",
        "# output layer\n",
        "model.add(Dense(units = 1))"
      ],
      "metadata": {
        "id": "xHk8-pYOTii3",
        "colab": {
          "base_uri": "https://localhost:8080/"
        },
        "outputId": "51f83d6e-1a11-4ae3-d38b-2d2f9958caf8"
      },
      "execution_count": 38,
      "outputs": [
        {
          "output_type": "stream",
          "name": "stdout",
          "text": [
            "WARNING:tensorflow:Layer lstm will not use cuDNN kernels since it doesn't meet the criteria. It will use a generic GPU kernel as fallback when running on GPU.\n"
          ]
        }
      ]
    },
    {
      "cell_type": "code",
      "source": [
        "model.summary()"
      ],
      "metadata": {
        "colab": {
          "base_uri": "https://localhost:8080/"
        },
        "id": "vKmWvP1JXoVh",
        "outputId": "a0cb4240-8149-46f9-a245-2a3976992683"
      },
      "execution_count": 39,
      "outputs": [
        {
          "output_type": "stream",
          "name": "stdout",
          "text": [
            "Model: \"sequential\"\n",
            "_________________________________________________________________\n",
            " Layer (type)                Output Shape              Param #   \n",
            "=================================================================\n",
            " lstm (LSTM)                 (None, 7, 128)            66560     \n",
            "                                                                 \n",
            " dropout (Dropout)           (None, 7, 128)            0         \n",
            "                                                                 \n",
            " lstm_1 (LSTM)               (None, 64)                49408     \n",
            "                                                                 \n",
            " dropout_1 (Dropout)         (None, 64)                0         \n",
            "                                                                 \n",
            " dense (Dense)               (None, 1)                 65        \n",
            "                                                                 \n",
            "=================================================================\n",
            "Total params: 116,033\n",
            "Trainable params: 116,033\n",
            "Non-trainable params: 0\n",
            "_________________________________________________________________\n"
          ]
        }
      ]
    },
    {
      "cell_type": "code",
      "source": [
        "# Compiling the LSTM\n",
        "model.compile(optimizer = 'adam', loss = 'mean_squared_error')\n",
        "\n",
        "#checkpoint_path = 'my_best_model.hdf5'\n",
        "'''\n",
        "checkpoint = ModelCheckpoint(filepath=checkpoint_path, \n",
        "                             monitor='val_loss',\n",
        "                             verbose=1, \n",
        "                             save_best_only=True,\n",
        "                             mode='min')\n",
        "'''\n",
        "\n",
        "earlystopping = EarlyStopping(monitor='val_loss', patience=5, restore_best_weights=True)\n",
        "ep = 100\n",
        "BS = 8\n",
        "\n",
        "callbacks = [earlystopping]\n",
        "# callbacks = [checkpoint]\n",
        "\n",
        "\n",
        "history = model.fit(trainX, trainY, batch_size = BS, epochs = ep, verbose=1, shuffle=False, validation_data=(testX, testY), callbacks=callbacks)"
      ],
      "metadata": {
        "colab": {
          "base_uri": "https://localhost:8080/"
        },
        "id": "dx5-0EBlYHOq",
        "outputId": "4ba8a7ec-dc0a-4ac1-d72e-5b13b8d537ff"
      },
      "execution_count": 40,
      "outputs": [
        {
          "output_type": "stream",
          "name": "stdout",
          "text": [
            "Epoch 1/100\n",
            "118/118 [==============================] - 11s 31ms/step - loss: 0.1344 - val_loss: 0.1138\n",
            "Epoch 2/100\n",
            "118/118 [==============================] - 3s 26ms/step - loss: 0.0681 - val_loss: 0.1028\n",
            "Epoch 3/100\n",
            "118/118 [==============================] - 3s 25ms/step - loss: 0.0445 - val_loss: 0.0768\n",
            "Epoch 4/100\n",
            "118/118 [==============================] - 3s 26ms/step - loss: 0.0378 - val_loss: 0.0473\n",
            "Epoch 5/100\n",
            "118/118 [==============================] - 3s 29ms/step - loss: 0.0332 - val_loss: 0.0327\n",
            "Epoch 6/100\n",
            "118/118 [==============================] - 3s 24ms/step - loss: 0.0282 - val_loss: 0.0390\n",
            "Epoch 7/100\n",
            "118/118 [==============================] - 3s 25ms/step - loss: 0.0343 - val_loss: 0.0416\n",
            "Epoch 8/100\n",
            "118/118 [==============================] - 3s 25ms/step - loss: 0.0326 - val_loss: 0.0350\n",
            "Epoch 9/100\n",
            "118/118 [==============================] - 3s 24ms/step - loss: 0.0327 - val_loss: 0.0421\n",
            "Epoch 10/100\n",
            "118/118 [==============================] - 3s 25ms/step - loss: 0.0393 - val_loss: 0.0446\n"
          ]
        }
      ]
    },
    {
      "cell_type": "code",
      "source": [
        "# Save the model\n",
        "model.save_weights('LSTM_RNN_.h5')"
      ],
      "metadata": {
        "id": "OD3c6DF7aXv4"
      },
      "execution_count": 41,
      "outputs": []
    },
    {
      "cell_type": "code",
      "source": [
        "# Load the model\n",
        "model.load_weights('LSTM_RNN_.h5')"
      ],
      "metadata": {
        "id": "elRDhyjzXp_r"
      },
      "execution_count": 42,
      "outputs": []
    },
    {
      "cell_type": "code",
      "source": [
        "plt.figure(figsize=(16,7))\n",
        "plt.plot(history.history['loss'], label='train')\n",
        "plt.plot(history.history['val_loss'], label='test')\n",
        "\n",
        "plt.legend()\n",
        "plt.show()"
      ],
      "metadata": {
        "colab": {
          "base_uri": "https://localhost:8080/",
          "height": 428
        },
        "id": "EPq-IHCWcZDu",
        "outputId": "478a4852-4434-4830-dac1-a8bb9c1a37c0"
      },
      "execution_count": 43,
      "outputs": [
        {
          "output_type": "display_data",
          "data": {
            "image/png": "[encoded data removed]",
            "text/plain": [
              "<Figure size 1152x504 with 1 Axes>"
            ]
          },
          "metadata": {
            "needs_background": "light"
          }
        }
      ]
    },
    {
      "cell_type": "markdown",
      "source": [
        "LSTM for classification"
      ],
      "metadata": {
        "id": "q-mKxqzoHDUl"
      }
    },
    {
      "cell_type": "code",
      "source": [
        "\n",
        "# Design Neural Network Architecture with LSTM\n",
        "print('Building Simple RNN Model..')\n",
        "\n",
        "model_clf = Sequential()\n",
        "# input_shape is supposed to be (timesteps, n_features).\n",
        "model_clf.add(LSTM(units = 128, activation = 'relu',return_sequences=True, input_shape = (trainX_clf.shape[1], trainX_clf.shape[2])))\n",
        "model_clf.add(Dropout(0.2))\n",
        "# Adding a second LSTM layer and some Dropout regularisation\n",
        "model_clf.add(LSTM(units = 64, input_shape = (trainX.shape[1], trainX.shape[2])))\n",
        "model_clf.add(Dropout(0.2))\n",
        "\n",
        "# Add Dense Hidden Layer\n",
        "\n",
        "model_clf.add(Dense(256, activation='relu'))\n",
        "model_clf.add(Dropout(0.3))\n",
        "model_clf.add(Dense(128, activation='relu'))\n",
        "model_clf.add(Dropout(0.3))\n",
        "\n",
        "# Output Layer \n",
        "model_clf.add(Dense(1, activation='sigmoid'))"
      ],
      "metadata": {
        "colab": {
          "base_uri": "https://localhost:8080/"
        },
        "id": "sMDc-jE1HCm3",
        "outputId": "688bb2b3-2636-44aa-b98b-b8aad83bb389"
      },
      "execution_count": 44,
      "outputs": [
        {
          "output_type": "stream",
          "name": "stdout",
          "text": [
            "Building Simple RNN Model..\n",
            "WARNING:tensorflow:Layer lstm_2 will not use cuDNN kernels since it doesn't meet the criteria. It will use a generic GPU kernel as fallback when running on GPU.\n"
          ]
        }
      ]
    },
    {
      "cell_type": "code",
      "source": [
        "# Summary\n",
        "model_clf.summary()"
      ],
      "metadata": {
        "colab": {
          "base_uri": "https://localhost:8080/"
        },
        "id": "h1YVUnwxIjaA",
        "outputId": "faff2d5f-ea85-4601-e553-260089b8c773"
      },
      "execution_count": 45,
      "outputs": [
        {
          "output_type": "stream",
          "name": "stdout",
          "text": [
            "Model: \"sequential_1\"\n",
            "_________________________________________________________________\n",
            " Layer (type)                Output Shape              Param #   \n",
            "=================================================================\n",
            " lstm_2 (LSTM)               (None, 7, 128)            66560     \n",
            "                                                                 \n",
            " dropout_2 (Dropout)         (None, 7, 128)            0         \n",
            "                                                                 \n",
            " lstm_3 (LSTM)               (None, 64)                49408     \n",
            "                                                                 \n",
            " dropout_3 (Dropout)         (None, 64)                0         \n",
            "                                                                 \n",
            " dense_1 (Dense)             (None, 256)               16640     \n",
            "                                                                 \n",
            " dropout_4 (Dropout)         (None, 256)               0         \n",
            "                                                                 \n",
            " dense_2 (Dense)             (None, 128)               32896     \n",
            "                                                                 \n",
            " dropout_5 (Dropout)         (None, 128)               0         \n",
            "                                                                 \n",
            " dense_3 (Dense)             (None, 1)                 129       \n",
            "                                                                 \n",
            "=================================================================\n",
            "Total params: 165,633\n",
            "Trainable params: 165,633\n",
            "Non-trainable params: 0\n",
            "_________________________________________________________________\n"
          ]
        }
      ]
    },
    {
      "cell_type": "code",
      "source": [
        "# Configure model\n",
        "model_clf.compile(loss='binary_crossentropy', optimizer='adam', metrics=['accuracy'])"
      ],
      "metadata": {
        "id": "7ehjcHMNImJz"
      },
      "execution_count": 46,
      "outputs": []
    },
    {
      "cell_type": "code",
      "source": [
        "# Train!\n",
        "print('Training the model..')\n",
        "history_clf = model_clf.fit(trainX_clf, trainY_clf, batch_size=BS, verbose=2, epochs=ep,shuffle=False, validation_data=(testX_clf, testY_clf), callbacks=callbacks)"
      ],
      "metadata": {
        "colab": {
          "base_uri": "https://localhost:8080/"
        },
        "id": "DfN-7BTkI6Ws",
        "outputId": "a0de0623-a9b8-44b0-a27d-f140b76e5eae"
      },
      "execution_count": 47,
      "outputs": [
        {
          "output_type": "stream",
          "name": "stdout",
          "text": [
            "Training the model..\n",
            "Epoch 1/100\n",
            "118/118 - 7s - loss: 0.6954 - accuracy: 0.5117 - val_loss: 0.6942 - val_accuracy: 0.4615 - 7s/epoch - 62ms/step\n",
            "Epoch 2/100\n",
            "118/118 - 3s - loss: 0.6936 - accuracy: 0.5287 - val_loss: 0.7020 - val_accuracy: 0.4615 - 3s/epoch - 22ms/step\n",
            "Epoch 3/100\n",
            "118/118 - 3s - loss: 0.6910 - accuracy: 0.5456 - val_loss: 0.7057 - val_accuracy: 0.4615 - 3s/epoch - 23ms/step\n",
            "Epoch 4/100\n",
            "118/118 - 3s - loss: 0.6905 - accuracy: 0.5467 - val_loss: 0.7072 - val_accuracy: 0.4615 - 3s/epoch - 23ms/step\n",
            "Epoch 5/100\n",
            "118/118 - 3s - loss: 0.6910 - accuracy: 0.5467 - val_loss: 0.7043 - val_accuracy: 0.4615 - 3s/epoch - 22ms/step\n",
            "Epoch 6/100\n",
            "118/118 - 3s - loss: 0.6910 - accuracy: 0.5435 - val_loss: 0.7065 - val_accuracy: 0.4615 - 3s/epoch - 22ms/step\n"
          ]
        }
      ]
    },
    {
      "cell_type": "code",
      "source": [
        "# evaluate the classification model\n",
        "_,acc = model_clf.evaluate(testX_clf, testY_clf)\n",
        "print(\"acc: %.2f\" % (acc))"
      ],
      "metadata": {
        "colab": {
          "base_uri": "https://localhost:8080/"
        },
        "id": "x4Sz2uosJ2QR",
        "outputId": "2cda1919-28da-425e-c6e5-f3a23dfc8253"
      },
      "execution_count": 48,
      "outputs": [
        {
          "output_type": "stream",
          "name": "stdout",
          "text": [
            "5/5 [==============================] - 0s 7ms/step - loss: 0.6942 - accuracy: 0.4615\n",
            "acc: 0.46\n"
          ]
        }
      ]
    },
    {
      "cell_type": "code",
      "source": [
        "# Accuracy vs Epoch\n",
        "plt.title('Accuracy')\n",
        "plt.plot(history_clf.history['accuracy'], label='train')\n",
        "plt.plot(history_clf.history['val_accuracy'], label='test')\n",
        "plt.legend()\n",
        "plt.show();"
      ],
      "metadata": {
        "colab": {
          "base_uri": "https://localhost:8080/",
          "height": 281
        },
        "id": "z-apZnTcKVjS",
        "outputId": "58604773-f0a3-4c33-d2c6-e460d8fa64ac"
      },
      "execution_count": 49,
      "outputs": [
        {
          "output_type": "display_data",
          "data": {
            "image/png": "[encoded data removed]",
            "text/plain": [
              "<Figure size 432x288 with 1 Axes>"
            ]
          },
          "metadata": {
            "needs_background": "light"
          }
        }
      ]
    },
    {
      "cell_type": "markdown",
      "source": [
        "## LSTM Predictions vs. Actual testY"
      ],
      "metadata": {
        "id": "zgEdxyqedChF"
      }
    },
    {
      "cell_type": "markdown",
      "source": [
        "We need to transfer the scale data to the original data (real value), So we are going to use **inverse_transform** to Scale back the data to the original representation."
      ],
      "metadata": {
        "id": "KisM38l3JvoR"
      }
    },
    {
      "cell_type": "code",
      "source": [
        "\n",
        "predicted_test_data = model.predict(testX)\n",
        "predicted_test_data = scaler.inverse_transform(predicted_test_data.reshape(-1, 1))\n",
        "test_actual = scaler.inverse_transform(testY.reshape(-1, 1))"
      ],
      "metadata": {
        "id": "wxaxgNzycZGp"
      },
      "execution_count": 50,
      "outputs": []
    },
    {
      "cell_type": "markdown",
      "source": [
        "difference between Predictions and Actual"
      ],
      "metadata": {
        "id": "AwiClrCatEvz"
      }
    },
    {
      "cell_type": "code",
      "source": [
        "l = zip(predicted_test_data,test_actual)\n",
        "m = map(lambda x: x[0]-x[1], l)\n",
        "r = reduce(lambda x,y: x + y, m)\n",
        "print(\"the number of days: 144\")\n",
        "print(\"result of Predictions - Actual testY:\", r)"
      ],
      "metadata": {
        "id": "4h793o48l_yQ",
        "colab": {
          "base_uri": "https://localhost:8080/"
        },
        "outputId": "f935a4c2-fa69-4425-b474-962b74a3d79a"
      },
      "execution_count": 51,
      "outputs": [
        {
          "output_type": "stream",
          "name": "stdout",
          "text": [
            "the number of days: 144\n",
            "result of Predictions - Actual testY: [109309.10929748]\n"
          ]
        }
      ]
    },
    {
      "cell_type": "code",
      "source": [
        "plt.figure(figsize=(16,7))\n",
        "\n",
        "plt.plot(predicted_test_data, 'r', marker='.', label='Predicted Test')\n",
        "\n",
        "plt.plot(test_actual, 'b', marker='.', label='Actual Test')\n",
        "\n",
        "plt.legend()\n",
        "plt.show()"
      ],
      "metadata": {
        "colab": {
          "base_uri": "https://localhost:8080/",
          "height": 428
        },
        "id": "WUA3_d48cZKl",
        "outputId": "fb54b1a7-2aac-4c86-8355-7ec0940489c1"
      },
      "execution_count": 52,
      "outputs": [
        {
          "output_type": "display_data",
          "data": {
            "image/png": "[encoded data removed]",
            "text/plain": [
              "<Figure size 1152x504 with 1 Axes>"
            ]
          },
          "metadata": {
            "needs_background": "light"
          }
        }
      ]
    },
    {
      "cell_type": "markdown",
      "source": [
        "##Mean squared error\n",
        "\n",
        "![RMSE1.jpg](data:image/jpeg;base64,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)"
      ],
      "metadata": {
        "id": "xtuhVvv-fDue"
      }
    },
    {
      "cell_type": "code",
      "source": [
        "# Transformation to original form and making the predictions\n",
        "\n",
        "predicted_btc_price_train_data = model.predict(trainX)\n",
        "\n",
        "predicted_btc_price_train_data = scaler.inverse_transform(predicted_btc_price_train_data.reshape(-1, 1))\n",
        "\n",
        "train_actual = scaler.inverse_transform(trainY.reshape(-1, 1))"
      ],
      "metadata": {
        "id": "rZX8-c4iO-bI"
      },
      "execution_count": 53,
      "outputs": []
    },
    {
      "cell_type": "code",
      "source": [
        "# Train Data\n",
        "rmse_lstm_train = math.sqrt(mean_squared_error(train_actual, predicted_btc_price_train_data))\n",
        "\n",
        "print('Test RMSE: %.3f' % rmse_lstm_train)"
      ],
      "metadata": {
        "id": "-HTubC_nfOrO",
        "colab": {
          "base_uri": "https://localhost:8080/"
        },
        "outputId": "748289ac-9ea2-48e1-e5fb-ee44cf77fc1f"
      },
      "execution_count": 54,
      "outputs": [
        {
          "output_type": "stream",
          "name": "stdout",
          "text": [
            "Test RMSE: 3054.857\n"
          ]
        }
      ]
    },
    {
      "cell_type": "code",
      "source": [
        "# Test Data\n",
        "rmse_lstm_test = math.sqrt(mean_squared_error(test_actual, predicted_test_data))\n",
        "\n",
        "print('Test RMSE: %.3f' % rmse_lstm_test)"
      ],
      "metadata": {
        "id": "NY5Qs95rfGtq",
        "colab": {
          "base_uri": "https://localhost:8080/"
        },
        "outputId": "63e380a9-3f0d-4850-fd96-a0d897f6c4af"
      },
      "execution_count": 55,
      "outputs": [
        {
          "output_type": "stream",
          "name": "stdout",
          "text": [
            "Test RMSE: 3036.147\n"
          ]
        }
      ]
    },
    {
      "cell_type": "markdown",
      "source": [
        "What if we invest X$ , how much money can we earn?"
      ],
      "metadata": {
        "id": "AIedxzl1SZkF"
      }
    },
    {
      "cell_type": "code",
      "source": [
        "# what if we invest 5000 dollar during how much money can we earn after 143 days?\n",
        "x = 5000\n",
        "#intial_val = testX[0]\n",
        "#intial_val = np.reshape(intial_val, (1, testX.shape[1], 1))\n",
        "#print(intial_val.shape)\n",
        "#print(intial_val)\n",
        "#intial_val= model.predict(intial_val)[0]\n",
        "intial_val = scaler.inverse_transform(testX[0].reshape(-1, 1))[0]\n",
        "\n",
        "\n",
        "for i in range(testX.shape[0]-1):\n",
        "  intial_val = scaler.inverse_transform(testX[i].reshape(-1, 1))[0]\n",
        "  r = testX[i+1]\n",
        "  r = np.reshape(r, (1, testX.shape[1], 1))\n",
        "  r = model.predict(r)[0]\n",
        "  r = scaler.inverse_transform(r.reshape(-1, 1))\n",
        "  if intial_val >= r :\n",
        "    pass\n",
        "  else:\n",
        "    real_val = scaler.inverse_transform(testX[i+1].reshape(-1, 1))[0]\n",
        "    p = (real_val-intial_val)/intial_val\n",
        "    x = x + (x*p)\n",
        "\n",
        "print(\"According to this algo after 143 days , your money will get :\",x)\n"
      ],
      "metadata": {
        "colab": {
          "base_uri": "https://localhost:8080/"
        },
        "id": "OnzOxaL2Smvb",
        "outputId": "a1c448ca-3f88-4cbe-dc5c-c37bfd98a02d"
      },
      "execution_count": 89,
      "outputs": [
        {
          "output_type": "stream",
          "name": "stdout",
          "text": [
            "According to this algo after 143 days , your money will get : [10517.27400128]\n"
          ]
        }
      ]
    },
    {
      "cell_type": "markdown",
      "source": [
        "\n",
        "##Future Price Predictions\n",
        "\n",
        "For 10 Days beyond the actual trading days for which I dont have the ground truth data (i.e. for 10-days into future for which I dont have actual Trading Price yet)\n",
        "We are going to forecast the Bitcoin Prices for the next 10 days from today.\n"
      ],
      "metadata": {
        "id": "eqzR17Q6Pe2W"
      }
    },
    {
      "cell_type": "code",
      "source": [
        "days = 10\n",
        "lookback  = testX.shape[1]\n",
        "print(lookback)"
      ],
      "metadata": {
        "id": "ToHSin2ZPfVz",
        "colab": {
          "base_uri": "https://localhost:8080/"
        },
        "outputId": "bbd0b07e-1175-47a9-d4b6-c8504dbf336d"
      },
      "execution_count": 63,
      "outputs": [
        {
          "output_type": "stream",
          "name": "stdout",
          "text": [
            "7\n"
          ]
        }
      ]
    },
    {
      "cell_type": "code",
      "source": [
        "testX_last_n_days =testX[-1] #testX[testX.shape[0] - lookback :  ]\n",
        "testX_last_n_days = np.reshape(testX_last_n_days, (1, testX.shape[1], 1))\n",
        "print(testX_last_n_days.shape)\n",
        "print(testX_last_n_days)\n",
        "print(type(testX_last_n_days))"
      ],
      "metadata": {
        "id": "cGmLw4MZPf4V",
        "colab": {
          "base_uri": "https://localhost:8080/"
        },
        "outputId": "c9f85df8-e503-4a36-d25f-b07a819d482d"
      },
      "execution_count": 57,
      "outputs": [
        {
          "output_type": "stream",
          "name": "stdout",
          "text": [
            "(1, 7, 1)\n",
            "[[[1.13773052]\n",
            "  [1.12214407]\n",
            "  [1.05789394]\n",
            "  [1.10551483]\n",
            "  [0.98155307]\n",
            "  [1.14183714]\n",
            "  [1.16516094]]]\n",
            "<class 'numpy.ndarray'>\n"
          ]
        }
      ]
    },
    {
      "cell_type": "code",
      "source": [
        "# convert testX_last_n_days to queue\n",
        "queue = testX_last_n_days\n",
        "predicted_values = []\n",
        "print(queue)\n",
        "\n",
        "for i in range(days):\n",
        "  \n",
        "  predicted_value = model.predict(queue)[0]  #predicted_value = model.predict(testX_last_n_days)\n",
        "  queue = queue.tolist()\n",
        "\n",
        "  queue[0].pop(0)\n",
        "\n",
        "  queue[0].append(predicted_value)\n",
        "\n",
        "  predicted_value = scaler.inverse_transform(predicted_value.reshape(-1, 1))\n",
        "  predicted_values.append(predicted_value)\n",
        "\n",
        "\n",
        "  next_price = scaler.inverse_transform(queue[0][-1].reshape(-1, 1))\n",
        "  last_price = scaler.inverse_transform(np.array(queue[0][-2]).reshape(-1, 1))\n",
        "  if next_price > last_price:\n",
        "    print(\"Buy crypto || +{s} ({p} %)\".format(s = next_price - last_price, p = (next_price-last_price)/last_price))\n",
        "  else:\n",
        "    print(\"Sell crypto || - {s} ({p} %)\".format(s = last_price - next_price, p = (next_price-last_price)/last_price))\n",
        "\n",
        "  queue = np.asarray(queue).astype('float32')\n",
        " \n"
      ],
      "metadata": {
        "id": "h1gjM10NPf8I",
        "colab": {
          "base_uri": "https://localhost:8080/"
        },
        "outputId": "16fbf9be-c37d-4511-b7da-4a3a724ba740"
      },
      "execution_count": 58,
      "outputs": [
        {
          "output_type": "stream",
          "name": "stdout",
          "text": [
            "[[[1.13773052]\n",
            "  [1.12214407]\n",
            "  [1.05789394]\n",
            "  [1.10551483]\n",
            "  [0.98155307]\n",
            "  [1.14183714]\n",
            "  [1.16516094]]]\n",
            "Buy crypto || +[[367.59823958]] ([[0.0093765]] %)\n",
            "Buy crypto || +[[355.79106813]] ([[0.00899103]] %)\n",
            "Buy crypto || +[[247.05888409]] ([[0.00618768]] %)\n",
            "Buy crypto || +[[423.16024745]] ([[0.01053302]] %)\n",
            "Buy crypto || +[[377.36772846]] ([[0.00929528]] %)\n",
            "Buy crypto || +[[696.78634531]] ([[0.01700509]] %)\n",
            "Buy crypto || +[[431.07541865]] ([[0.0103445]] %)\n",
            "Buy crypto || +[[451.45582281]] ([[0.01072265]] %)\n",
            "Buy crypto || +[[457.0987424]] ([[0.0107415]] %)\n",
            "Buy crypto || +[[455.65647071]] ([[0.01059381]] %)\n"
          ]
        }
      ]
    },
    {
      "cell_type": "code",
      "source": [
        "print(\"Forecast for the next %2d Days Beyond the actual trading days \"%  (days))\n",
        "print(np.array(predicted_values))\n",
        "print(np.array(predicted_values).shape)"
      ],
      "metadata": {
        "colab": {
          "base_uri": "https://localhost:8080/"
        },
        "id": "_kYVQuKiUPdP",
        "outputId": "4e100bec-5aee-4e32-85c1-325cd077a801"
      },
      "execution_count": 59,
      "outputs": [
        {
          "output_type": "stream",
          "name": "stdout",
          "text": [
            "Forecast for the next 10 Days Beyond the actual trading days \n",
            "[[[39571.785]]\n",
            "\n",
            " [[39927.574]]\n",
            "\n",
            " [[40174.633]]\n",
            "\n",
            " [[40597.793]]\n",
            "\n",
            " [[40975.16 ]]\n",
            "\n",
            " [[41671.945]]\n",
            "\n",
            " [[42103.02 ]]\n",
            "\n",
            " [[42554.477]]\n",
            "\n",
            " [[43011.574]]\n",
            "\n",
            " [[43467.23 ]]]\n",
            "(10, 1, 1)\n"
          ]
        }
      ]
    },
    {
      "cell_type": "markdown",
      "source": [
        "## Plot future Predictions (Future 10-days ) "
      ],
      "metadata": {
        "id": "vr2bXV4oaktA"
      }
    },
    {
      "cell_type": "code",
      "source": [
        "predicted = np.array(predicted_values).flatten()"
      ],
      "metadata": {
        "id": "V6I2nPyCUPr-"
      },
      "execution_count": 60,
      "outputs": []
    },
    {
      "cell_type": "code",
      "source": [
        "predicted"
      ],
      "metadata": {
        "colab": {
          "base_uri": "https://localhost:8080/"
        },
        "id": "LqIGKTjTq8Et",
        "outputId": "4c11750b-29e9-43ac-8354-e691500bad22"
      },
      "execution_count": 61,
      "outputs": [
        {
          "output_type": "execute_result",
          "data": {
            "text/plain": [
              "array([39571.785, 39927.574, 40174.633, 40597.793, 40975.16 , 41671.945,\n",
              "       42103.02 , 42554.477, 43011.574, 43467.23 ], dtype=float32)"
            ]
          },
          "metadata": {},
          "execution_count": 61
        }
      ]
    },
    {
      "cell_type": "code",
      "source": [
        "plt.figure(figsize=(16,7))\n",
        "\n",
        "plt.plot(predicted, 'r', marker='.',lw=5, label='Predicted')\n",
        "\n",
        "#plt.plot(yy, marker='.',lw=5, label='Actual')\n",
        "\n",
        "plt.legend()\n",
        "\n",
        "plt.show()"
      ],
      "metadata": {
        "id": "W8VFTJlMajzI",
        "colab": {
          "base_uri": "https://localhost:8080/",
          "height": 428
        },
        "outputId": "becc72c4-6444-4cc8-f992-f52ba4830bcf"
      },
      "execution_count": 62,
      "outputs": [
        {
          "output_type": "display_data",
          "data": {
            "image/png": "[encoded data removed]",
            "text/plain": [
              "<Figure size 1152x504 with 1 Axes>"
            ]
          },
          "metadata": {
            "needs_background": "light"
          }
        }
      ]
    },
    {
      "cell_type": "code",
      "source": [
        ""
      ],
      "metadata": {
        "id": "7ZeyijMiaj2W"
      },
      "execution_count": null,
      "outputs": []
    }
  ]
}