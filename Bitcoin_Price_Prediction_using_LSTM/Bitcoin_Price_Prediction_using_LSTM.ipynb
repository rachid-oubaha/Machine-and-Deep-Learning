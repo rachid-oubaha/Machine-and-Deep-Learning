{
  "nbformat": 4,
  "nbformat_minor": 0,
  "metadata": {
    "colab": {
      "name": "Bitcoin_Price_Prediction_using_LSTM.ipynb",
      "provenance": [],
      "collapsed_sections": []
    },
    "kernelspec": {
      "name": "python3",
      "display_name": "Python 3"
    },
    "language_info": {
      "name": "python"
    }
  },
  "cells": [
    {
      "cell_type": "code",
      "source": [
        "# stateful \n",
        "#https://towardsdatascience.com/feature-scaling-and-normalisation-in-a-nutshell-5319af86f89b\n",
        "#https://stackoverflow.com/questions/49444262/normalize-data-before-or-after-split-of-training-and-testing-data\n",
        "#https://github.com/yashk2810/Predicting-Next-Character-using-RNN/blob/master/Predicting%20Next%20character.ipynb\n",
        "#https://github.com/rohan-paul/MachineLearning-DeepLearning-Code-for-my-YouTube-Channel/blob/master/Finance_Stock_Crypto_Trading/Bitcoin_Price_Prediction_with_LSTM.ipynb"
      ],
      "metadata": {
        "id": "gRDmAuG9fj0v"
      },
      "execution_count": 1,
      "outputs": []
    },
    {
      "cell_type": "code",
      "metadata": {
        "colab": {
          "base_uri": "https://localhost:8080/"
        },
        "id": "guZf4_sCEkbC",
        "outputId": "7f961791-0aba-451a-e77e-0746fdae1db5"
      },
      "source": [
        "pip install python-binance"
      ],
      "execution_count": 2,
      "outputs": [
        {
          "output_type": "stream",
          "name": "stdout",
          "text": [
            "Collecting python-binance\n",
            "  Downloading python_binance-1.0.15-py2.py3-none-any.whl (63 kB)\n",
            "\u001b[?25l\r\u001b[K     |█████▏                          | 10 kB 24.5 MB/s eta 0:00:01\r\u001b[K     |██████████▎                     | 20 kB 30.1 MB/s eta 0:00:01\r\u001b[K     |███████████████▍                | 30 kB 23.7 MB/s eta 0:00:01\r\u001b[K     |████████████████████▌           | 40 kB 21.4 MB/s eta 0:00:01\r\u001b[K     |█████████████████████████▋      | 51 kB 18.3 MB/s eta 0:00:01\r\u001b[K     |██████████████████████████████▊ | 61 kB 15.2 MB/s eta 0:00:01\r\u001b[K     |████████████████████████████████| 63 kB 2.1 MB/s \n",
            "\u001b[?25hRequirement already satisfied: requests in /usr/local/lib/python3.7/dist-packages (from python-binance) (2.23.0)\n",
            "Collecting dateparser\n",
            "  Downloading dateparser-1.1.0-py2.py3-none-any.whl (288 kB)\n",
            "\u001b[K     |████████████████████████████████| 288 kB 32.2 MB/s \n",
            "\u001b[?25hCollecting websockets==9.1\n",
            "  Downloading websockets-9.1-cp37-cp37m-manylinux2010_x86_64.whl (103 kB)\n",
            "\u001b[K     |████████████████████████████████| 103 kB 72.8 MB/s \n",
            "\u001b[?25hCollecting aiohttp\n",
            "  Downloading aiohttp-3.8.1-cp37-cp37m-manylinux_2_5_x86_64.manylinux1_x86_64.manylinux_2_12_x86_64.manylinux2010_x86_64.whl (1.1 MB)\n",
            "\u001b[K     |████████████████████████████████| 1.1 MB 50.9 MB/s \n",
            "\u001b[?25hCollecting ujson\n",
            "  Downloading ujson-5.1.0-cp37-cp37m-manylinux_2_17_x86_64.manylinux2014_x86_64.whl (43 kB)\n",
            "\u001b[K     |████████████████████████████████| 43 kB 1.9 MB/s \n",
            "\u001b[?25hRequirement already satisfied: six in /usr/local/lib/python3.7/dist-packages (from python-binance) (1.15.0)\n",
            "Requirement already satisfied: charset-normalizer<3.0,>=2.0 in /usr/local/lib/python3.7/dist-packages (from aiohttp->python-binance) (2.0.11)\n",
            "Collecting asynctest==0.13.0\n",
            "  Downloading asynctest-0.13.0-py3-none-any.whl (26 kB)\n",
            "Requirement already satisfied: typing-extensions>=3.7.4 in /usr/local/lib/python3.7/dist-packages (from aiohttp->python-binance) (3.10.0.2)\n",
            "Requirement already satisfied: attrs>=17.3.0 in /usr/local/lib/python3.7/dist-packages (from aiohttp->python-binance) (21.4.0)\n",
            "Collecting frozenlist>=1.1.1\n",
            "  Downloading frozenlist-1.3.0-cp37-cp37m-manylinux_2_5_x86_64.manylinux1_x86_64.manylinux_2_17_x86_64.manylinux2014_x86_64.whl (144 kB)\n",
            "\u001b[K     |████████████████████████████████| 144 kB 51.7 MB/s \n",
            "\u001b[?25hCollecting yarl<2.0,>=1.0\n",
            "  Downloading yarl-1.7.2-cp37-cp37m-manylinux_2_5_x86_64.manylinux1_x86_64.manylinux_2_12_x86_64.manylinux2010_x86_64.whl (271 kB)\n",
            "\u001b[K     |████████████████████████████████| 271 kB 75.1 MB/s \n",
            "\u001b[?25hCollecting async-timeout<5.0,>=4.0.0a3\n",
            "  Downloading async_timeout-4.0.2-py3-none-any.whl (5.8 kB)\n",
            "Collecting aiosignal>=1.1.2\n",
            "  Downloading aiosignal-1.2.0-py3-none-any.whl (8.2 kB)\n",
            "Collecting multidict<7.0,>=4.5\n",
            "  Downloading multidict-6.0.2-cp37-cp37m-manylinux_2_17_x86_64.manylinux2014_x86_64.whl (94 kB)\n",
            "\u001b[K     |████████████████████████████████| 94 kB 3.3 MB/s \n",
            "\u001b[?25hRequirement already satisfied: idna>=2.0 in /usr/local/lib/python3.7/dist-packages (from yarl<2.0,>=1.0->aiohttp->python-binance) (2.10)\n",
            "Requirement already satisfied: python-dateutil in /usr/local/lib/python3.7/dist-packages (from dateparser->python-binance) (2.8.2)\n",
            "Requirement already satisfied: tzlocal in /usr/local/lib/python3.7/dist-packages (from dateparser->python-binance) (1.5.1)\n",
            "Requirement already satisfied: pytz in /usr/local/lib/python3.7/dist-packages (from dateparser->python-binance) (2018.9)\n",
            "Requirement already satisfied: regex!=2019.02.19,!=2021.8.27 in /usr/local/lib/python3.7/dist-packages (from dateparser->python-binance) (2019.12.20)\n",
            "Requirement already satisfied: chardet<4,>=3.0.2 in /usr/local/lib/python3.7/dist-packages (from requests->python-binance) (3.0.4)\n",
            "Requirement already satisfied: urllib3!=1.25.0,!=1.25.1,<1.26,>=1.21.1 in /usr/local/lib/python3.7/dist-packages (from requests->python-binance) (1.24.3)\n",
            "Requirement already satisfied: certifi>=2017.4.17 in /usr/local/lib/python3.7/dist-packages (from requests->python-binance) (2021.10.8)\n",
            "Installing collected packages: multidict, frozenlist, yarl, asynctest, async-timeout, aiosignal, websockets, ujson, dateparser, aiohttp, python-binance\n",
            "Successfully installed aiohttp-3.8.1 aiosignal-1.2.0 async-timeout-4.0.2 asynctest-0.13.0 dateparser-1.1.0 frozenlist-1.3.0 multidict-6.0.2 python-binance-1.0.15 ujson-5.1.0 websockets-9.1 yarl-1.7.2\n"
          ]
        }
      ]
    },
    {
      "cell_type": "code",
      "metadata": {
        "colab": {
          "base_uri": "https://localhost:8080/"
        },
        "id": "5QckaR0VFfXj",
        "outputId": "37d7d555-c9fc-43e3-a984-cd469cd1ef4f"
      },
      "source": [
        "pip install websocket_client"
      ],
      "execution_count": 3,
      "outputs": [
        {
          "output_type": "stream",
          "name": "stdout",
          "text": [
            "Collecting websocket_client\n",
            "  Downloading websocket_client-1.2.3-py3-none-any.whl (53 kB)\n",
            "\u001b[?25l\r\u001b[K     |██████▏                         | 10 kB 26.5 MB/s eta 0:00:01\r\u001b[K     |████████████▎                   | 20 kB 33.0 MB/s eta 0:00:01\r\u001b[K     |██████████████████▍             | 30 kB 35.0 MB/s eta 0:00:01\r\u001b[K     |████████████████████████▌       | 40 kB 37.4 MB/s eta 0:00:01\r\u001b[K     |██████████████████████████████▋ | 51 kB 13.3 MB/s eta 0:00:01\r\u001b[K     |████████████████████████████████| 53 kB 1.6 MB/s \n",
            "\u001b[?25hInstalling collected packages: websocket-client\n",
            "Successfully installed websocket-client-1.2.3\n"
          ]
        }
      ]
    },
    {
      "cell_type": "code",
      "metadata": {
        "id": "G0784XJVFSKB"
      },
      "source": [
        ""
      ],
      "execution_count": 3,
      "outputs": []
    },
    {
      "cell_type": "code",
      "metadata": {
        "id": "RoJrwqGhEptb"
      },
      "source": [
        "from binance.client import Client\n",
        "from binance.enums import *\n",
        "import time, datetime\n",
        "import pandas as pd\n",
        "from datetime import datetime, timedelta\n",
        "\n",
        "import matplotlib.pyplot as plt\n",
        "\n",
        "import math\n",
        "import numpy as np\n",
        "\n",
        "from sklearn.preprocessing import StandardScaler\n",
        "from sklearn.metrics import mean_squared_error, mean_absolute_error, explained_variance_score, r2_score \n",
        "from sklearn.metrics import mean_poisson_deviance, mean_gamma_deviance, accuracy_score\n",
        "\n",
        "from tensorflow.keras.models import Sequential\n",
        "from tensorflow.keras.layers import Dense, Dropout\n",
        "from tensorflow.keras.layers import LSTM\n",
        "from tensorflow.keras.callbacks import ModelCheckpoint, EarlyStopping"
      ],
      "execution_count": 34,
      "outputs": []
    },
    {
      "cell_type": "markdown",
      "metadata": {
        "id": "pZRwedZ413fc"
      },
      "source": [
        "# **data scraping**"
      ]
    },
    {
      "cell_type": "markdown",
      "metadata": {
        "id": "Jc1cN2MmFJ7_"
      },
      "source": [
        "**OHLC data:**\n",
        "An OHLC chart is a type of bar chart that shows open, high, low, and closing prices for each period. "
      ]
    },
    {
      "cell_type": "code",
      "metadata": {
        "id": "2P-o9QZ9GCvt"
      },
      "source": [
        "SOCKET = \"wss://stream.binance.com:9443/ws/btcusdt@kline_1m\"\n",
        "TRADE_SYMBOL = 'BTCUSDT'\n",
        "TRADE_SYMBOL_HISTORY = 'BTCUSDT'\n",
        "API_KEY = 'ziew'\n",
        "API_SECRET = 'ziew'"
      ],
      "execution_count": 5,
      "outputs": []
    },
    {
      "cell_type": "code",
      "metadata": {
        "id": "nwn5cSQZF_wT"
      },
      "source": [
        "client = Client(API_KEY, API_SECRET)#, tld='us')"
      ],
      "execution_count": 6,
      "outputs": []
    },
    {
      "cell_type": "code",
      "metadata": {
        "id": "U8JBPdGREpwG"
      },
      "source": [
        "\n",
        "def GetHistoricalData(howLong):\n",
        "    howLong = howLong\n",
        "    # Calculate the timestamps for the binance api function\n",
        "    untilThisDate = datetime.now()\n",
        "    # sinceThisDate = untilThisDate - datetime.timedelta(days = howLong)\n",
        "    sinceThisDate = untilThisDate - timedelta(hours = howLong)\n",
        "    # Execute the query from binance - timestamps must be converted to strings !\n",
        "    candle = client.get_historical_klines(TRADE_SYMBOL_HISTORY, Client.KLINE_INTERVAL_1MINUTE, str(sinceThisDate), str(untilThisDate))\n",
        "    # print(\"TYPE\", type(candle),\"\\n\",candle)\n",
        "\n",
        "    # Create a dataframe to label all the columns returned by binance so we work with them later.\n",
        "    df = pd.DataFrame(candle, columns=['dateTime', 'open', 'high', 'low', 'close', 'volume', 'closeTime', 'quoteAssetVolume', 'numberOfTrades', 'takerBuyBaseVol', 'takerBuyQuoteVol', 'ignore'])\n",
        "    # as timestamp is returned in ms, let us convert this back to proper timestamps.\n",
        "    df.dateTime = pd.to_datetime(df.dateTime, unit='ms').dt.strftime('%Y-%m-%d %H:%M:%S')\n",
        "    # df.set_index('dateTime', inplace=True)\n",
        "\n",
        "    df[\"open\"] = df.open.astype(float)\n",
        "    df[\"high\"] = df.high.astype(float)\n",
        "    df[\"low\"] = df.low.astype(float)\n",
        "    df[\"close\"] = df.close.astype(float)\n",
        "    df[\"volume\"] = df.volume.astype(float)\n",
        "\n",
        "    # Get rid of columns we do not need\n",
        "    df = df.drop(['quoteAssetVolume', 'numberOfTrades', 'takerBuyBaseVol','takerBuyQuoteVol', 'ignore','closeTime'], axis=1)\n",
        "\n",
        "    return df"
      ],
      "execution_count": 7,
      "outputs": []
    },
    {
      "cell_type": "code",
      "metadata": {
        "colab": {
          "base_uri": "https://localhost:8080/"
        },
        "id": "w9ocX0QHE3fv",
        "outputId": "c75025d6-0ef6-48a1-c0bf-7d54e15526e4"
      },
      "source": [
        "print(\"Launching script...\")\n",
        "df=GetHistoricalData(24*60) # TAKE INTO ACCOUNT GMT-2 #10 days"
      ],
      "execution_count": 8,
      "outputs": [
        {
          "output_type": "stream",
          "name": "stdout",
          "text": [
            "Launching script...\n"
          ]
        }
      ]
    },
    {
      "cell_type": "code",
      "metadata": {
        "colab": {
          "base_uri": "https://localhost:8080/",
          "height": 206
        },
        "id": "tOan9Nvc2-RQ",
        "outputId": "ad5f9fe0-6d94-4eb6-d175-8ac60818c8f0"
      },
      "source": [
        "df.tail()"
      ],
      "execution_count": 9,
      "outputs": [
        {
          "output_type": "execute_result",
          "data": {
            "text/html": [
              "\n",
              "  <div id=\"df-fdab0d16-ecb9-437f-b283-afdc0decb12b\">\n",
              "    <div class=\"colab-df-container\">\n",
              "      <div>\n",
              "<style scoped>\n",
              "    .dataframe tbody tr th:only-of-type {\n",
              "        vertical-align: middle;\n",
              "    }\n",
              "\n",
              "    .dataframe tbody tr th {\n",
              "        vertical-align: top;\n",
              "    }\n",
              "\n",
              "    .dataframe thead th {\n",
              "        text-align: right;\n",
              "    }\n",
              "</style>\n",
              "<table border=\"1\" class=\"dataframe\">\n",
              "  <thead>\n",
              "    <tr style=\"text-align: right;\">\n",
              "      <th></th>\n",
              "      <th>dateTime</th>\n",
              "      <th>open</th>\n",
              "      <th>high</th>\n",
              "      <th>low</th>\n",
              "      <th>close</th>\n",
              "      <th>volume</th>\n",
              "    </tr>\n",
              "  </thead>\n",
              "  <tbody>\n",
              "    <tr>\n",
              "      <th>86395</th>\n",
              "      <td>2022-02-08 22:42:00</td>\n",
              "      <td>44058.01</td>\n",
              "      <td>44064.82</td>\n",
              "      <td>43993.49</td>\n",
              "      <td>43994.07</td>\n",
              "      <td>9.86785</td>\n",
              "    </tr>\n",
              "    <tr>\n",
              "      <th>86396</th>\n",
              "      <td>2022-02-08 22:43:00</td>\n",
              "      <td>43994.07</td>\n",
              "      <td>44008.75</td>\n",
              "      <td>43992.12</td>\n",
              "      <td>44000.04</td>\n",
              "      <td>3.14917</td>\n",
              "    </tr>\n",
              "    <tr>\n",
              "      <th>86397</th>\n",
              "      <td>2022-02-08 22:44:00</td>\n",
              "      <td>44000.04</td>\n",
              "      <td>44049.99</td>\n",
              "      <td>44000.04</td>\n",
              "      <td>44004.49</td>\n",
              "      <td>4.92256</td>\n",
              "    </tr>\n",
              "    <tr>\n",
              "      <th>86398</th>\n",
              "      <td>2022-02-08 22:45:00</td>\n",
              "      <td>44004.49</td>\n",
              "      <td>44004.50</td>\n",
              "      <td>43979.00</td>\n",
              "      <td>43982.43</td>\n",
              "      <td>6.25533</td>\n",
              "    </tr>\n",
              "    <tr>\n",
              "      <th>86399</th>\n",
              "      <td>2022-02-08 22:46:00</td>\n",
              "      <td>43986.13</td>\n",
              "      <td>44049.99</td>\n",
              "      <td>43979.83</td>\n",
              "      <td>44018.01</td>\n",
              "      <td>8.84105</td>\n",
              "    </tr>\n",
              "  </tbody>\n",
              "</table>\n",
              "</div>\n",
              "      <button class=\"colab-df-convert\" onclick=\"convertToInteractive('df-fdab0d16-ecb9-437f-b283-afdc0decb12b')\"\n",
              "              title=\"Convert this dataframe to an interactive table.\"\n",
              "              style=\"display:none;\">\n",
              "        \n",
              "  <svg xmlns=\"http://www.w3.org/2000/svg\" height=\"24px\"viewBox=\"0 0 24 24\"\n",
              "       width=\"24px\">\n",
              "    <path d=\"M0 0h24v24H0V0z\" fill=\"none\"/>\n",
              "    <path d=\"M18.56 5.44l.94 2.06.94-2.06 2.06-.94-2.06-.94-.94-2.06-.94 2.06-2.06.94zm-11 1L8.5 8.5l.94-2.06 2.06-.94-2.06-.94L8.5 2.5l-.94 2.06-2.06.94zm10 10l.94 2.06.94-2.06 2.06-.94-2.06-.94-.94-2.06-.94 2.06-2.06.94z\"/><path d=\"M17.41 7.96l-1.37-1.37c-.4-.4-.92-.59-1.43-.59-.52 0-1.04.2-1.43.59L10.3 9.45l-7.72 7.72c-.78.78-.78 2.05 0 2.83L4 21.41c.39.39.9.59 1.41.59.51 0 1.02-.2 1.41-.59l7.78-7.78 2.81-2.81c.8-.78.8-2.07 0-2.86zM5.41 20L4 18.59l7.72-7.72 1.47 1.35L5.41 20z\"/>\n",
              "  </svg>\n",
              "      </button>\n",
              "      \n",
              "  <style>\n",
              "    .colab-df-container {\n",
              "      display:flex;\n",
              "      flex-wrap:wrap;\n",
              "      gap: 12px;\n",
              "    }\n",
              "\n",
              "    .colab-df-convert {\n",
              "      background-color: #E8F0FE;\n",
              "      border: none;\n",
              "      border-radius: 50%;\n",
              "      cursor: pointer;\n",
              "      display: none;\n",
              "      fill: #1967D2;\n",
              "      height: 32px;\n",
              "      padding: 0 0 0 0;\n",
              "      width: 32px;\n",
              "    }\n",
              "\n",
              "    .colab-df-convert:hover {\n",
              "      background-color: #E2EBFA;\n",
              "      box-shadow: 0px 1px 2px rgba(60, 64, 67, 0.3), 0px 1px 3px 1px rgba(60, 64, 67, 0.15);\n",
              "      fill: #174EA6;\n",
              "    }\n",
              "\n",
              "    [theme=dark] .colab-df-convert {\n",
              "      background-color: #3B4455;\n",
              "      fill: #D2E3FC;\n",
              "    }\n",
              "\n",
              "    [theme=dark] .colab-df-convert:hover {\n",
              "      background-color: #434B5C;\n",
              "      box-shadow: 0px 1px 3px 1px rgba(0, 0, 0, 0.15);\n",
              "      filter: drop-shadow(0px 1px 2px rgba(0, 0, 0, 0.3));\n",
              "      fill: #FFFFFF;\n",
              "    }\n",
              "  </style>\n",
              "\n",
              "      <script>\n",
              "        const buttonEl =\n",
              "          document.querySelector('#df-fdab0d16-ecb9-437f-b283-afdc0decb12b button.colab-df-convert');\n",
              "        buttonEl.style.display =\n",
              "          google.colab.kernel.accessAllowed ? 'block' : 'none';\n",
              "\n",
              "        async function convertToInteractive(key) {\n",
              "          const element = document.querySelector('#df-fdab0d16-ecb9-437f-b283-afdc0decb12b');\n",
              "          const dataTable =\n",
              "            await google.colab.kernel.invokeFunction('convertToInteractive',\n",
              "                                                     [key], {});\n",
              "          if (!dataTable) return;\n",
              "\n",
              "          const docLinkHtml = 'Like what you see? Visit the ' +\n",
              "            '<a target=\"_blank\" href=https://colab.research.google.com/notebooks/data_table.ipynb>data table notebook</a>'\n",
              "            + ' to learn more about interactive tables.';\n",
              "          element.innerHTML = '';\n",
              "          dataTable['output_type'] = 'display_data';\n",
              "          await google.colab.output.renderOutput(dataTable, element);\n",
              "          const docLink = document.createElement('div');\n",
              "          docLink.innerHTML = docLinkHtml;\n",
              "          element.appendChild(docLink);\n",
              "        }\n",
              "      </script>\n",
              "    </div>\n",
              "  </div>\n",
              "  "
            ],
            "text/plain": [
              "                  dateTime      open      high       low     close   volume\n",
              "86395  2022-02-08 22:42:00  44058.01  44064.82  43993.49  43994.07  9.86785\n",
              "86396  2022-02-08 22:43:00  43994.07  44008.75  43992.12  44000.04  3.14917\n",
              "86397  2022-02-08 22:44:00  44000.04  44049.99  44000.04  44004.49  4.92256\n",
              "86398  2022-02-08 22:45:00  44004.49  44004.50  43979.00  43982.43  6.25533\n",
              "86399  2022-02-08 22:46:00  43986.13  44049.99  43979.83  44018.01  8.84105"
            ]
          },
          "metadata": {},
          "execution_count": 9
        }
      ]
    },
    {
      "cell_type": "code",
      "metadata": {
        "colab": {
          "base_uri": "https://localhost:8080/"
        },
        "id": "apWon5Q_3BG8",
        "outputId": "7ebbc76e-2bf3-4533-86b7-6b56c7f7a35e"
      },
      "source": [
        "df.shape"
      ],
      "execution_count": 10,
      "outputs": [
        {
          "output_type": "execute_result",
          "data": {
            "text/plain": [
              "(86400, 6)"
            ]
          },
          "metadata": {},
          "execution_count": 10
        }
      ]
    },
    {
      "cell_type": "code",
      "metadata": {
        "colab": {
          "base_uri": "https://localhost:8080/"
        },
        "id": "vox8cNL94BMM",
        "outputId": "c09e20ff-b570-45f0-9fa6-404817af73be"
      },
      "source": [
        "df.info()"
      ],
      "execution_count": 11,
      "outputs": [
        {
          "output_type": "stream",
          "name": "stdout",
          "text": [
            "<class 'pandas.core.frame.DataFrame'>\n",
            "RangeIndex: 86400 entries, 0 to 86399\n",
            "Data columns (total 6 columns):\n",
            " #   Column    Non-Null Count  Dtype  \n",
            "---  ------    --------------  -----  \n",
            " 0   dateTime  86400 non-null  object \n",
            " 1   open      86400 non-null  float64\n",
            " 2   high      86400 non-null  float64\n",
            " 3   low       86400 non-null  float64\n",
            " 4   close     86400 non-null  float64\n",
            " 5   volume    86400 non-null  float64\n",
            "dtypes: float64(5), object(1)\n",
            "memory usage: 4.0+ MB\n"
          ]
        }
      ]
    },
    {
      "cell_type": "code",
      "metadata": {
        "colab": {
          "base_uri": "https://localhost:8080/",
          "height": 300
        },
        "id": "XxhiU5rr3JSj",
        "outputId": "24867bbc-c847-4691-df51-f6aaea51e6c3"
      },
      "source": [
        "include =['float', 'int']\n",
        "df.describe(include = include)"
      ],
      "execution_count": 12,
      "outputs": [
        {
          "output_type": "execute_result",
          "data": {
            "text/html": [
              "\n",
              "  <div id=\"df-59f6eac9-3243-4f6e-9f16-3b17e62b44a2\">\n",
              "    <div class=\"colab-df-container\">\n",
              "      <div>\n",
              "<style scoped>\n",
              "    .dataframe tbody tr th:only-of-type {\n",
              "        vertical-align: middle;\n",
              "    }\n",
              "\n",
              "    .dataframe tbody tr th {\n",
              "        vertical-align: top;\n",
              "    }\n",
              "\n",
              "    .dataframe thead th {\n",
              "        text-align: right;\n",
              "    }\n",
              "</style>\n",
              "<table border=\"1\" class=\"dataframe\">\n",
              "  <thead>\n",
              "    <tr style=\"text-align: right;\">\n",
              "      <th></th>\n",
              "      <th>open</th>\n",
              "      <th>high</th>\n",
              "      <th>low</th>\n",
              "      <th>close</th>\n",
              "      <th>volume</th>\n",
              "    </tr>\n",
              "  </thead>\n",
              "  <tbody>\n",
              "    <tr>\n",
              "      <th>count</th>\n",
              "      <td>86400.000000</td>\n",
              "      <td>86400.000000</td>\n",
              "      <td>86400.000000</td>\n",
              "      <td>86400.000000</td>\n",
              "      <td>86400.000000</td>\n",
              "    </tr>\n",
              "    <tr>\n",
              "      <th>mean</th>\n",
              "      <td>43588.812162</td>\n",
              "      <td>43613.518337</td>\n",
              "      <td>43564.182355</td>\n",
              "      <td>43588.761266</td>\n",
              "      <td>27.016076</td>\n",
              "    </tr>\n",
              "    <tr>\n",
              "      <th>std</th>\n",
              "      <td>4619.579177</td>\n",
              "      <td>4618.216955</td>\n",
              "      <td>4620.461916</td>\n",
              "      <td>4619.547082</td>\n",
              "      <td>42.795847</td>\n",
              "    </tr>\n",
              "    <tr>\n",
              "      <th>min</th>\n",
              "      <td>33050.110000</td>\n",
              "      <td>33139.860000</td>\n",
              "      <td>32917.170000</td>\n",
              "      <td>33056.980000</td>\n",
              "      <td>0.727330</td>\n",
              "    </tr>\n",
              "    <tr>\n",
              "      <th>25%</th>\n",
              "      <td>40732.120000</td>\n",
              "      <td>40771.740000</td>\n",
              "      <td>40690.477500</td>\n",
              "      <td>40732.112500</td>\n",
              "      <td>9.604860</td>\n",
              "    </tr>\n",
              "    <tr>\n",
              "      <th>50%</th>\n",
              "      <td>43113.170000</td>\n",
              "      <td>43131.775000</td>\n",
              "      <td>43092.845000</td>\n",
              "      <td>43113.275000</td>\n",
              "      <td>15.938165</td>\n",
              "    </tr>\n",
              "    <tr>\n",
              "      <th>75%</th>\n",
              "      <td>47397.890000</td>\n",
              "      <td>47424.912500</td>\n",
              "      <td>47372.550000</td>\n",
              "      <td>47397.890000</td>\n",
              "      <td>28.642575</td>\n",
              "    </tr>\n",
              "    <tr>\n",
              "      <th>max</th>\n",
              "      <td>51956.660000</td>\n",
              "      <td>52088.000000</td>\n",
              "      <td>51927.880000</td>\n",
              "      <td>51956.650000</td>\n",
              "      <td>1541.853250</td>\n",
              "    </tr>\n",
              "  </tbody>\n",
              "</table>\n",
              "</div>\n",
              "      <button class=\"colab-df-convert\" onclick=\"convertToInteractive('df-59f6eac9-3243-4f6e-9f16-3b17e62b44a2')\"\n",
              "              title=\"Convert this dataframe to an interactive table.\"\n",
              "              style=\"display:none;\">\n",
              "        \n",
              "  <svg xmlns=\"http://www.w3.org/2000/svg\" height=\"24px\"viewBox=\"0 0 24 24\"\n",
              "       width=\"24px\">\n",
              "    <path d=\"M0 0h24v24H0V0z\" fill=\"none\"/>\n",
              "    <path d=\"M18.56 5.44l.94 2.06.94-2.06 2.06-.94-2.06-.94-.94-2.06-.94 2.06-2.06.94zm-11 1L8.5 8.5l.94-2.06 2.06-.94-2.06-.94L8.5 2.5l-.94 2.06-2.06.94zm10 10l.94 2.06.94-2.06 2.06-.94-2.06-.94-.94-2.06-.94 2.06-2.06.94z\"/><path d=\"M17.41 7.96l-1.37-1.37c-.4-.4-.92-.59-1.43-.59-.52 0-1.04.2-1.43.59L10.3 9.45l-7.72 7.72c-.78.78-.78 2.05 0 2.83L4 21.41c.39.39.9.59 1.41.59.51 0 1.02-.2 1.41-.59l7.78-7.78 2.81-2.81c.8-.78.8-2.07 0-2.86zM5.41 20L4 18.59l7.72-7.72 1.47 1.35L5.41 20z\"/>\n",
              "  </svg>\n",
              "      </button>\n",
              "      \n",
              "  <style>\n",
              "    .colab-df-container {\n",
              "      display:flex;\n",
              "      flex-wrap:wrap;\n",
              "      gap: 12px;\n",
              "    }\n",
              "\n",
              "    .colab-df-convert {\n",
              "      background-color: #E8F0FE;\n",
              "      border: none;\n",
              "      border-radius: 50%;\n",
              "      cursor: pointer;\n",
              "      display: none;\n",
              "      fill: #1967D2;\n",
              "      height: 32px;\n",
              "      padding: 0 0 0 0;\n",
              "      width: 32px;\n",
              "    }\n",
              "\n",
              "    .colab-df-convert:hover {\n",
              "      background-color: #E2EBFA;\n",
              "      box-shadow: 0px 1px 2px rgba(60, 64, 67, 0.3), 0px 1px 3px 1px rgba(60, 64, 67, 0.15);\n",
              "      fill: #174EA6;\n",
              "    }\n",
              "\n",
              "    [theme=dark] .colab-df-convert {\n",
              "      background-color: #3B4455;\n",
              "      fill: #D2E3FC;\n",
              "    }\n",
              "\n",
              "    [theme=dark] .colab-df-convert:hover {\n",
              "      background-color: #434B5C;\n",
              "      box-shadow: 0px 1px 3px 1px rgba(0, 0, 0, 0.15);\n",
              "      filter: drop-shadow(0px 1px 2px rgba(0, 0, 0, 0.3));\n",
              "      fill: #FFFFFF;\n",
              "    }\n",
              "  </style>\n",
              "\n",
              "      <script>\n",
              "        const buttonEl =\n",
              "          document.querySelector('#df-59f6eac9-3243-4f6e-9f16-3b17e62b44a2 button.colab-df-convert');\n",
              "        buttonEl.style.display =\n",
              "          google.colab.kernel.accessAllowed ? 'block' : 'none';\n",
              "\n",
              "        async function convertToInteractive(key) {\n",
              "          const element = document.querySelector('#df-59f6eac9-3243-4f6e-9f16-3b17e62b44a2');\n",
              "          const dataTable =\n",
              "            await google.colab.kernel.invokeFunction('convertToInteractive',\n",
              "                                                     [key], {});\n",
              "          if (!dataTable) return;\n",
              "\n",
              "          const docLinkHtml = 'Like what you see? Visit the ' +\n",
              "            '<a target=\"_blank\" href=https://colab.research.google.com/notebooks/data_table.ipynb>data table notebook</a>'\n",
              "            + ' to learn more about interactive tables.';\n",
              "          element.innerHTML = '';\n",
              "          dataTable['output_type'] = 'display_data';\n",
              "          await google.colab.output.renderOutput(dataTable, element);\n",
              "          const docLink = document.createElement('div');\n",
              "          docLink.innerHTML = docLinkHtml;\n",
              "          element.appendChild(docLink);\n",
              "        }\n",
              "      </script>\n",
              "    </div>\n",
              "  </div>\n",
              "  "
            ],
            "text/plain": [
              "               open          high           low         close        volume\n",
              "count  86400.000000  86400.000000  86400.000000  86400.000000  86400.000000\n",
              "mean   43588.812162  43613.518337  43564.182355  43588.761266     27.016076\n",
              "std     4619.579177   4618.216955   4620.461916   4619.547082     42.795847\n",
              "min    33050.110000  33139.860000  32917.170000  33056.980000      0.727330\n",
              "25%    40732.120000  40771.740000  40690.477500  40732.112500      9.604860\n",
              "50%    43113.170000  43131.775000  43092.845000  43113.275000     15.938165\n",
              "75%    47397.890000  47424.912500  47372.550000  47397.890000     28.642575\n",
              "max    51956.660000  52088.000000  51927.880000  51956.650000   1541.853250"
            ]
          },
          "metadata": {},
          "execution_count": 12
        }
      ]
    },
    {
      "cell_type": "code",
      "metadata": {
        "id": "kKcJoD776VRY"
      },
      "source": [
        "#covert datatime column from object dtype to datetime dtype\n",
        "df[\"dateTime\"] = df.dateTime.astype('datetime64[ns]')"
      ],
      "execution_count": 13,
      "outputs": []
    },
    {
      "cell_type": "code",
      "source": [
        "df = df.rename({'close': 'price'}, axis='columns')"
      ],
      "metadata": {
        "id": "5f-qJ4OB8eZp"
      },
      "execution_count": 14,
      "outputs": []
    },
    {
      "cell_type": "code",
      "metadata": {
        "colab": {
          "base_uri": "https://localhost:8080/"
        },
        "id": "GCE5Z5yu7w24",
        "outputId": "72c0e978-870e-4c41-b142-6e5857775fc2"
      },
      "source": [
        "df.info()"
      ],
      "execution_count": 15,
      "outputs": [
        {
          "output_type": "stream",
          "name": "stdout",
          "text": [
            "<class 'pandas.core.frame.DataFrame'>\n",
            "RangeIndex: 86400 entries, 0 to 86399\n",
            "Data columns (total 6 columns):\n",
            " #   Column    Non-Null Count  Dtype         \n",
            "---  ------    --------------  -----         \n",
            " 0   dateTime  86400 non-null  datetime64[ns]\n",
            " 1   open      86400 non-null  float64       \n",
            " 2   high      86400 non-null  float64       \n",
            " 3   low       86400 non-null  float64       \n",
            " 4   price     86400 non-null  float64       \n",
            " 5   volume    86400 non-null  float64       \n",
            "dtypes: datetime64[ns](1), float64(5)\n",
            "memory usage: 4.0 MB\n"
          ]
        }
      ]
    },
    {
      "cell_type": "code",
      "source": [
        "# copy by value\n",
        "df2 = df.copy()"
      ],
      "metadata": {
        "id": "NaLFxVP_0yLr"
      },
      "execution_count": 16,
      "outputs": []
    },
    {
      "cell_type": "code",
      "source": [
        "#Set time column as Index\n",
        "df.set_index('dateTime',inplace=True)"
      ],
      "metadata": {
        "id": "gPupeSr9-lbx"
      },
      "execution_count": 17,
      "outputs": []
    },
    {
      "cell_type": "code",
      "source": [
        "df.tail()"
      ],
      "metadata": {
        "colab": {
          "base_uri": "https://localhost:8080/",
          "height": 238
        },
        "id": "3XHEBaTI_Dp9",
        "outputId": "16826708-dee0-4170-9acd-54338b04e812"
      },
      "execution_count": 18,
      "outputs": [
        {
          "output_type": "execute_result",
          "data": {
            "text/html": [
              "\n",
              "  <div id=\"df-c8747b38-6c55-4f3d-bfa7-735f9292af94\">\n",
              "    <div class=\"colab-df-container\">\n",
              "      <div>\n",
              "<style scoped>\n",
              "    .dataframe tbody tr th:only-of-type {\n",
              "        vertical-align: middle;\n",
              "    }\n",
              "\n",
              "    .dataframe tbody tr th {\n",
              "        vertical-align: top;\n",
              "    }\n",
              "\n",
              "    .dataframe thead th {\n",
              "        text-align: right;\n",
              "    }\n",
              "</style>\n",
              "<table border=\"1\" class=\"dataframe\">\n",
              "  <thead>\n",
              "    <tr style=\"text-align: right;\">\n",
              "      <th></th>\n",
              "      <th>open</th>\n",
              "      <th>high</th>\n",
              "      <th>low</th>\n",
              "      <th>price</th>\n",
              "      <th>volume</th>\n",
              "    </tr>\n",
              "    <tr>\n",
              "      <th>dateTime</th>\n",
              "      <th></th>\n",
              "      <th></th>\n",
              "      <th></th>\n",
              "      <th></th>\n",
              "      <th></th>\n",
              "    </tr>\n",
              "  </thead>\n",
              "  <tbody>\n",
              "    <tr>\n",
              "      <th>2022-02-08 22:42:00</th>\n",
              "      <td>44058.01</td>\n",
              "      <td>44064.82</td>\n",
              "      <td>43993.49</td>\n",
              "      <td>43994.07</td>\n",
              "      <td>9.86785</td>\n",
              "    </tr>\n",
              "    <tr>\n",
              "      <th>2022-02-08 22:43:00</th>\n",
              "      <td>43994.07</td>\n",
              "      <td>44008.75</td>\n",
              "      <td>43992.12</td>\n",
              "      <td>44000.04</td>\n",
              "      <td>3.14917</td>\n",
              "    </tr>\n",
              "    <tr>\n",
              "      <th>2022-02-08 22:44:00</th>\n",
              "      <td>44000.04</td>\n",
              "      <td>44049.99</td>\n",
              "      <td>44000.04</td>\n",
              "      <td>44004.49</td>\n",
              "      <td>4.92256</td>\n",
              "    </tr>\n",
              "    <tr>\n",
              "      <th>2022-02-08 22:45:00</th>\n",
              "      <td>44004.49</td>\n",
              "      <td>44004.50</td>\n",
              "      <td>43979.00</td>\n",
              "      <td>43982.43</td>\n",
              "      <td>6.25533</td>\n",
              "    </tr>\n",
              "    <tr>\n",
              "      <th>2022-02-08 22:46:00</th>\n",
              "      <td>43986.13</td>\n",
              "      <td>44049.99</td>\n",
              "      <td>43979.83</td>\n",
              "      <td>44018.01</td>\n",
              "      <td>8.84105</td>\n",
              "    </tr>\n",
              "  </tbody>\n",
              "</table>\n",
              "</div>\n",
              "      <button class=\"colab-df-convert\" onclick=\"convertToInteractive('df-c8747b38-6c55-4f3d-bfa7-735f9292af94')\"\n",
              "              title=\"Convert this dataframe to an interactive table.\"\n",
              "              style=\"display:none;\">\n",
              "        \n",
              "  <svg xmlns=\"http://www.w3.org/2000/svg\" height=\"24px\"viewBox=\"0 0 24 24\"\n",
              "       width=\"24px\">\n",
              "    <path d=\"M0 0h24v24H0V0z\" fill=\"none\"/>\n",
              "    <path d=\"M18.56 5.44l.94 2.06.94-2.06 2.06-.94-2.06-.94-.94-2.06-.94 2.06-2.06.94zm-11 1L8.5 8.5l.94-2.06 2.06-.94-2.06-.94L8.5 2.5l-.94 2.06-2.06.94zm10 10l.94 2.06.94-2.06 2.06-.94-2.06-.94-.94-2.06-.94 2.06-2.06.94z\"/><path d=\"M17.41 7.96l-1.37-1.37c-.4-.4-.92-.59-1.43-.59-.52 0-1.04.2-1.43.59L10.3 9.45l-7.72 7.72c-.78.78-.78 2.05 0 2.83L4 21.41c.39.39.9.59 1.41.59.51 0 1.02-.2 1.41-.59l7.78-7.78 2.81-2.81c.8-.78.8-2.07 0-2.86zM5.41 20L4 18.59l7.72-7.72 1.47 1.35L5.41 20z\"/>\n",
              "  </svg>\n",
              "      </button>\n",
              "      \n",
              "  <style>\n",
              "    .colab-df-container {\n",
              "      display:flex;\n",
              "      flex-wrap:wrap;\n",
              "      gap: 12px;\n",
              "    }\n",
              "\n",
              "    .colab-df-convert {\n",
              "      background-color: #E8F0FE;\n",
              "      border: none;\n",
              "      border-radius: 50%;\n",
              "      cursor: pointer;\n",
              "      display: none;\n",
              "      fill: #1967D2;\n",
              "      height: 32px;\n",
              "      padding: 0 0 0 0;\n",
              "      width: 32px;\n",
              "    }\n",
              "\n",
              "    .colab-df-convert:hover {\n",
              "      background-color: #E2EBFA;\n",
              "      box-shadow: 0px 1px 2px rgba(60, 64, 67, 0.3), 0px 1px 3px 1px rgba(60, 64, 67, 0.15);\n",
              "      fill: #174EA6;\n",
              "    }\n",
              "\n",
              "    [theme=dark] .colab-df-convert {\n",
              "      background-color: #3B4455;\n",
              "      fill: #D2E3FC;\n",
              "    }\n",
              "\n",
              "    [theme=dark] .colab-df-convert:hover {\n",
              "      background-color: #434B5C;\n",
              "      box-shadow: 0px 1px 3px 1px rgba(0, 0, 0, 0.15);\n",
              "      filter: drop-shadow(0px 1px 2px rgba(0, 0, 0, 0.3));\n",
              "      fill: #FFFFFF;\n",
              "    }\n",
              "  </style>\n",
              "\n",
              "      <script>\n",
              "        const buttonEl =\n",
              "          document.querySelector('#df-c8747b38-6c55-4f3d-bfa7-735f9292af94 button.colab-df-convert');\n",
              "        buttonEl.style.display =\n",
              "          google.colab.kernel.accessAllowed ? 'block' : 'none';\n",
              "\n",
              "        async function convertToInteractive(key) {\n",
              "          const element = document.querySelector('#df-c8747b38-6c55-4f3d-bfa7-735f9292af94');\n",
              "          const dataTable =\n",
              "            await google.colab.kernel.invokeFunction('convertToInteractive',\n",
              "                                                     [key], {});\n",
              "          if (!dataTable) return;\n",
              "\n",
              "          const docLinkHtml = 'Like what you see? Visit the ' +\n",
              "            '<a target=\"_blank\" href=https://colab.research.google.com/notebooks/data_table.ipynb>data table notebook</a>'\n",
              "            + ' to learn more about interactive tables.';\n",
              "          element.innerHTML = '';\n",
              "          dataTable['output_type'] = 'display_data';\n",
              "          await google.colab.output.renderOutput(dataTable, element);\n",
              "          const docLink = document.createElement('div');\n",
              "          docLink.innerHTML = docLinkHtml;\n",
              "          element.appendChild(docLink);\n",
              "        }\n",
              "      </script>\n",
              "    </div>\n",
              "  </div>\n",
              "  "
            ],
            "text/plain": [
              "                         open      high       low     price   volume\n",
              "dateTime                                                            \n",
              "2022-02-08 22:42:00  44058.01  44064.82  43993.49  43994.07  9.86785\n",
              "2022-02-08 22:43:00  43994.07  44008.75  43992.12  44000.04  3.14917\n",
              "2022-02-08 22:44:00  44000.04  44049.99  44000.04  44004.49  4.92256\n",
              "2022-02-08 22:45:00  44004.49  44004.50  43979.00  43982.43  6.25533\n",
              "2022-02-08 22:46:00  43986.13  44049.99  43979.83  44018.01  8.84105"
            ]
          },
          "metadata": {},
          "execution_count": 18
        }
      ]
    },
    {
      "cell_type": "code",
      "source": [
        "#plot\n",
        "df['price'].plot(title = \"Bitcoin Weighted Price\",x = \"time\",y = \"price\",figsize=(20, 10))\n",
        "plt.show()"
      ],
      "metadata": {
        "colab": {
          "base_uri": "https://localhost:8080/",
          "height": 656
        },
        "id": "lCwjQHaY_tqa",
        "outputId": "7aa0e4ad-472f-4fc1-94aa-a5820d11d94d"
      },
      "execution_count": 19,
      "outputs": [
        {
          "output_type": "display_data",
          "data": {
            "image/png": "[encoded data removed]",
            "text/plain": [
              "<Figure size 1440x720 with 1 Axes>"
            ]
          },
          "metadata": {
            "needs_background": "light"
          }
        }
      ]
    },
    {
      "cell_type": "code",
      "source": [
        "#df['price'].rolling(60).mean().plot(figsize=(20, 10))"
      ],
      "metadata": {
        "id": "Nu3K_I05DlgP"
      },
      "execution_count": 20,
      "outputs": []
    },
    {
      "cell_type": "code",
      "metadata": {
        "id": "k_f0KoFB79O_"
      },
      "source": [
        "#df.set_index(\"dateTime\").close.plot(figsize=(24,7), title=\"Bitcoin Weighted Price\")"
      ],
      "execution_count": 21,
      "outputs": []
    },
    {
      "cell_type": "markdown",
      "metadata": {
        "id": "u5MKAJNJ2D5C"
      },
      "source": [
        "## **Time series**"
      ]
    },
    {
      "cell_type": "code",
      "metadata": {
        "colab": {
          "base_uri": "https://localhost:8080/",
          "height": 715
        },
        "id": "aM-PSPiM2CEU",
        "outputId": "dd9f1177-4f28-4467-c5fc-f890c2231840"
      },
      "source": [
        "#Auto-correlation \n",
        "plt.figure(figsize=(20,15))\n",
        "plt.suptitle('Lag Plots', fontsize=22)\n",
        "\n",
        "plt.subplot(3,3,1)\n",
        "pd.plotting.lag_plot(df['price'], lag=1) #minute lag\n",
        "plt.title('1-Minute Lag')\n",
        "\n",
        "plt.subplot(3,3,2)\n",
        "pd.plotting.lag_plot(df['price'], lag=60) #hourley lag\n",
        "plt.title('1-Hour Lag')\n",
        "\n",
        "plt.subplot(3,3,3)\n",
        "pd.plotting.lag_plot(df['price'], lag=1440) #Daily lag\n",
        "plt.title('Daily Lag')\n",
        "\n",
        "plt.subplot(3,3,4)\n",
        "pd.plotting.lag_plot(df['price'], lag=10080) #weekly lag\n",
        "plt.title('Weekly Lag')"
      ],
      "execution_count": 22,
      "outputs": [
        {
          "output_type": "execute_result",
          "data": {
            "text/plain": [
              "Text(0.5, 1.0, 'Weekly Lag')"
            ]
          },
          "metadata": {},
          "execution_count": 22
        },
        {
          "output_type": "display_data",
          "data": {
            "image/png": "[encoded data removed]",
            "text/plain": [
              "<Figure size 1440x1080 with 4 Axes>"
            ]
          },
          "metadata": {
            "needs_background": "light"
          }
        }
      ]
    },
    {
      "cell_type": "code",
      "source": [
        "df2"
      ],
      "metadata": {
        "colab": {
          "base_uri": "https://localhost:8080/",
          "height": 424
        },
        "id": "wWB0OzvT1S9e",
        "outputId": "fcd530af-1c04-4800-ff06-4ed8b41efd1f"
      },
      "execution_count": 23,
      "outputs": [
        {
          "output_type": "execute_result",
          "data": {
            "text/html": [
              "\n",
              "  <div id=\"df-4478870d-64b8-4106-ac43-b46b1d298342\">\n",
              "    <div class=\"colab-df-container\">\n",
              "      <div>\n",
              "<style scoped>\n",
              "    .dataframe tbody tr th:only-of-type {\n",
              "        vertical-align: middle;\n",
              "    }\n",
              "\n",
              "    .dataframe tbody tr th {\n",
              "        vertical-align: top;\n",
              "    }\n",
              "\n",
              "    .dataframe thead th {\n",
              "        text-align: right;\n",
              "    }\n",
              "</style>\n",
              "<table border=\"1\" class=\"dataframe\">\n",
              "  <thead>\n",
              "    <tr style=\"text-align: right;\">\n",
              "      <th></th>\n",
              "      <th>dateTime</th>\n",
              "      <th>open</th>\n",
              "      <th>high</th>\n",
              "      <th>low</th>\n",
              "      <th>price</th>\n",
              "      <th>volume</th>\n",
              "    </tr>\n",
              "  </thead>\n",
              "  <tbody>\n",
              "    <tr>\n",
              "      <th>0</th>\n",
              "      <td>2021-12-10 22:47:00</td>\n",
              "      <td>47888.82</td>\n",
              "      <td>47893.58</td>\n",
              "      <td>47862.67</td>\n",
              "      <td>47865.55</td>\n",
              "      <td>13.42968</td>\n",
              "    </tr>\n",
              "    <tr>\n",
              "      <th>1</th>\n",
              "      <td>2021-12-10 22:48:00</td>\n",
              "      <td>47865.55</td>\n",
              "      <td>47884.55</td>\n",
              "      <td>47865.54</td>\n",
              "      <td>47874.84</td>\n",
              "      <td>13.81605</td>\n",
              "    </tr>\n",
              "    <tr>\n",
              "      <th>2</th>\n",
              "      <td>2021-12-10 22:49:00</td>\n",
              "      <td>47874.84</td>\n",
              "      <td>47886.77</td>\n",
              "      <td>47873.05</td>\n",
              "      <td>47885.98</td>\n",
              "      <td>6.03346</td>\n",
              "    </tr>\n",
              "    <tr>\n",
              "      <th>3</th>\n",
              "      <td>2021-12-10 22:50:00</td>\n",
              "      <td>47885.99</td>\n",
              "      <td>47885.99</td>\n",
              "      <td>47640.03</td>\n",
              "      <td>47650.64</td>\n",
              "      <td>59.94128</td>\n",
              "    </tr>\n",
              "    <tr>\n",
              "      <th>4</th>\n",
              "      <td>2021-12-10 22:51:00</td>\n",
              "      <td>47663.74</td>\n",
              "      <td>47663.74</td>\n",
              "      <td>47454.55</td>\n",
              "      <td>47528.60</td>\n",
              "      <td>93.55243</td>\n",
              "    </tr>\n",
              "    <tr>\n",
              "      <th>...</th>\n",
              "      <td>...</td>\n",
              "      <td>...</td>\n",
              "      <td>...</td>\n",
              "      <td>...</td>\n",
              "      <td>...</td>\n",
              "      <td>...</td>\n",
              "    </tr>\n",
              "    <tr>\n",
              "      <th>86395</th>\n",
              "      <td>2022-02-08 22:42:00</td>\n",
              "      <td>44058.01</td>\n",
              "      <td>44064.82</td>\n",
              "      <td>43993.49</td>\n",
              "      <td>43994.07</td>\n",
              "      <td>9.86785</td>\n",
              "    </tr>\n",
              "    <tr>\n",
              "      <th>86396</th>\n",
              "      <td>2022-02-08 22:43:00</td>\n",
              "      <td>43994.07</td>\n",
              "      <td>44008.75</td>\n",
              "      <td>43992.12</td>\n",
              "      <td>44000.04</td>\n",
              "      <td>3.14917</td>\n",
              "    </tr>\n",
              "    <tr>\n",
              "      <th>86397</th>\n",
              "      <td>2022-02-08 22:44:00</td>\n",
              "      <td>44000.04</td>\n",
              "      <td>44049.99</td>\n",
              "      <td>44000.04</td>\n",
              "      <td>44004.49</td>\n",
              "      <td>4.92256</td>\n",
              "    </tr>\n",
              "    <tr>\n",
              "      <th>86398</th>\n",
              "      <td>2022-02-08 22:45:00</td>\n",
              "      <td>44004.49</td>\n",
              "      <td>44004.50</td>\n",
              "      <td>43979.00</td>\n",
              "      <td>43982.43</td>\n",
              "      <td>6.25533</td>\n",
              "    </tr>\n",
              "    <tr>\n",
              "      <th>86399</th>\n",
              "      <td>2022-02-08 22:46:00</td>\n",
              "      <td>43986.13</td>\n",
              "      <td>44049.99</td>\n",
              "      <td>43979.83</td>\n",
              "      <td>44018.01</td>\n",
              "      <td>8.84105</td>\n",
              "    </tr>\n",
              "  </tbody>\n",
              "</table>\n",
              "<p>86400 rows × 6 columns</p>\n",
              "</div>\n",
              "      <button class=\"colab-df-convert\" onclick=\"convertToInteractive('df-4478870d-64b8-4106-ac43-b46b1d298342')\"\n",
              "              title=\"Convert this dataframe to an interactive table.\"\n",
              "              style=\"display:none;\">\n",
              "        \n",
              "  <svg xmlns=\"http://www.w3.org/2000/svg\" height=\"24px\"viewBox=\"0 0 24 24\"\n",
              "       width=\"24px\">\n",
              "    <path d=\"M0 0h24v24H0V0z\" fill=\"none\"/>\n",
              "    <path d=\"M18.56 5.44l.94 2.06.94-2.06 2.06-.94-2.06-.94-.94-2.06-.94 2.06-2.06.94zm-11 1L8.5 8.5l.94-2.06 2.06-.94-2.06-.94L8.5 2.5l-.94 2.06-2.06.94zm10 10l.94 2.06.94-2.06 2.06-.94-2.06-.94-.94-2.06-.94 2.06-2.06.94z\"/><path d=\"M17.41 7.96l-1.37-1.37c-.4-.4-.92-.59-1.43-.59-.52 0-1.04.2-1.43.59L10.3 9.45l-7.72 7.72c-.78.78-.78 2.05 0 2.83L4 21.41c.39.39.9.59 1.41.59.51 0 1.02-.2 1.41-.59l7.78-7.78 2.81-2.81c.8-.78.8-2.07 0-2.86zM5.41 20L4 18.59l7.72-7.72 1.47 1.35L5.41 20z\"/>\n",
              "  </svg>\n",
              "      </button>\n",
              "      \n",
              "  <style>\n",
              "    .colab-df-container {\n",
              "      display:flex;\n",
              "      flex-wrap:wrap;\n",
              "      gap: 12px;\n",
              "    }\n",
              "\n",
              "    .colab-df-convert {\n",
              "      background-color: #E8F0FE;\n",
              "      border: none;\n",
              "      border-radius: 50%;\n",
              "      cursor: pointer;\n",
              "      display: none;\n",
              "      fill: #1967D2;\n",
              "      height: 32px;\n",
              "      padding: 0 0 0 0;\n",
              "      width: 32px;\n",
              "    }\n",
              "\n",
              "    .colab-df-convert:hover {\n",
              "      background-color: #E2EBFA;\n",
              "      box-shadow: 0px 1px 2px rgba(60, 64, 67, 0.3), 0px 1px 3px 1px rgba(60, 64, 67, 0.15);\n",
              "      fill: #174EA6;\n",
              "    }\n",
              "\n",
              "    [theme=dark] .colab-df-convert {\n",
              "      background-color: #3B4455;\n",
              "      fill: #D2E3FC;\n",
              "    }\n",
              "\n",
              "    [theme=dark] .colab-df-convert:hover {\n",
              "      background-color: #434B5C;\n",
              "      box-shadow: 0px 1px 3px 1px rgba(0, 0, 0, 0.15);\n",
              "      filter: drop-shadow(0px 1px 2px rgba(0, 0, 0, 0.3));\n",
              "      fill: #FFFFFF;\n",
              "    }\n",
              "  </style>\n",
              "\n",
              "      <script>\n",
              "        const buttonEl =\n",
              "          document.querySelector('#df-4478870d-64b8-4106-ac43-b46b1d298342 button.colab-df-convert');\n",
              "        buttonEl.style.display =\n",
              "          google.colab.kernel.accessAllowed ? 'block' : 'none';\n",
              "\n",
              "        async function convertToInteractive(key) {\n",
              "          const element = document.querySelector('#df-4478870d-64b8-4106-ac43-b46b1d298342');\n",
              "          const dataTable =\n",
              "            await google.colab.kernel.invokeFunction('convertToInteractive',\n",
              "                                                     [key], {});\n",
              "          if (!dataTable) return;\n",
              "\n",
              "          const docLinkHtml = 'Like what you see? Visit the ' +\n",
              "            '<a target=\"_blank\" href=https://colab.research.google.com/notebooks/data_table.ipynb>data table notebook</a>'\n",
              "            + ' to learn more about interactive tables.';\n",
              "          element.innerHTML = '';\n",
              "          dataTable['output_type'] = 'display_data';\n",
              "          await google.colab.output.renderOutput(dataTable, element);\n",
              "          const docLink = document.createElement('div');\n",
              "          docLink.innerHTML = docLinkHtml;\n",
              "          element.appendChild(docLink);\n",
              "        }\n",
              "      </script>\n",
              "    </div>\n",
              "  </div>\n",
              "  "
            ],
            "text/plain": [
              "                 dateTime      open      high       low     price    volume\n",
              "0     2021-12-10 22:47:00  47888.82  47893.58  47862.67  47865.55  13.42968\n",
              "1     2021-12-10 22:48:00  47865.55  47884.55  47865.54  47874.84  13.81605\n",
              "2     2021-12-10 22:49:00  47874.84  47886.77  47873.05  47885.98   6.03346\n",
              "3     2021-12-10 22:50:00  47885.99  47885.99  47640.03  47650.64  59.94128\n",
              "4     2021-12-10 22:51:00  47663.74  47663.74  47454.55  47528.60  93.55243\n",
              "...                   ...       ...       ...       ...       ...       ...\n",
              "86395 2022-02-08 22:42:00  44058.01  44064.82  43993.49  43994.07   9.86785\n",
              "86396 2022-02-08 22:43:00  43994.07  44008.75  43992.12  44000.04   3.14917\n",
              "86397 2022-02-08 22:44:00  44000.04  44049.99  44000.04  44004.49   4.92256\n",
              "86398 2022-02-08 22:45:00  44004.49  44004.50  43979.00  43982.43   6.25533\n",
              "86399 2022-02-08 22:46:00  43986.13  44049.99  43979.83  44018.01   8.84105\n",
              "\n",
              "[86400 rows x 6 columns]"
            ]
          },
          "metadata": {},
          "execution_count": 23
        }
      ]
    },
    {
      "cell_type": "code",
      "metadata": {
        "colab": {
          "base_uri": "https://localhost:8080/",
          "height": 359
        },
        "id": "KB5RuLS72CJX",
        "outputId": "33f848f3-c309-4a51-b96a-918b29d2f9b3"
      },
      "source": [
        "df['date'] = pd.to_datetime(df.index,unit='H').date\n",
        "display(df.head())\n",
        "group = df.groupby('date')\n",
        "new_df = group['price'].mean()\n",
        "display(new_df.head())"
      ],
      "execution_count": 24,
      "outputs": [
        {
          "output_type": "display_data",
          "data": {
            "text/html": [
              "\n",
              "  <div id=\"df-dd71db21-900e-47af-a954-d520a7d7f60a\">\n",
              "    <div class=\"colab-df-container\">\n",
              "      <div>\n",
              "<style scoped>\n",
              "    .dataframe tbody tr th:only-of-type {\n",
              "        vertical-align: middle;\n",
              "    }\n",
              "\n",
              "    .dataframe tbody tr th {\n",
              "        vertical-align: top;\n",
              "    }\n",
              "\n",
              "    .dataframe thead th {\n",
              "        text-align: right;\n",
              "    }\n",
              "</style>\n",
              "<table border=\"1\" class=\"dataframe\">\n",
              "  <thead>\n",
              "    <tr style=\"text-align: right;\">\n",
              "      <th></th>\n",
              "      <th>open</th>\n",
              "      <th>high</th>\n",
              "      <th>low</th>\n",
              "      <th>price</th>\n",
              "      <th>volume</th>\n",
              "      <th>date</th>\n",
              "    </tr>\n",
              "    <tr>\n",
              "      <th>dateTime</th>\n",
              "      <th></th>\n",
              "      <th></th>\n",
              "      <th></th>\n",
              "      <th></th>\n",
              "      <th></th>\n",
              "      <th></th>\n",
              "    </tr>\n",
              "  </thead>\n",
              "  <tbody>\n",
              "    <tr>\n",
              "      <th>2021-12-10 22:47:00</th>\n",
              "      <td>47888.82</td>\n",
              "      <td>47893.58</td>\n",
              "      <td>47862.67</td>\n",
              "      <td>47865.55</td>\n",
              "      <td>13.42968</td>\n",
              "      <td>2021-12-10</td>\n",
              "    </tr>\n",
              "    <tr>\n",
              "      <th>2021-12-10 22:48:00</th>\n",
              "      <td>47865.55</td>\n",
              "      <td>47884.55</td>\n",
              "      <td>47865.54</td>\n",
              "      <td>47874.84</td>\n",
              "      <td>13.81605</td>\n",
              "      <td>2021-12-10</td>\n",
              "    </tr>\n",
              "    <tr>\n",
              "      <th>2021-12-10 22:49:00</th>\n",
              "      <td>47874.84</td>\n",
              "      <td>47886.77</td>\n",
              "      <td>47873.05</td>\n",
              "      <td>47885.98</td>\n",
              "      <td>6.03346</td>\n",
              "      <td>2021-12-10</td>\n",
              "    </tr>\n",
              "    <tr>\n",
              "      <th>2021-12-10 22:50:00</th>\n",
              "      <td>47885.99</td>\n",
              "      <td>47885.99</td>\n",
              "      <td>47640.03</td>\n",
              "      <td>47650.64</td>\n",
              "      <td>59.94128</td>\n",
              "      <td>2021-12-10</td>\n",
              "    </tr>\n",
              "    <tr>\n",
              "      <th>2021-12-10 22:51:00</th>\n",
              "      <td>47663.74</td>\n",
              "      <td>47663.74</td>\n",
              "      <td>47454.55</td>\n",
              "      <td>47528.60</td>\n",
              "      <td>93.55243</td>\n",
              "      <td>2021-12-10</td>\n",
              "    </tr>\n",
              "  </tbody>\n",
              "</table>\n",
              "</div>\n",
              "      <button class=\"colab-df-convert\" onclick=\"convertToInteractive('df-dd71db21-900e-47af-a954-d520a7d7f60a')\"\n",
              "              title=\"Convert this dataframe to an interactive table.\"\n",
              "              style=\"display:none;\">\n",
              "        \n",
              "  <svg xmlns=\"http://www.w3.org/2000/svg\" height=\"24px\"viewBox=\"0 0 24 24\"\n",
              "       width=\"24px\">\n",
              "    <path d=\"M0 0h24v24H0V0z\" fill=\"none\"/>\n",
              "    <path d=\"M18.56 5.44l.94 2.06.94-2.06 2.06-.94-2.06-.94-.94-2.06-.94 2.06-2.06.94zm-11 1L8.5 8.5l.94-2.06 2.06-.94-2.06-.94L8.5 2.5l-.94 2.06-2.06.94zm10 10l.94 2.06.94-2.06 2.06-.94-2.06-.94-.94-2.06-.94 2.06-2.06.94z\"/><path d=\"M17.41 7.96l-1.37-1.37c-.4-.4-.92-.59-1.43-.59-.52 0-1.04.2-1.43.59L10.3 9.45l-7.72 7.72c-.78.78-.78 2.05 0 2.83L4 21.41c.39.39.9.59 1.41.59.51 0 1.02-.2 1.41-.59l7.78-7.78 2.81-2.81c.8-.78.8-2.07 0-2.86zM5.41 20L4 18.59l7.72-7.72 1.47 1.35L5.41 20z\"/>\n",
              "  </svg>\n",
              "      </button>\n",
              "      \n",
              "  <style>\n",
              "    .colab-df-container {\n",
              "      display:flex;\n",
              "      flex-wrap:wrap;\n",
              "      gap: 12px;\n",
              "    }\n",
              "\n",
              "    .colab-df-convert {\n",
              "      background-color: #E8F0FE;\n",
              "      border: none;\n",
              "      border-radius: 50%;\n",
              "      cursor: pointer;\n",
              "      display: none;\n",
              "      fill: #1967D2;\n",
              "      height: 32px;\n",
              "      padding: 0 0 0 0;\n",
              "      width: 32px;\n",
              "    }\n",
              "\n",
              "    .colab-df-convert:hover {\n",
              "      background-color: #E2EBFA;\n",
              "      box-shadow: 0px 1px 2px rgba(60, 64, 67, 0.3), 0px 1px 3px 1px rgba(60, 64, 67, 0.15);\n",
              "      fill: #174EA6;\n",
              "    }\n",
              "\n",
              "    [theme=dark] .colab-df-convert {\n",
              "      background-color: #3B4455;\n",
              "      fill: #D2E3FC;\n",
              "    }\n",
              "\n",
              "    [theme=dark] .colab-df-convert:hover {\n",
              "      background-color: #434B5C;\n",
              "      box-shadow: 0px 1px 3px 1px rgba(0, 0, 0, 0.15);\n",
              "      filter: drop-shadow(0px 1px 2px rgba(0, 0, 0, 0.3));\n",
              "      fill: #FFFFFF;\n",
              "    }\n",
              "  </style>\n",
              "\n",
              "      <script>\n",
              "        const buttonEl =\n",
              "          document.querySelector('#df-dd71db21-900e-47af-a954-d520a7d7f60a button.colab-df-convert');\n",
              "        buttonEl.style.display =\n",
              "          google.colab.kernel.accessAllowed ? 'block' : 'none';\n",
              "\n",
              "        async function convertToInteractive(key) {\n",
              "          const element = document.querySelector('#df-dd71db21-900e-47af-a954-d520a7d7f60a');\n",
              "          const dataTable =\n",
              "            await google.colab.kernel.invokeFunction('convertToInteractive',\n",
              "                                                     [key], {});\n",
              "          if (!dataTable) return;\n",
              "\n",
              "          const docLinkHtml = 'Like what you see? Visit the ' +\n",
              "            '<a target=\"_blank\" href=https://colab.research.google.com/notebooks/data_table.ipynb>data table notebook</a>'\n",
              "            + ' to learn more about interactive tables.';\n",
              "          element.innerHTML = '';\n",
              "          dataTable['output_type'] = 'display_data';\n",
              "          await google.colab.output.renderOutput(dataTable, element);\n",
              "          const docLink = document.createElement('div');\n",
              "          docLink.innerHTML = docLinkHtml;\n",
              "          element.appendChild(docLink);\n",
              "        }\n",
              "      </script>\n",
              "    </div>\n",
              "  </div>\n",
              "  "
            ],
            "text/plain": [
              "                         open      high  ...    volume        date\n",
              "dateTime                                 ...                      \n",
              "2021-12-10 22:47:00  47888.82  47893.58  ...  13.42968  2021-12-10\n",
              "2021-12-10 22:48:00  47865.55  47884.55  ...  13.81605  2021-12-10\n",
              "2021-12-10 22:49:00  47874.84  47886.77  ...   6.03346  2021-12-10\n",
              "2021-12-10 22:50:00  47885.99  47885.99  ...  59.94128  2021-12-10\n",
              "2021-12-10 22:51:00  47663.74  47663.74  ...  93.55243  2021-12-10\n",
              "\n",
              "[5 rows x 6 columns]"
            ]
          },
          "metadata": {}
        },
        {
          "output_type": "display_data",
          "data": {
            "text/plain": [
              "date\n",
              "2021-12-10    47529.232192\n",
              "2021-12-11    48454.469840\n",
              "2021-12-12    49557.327361\n",
              "2021-12-13    48182.316597\n",
              "2021-12-14    47187.779042\n",
              "Name: price, dtype: float64"
            ]
          },
          "metadata": {}
        }
      ]
    },
    {
      "cell_type": "code",
      "source": [
        "new_df.shape"
      ],
      "metadata": {
        "colab": {
          "base_uri": "https://localhost:8080/"
        },
        "id": "wsKPWv2z_XDW",
        "outputId": "ac9987b1-fa96-4c10-dda1-684ec93ef854"
      },
      "execution_count": 25,
      "outputs": [
        {
          "output_type": "execute_result",
          "data": {
            "text/plain": [
              "(61,)"
            ]
          },
          "metadata": {},
          "execution_count": 25
        }
      ]
    },
    {
      "cell_type": "markdown",
      "metadata": {
        "id": "VK3Pw6zWSJMb"
      },
      "source": [
        "## Data Split"
      ]
    },
    {
      "cell_type": "code",
      "metadata": {
        "id": "T4yvM_zy2CMy"
      },
      "source": [
        "# Train data from 1 to Total data length - 50 days \n",
        "train = new_df[:50].values\n",
        "# Test data : the last 50 days\n",
        "test = new_df[50:].values"
      ],
      "execution_count": 26,
      "outputs": []
    },
    {
      "cell_type": "code",
      "metadata": {
        "id": "74wKvepR2CPi",
        "colab": {
          "base_uri": "https://localhost:8080/"
        },
        "outputId": "4d800337-ee90-431b-d039-909e1bd8618a"
      },
      "source": [
        "print(train.shape,test.shape)"
      ],
      "execution_count": 27,
      "outputs": [
        {
          "output_type": "stream",
          "name": "stdout",
          "text": [
            "(50,) (11,)\n"
          ]
        }
      ]
    },
    {
      "cell_type": "code",
      "source": [
        "test"
      ],
      "metadata": {
        "colab": {
          "base_uri": "https://localhost:8080/"
        },
        "id": "rtTRMpGhB0C9",
        "outputId": "9c55619c-25b2-483d-ec4e-1e093fb7bc6c"
      },
      "execution_count": 28,
      "outputs": [
        {
          "output_type": "execute_result",
          "data": {
            "text/plain": [
              "array([37808.81938889, 37939.88866667, 37551.46377778, 38549.89975   ,\n",
              "       38033.70225694, 36796.28565278, 38655.36913194, 41507.13375694,\n",
              "       41591.23949306, 43092.74283333, 43828.77239941])"
            ]
          },
          "metadata": {},
          "execution_count": 28
        }
      ]
    },
    {
      "cell_type": "markdown",
      "source": [
        "## Data Scaling"
      ],
      "metadata": {
        "id": "WFkU1-qSB2cQ"
      }
    },
    {
      "cell_type": "markdown",
      "source": [
        "Standard Scaler for Data"
      ],
      "metadata": {
        "id": "wYsx8gBHEbsM"
      }
    },
    {
      "cell_type": "markdown",
      "source": [
        "we first need to split the data into training and test set before applying normalization over data.\n",
        "\n",
        "we should perform feature normalisation over the training data. Then perform normalisation on testing instances as well, but this time using the mean and variance of training explanatory variables. In this way, we can test and evaluate whether our model can generalize well to new, unseen data points"
      ],
      "metadata": {
        "id": "e4vmRAYa994M"
      }
    },
    {
      "cell_type": "code",
      "source": [
        ""
      ],
      "metadata": {
        "id": "hlIhNCs6Bgl4"
      },
      "execution_count": 28,
      "outputs": []
    },
    {
      "cell_type": "code",
      "source": [
        "train = train.reshape(-1,1)\n",
        "test = test.reshape(-1,1)"
      ],
      "metadata": {
        "id": "ORtcd_2jLqjf"
      },
      "execution_count": 29,
      "outputs": []
    },
    {
      "cell_type": "code",
      "source": [
        "scaler = StandardScaler(copy=True, with_mean=True, with_std=True)\n",
        "#scaled_train  = scaler.fit_transform(train)\n",
        "\n",
        "scaler = scaler.fit(train)\n",
        "scaled_train = scaler.transform(train)\n",
        "\n",
        "#scaler_test  = StandardScaler(copy=True, with_mean=True, with_std=True)\n",
        "scaled_test   = scaler.transform(test)\n"
      ],
      "metadata": {
        "id": "mGCHKdD0Bgj1"
      },
      "execution_count": 30,
      "outputs": []
    },
    {
      "cell_type": "code",
      "source": [
        "scaled_test"
      ],
      "metadata": {
        "colab": {
          "base_uri": "https://localhost:8080/"
        },
        "id": "AvMpwAghOcUS",
        "outputId": "cccbef7a-8707-4ec6-cb4a-b3e217966efe"
      },
      "execution_count": 31,
      "outputs": [
        {
          "output_type": "execute_result",
          "data": {
            "text/plain": [
              "array([[-1.51006271],\n",
              "       [-1.48068607],\n",
              "       [-1.567744  ],\n",
              "       [-1.34396386],\n",
              "       [-1.45965956],\n",
              "       [-1.7370026 ],\n",
              "       [-1.32032494],\n",
              "       [-0.68115697],\n",
              "       [-0.66230629],\n",
              "       [-0.32577331],\n",
              "       [-0.1608065 ]])"
            ]
          },
          "metadata": {},
          "execution_count": 31
        }
      ]
    },
    {
      "cell_type": "markdown",
      "source": [
        "## Dataset Generator for LSTM"
      ],
      "metadata": {
        "id": "HlCnxFKaNIHr"
      }
    },
    {
      "cell_type": "markdown",
      "source": [
        "The input will be -> 1, 2, 3, 4, 5, 6, 7 \n",
        "\n",
        "And the output will be -> 8 \n",
        "-------\n",
        "The input will be -> 2, 3, 4, 5, 6, 7, 8 \n",
        "\n",
        "And the output will be -> 9\n",
        "-------\n",
        "..."
      ],
      "metadata": {
        "id": "v3Z5qnAQUdRS"
      }
    },
    {
      "cell_type": "code",
      "source": [
        "def data_generator(data,lookback  = 7):\n",
        "  x = [data[i:(i + lookback), 0] for i in range(len(data)-lookback)]\n",
        "  y = [data[i+lookback, 0] for i in range(len(data)-lookback)]\n",
        "  return np.array(x), np.array(y)"
      ],
      "metadata": {
        "id": "PMnRtxcuBgqr"
      },
      "execution_count": 35,
      "outputs": []
    },
    {
      "cell_type": "code",
      "source": [
        "trainX, trainY = data_generator(scaled_train)\n",
        "\n",
        "testX, testY = data_generator(scaled_test)"
      ],
      "metadata": {
        "id": "7SHpwOVaPkaI"
      },
      "execution_count": 36,
      "outputs": []
    },
    {
      "cell_type": "code",
      "source": [
        "print(\"trainX: \", trainX.shape)\n",
        "print(\"trainY: \", trainY.shape)\n",
        "print(\"testX: \", testX.shape)\n",
        "print(\"testY\", testY.shape)"
      ],
      "metadata": {
        "colab": {
          "base_uri": "https://localhost:8080/"
        },
        "id": "aTGpPbK0RCBg",
        "outputId": "3ad52083-d942-4b6b-946c-50d22e556cda"
      },
      "execution_count": 37,
      "outputs": [
        {
          "output_type": "stream",
          "name": "stdout",
          "text": [
            "trainX:  (43, 7)\n",
            "trainY:  (43,)\n",
            "testX:  (4, 7)\n",
            "testY (4,)\n"
          ]
        }
      ]
    },
    {
      "cell_type": "markdown",
      "source": [
        "For LSTM we need to reshape input to be a 3D Tensor of samples, time steps, features.\n",
        "\n",
        "The number of time steps is equal to the number of LSTM cells"
      ],
      "metadata": {
        "id": "hmnKOuid5Q6b"
      }
    },
    {
      "cell_type": "code",
      "source": [
        "# We use the reshape() function on the NumPy array to reshape the one-dimensional array into a three-dimensional array.\n",
        "def data_reshape(data):\n",
        "  return np.reshape(data, (data.shape[0], data.shape[1], 1))"
      ],
      "metadata": {
        "id": "S8JWwGTmYODi"
      },
      "execution_count": 38,
      "outputs": []
    },
    {
      "cell_type": "code",
      "source": [
        "trainX = data_reshape(trainX)\n",
        "testX = data_reshape(testX)\n",
        "\n",
        "print(\"Shape of trainX: \", trainX.shape)\n",
        "print(\"Shape of testX: \", testX.shape)"
      ],
      "metadata": {
        "colab": {
          "base_uri": "https://localhost:8080/"
        },
        "id": "tSra9YuNYupj",
        "outputId": "cb138ede-14cf-42fd-d12e-157a8187aa75"
      },
      "execution_count": 39,
      "outputs": [
        {
          "output_type": "stream",
          "name": "stdout",
          "text": [
            "Shape of trainX:  (43, 7, 1)\n",
            "Shape of testX:  (4, 7, 1)\n"
          ]
        }
      ]
    },
    {
      "cell_type": "markdown",
      "source": [
        "## LSTM Model"
      ],
      "metadata": {
        "id": "wYyoZ9jqWLQE"
      }
    },
    {
      "cell_type": "markdown",
      "source": [
        "to convert an input sequence into an output sequence we use **return_sequences=True**."
      ],
      "metadata": {
        "id": "A-YDSL9eE5OH"
      }
    },
    {
      "cell_type": "code",
      "source": [
        "# the input to every LSTM layer must be three-dimensional.\n",
        "model = Sequential()\n",
        "# input_shape is supposed to be (timesteps, n_features).\n",
        "model.add(LSTM(units = 128, activation = 'relu',return_sequences=True, input_shape = (trainX.shape[1], trainX.shape[2])))\n",
        "model.add(Dropout(0.2))\n",
        "# Adding a second LSTM layer and some Dropout regularisation\n",
        "model.add(LSTM(units = 64, input_shape = (trainX.shape[1], trainX.shape[2])))\n",
        "model.add(Dropout(0.2))\n",
        "\n",
        "\n",
        "\n",
        "# output layer\n",
        "model.add(Dense(units = 1))"
      ],
      "metadata": {
        "id": "xHk8-pYOTii3"
      },
      "execution_count": 40,
      "outputs": []
    },
    {
      "cell_type": "code",
      "source": [
        "model.summary()"
      ],
      "metadata": {
        "colab": {
          "base_uri": "https://localhost:8080/"
        },
        "id": "vKmWvP1JXoVh",
        "outputId": "0ff829ef-b6cd-4196-facf-b7569e762217"
      },
      "execution_count": 41,
      "outputs": [
        {
          "output_type": "stream",
          "name": "stdout",
          "text": [
            "Model: \"sequential\"\n",
            "_________________________________________________________________\n",
            " Layer (type)                Output Shape              Param #   \n",
            "=================================================================\n",
            " lstm (LSTM)                 (None, 7, 128)            66560     \n",
            "                                                                 \n",
            " dropout (Dropout)           (None, 7, 128)            0         \n",
            "                                                                 \n",
            " lstm_1 (LSTM)               (None, 64)                49408     \n",
            "                                                                 \n",
            " dropout_1 (Dropout)         (None, 64)                0         \n",
            "                                                                 \n",
            " dense (Dense)               (None, 1)                 65        \n",
            "                                                                 \n",
            "=================================================================\n",
            "Total params: 116,033\n",
            "Trainable params: 116,033\n",
            "Non-trainable params: 0\n",
            "_________________________________________________________________\n"
          ]
        }
      ]
    },
    {
      "cell_type": "code",
      "source": [
        "# Compiling the LSTM\n",
        "model.compile(optimizer = 'adam', loss = 'mean_squared_error')\n",
        "\n",
        "#checkpoint_path = 'my_best_model.hdf5'\n",
        "'''\n",
        "checkpoint = ModelCheckpoint(filepath=checkpoint_path, \n",
        "                             monitor='val_loss',\n",
        "                             verbose=1, \n",
        "                             save_best_only=True,\n",
        "                             mode='min')\n",
        "'''\n",
        "\n",
        "earlystopping = EarlyStopping(monitor='val_loss', patience=5, restore_best_weights=True)\n",
        "ep = 20\n",
        "BS = 32\n",
        "\n",
        "callbacks = [earlystopping]\n",
        "# callbacks = [checkpoint]\n",
        "\n",
        "\n",
        "history = model.fit(trainX, trainY, batch_size = BS, epochs = ep, verbose=1, shuffle=False, validation_data=(testX, testY), callbacks=callbacks)"
      ],
      "metadata": {
        "colab": {
          "base_uri": "https://localhost:8080/"
        },
        "id": "dx5-0EBlYHOq",
        "outputId": "af7ff26d-92f8-41e3-cf0f-a7687fe65830"
      },
      "execution_count": 42,
      "outputs": [
        {
          "output_type": "stream",
          "name": "stdout",
          "text": [
            "Epoch 1/20\n",
            "2/2 [==============================] - 3s 575ms/step - loss: 1.0336 - val_loss: 0.1714\n",
            "Epoch 2/20\n",
            "2/2 [==============================] - 0s 31ms/step - loss: 0.9154 - val_loss: 0.1171\n",
            "Epoch 3/20\n",
            "2/2 [==============================] - 0s 31ms/step - loss: 0.8456 - val_loss: 0.0723\n",
            "Epoch 4/20\n",
            "2/2 [==============================] - 0s 30ms/step - loss: 0.7654 - val_loss: 0.0424\n",
            "Epoch 5/20\n",
            "2/2 [==============================] - 0s 31ms/step - loss: 0.6733 - val_loss: 0.0371\n",
            "Epoch 6/20\n",
            "2/2 [==============================] - 0s 29ms/step - loss: 0.5937 - val_loss: 0.0745\n",
            "Epoch 7/20\n",
            "2/2 [==============================] - 0s 40ms/step - loss: 0.5043 - val_loss: 0.1871\n",
            "Epoch 8/20\n",
            "2/2 [==============================] - 0s 28ms/step - loss: 0.4002 - val_loss: 0.4302\n",
            "Epoch 9/20\n",
            "2/2 [==============================] - 0s 30ms/step - loss: 0.3495 - val_loss: 0.8894\n",
            "Epoch 10/20\n",
            "2/2 [==============================] - 0s 29ms/step - loss: 0.2856 - val_loss: 1.6666\n"
          ]
        }
      ]
    },
    {
      "cell_type": "code",
      "source": [
        "# Save the model\n",
        "model.save_weights('LSTM_RNN_.h5')"
      ],
      "metadata": {
        "id": "OD3c6DF7aXv4"
      },
      "execution_count": 43,
      "outputs": []
    },
    {
      "cell_type": "code",
      "source": [
        "# Load the model\n",
        "model.load_weights('LSTM_RNN_.h5')"
      ],
      "metadata": {
        "id": "elRDhyjzXp_r"
      },
      "execution_count": 44,
      "outputs": []
    },
    {
      "cell_type": "code",
      "source": [
        "plt.figure(figsize=(16,7))\n",
        "plt.plot(history.history['loss'], label='train')\n",
        "plt.plot(history.history['val_loss'], label='test')\n",
        "\n",
        "plt.legend()\n",
        "plt.show()"
      ],
      "metadata": {
        "colab": {
          "base_uri": "https://localhost:8080/",
          "height": 428
        },
        "id": "EPq-IHCWcZDu",
        "outputId": "224c4251-ed8e-4ef4-c751-d18c70587542"
      },
      "execution_count": 45,
      "outputs": [
        {
          "output_type": "display_data",
          "data": {
            "image/png": "[encoded data removed]",
            "text/plain": [
              "<Figure size 1152x504 with 1 Axes>"
            ]
          },
          "metadata": {
            "needs_background": "light"
          }
        }
      ]
    },
    {
      "cell_type": "markdown",
      "source": [
        "## LSTM Predictions vs. Actual testY"
      ],
      "metadata": {
        "id": "zgEdxyqedChF"
      }
    },
    {
      "cell_type": "markdown",
      "source": [
        "We need to transfer the scale data to the original data (real value), So we are going to use **inverse_transform** to Scale back the data to the original representation."
      ],
      "metadata": {
        "id": "KisM38l3JvoR"
      }
    },
    {
      "cell_type": "code",
      "source": [
        "\n",
        "predicted_test_data = model.predict(testX)\n",
        "predicted_test_data = scaler.inverse_transform(predicted_test_data.reshape(-1, 1))\n",
        "test_actual = scaler.inverse_transform(testY.reshape(-1, 1))"
      ],
      "metadata": {
        "id": "wxaxgNzycZGp"
      },
      "execution_count": 46,
      "outputs": []
    },
    {
      "cell_type": "code",
      "source": [
        "plt.figure(figsize=(16,7))\n",
        "\n",
        "plt.plot(predicted_test_data, 'r', marker='.', label='Predicted Test')\n",
        "\n",
        "plt.plot(test_actual, 'b', marker='.', label='Actual Test')\n",
        "\n",
        "plt.legend()\n",
        "plt.show()"
      ],
      "metadata": {
        "colab": {
          "base_uri": "https://localhost:8080/",
          "height": 428
        },
        "id": "WUA3_d48cZKl",
        "outputId": "5e5d6513-cce1-4352-dd76-c3571179d8e0"
      },
      "execution_count": 47,
      "outputs": [
        {
          "output_type": "display_data",
          "data": {
            "image/png": "[encoded data removed]",
            "text/plain": [
              "<Figure size 1152x504 with 1 Axes>"
            ]
          },
          "metadata": {
            "needs_background": "light"
          }
        }
      ]
    },
    {
      "cell_type": "markdown",
      "source": [
        "##Mean squared error\n",
        "\n",
        "![RMSE1.jpg](data:image/jpeg;base64,/9j/4AAQSkZJRgABAQAAAQABAAD/2wBDAAgGBgcGBQgHBwcJCQgKDBQNDAsLDBkSEw8UHRofHh0aHBwgJC4nICIsIxwcKDcpLDAxNDQ0Hyc5PTgyPC4zNDL/2wBDAQkJCQwLDBgNDRgyIRwhMjIyMjIyMjIyMjIyMjIyMjIyMjIyMjIyMjIyMjIyMjIyMjIyMjIyMjIyMjIyMjIyMjL/wAARCACCAYUDASIAAhEBAxEB/8QAGwABAAIDAQEAAAAAAAAAAAAAAAUGAwQHAQL/xABJEAAABQIDAgoIAwQGCwAAAAAAAQIDBAURBhIhEzEUFhdBUVRWlJXSBxUiMmFxgZEjUqEzQpLRJCVTsbLBNDU2N0NVV3JzgsL/xAAWAQEBAQAAAAAAAAAAAAAAAAAAAQL/xAAjEQEBAQADAAEDBQEAAAAAAAAAAREhMUFhUYHBAiJCsdHw/9oADAMBAAIRAxEAPwDv4AAAAAAAAAAAAAAAAAAAAAAAAh5eJKZAeU1JddQpKzT7LC16kRGfukf5i3jBxyofWn+5veUBPgIDjlQ+tP8Ac3vKHHKh9af7m95QE+AgOOVD60/3N7yhxyofWn+5veUBPgIDjlQ+tP8Ac3vKHHKh9af7m95QE+AgOOVD60/3N7yhxyofWn+5veUBPgIDjlQ+tP8Ac3vKHHKh9af7m95QE+AgOOVD60/3N7yhxyofWn+5veUBPgIDjlQ+tP8Ac3vKHHKh9af7m95QE+AgOOVD60/3N7yhxyofWn+5veUBPgIDjlQ+tP8Ac3vKHHKh9af7m95QE+AgOOVD60/3N7yhxyofWn+5veUBPgIDjlQ+tP8Ac3vKHHKh9af7m95QE+AgOOVD60/3N7yhxyofWn+5veUBPgIDjlQ+tP8Ac3vKHHKh9af7m95QE+AgOOVD60/3N7yhxyofWn+5veUBPgIAsZULrL/dHvKJ8AAAAAAAAAAAAAAAAAAAAAAAAAAAAeD0AETR/wBvVF/mmK/RKSEsYiqIeZmU7+eU7+isv+QkzOxCeDSKs0xS5KE1GJmiW4QnbJuzfdnK/s/UbLL7cllLrDqHWlldK0KJSTL4GQ5RWSXFWqvxE501l56mu5NbktZkyo/kdy/9h1aM0TEZppPuoSRCzrVvDOAACAAAAAAAAAAAAAAAAAAAAAAAAAAAAAAAAAAAAAAAAAAAAAAAAAAAAAAAAAAAAAAAAAAAAAAA8MejG6f4K/kYl6EbQC/qs1fmfeV93FDnOJvSNiPDuM2aHPpdNYhS1mmPNfWs21JPQr2LQ9xGXxHSMP8A+ooa/wA7ZOfxa/5jRxhhKBjGhO0yamxmWZp4i9ptfMZB+rvVnPaMaiYtRGQ0xDw4lgjJxDaCWSSPeRkRFa99bjDMreMqTUadw6nUx2nSJCWHno7iszWY7Edj3lfT6ir+j3FVQwxXDwDitWV9o8tPlKvZ5N9E359LW+w684208nK4lKk3I9ektSMX5nSfFZAuNKqz0UulS5znux2lOfYtBr4fZUijx3X1ZpEhBOuq6VK1t9L2ASo9FPn4wmRcZN4bjUhMiQ6wb6XOE5Ekgjtr7JmRjZoWMGqpWp1Elw3YFUhJJxxlaiUlSD3KSotDIILOA+CWn8yfuPcyfzF9wH0A15LuyjOKSpKVEk1Fn3fUVChYwqdSwU7XVUnhT6XnG2o8RWU3UpXlJRGo+e1xNXF3AYWnNoyhxSdmoyJRpVa6bluMfMiWxEjOSn3UoZaSalrM9CIt5io2AGtDlsT4TMxhWdl5tLiFdKTK5H9jGclJV7qgH0Ar+Ma47hzDE+rMbBTsVs3EtvXsq3NprqdhI0iU/Mo8SVJbS0+60lbjab2SZlcyK4Qb4AAAA8FOjY+iysdcWW4btlIWpM25ZFqRbMki3na5FcT3BcgHyZpSWo06jU4dJgOTpj6Wo7Ze0oz/AELpMUbwDGh1K0JUlScqi013j6v+7fUB9APg1p/Mn7isYoxJModXoMOI1Gd9ZzCjrS5mzJTa5qK2mhFzgLSZjTmzm4bLbqm3Xc6iSlLKDWZmevNzaDcsKS9iHi7MqVMU0+/slocjJQ0pzKlzpJJGeVKiMFkWel1aLWIyn4ilWQ4ptxK0GlSFJOxkZHuMSArmD0Q0Udzgi33FLfW4+47HU0anFHmMyJREdtbF8hYwqAAAAAAAAAAAAAAAAAAAAAAAAAAADBLVkiPK/Kg/7hmEdVn0+pJrjSs2VtW7pLeQBQk5MP05B7yjN3/hIZ586LTYD0yW6lphlJqWpR2IiIfURvYw2G/yNpT9iHIcZYlxBKxSiO3hCoTqPBWaibsaUvukeij6UlzEF7J1tXCi0hWI601i2rRlNZCNNMiupsplB/vqI9y1dHMWgutxyUvSjjH/AKdzv4z/AJCPquOMe4gjIpkTB8mnpkrS25JVdRoSZ626NOcM8h810XH/APsJVv8AxFf5Ziv+gnoWXgLGX3dmm32GGoU9qfSH6e5+zdaNr5XKxDWo23VQ24z6lNyWW9g4pNrkaSsRlfTdYw+p5HPYEmqzvTJiOdSocacmCwzE/HlGySMxXOxkhdzundoMleoEqk0fFeLa26w/UJcLZNx2iPZsIT7qSM9VHm1vYt4t1BwbGw/Ups6NUJzjk103pKXVINLiz5zskjLfuKxCQxDQYmJKSqmzVOpjrWlStkrKZ5Tva/RoJZxI1L+5zSsUpeEMCUWZGelOVxexhMSFuGZtm7YjMiPTS+haaiah4YmNYhplYaYcpsanNOKkrddJb09SkGXt5TMrEetzMz+BC5VzD1OxBR1Uyc0pTF0qTkUaVIUncpJluMhjpWH26dm2s2dNVl2ZKlO5rJ6LFYj+ZlcW281HO2XG6z6O63jKuoTOdWh9yIy4d0R0JMySlJbiPQrnzjWqNN4H6PcB0JP+kyJjNnE6GRXNavuWgtjnoroS6fLp/CakmFIcNwo5ST2bZmrMeUv53EtNwdEnuUd1yXLS7SVZo7iVJIzO1rmVrHppuCf4W/lCPOLxR6SptDkuqKk0mM245GI7JkOOalm6SSRHp8RFekbD8GjYJqMWE0n+s50dLTFvZbM1JSZJLm0JR/UxcKjg2DOrfrhmVMhT1Nk067FdJO1SW4lEZGR2+Qy1bCVPrNIj059yUlMd1LzTyXTNxK0ncjzHe/1E8n/em8qfX0po1Xw9g+iQVMRJaVvykwsra3UIIiNBGZkRZrlc783xHxIjVDBNNxNihMdEFhcZKItMQvMlCyuW0UZeySjzFci6N5i3VLBkGqFAdekzEToN9hNadyulfeRnaxkfQZDYdwtBlUWXSpq5EtmWnK+t901KV8egj+REF6JenN8a4bhpwVR48n+mVisTmGHJrvtOma7qUZGe5JEVrFoRDrLcplM31cnNtUNE57h5ct7Fruv8BVS9GlMJdOdVUaq69TnCcjuOyM5psViKyiMrEXwG7Rnn5GNa+pa3diyTLLbajPLck5jURHprmItOgaPGZyZi7bL2dFpSm7nkUqorIzK+hmWx0OwzwZOJHZiEz6XT2I2udxictxRaaWI203+4nB6IisYzrb9Io+yp7S36pMVsIjSLZjUZanrzERGevQOc15xWH6rgl/1PUILMKWphx+QbZ7TaFqZmlSjuatTuOouYdadxM1XXJklTzTam22TNOzQSrXsVr3Oxa3GHFGE4eLIbMWbJlNMtOJdJLCiTdSTuRmZkZ6GMzjL8r8K9SsuNMX171l+LTKS+mIxCUd21Ky5jWpO5R6la+6wisdYcgRoVBoDTW1bn1knCbWV8jebOtCS5kkkiKwtacCQWqg5OjVCoxnpCSKVsXiSUgyK2ZRWsSrc6bDbq+EYFY9WrU7KYepyzVGeZdPOm5WMjM73uXSNTjDeaq1TpsNHpTwvTIEZthiHGekqbZLKRalluRc1zUIuViB2nYgx7idv8RNNjtwmE39nOSc1/ur9Beajg2DUarEqapM5iXHa2BuMPmk3Uc5K6d28rHqNeH6P6LCh1aCW3dhVVRqfYdWRpIz5yO17/ADMTxdikYsoTEfA9LU+pUmu1SVHZVPWozdI1ndWVW9KbEZWLTUWKpJ4f6X8Pw/8Ah0qA9JNPxWWQvl7pjaT6M6X/AFctVQqrrlPcJyOt2TnNFisRWMrWt8LiZRhiK3ixzEKZMnhbrBR1ozFszQVzIrWuWpmehh797/Sbx9kqmY2qcqIWbaoQTh+yeWxnbfuM/gK+1/vNkZf+WIz/AMZ2HtAkOyMWYlU6p3ZMuMtNpWZ5dEGZmRHprct3QNqjw1O1qo1lacvCMrLPTs08/wBTMzD2U+qwAACoAAAAAAAAAAAA5rS5+Iq3jzElJar7jECmbJLbiIzRqNakkoyMzTuLUvoJ6OkgKLgvElRrfr+DPebW5TJKo6JrCSInCte9juVy+w0PRxiutVmr1anVt9DimiS/FUTZJM2VGZEZ259LhPxq2Y6SA5birGVadx3RaBQH0MxHpKmJMjZktSjTY1km+hZSPf0n8BKO1+oT8ePYWaqfq9MSMh45Cm0G7JUrflIyykRc9iCc4Yv4CpvKrdJw5WH6lVsyo+ZyNJS0glZEpuWYrZbmem4Q2FzxJW8IU6qzcTusSZrW0SyiMySTM9UkV033Co6KAhYc2VTMLR5ddUrhLTCVS1NNmo81tbJSR316BG8o2Hf7Wd4dI8gCwVKXwCmyZmRS9i0pzKnU1WK+goeEJEx30aVBqoKzTW35CHf+5SzUX+IhcKPiGnV/bcBU+omrZtrGca39Gciv9BVKYjYPYvh9NVaV9Fpb/mYT1fHQE+4XyGozN2tRfipQnKylKjWThHqfMaS1L6jdIVOk0qeqpYndlxUt8MfSmOp2ykuNpRYjMkne1zPQ7GCTpbBDUuvN1Oq1GnpjPNOQTQS1O2LNmK5GREINjBjrTzbnBaEWRZKuiI6StOgzc0MZ6BHqLOMsQSpFMfYjS1NbJ1a0GlWVFj0JRmWvwBZmVbgIegCAAAAAAAAAAAAAAAAADwegAAAAAAAAAAAAAAAAADwB6AAAAAAAAAAAAAAAxOuIaaUtaiSREe87DhlHokjEuDcV12mzpzFTlTXnWODy3EE4lJ2IlJSZEojsZa9I7k+w1JZU080hxtW9K0koj+ZGMESmQaeSkxIMaOlfvbJpKL/O28TFlUWjVyjteiFVUpbUaM2qIpSmWrJs6ZWVf43MQE+HUaFjLDnqZhSnqjRuAG4XuoWmx5z+CU3+pl0jqfqCj5FN+qYOzUeY08HRYz6bW3jbbiRmdns2G07JJpbypIspHvIughb3pLkxyuFAhtemCl06M7mZo1MW4ajMjNTqzspRnzqPeYnKrGwljyinU5a2mHYxuJTKQ6SH2DQoy94tS3Xt8SFwbo9MYk8Kap0Rt/8AtEspJX3Irj5XQKO69t3aVBW7fNtFR0Gq/TewnmG865DU61U+QaWmpPuvyZDyokZ532XHmzXlQs76nci3i1M0KgYfgUupuViXkpTZOGw5PW82o8hosSDUaSO6tLELxJpVPnZeGQIz+QvY2rSVWLoK5aDAnDdCQtK00enpUncpMZBGX6Cy+ms0x2Z6qcdgMNOysl22nl5EmfQZkR2+wrnrHHnZuj+Iq8guI9BELQ5Fdf2vrmnRIdrbPg8k3c3Te6SsKwtHB8cVxj92ScF8k9NlZT/wjoA5/WVbD0s0pP7s2Hl+ralK/wDoT+UWblxZsRYf4wxGo3rWp0/I5n2lPkGytWlrGZby13Cucl6e2uMfFlfyF9HoqKDyYF21xh4ssOTBPbXGPi6v5C/AAoPJgntljDxZYcmCe2WMPFli/AAoPJgntljDxZYcmCe2WMPFli/AAoPJgntljDxZYcmCe2WMPFli/AAoPJgntljDxZYcmCe2WMPFli/AAoPJgntljDxZYcmCe2WMPFli/AAoPJintljDxZQcmKe2eMPFlC7StnwZ3a/s8p59TLS2upDkOCpsyg4phcLnyX6ViRtxUZLzqlpZcQo7JIzPS6f7hJ3i5xq0cmKe2WMPFlhyYJ7ZYw8WWNrBMNt2TWKnmdUlyc6yylby1pShB5DIiMzLU0mf1FzFS9qFyYJ7ZYw8WWHJgntljDxZYvwAKDyYJ7ZYw8WWHJgntljDxZYvwAKDyYJ7ZYw8WWHJgntljDxZYvwAKDyYJ7ZYw8WWHJgntljDxZYvwAKDyYJ7ZYw8WWHJgntljDxZYvwAKDyYJ7ZYw8WWHJgntljDxZYvwAKfR8Cep6qzO4z4lmbK/wCBLqCnWlXK2qT39IuAAAAAAAAAAAAAAAAAAAAAAAAAAAAADwU+vQOEekHDErL+xKRf6o0FxGJTLS3EOqQlTiL5VW1K++wTvRlAAAAAAAAAAAAAAAAAAAAAAAV/F89cDDE9TTT7r62FIaQ00pxRqMrFokjFXxRhxdR9GEL1W0r1hS2m5MP2DSraIIjMrHrrYytzjpAWExdVvA0J+Bg2mNyUqRJW1tX0qKxk4o8yrl8zMWTmABbduoAAAAAAAAAAAAAAAAAAAAAAAAAAAAAAAAAAAAAAAAAAAAAAAAAAAAAAAAAAAAAAAAAAAAAAAAAAAAAAAAAAAAAAAAAAAAAAAAAAAAAAAAAAAAAAAAAAAAAAAAAAAAAAAAAAAAAAAAAAAAAAAAAAAAAAAAAAAAAAAAAAAAAAAAAAAAAAAAAAAAAAAAAAAAAAAAAAAAD/2Q==)"
      ],
      "metadata": {
        "id": "xtuhVvv-fDue"
      }
    },
    {
      "cell_type": "code",
      "source": [
        "# Transformation to original form and making the predictions\n",
        "\n",
        "predicted_btc_price_train_data = model.predict(trainX)\n",
        "\n",
        "predicted_btc_price_train_data = scaler.inverse_transform(predicted_btc_price_train_data.reshape(-1, 1))\n",
        "\n",
        "train_actual = scaler.inverse_transform(trainY.reshape(-1, 1))"
      ],
      "metadata": {
        "id": "rZX8-c4iO-bI"
      },
      "execution_count": 48,
      "outputs": []
    },
    {
      "cell_type": "code",
      "source": [
        "# Train Data\n",
        "rmse_lstm_train = math.sqrt(mean_squared_error(train_actual, predicted_btc_price_train_data))\n",
        "\n",
        "print('Test RMSE: %.3f' % rmse_lstm_train)"
      ],
      "metadata": {
        "id": "-HTubC_nfOrO",
        "colab": {
          "base_uri": "https://localhost:8080/"
        },
        "outputId": "9cd455aa-6bbe-4ea0-dd2a-5a4723d378f4"
      },
      "execution_count": 49,
      "outputs": [
        {
          "output_type": "stream",
          "name": "stdout",
          "text": [
            "Test RMSE: 3500.116\n"
          ]
        }
      ]
    },
    {
      "cell_type": "code",
      "source": [
        "# Test Data\n",
        "rmse_lstm_test = math.sqrt(mean_squared_error(test_actual, predicted_test_data))\n",
        "\n",
        "print('Test RMSE: %.3f' % rmse_lstm_test)"
      ],
      "metadata": {
        "id": "NY5Qs95rfGtq",
        "colab": {
          "base_uri": "https://localhost:8080/"
        },
        "outputId": "3a6889f7-1144-4cad-f4d8-2dc7ffe17bfb"
      },
      "execution_count": 50,
      "outputs": [
        {
          "output_type": "stream",
          "name": "stdout",
          "text": [
            "Test RMSE: 859.464\n"
          ]
        }
      ]
    },
    {
      "cell_type": "markdown",
      "source": [
        "\n",
        "##Future Price Predictions\n",
        "\n",
        "For 10 Days beyond the actual trading days for which I dont have the ground truth data (i.e. for 10-days into future for which I dont have actual Trading Price yet)\n",
        "We are going to forecast the Bitcoin Prices for the next 10 days from today.\n"
      ],
      "metadata": {
        "id": "eqzR17Q6Pe2W"
      }
    },
    {
      "cell_type": "code",
      "source": [
        "days = 10\n",
        "lookback  = testX.shape[1]"
      ],
      "metadata": {
        "id": "ToHSin2ZPfVz"
      },
      "execution_count": 81,
      "outputs": []
    },
    {
      "cell_type": "code",
      "source": [
        "testX_last_n_days =testX[-1] #testX[testX.shape[0] - lookback :  ]\n",
        "testX_last_n_days = np.reshape(testX_last_n_days, (1, testX.shape[1], 1))\n",
        "print(testX_last_n_days.shape)\n",
        "print(testX_last_n_days)\n",
        "print(type(testX_last_n_days))"
      ],
      "metadata": {
        "id": "cGmLw4MZPf4V",
        "colab": {
          "base_uri": "https://localhost:8080/"
        },
        "outputId": "cb96b56c-e5bf-4488-fb48-20f6dc2fbd42"
      },
      "execution_count": 152,
      "outputs": [
        {
          "output_type": "stream",
          "name": "stdout",
          "text": [
            "(1, 7, 1)\n",
            "[[[-1.34396386]\n",
            "  [-1.45965956]\n",
            "  [-1.7370026 ]\n",
            "  [-1.32032494]\n",
            "  [-0.68115697]\n",
            "  [-0.66230629]\n",
            "  [-0.32577331]]]\n",
            "<class 'numpy.ndarray'>\n"
          ]
        }
      ]
    },
    {
      "cell_type": "code",
      "source": [
        "# convert testX_last_n_days to queue\n",
        "queue = testX_last_n_days\n",
        "predicted_values = []\n",
        "print(queue)\n",
        "\n",
        "for i in range(days):\n",
        "  \n",
        "  predicted_value = model.predict(queue)[0]  #predicted_value = model.predict(testX_last_n_days)\n",
        "  queue = queue.tolist()\n",
        "\n",
        "  queue[0].pop(0)\n",
        "\n",
        "  queue[0].append(predicted_value)\n",
        "\n",
        "  predicted_value = scaler.inverse_transform(predicted_value.reshape(-1, 1))\n",
        "  predicted_values.append(predicted_value)\n",
        "\n",
        "\n",
        "  next_price = scaler.inverse_transform(queue[0][-1].reshape(-1, 1))\n",
        "  last_price = scaler.inverse_transform(np.array(queue[0][-2]).reshape(-1, 1))\n",
        "  if next_price > last_price:\n",
        "    print(\"Buy crypto || +{s} ({p} %)\".format(s = next_price - last_price, p = 1-(last_price/next_price)))\n",
        "  else:\n",
        "    print(\"Sell crypto || -{s} ({p} %)\".format(s = last_price - next_price, p = 1-(next_price/last_price)))\n",
        "\n",
        "  queue = np.asarray(queue).astype('float32')\n",
        " \n"
      ],
      "metadata": {
        "id": "h1gjM10NPf8I",
        "colab": {
          "base_uri": "https://localhost:8080/"
        },
        "outputId": "891ea122-ece5-447e-e4de-4d8ca9b3a21d"
      },
      "execution_count": 150,
      "outputs": [
        {
          "output_type": "stream",
          "name": "stdout",
          "text": [
            "[[[-1.34396386]\n",
            "  [-1.45965956]\n",
            "  [-1.7370026 ]\n",
            "  [-1.32032494]\n",
            "  [-0.68115697]\n",
            "  [-0.66230629]\n",
            "  [-0.32577331]]]\n",
            "Sell crypto || -[[564.23892708]] ([[0.0130936]] %)\n",
            "Buy crypto || +[[213.44136223]] ([[0.00499372]] %)\n",
            "Buy crypto || +[[262.15723447]] ([[0.0060961]] %)\n",
            "Buy crypto || +[[330.34089668]] ([[0.00762306]] %)\n",
            "Buy crypto || +[[233.42584317]] ([[0.00535775]] %)\n",
            "Buy crypto || +[[95.56617363]] ([[0.0021887]] %)\n",
            "Buy crypto || +[[99.13239482]] ([[0.00226523]] %)\n",
            "Buy crypto || +[[31.40710143]] ([[0.00071716]] %)\n",
            "Buy crypto || +[[64.42248063]] ([[0.00146887]] %)\n",
            "Buy crypto || +[[56.57168044]] ([[0.00128821]] %)\n"
          ]
        }
      ]
    },
    {
      "cell_type": "code",
      "source": [
        "print(\"Forecast for the next %2d Days Beyond the actual trading days \"%  (days))\n",
        "print(np.array(predicted_values))\n",
        "print(np.array(predicted_values).shape)"
      ],
      "metadata": {
        "colab": {
          "base_uri": "https://localhost:8080/"
        },
        "id": "_kYVQuKiUPdP",
        "outputId": "d293d6a8-6582-486d-bed4-1e390afe8778"
      },
      "execution_count": 151,
      "outputs": [
        {
          "output_type": "stream",
          "name": "stdout",
          "text": [
            "Forecast for the next 10 Days Beyond the actual trading days \n",
            "[[[42528.504]]\n",
            "\n",
            " [[42741.945]]\n",
            "\n",
            " [[43004.1  ]]\n",
            "\n",
            " [[43334.44 ]]\n",
            "\n",
            " [[43567.867]]\n",
            "\n",
            " [[43663.434]]\n",
            "\n",
            " [[43762.566]]\n",
            "\n",
            " [[43793.973]]\n",
            "\n",
            " [[43858.395]]\n",
            "\n",
            " [[43914.965]]]\n",
            "(10, 1, 1)\n"
          ]
        }
      ]
    },
    {
      "cell_type": "markdown",
      "source": [
        "## Plot future Predictions (Future 10-days ) "
      ],
      "metadata": {
        "id": "vr2bXV4oaktA"
      }
    },
    {
      "cell_type": "code",
      "source": [
        "predicted = np.array(predicted_values).flatten()"
      ],
      "metadata": {
        "id": "V6I2nPyCUPr-"
      },
      "execution_count": 122,
      "outputs": []
    },
    {
      "cell_type": "code",
      "source": [
        "predicted"
      ],
      "metadata": {
        "colab": {
          "base_uri": "https://localhost:8080/"
        },
        "id": "LqIGKTjTq8Et",
        "outputId": "d8783ee8-767d-46ee-ef33-4f2599953053"
      },
      "execution_count": 123,
      "outputs": [
        {
          "output_type": "execute_result",
          "data": {
            "text/plain": [
              "array([42528.504, 42741.945, 43004.1  , 43334.44 , 43567.867, 43663.434,\n",
              "       43762.566, 43793.973, 43858.395, 43914.965], dtype=float32)"
            ]
          },
          "metadata": {},
          "execution_count": 123
        }
      ]
    },
    {
      "cell_type": "code",
      "source": [
        "plt.figure(figsize=(16,7))\n",
        "\n",
        "plt.plot(predicted, 'r', marker='.',lw=5, label='Predicted')\n",
        "\n",
        "#plt.plot(yy, marker='.',lw=5, label='Actual')\n",
        "\n",
        "plt.legend()\n",
        "\n",
        "plt.show()"
      ],
      "metadata": {
        "id": "W8VFTJlMajzI",
        "colab": {
          "base_uri": "https://localhost:8080/",
          "height": 428
        },
        "outputId": "8b19e4e8-ede9-41d3-cd85-7e9209ac2376"
      },
      "execution_count": 124,
      "outputs": [
        {
          "output_type": "display_data",
          "data": {
            "image/png": "[encoded data removed]",
            "text/plain": [
              "<Figure size 1152x504 with 1 Axes>"
            ]
          },
          "metadata": {
            "needs_background": "light"
          }
        }
      ]
    },
    {
      "cell_type": "code",
      "source": [
        ""
      ],
      "metadata": {
        "id": "7ZeyijMiaj2W"
      },
      "execution_count": null,
      "outputs": []
    }
  ]
}