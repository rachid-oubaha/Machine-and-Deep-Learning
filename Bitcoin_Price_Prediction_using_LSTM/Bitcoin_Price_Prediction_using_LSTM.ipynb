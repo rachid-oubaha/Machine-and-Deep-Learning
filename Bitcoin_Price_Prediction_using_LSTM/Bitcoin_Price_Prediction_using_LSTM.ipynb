{
  "nbformat": 4,
  "nbformat_minor": 0,
  "metadata": {
    "colab": {
      "name": "Bitcoin_Price_Prediction_using_LSTM.ipynb",
      "provenance": [],
      "collapsed_sections": []
    },
    "kernelspec": {
      "name": "python3",
      "display_name": "Python 3"
    },
    "language_info": {
      "name": "python"
    },
    "accelerator": "GPU"
  },
  "cells": [
    {
      "cell_type": "code",
      "metadata": {
        "colab": {
          "base_uri": "https://localhost:8080/"
        },
        "id": "guZf4_sCEkbC",
        "outputId": "1aaeff9f-e864-44f4-cb81-124239b50172"
      },
      "source": [
        "pip install python-binance"
      ],
      "execution_count": null,
      "outputs": [
        {
          "output_type": "stream",
          "name": "stdout",
          "text": [
            "Looking in indexes: https://pypi.org/simple, https://us-python.pkg.dev/colab-wheels/public/simple/\n",
            "Collecting python-binance\n",
            "  Downloading python_binance-1.0.16-py2.py3-none-any.whl (65 kB)\n",
            "\u001b[K     |████████████████████████████████| 65 kB 2.7 MB/s \n",
            "\u001b[?25hCollecting aiohttp\n",
            "  Downloading aiohttp-3.8.1-cp37-cp37m-manylinux_2_5_x86_64.manylinux1_x86_64.manylinux_2_12_x86_64.manylinux2010_x86_64.whl (1.1 MB)\n",
            "\u001b[K     |████████████████████████████████| 1.1 MB 10.7 MB/s \n",
            "\u001b[?25hRequirement already satisfied: requests in /usr/local/lib/python3.7/dist-packages (from python-binance) (2.23.0)\n",
            "Collecting dateparser\n",
            "  Downloading dateparser-1.1.1-py2.py3-none-any.whl (288 kB)\n",
            "\u001b[K     |████████████████████████████████| 288 kB 57.9 MB/s \n",
            "\u001b[?25hRequirement already satisfied: six in /usr/local/lib/python3.7/dist-packages (from python-binance) (1.15.0)\n",
            "Collecting websockets\n",
            "  Downloading websockets-10.3-cp37-cp37m-manylinux_2_5_x86_64.manylinux1_x86_64.manylinux_2_12_x86_64.manylinux2010_x86_64.whl (112 kB)\n",
            "\u001b[K     |████████████████████████████████| 112 kB 63.4 MB/s \n",
            "\u001b[?25hCollecting ujson\n",
            "  Downloading ujson-5.4.0-cp37-cp37m-manylinux_2_17_x86_64.manylinux2014_x86_64.whl (45 kB)\n",
            "\u001b[K     |████████████████████████████████| 45 kB 3.9 MB/s \n",
            "\u001b[?25hCollecting aiosignal>=1.1.2\n",
            "  Downloading aiosignal-1.2.0-py3-none-any.whl (8.2 kB)\n",
            "Collecting asynctest==0.13.0\n",
            "  Downloading asynctest-0.13.0-py3-none-any.whl (26 kB)\n",
            "Requirement already satisfied: typing-extensions>=3.7.4 in /usr/local/lib/python3.7/dist-packages (from aiohttp->python-binance) (4.1.1)\n",
            "Requirement already satisfied: attrs>=17.3.0 in /usr/local/lib/python3.7/dist-packages (from aiohttp->python-binance) (21.4.0)\n",
            "Collecting yarl<2.0,>=1.0\n",
            "  Downloading yarl-1.7.2-cp37-cp37m-manylinux_2_5_x86_64.manylinux1_x86_64.manylinux_2_12_x86_64.manylinux2010_x86_64.whl (271 kB)\n",
            "\u001b[K     |████████████████████████████████| 271 kB 56.8 MB/s \n",
            "\u001b[?25hCollecting frozenlist>=1.1.1\n",
            "  Downloading frozenlist-1.3.0-cp37-cp37m-manylinux_2_5_x86_64.manylinux1_x86_64.manylinux_2_17_x86_64.manylinux2014_x86_64.whl (144 kB)\n",
            "\u001b[K     |████████████████████████████████| 144 kB 73.4 MB/s \n",
            "\u001b[?25hCollecting async-timeout<5.0,>=4.0.0a3\n",
            "  Downloading async_timeout-4.0.2-py3-none-any.whl (5.8 kB)\n",
            "Requirement already satisfied: charset-normalizer<3.0,>=2.0 in /usr/local/lib/python3.7/dist-packages (from aiohttp->python-binance) (2.1.0)\n",
            "Collecting multidict<7.0,>=4.5\n",
            "  Downloading multidict-6.0.2-cp37-cp37m-manylinux_2_17_x86_64.manylinux2014_x86_64.whl (94 kB)\n",
            "\u001b[K     |████████████████████████████████| 94 kB 3.1 MB/s \n",
            "\u001b[?25hRequirement already satisfied: idna>=2.0 in /usr/local/lib/python3.7/dist-packages (from yarl<2.0,>=1.0->aiohttp->python-binance) (2.10)\n",
            "Requirement already satisfied: python-dateutil in /usr/local/lib/python3.7/dist-packages (from dateparser->python-binance) (2.8.2)\n",
            "Requirement already satisfied: pytz in /usr/local/lib/python3.7/dist-packages (from dateparser->python-binance) (2022.1)\n",
            "Collecting regex!=2019.02.19,!=2021.8.27,<2022.3.15\n",
            "  Downloading regex-2022.3.2-cp37-cp37m-manylinux_2_17_x86_64.manylinux2014_x86_64.whl (749 kB)\n",
            "\u001b[K     |████████████████████████████████| 749 kB 49.7 MB/s \n",
            "\u001b[?25hRequirement already satisfied: tzlocal in /usr/local/lib/python3.7/dist-packages (from dateparser->python-binance) (1.5.1)\n",
            "Requirement already satisfied: chardet<4,>=3.0.2 in /usr/local/lib/python3.7/dist-packages (from requests->python-binance) (3.0.4)\n",
            "Requirement already satisfied: certifi>=2017.4.17 in /usr/local/lib/python3.7/dist-packages (from requests->python-binance) (2022.6.15)\n",
            "Requirement already satisfied: urllib3!=1.25.0,!=1.25.1,<1.26,>=1.21.1 in /usr/local/lib/python3.7/dist-packages (from requests->python-binance) (1.24.3)\n",
            "Installing collected packages: multidict, frozenlist, yarl, regex, asynctest, async-timeout, aiosignal, websockets, ujson, dateparser, aiohttp, python-binance\n",
            "  Attempting uninstall: regex\n",
            "    Found existing installation: regex 2022.6.2\n",
            "    Uninstalling regex-2022.6.2:\n",
            "      Successfully uninstalled regex-2022.6.2\n",
            "Successfully installed aiohttp-3.8.1 aiosignal-1.2.0 async-timeout-4.0.2 asynctest-0.13.0 dateparser-1.1.1 frozenlist-1.3.0 multidict-6.0.2 python-binance-1.0.16 regex-2022.3.2 ujson-5.4.0 websockets-10.3 yarl-1.7.2\n"
          ]
        }
      ]
    },
    {
      "cell_type": "code",
      "metadata": {
        "colab": {
          "base_uri": "https://localhost:8080/"
        },
        "id": "5QckaR0VFfXj",
        "outputId": "b35a46f6-2db5-4c47-d1fb-617ead890326"
      },
      "source": [
        "pip install websocket_client"
      ],
      "execution_count": null,
      "outputs": [
        {
          "output_type": "stream",
          "name": "stdout",
          "text": [
            "Looking in indexes: https://pypi.org/simple, https://us-python.pkg.dev/colab-wheels/public/simple/\n",
            "Collecting websocket_client\n",
            "  Downloading websocket_client-1.3.3-py3-none-any.whl (54 kB)\n",
            "\u001b[K     |████████████████████████████████| 54 kB 1.9 MB/s \n",
            "\u001b[?25hInstalling collected packages: websocket-client\n",
            "Successfully installed websocket-client-1.3.3\n"
          ]
        }
      ]
    },
    {
      "cell_type": "code",
      "metadata": {
        "id": "RoJrwqGhEptb"
      },
      "source": [
        "from binance.client import Client\n",
        "from binance.enums import *\n",
        "import time, datetime\n",
        "import pandas as pd\n",
        "from datetime import datetime, timedelta\n",
        "\n",
        "import matplotlib.pyplot as plt\n",
        "\n",
        "import math\n",
        "import numpy as np\n",
        "from functools import reduce\n",
        "\n",
        "from sklearn.preprocessing import StandardScaler\n",
        "from sklearn.metrics import mean_squared_error, mean_absolute_error, explained_variance_score, r2_score \n",
        "from sklearn.metrics import mean_poisson_deviance, mean_gamma_deviance, accuracy_score\n",
        "import sklearn.metrics as metrics\n",
        "\n",
        "from tensorflow.keras.models import Sequential\n",
        "from tensorflow.keras.layers import Dense, Dropout\n",
        "from tensorflow.keras.layers import LSTM\n",
        "from tensorflow.keras.callbacks import ModelCheckpoint, EarlyStopping"
      ],
      "execution_count": null,
      "outputs": []
    },
    {
      "cell_type": "markdown",
      "metadata": {
        "id": "pZRwedZ413fc"
      },
      "source": [
        "# **data scraping**"
      ]
    },
    {
      "cell_type": "markdown",
      "metadata": {
        "id": "Jc1cN2MmFJ7_"
      },
      "source": [
        "**OHLC data:**\n",
        "An OHLC chart is a type of bar chart that shows open, high, low, and closing prices for each period. "
      ]
    },
    {
      "cell_type": "code",
      "metadata": {
        "id": "2P-o9QZ9GCvt"
      },
      "source": [
        "SOCKET = \"wss://stream.binance.com:9443/ws/btcusdt@kline_1m\"\n",
        "TRADE_SYMBOL = 'BTCUSDT'\n",
        "TRADE_SYMBOL_HISTORY = 'BTCUSDT'\n",
        "API_KEY = 'ziew'\n",
        "API_SECRET = 'ziew'"
      ],
      "execution_count": null,
      "outputs": []
    },
    {
      "cell_type": "code",
      "metadata": {
        "id": "nwn5cSQZF_wT"
      },
      "source": [
        "client = Client(API_KEY, API_SECRET)#, tld='us')"
      ],
      "execution_count": null,
      "outputs": []
    },
    {
      "cell_type": "code",
      "metadata": {
        "id": "U8JBPdGREpwG"
      },
      "source": [
        "\n",
        "def GetHistoricalData(howLong):\n",
        "    howLong = howLong\n",
        "    # Calculate the timestamps for the binance api function\n",
        "    untilThisDate = datetime.now()\n",
        "    # sinceThisDate = untilThisDate - datetime.timedelta(days = howLong)\n",
        "    sinceThisDate = untilThisDate - timedelta(hours = howLong)\n",
        "    # Execute the query from binance - timestamps must be converted to strings !\n",
        "    candle = client.get_historical_klines(TRADE_SYMBOL_HISTORY, Client.KLINE_INTERVAL_30MINUTE, str(sinceThisDate), str(untilThisDate))\n",
        "    # print(\"TYPE\", type(candle),\"\\n\",candle)\n",
        "\n",
        "    # Create a dataframe to label all the columns returned by binance so we work with them later.\n",
        "    df = pd.DataFrame(candle, columns=['dateTime', 'open', 'high', 'low', 'close', 'volume', 'closeTime', 'quoteAssetVolume', 'numberOfTrades', 'takerBuyBaseVol', 'takerBuyQuoteVol', 'ignore'])\n",
        "    # as timestamp is returned in ms, let us convert this back to proper timestamps.\n",
        "    df.dateTime = pd.to_datetime(df.dateTime, unit='ms').dt.strftime('%Y-%m-%d %H:%M:%S')\n",
        "    # df.set_index('dateTime', inplace=True)\n",
        "\n",
        "    df[\"open\"] = df.open.astype(float)\n",
        "    df[\"high\"] = df.high.astype(float)\n",
        "    df[\"low\"] = df.low.astype(float)\n",
        "    df[\"close\"] = df.close.astype(float)\n",
        "    df[\"volume\"] = df.volume.astype(float)\n",
        "\n",
        "    # Get rid of columns we do not need\n",
        "    df = df.drop(['quoteAssetVolume', 'numberOfTrades', 'takerBuyBaseVol','takerBuyQuoteVol', 'ignore','closeTime'], axis=1)\n",
        "\n",
        "    return df"
      ],
      "execution_count": null,
      "outputs": []
    },
    {
      "cell_type": "code",
      "metadata": {
        "colab": {
          "base_uri": "https://localhost:8080/"
        },
        "id": "w9ocX0QHE3fv",
        "outputId": "58f9caab-e6f5-42c9-cea3-b1ec9cf7ee4a"
      },
      "source": [
        "print(\"Launching script...\")\n",
        "df=GetHistoricalData(24*1100) # TAKE INTO ACCOUNT GMT-2 #1100 days"
      ],
      "execution_count": null,
      "outputs": [
        {
          "output_type": "stream",
          "name": "stdout",
          "text": [
            "Launching script...\n"
          ]
        }
      ]
    },
    {
      "cell_type": "code",
      "metadata": {
        "id": "tOan9Nvc2-RQ",
        "colab": {
          "base_uri": "https://localhost:8080/",
          "height": 206
        },
        "outputId": "f12e154d-ab1e-4cb5-bbe8-af6f61803195"
      },
      "source": [
        "df.tail()"
      ],
      "execution_count": null,
      "outputs": [
        {
          "output_type": "execute_result",
          "data": {
            "text/plain": [
              "                  dateTime      open      high       low     close      volume\n",
              "52700  2022-07-18 20:00:00  21617.92  21671.30  21505.62  21605.59  3108.11703\n",
              "52701  2022-07-18 20:30:00  21607.27  21678.43  21434.35  21493.18  3501.63688\n",
              "52702  2022-07-18 21:00:00  21491.79  21739.00  21445.25  21690.01  2877.25071\n",
              "52703  2022-07-18 21:30:00  21692.08  21756.30  21625.58  21659.73  2203.09375\n",
              "52704  2022-07-18 22:00:00  21660.90  21698.40  21577.76  21676.85  1101.99596"
            ],
            "text/html": [
              "\n",
              "  <div id=\"df-598f31c7-c994-42fd-a2ac-d8c1faf59935\">\n",
              "    <div class=\"colab-df-container\">\n",
              "      <div>\n",
              "<style scoped>\n",
              "    .dataframe tbody tr th:only-of-type {\n",
              "        vertical-align: middle;\n",
              "    }\n",
              "\n",
              "    .dataframe tbody tr th {\n",
              "        vertical-align: top;\n",
              "    }\n",
              "\n",
              "    .dataframe thead th {\n",
              "        text-align: right;\n",
              "    }\n",
              "</style>\n",
              "<table border=\"1\" class=\"dataframe\">\n",
              "  <thead>\n",
              "    <tr style=\"text-align: right;\">\n",
              "      <th></th>\n",
              "      <th>dateTime</th>\n",
              "      <th>open</th>\n",
              "      <th>high</th>\n",
              "      <th>low</th>\n",
              "      <th>close</th>\n",
              "      <th>volume</th>\n",
              "    </tr>\n",
              "  </thead>\n",
              "  <tbody>\n",
              "    <tr>\n",
              "      <th>52700</th>\n",
              "      <td>2022-07-18 20:00:00</td>\n",
              "      <td>21617.92</td>\n",
              "      <td>21671.30</td>\n",
              "      <td>21505.62</td>\n",
              "      <td>21605.59</td>\n",
              "      <td>3108.11703</td>\n",
              "    </tr>\n",
              "    <tr>\n",
              "      <th>52701</th>\n",
              "      <td>2022-07-18 20:30:00</td>\n",
              "      <td>21607.27</td>\n",
              "      <td>21678.43</td>\n",
              "      <td>21434.35</td>\n",
              "      <td>21493.18</td>\n",
              "      <td>3501.63688</td>\n",
              "    </tr>\n",
              "    <tr>\n",
              "      <th>52702</th>\n",
              "      <td>2022-07-18 21:00:00</td>\n",
              "      <td>21491.79</td>\n",
              "      <td>21739.00</td>\n",
              "      <td>21445.25</td>\n",
              "      <td>21690.01</td>\n",
              "      <td>2877.25071</td>\n",
              "    </tr>\n",
              "    <tr>\n",
              "      <th>52703</th>\n",
              "      <td>2022-07-18 21:30:00</td>\n",
              "      <td>21692.08</td>\n",
              "      <td>21756.30</td>\n",
              "      <td>21625.58</td>\n",
              "      <td>21659.73</td>\n",
              "      <td>2203.09375</td>\n",
              "    </tr>\n",
              "    <tr>\n",
              "      <th>52704</th>\n",
              "      <td>2022-07-18 22:00:00</td>\n",
              "      <td>21660.90</td>\n",
              "      <td>21698.40</td>\n",
              "      <td>21577.76</td>\n",
              "      <td>21676.85</td>\n",
              "      <td>1101.99596</td>\n",
              "    </tr>\n",
              "  </tbody>\n",
              "</table>\n",
              "</div>\n",
              "      <button class=\"colab-df-convert\" onclick=\"convertToInteractive('df-598f31c7-c994-42fd-a2ac-d8c1faf59935')\"\n",
              "              title=\"Convert this dataframe to an interactive table.\"\n",
              "              style=\"display:none;\">\n",
              "        \n",
              "  <svg xmlns=\"http://www.w3.org/2000/svg\" height=\"24px\"viewBox=\"0 0 24 24\"\n",
              "       width=\"24px\">\n",
              "    <path d=\"M0 0h24v24H0V0z\" fill=\"none\"/>\n",
              "    <path d=\"M18.56 5.44l.94 2.06.94-2.06 2.06-.94-2.06-.94-.94-2.06-.94 2.06-2.06.94zm-11 1L8.5 8.5l.94-2.06 2.06-.94-2.06-.94L8.5 2.5l-.94 2.06-2.06.94zm10 10l.94 2.06.94-2.06 2.06-.94-2.06-.94-.94-2.06-.94 2.06-2.06.94z\"/><path d=\"M17.41 7.96l-1.37-1.37c-.4-.4-.92-.59-1.43-.59-.52 0-1.04.2-1.43.59L10.3 9.45l-7.72 7.72c-.78.78-.78 2.05 0 2.83L4 21.41c.39.39.9.59 1.41.59.51 0 1.02-.2 1.41-.59l7.78-7.78 2.81-2.81c.8-.78.8-2.07 0-2.86zM5.41 20L4 18.59l7.72-7.72 1.47 1.35L5.41 20z\"/>\n",
              "  </svg>\n",
              "      </button>\n",
              "      \n",
              "  <style>\n",
              "    .colab-df-container {\n",
              "      display:flex;\n",
              "      flex-wrap:wrap;\n",
              "      gap: 12px;\n",
              "    }\n",
              "\n",
              "    .colab-df-convert {\n",
              "      background-color: #E8F0FE;\n",
              "      border: none;\n",
              "      border-radius: 50%;\n",
              "      cursor: pointer;\n",
              "      display: none;\n",
              "      fill: #1967D2;\n",
              "      height: 32px;\n",
              "      padding: 0 0 0 0;\n",
              "      width: 32px;\n",
              "    }\n",
              "\n",
              "    .colab-df-convert:hover {\n",
              "      background-color: #E2EBFA;\n",
              "      box-shadow: 0px 1px 2px rgba(60, 64, 67, 0.3), 0px 1px 3px 1px rgba(60, 64, 67, 0.15);\n",
              "      fill: #174EA6;\n",
              "    }\n",
              "\n",
              "    [theme=dark] .colab-df-convert {\n",
              "      background-color: #3B4455;\n",
              "      fill: #D2E3FC;\n",
              "    }\n",
              "\n",
              "    [theme=dark] .colab-df-convert:hover {\n",
              "      background-color: #434B5C;\n",
              "      box-shadow: 0px 1px 3px 1px rgba(0, 0, 0, 0.15);\n",
              "      filter: drop-shadow(0px 1px 2px rgba(0, 0, 0, 0.3));\n",
              "      fill: #FFFFFF;\n",
              "    }\n",
              "  </style>\n",
              "\n",
              "      <script>\n",
              "        const buttonEl =\n",
              "          document.querySelector('#df-598f31c7-c994-42fd-a2ac-d8c1faf59935 button.colab-df-convert');\n",
              "        buttonEl.style.display =\n",
              "          google.colab.kernel.accessAllowed ? 'block' : 'none';\n",
              "\n",
              "        async function convertToInteractive(key) {\n",
              "          const element = document.querySelector('#df-598f31c7-c994-42fd-a2ac-d8c1faf59935');\n",
              "          const dataTable =\n",
              "            await google.colab.kernel.invokeFunction('convertToInteractive',\n",
              "                                                     [key], {});\n",
              "          if (!dataTable) return;\n",
              "\n",
              "          const docLinkHtml = 'Like what you see? Visit the ' +\n",
              "            '<a target=\"_blank\" href=https://colab.research.google.com/notebooks/data_table.ipynb>data table notebook</a>'\n",
              "            + ' to learn more about interactive tables.';\n",
              "          element.innerHTML = '';\n",
              "          dataTable['output_type'] = 'display_data';\n",
              "          await google.colab.output.renderOutput(dataTable, element);\n",
              "          const docLink = document.createElement('div');\n",
              "          docLink.innerHTML = docLinkHtml;\n",
              "          element.appendChild(docLink);\n",
              "        }\n",
              "      </script>\n",
              "    </div>\n",
              "  </div>\n",
              "  "
            ]
          },
          "metadata": {},
          "execution_count": 9
        }
      ]
    },
    {
      "cell_type": "code",
      "metadata": {
        "id": "apWon5Q_3BG8",
        "colab": {
          "base_uri": "https://localhost:8080/"
        },
        "outputId": "02c8616e-d277-4801-cd3f-71d07d91e854"
      },
      "source": [
        "df.shape"
      ],
      "execution_count": null,
      "outputs": [
        {
          "output_type": "execute_result",
          "data": {
            "text/plain": [
              "(52705, 6)"
            ]
          },
          "metadata": {},
          "execution_count": 10
        }
      ]
    },
    {
      "cell_type": "code",
      "metadata": {
        "id": "vox8cNL94BMM",
        "colab": {
          "base_uri": "https://localhost:8080/"
        },
        "outputId": "1ba170da-03be-4b62-cca3-a0ffe765d4db"
      },
      "source": [
        "df.info()"
      ],
      "execution_count": null,
      "outputs": [
        {
          "output_type": "stream",
          "name": "stdout",
          "text": [
            "<class 'pandas.core.frame.DataFrame'>\n",
            "RangeIndex: 52705 entries, 0 to 52704\n",
            "Data columns (total 6 columns):\n",
            " #   Column    Non-Null Count  Dtype  \n",
            "---  ------    --------------  -----  \n",
            " 0   dateTime  52705 non-null  object \n",
            " 1   open      52705 non-null  float64\n",
            " 2   high      52705 non-null  float64\n",
            " 3   low       52705 non-null  float64\n",
            " 4   close     52705 non-null  float64\n",
            " 5   volume    52705 non-null  float64\n",
            "dtypes: float64(5), object(1)\n",
            "memory usage: 2.4+ MB\n"
          ]
        }
      ]
    },
    {
      "cell_type": "code",
      "metadata": {
        "id": "XxhiU5rr3JSj",
        "colab": {
          "base_uri": "https://localhost:8080/",
          "height": 300
        },
        "outputId": "05c85a72-6ff7-45b0-e38b-98145b0bd808"
      },
      "source": [
        "include =['float', 'int']\n",
        "df.describe(include = include)"
      ],
      "execution_count": null,
      "outputs": [
        {
          "output_type": "execute_result",
          "data": {
            "text/plain": [
              "               open          high           low         close        volume\n",
              "count  52705.000000  52705.000000  52705.000000  52705.000000  52705.000000\n",
              "mean   27201.622920  27310.313049  27087.375356  27201.827973   1361.920772\n",
              "std    18335.884645  18411.101373  18256.880527  18335.759090   1464.825965\n",
              "min     4131.230000   4258.530000   3782.130000   4130.640000      0.000000\n",
              "25%     9586.310000   9609.910000   9560.000000   9586.440000    606.660845\n",
              "50%    21401.730000  21484.470000  21327.520000  21407.030000    965.508134\n",
              "75%    42935.390000  43090.040000  42765.260000  42935.400000   1583.151195\n",
              "max    68635.120000  69000.000000  68462.960000  68633.690000  74378.715690"
            ],
            "text/html": [
              "\n",
              "  <div id=\"df-126a80b5-f7d5-49d6-93d8-e0662fd603f3\">\n",
              "    <div class=\"colab-df-container\">\n",
              "      <div>\n",
              "<style scoped>\n",
              "    .dataframe tbody tr th:only-of-type {\n",
              "        vertical-align: middle;\n",
              "    }\n",
              "\n",
              "    .dataframe tbody tr th {\n",
              "        vertical-align: top;\n",
              "    }\n",
              "\n",
              "    .dataframe thead th {\n",
              "        text-align: right;\n",
              "    }\n",
              "</style>\n",
              "<table border=\"1\" class=\"dataframe\">\n",
              "  <thead>\n",
              "    <tr style=\"text-align: right;\">\n",
              "      <th></th>\n",
              "      <th>open</th>\n",
              "      <th>high</th>\n",
              "      <th>low</th>\n",
              "      <th>close</th>\n",
              "      <th>volume</th>\n",
              "    </tr>\n",
              "  </thead>\n",
              "  <tbody>\n",
              "    <tr>\n",
              "      <th>count</th>\n",
              "      <td>52705.000000</td>\n",
              "      <td>52705.000000</td>\n",
              "      <td>52705.000000</td>\n",
              "      <td>52705.000000</td>\n",
              "      <td>52705.000000</td>\n",
              "    </tr>\n",
              "    <tr>\n",
              "      <th>mean</th>\n",
              "      <td>27201.622920</td>\n",
              "      <td>27310.313049</td>\n",
              "      <td>27087.375356</td>\n",
              "      <td>27201.827973</td>\n",
              "      <td>1361.920772</td>\n",
              "    </tr>\n",
              "    <tr>\n",
              "      <th>std</th>\n",
              "      <td>18335.884645</td>\n",
              "      <td>18411.101373</td>\n",
              "      <td>18256.880527</td>\n",
              "      <td>18335.759090</td>\n",
              "      <td>1464.825965</td>\n",
              "    </tr>\n",
              "    <tr>\n",
              "      <th>min</th>\n",
              "      <td>4131.230000</td>\n",
              "      <td>4258.530000</td>\n",
              "      <td>3782.130000</td>\n",
              "      <td>4130.640000</td>\n",
              "      <td>0.000000</td>\n",
              "    </tr>\n",
              "    <tr>\n",
              "      <th>25%</th>\n",
              "      <td>9586.310000</td>\n",
              "      <td>9609.910000</td>\n",
              "      <td>9560.000000</td>\n",
              "      <td>9586.440000</td>\n",
              "      <td>606.660845</td>\n",
              "    </tr>\n",
              "    <tr>\n",
              "      <th>50%</th>\n",
              "      <td>21401.730000</td>\n",
              "      <td>21484.470000</td>\n",
              "      <td>21327.520000</td>\n",
              "      <td>21407.030000</td>\n",
              "      <td>965.508134</td>\n",
              "    </tr>\n",
              "    <tr>\n",
              "      <th>75%</th>\n",
              "      <td>42935.390000</td>\n",
              "      <td>43090.040000</td>\n",
              "      <td>42765.260000</td>\n",
              "      <td>42935.400000</td>\n",
              "      <td>1583.151195</td>\n",
              "    </tr>\n",
              "    <tr>\n",
              "      <th>max</th>\n",
              "      <td>68635.120000</td>\n",
              "      <td>69000.000000</td>\n",
              "      <td>68462.960000</td>\n",
              "      <td>68633.690000</td>\n",
              "      <td>74378.715690</td>\n",
              "    </tr>\n",
              "  </tbody>\n",
              "</table>\n",
              "</div>\n",
              "      <button class=\"colab-df-convert\" onclick=\"convertToInteractive('df-126a80b5-f7d5-49d6-93d8-e0662fd603f3')\"\n",
              "              title=\"Convert this dataframe to an interactive table.\"\n",
              "              style=\"display:none;\">\n",
              "        \n",
              "  <svg xmlns=\"http://www.w3.org/2000/svg\" height=\"24px\"viewBox=\"0 0 24 24\"\n",
              "       width=\"24px\">\n",
              "    <path d=\"M0 0h24v24H0V0z\" fill=\"none\"/>\n",
              "    <path d=\"M18.56 5.44l.94 2.06.94-2.06 2.06-.94-2.06-.94-.94-2.06-.94 2.06-2.06.94zm-11 1L8.5 8.5l.94-2.06 2.06-.94-2.06-.94L8.5 2.5l-.94 2.06-2.06.94zm10 10l.94 2.06.94-2.06 2.06-.94-2.06-.94-.94-2.06-.94 2.06-2.06.94z\"/><path d=\"M17.41 7.96l-1.37-1.37c-.4-.4-.92-.59-1.43-.59-.52 0-1.04.2-1.43.59L10.3 9.45l-7.72 7.72c-.78.78-.78 2.05 0 2.83L4 21.41c.39.39.9.59 1.41.59.51 0 1.02-.2 1.41-.59l7.78-7.78 2.81-2.81c.8-.78.8-2.07 0-2.86zM5.41 20L4 18.59l7.72-7.72 1.47 1.35L5.41 20z\"/>\n",
              "  </svg>\n",
              "      </button>\n",
              "      \n",
              "  <style>\n",
              "    .colab-df-container {\n",
              "      display:flex;\n",
              "      flex-wrap:wrap;\n",
              "      gap: 12px;\n",
              "    }\n",
              "\n",
              "    .colab-df-convert {\n",
              "      background-color: #E8F0FE;\n",
              "      border: none;\n",
              "      border-radius: 50%;\n",
              "      cursor: pointer;\n",
              "      display: none;\n",
              "      fill: #1967D2;\n",
              "      height: 32px;\n",
              "      padding: 0 0 0 0;\n",
              "      width: 32px;\n",
              "    }\n",
              "\n",
              "    .colab-df-convert:hover {\n",
              "      background-color: #E2EBFA;\n",
              "      box-shadow: 0px 1px 2px rgba(60, 64, 67, 0.3), 0px 1px 3px 1px rgba(60, 64, 67, 0.15);\n",
              "      fill: #174EA6;\n",
              "    }\n",
              "\n",
              "    [theme=dark] .colab-df-convert {\n",
              "      background-color: #3B4455;\n",
              "      fill: #D2E3FC;\n",
              "    }\n",
              "\n",
              "    [theme=dark] .colab-df-convert:hover {\n",
              "      background-color: #434B5C;\n",
              "      box-shadow: 0px 1px 3px 1px rgba(0, 0, 0, 0.15);\n",
              "      filter: drop-shadow(0px 1px 2px rgba(0, 0, 0, 0.3));\n",
              "      fill: #FFFFFF;\n",
              "    }\n",
              "  </style>\n",
              "\n",
              "      <script>\n",
              "        const buttonEl =\n",
              "          document.querySelector('#df-126a80b5-f7d5-49d6-93d8-e0662fd603f3 button.colab-df-convert');\n",
              "        buttonEl.style.display =\n",
              "          google.colab.kernel.accessAllowed ? 'block' : 'none';\n",
              "\n",
              "        async function convertToInteractive(key) {\n",
              "          const element = document.querySelector('#df-126a80b5-f7d5-49d6-93d8-e0662fd603f3');\n",
              "          const dataTable =\n",
              "            await google.colab.kernel.invokeFunction('convertToInteractive',\n",
              "                                                     [key], {});\n",
              "          if (!dataTable) return;\n",
              "\n",
              "          const docLinkHtml = 'Like what you see? Visit the ' +\n",
              "            '<a target=\"_blank\" href=https://colab.research.google.com/notebooks/data_table.ipynb>data table notebook</a>'\n",
              "            + ' to learn more about interactive tables.';\n",
              "          element.innerHTML = '';\n",
              "          dataTable['output_type'] = 'display_data';\n",
              "          await google.colab.output.renderOutput(dataTable, element);\n",
              "          const docLink = document.createElement('div');\n",
              "          docLink.innerHTML = docLinkHtml;\n",
              "          element.appendChild(docLink);\n",
              "        }\n",
              "      </script>\n",
              "    </div>\n",
              "  </div>\n",
              "  "
            ]
          },
          "metadata": {},
          "execution_count": 12
        }
      ]
    },
    {
      "cell_type": "code",
      "metadata": {
        "id": "kKcJoD776VRY"
      },
      "source": [
        "#covert datatime column from object dtype to datetime dtype\n",
        "df[\"dateTime\"] = df.dateTime.astype('datetime64[ns]')"
      ],
      "execution_count": null,
      "outputs": []
    },
    {
      "cell_type": "code",
      "source": [
        "#  rename close column to price column\n",
        "df = df.rename({'close': 'price'}, axis='columns')"
      ],
      "metadata": {
        "id": "5f-qJ4OB8eZp"
      },
      "execution_count": null,
      "outputs": []
    },
    {
      "cell_type": "code",
      "metadata": {
        "id": "GCE5Z5yu7w24",
        "colab": {
          "base_uri": "https://localhost:8080/"
        },
        "outputId": "a65a7ba2-99c5-46a2-fbe6-7bc1103db42a"
      },
      "source": [
        "df.info()"
      ],
      "execution_count": null,
      "outputs": [
        {
          "output_type": "stream",
          "name": "stdout",
          "text": [
            "<class 'pandas.core.frame.DataFrame'>\n",
            "RangeIndex: 52705 entries, 0 to 52704\n",
            "Data columns (total 6 columns):\n",
            " #   Column    Non-Null Count  Dtype         \n",
            "---  ------    --------------  -----         \n",
            " 0   dateTime  52705 non-null  datetime64[ns]\n",
            " 1   open      52705 non-null  float64       \n",
            " 2   high      52705 non-null  float64       \n",
            " 3   low       52705 non-null  float64       \n",
            " 4   price     52705 non-null  float64       \n",
            " 5   volume    52705 non-null  float64       \n",
            "dtypes: datetime64[ns](1), float64(5)\n",
            "memory usage: 2.4 MB\n"
          ]
        }
      ]
    },
    {
      "cell_type": "code",
      "source": [
        "#Set time column as Index\n",
        "df.set_index('dateTime',inplace=True)"
      ],
      "metadata": {
        "id": "gPupeSr9-lbx"
      },
      "execution_count": null,
      "outputs": []
    },
    {
      "cell_type": "code",
      "source": [
        "df.tail()"
      ],
      "metadata": {
        "id": "3XHEBaTI_Dp9",
        "colab": {
          "base_uri": "https://localhost:8080/",
          "height": 238
        },
        "outputId": "26b4f27b-e1fa-4b78-9d75-9f16e79293f4"
      },
      "execution_count": null,
      "outputs": [
        {
          "output_type": "execute_result",
          "data": {
            "text/plain": [
              "                         open      high       low     price      volume\n",
              "dateTime                                                               \n",
              "2022-07-18 20:00:00  21617.92  21671.30  21505.62  21605.59  3108.11703\n",
              "2022-07-18 20:30:00  21607.27  21678.43  21434.35  21493.18  3501.63688\n",
              "2022-07-18 21:00:00  21491.79  21739.00  21445.25  21690.01  2877.25071\n",
              "2022-07-18 21:30:00  21692.08  21756.30  21625.58  21659.73  2203.09375\n",
              "2022-07-18 22:00:00  21660.90  21698.40  21577.76  21676.85  1101.99596"
            ],
            "text/html": [
              "\n",
              "  <div id=\"df-7f5f8d2b-dd86-484a-915c-849ab9f472bb\">\n",
              "    <div class=\"colab-df-container\">\n",
              "      <div>\n",
              "<style scoped>\n",
              "    .dataframe tbody tr th:only-of-type {\n",
              "        vertical-align: middle;\n",
              "    }\n",
              "\n",
              "    .dataframe tbody tr th {\n",
              "        vertical-align: top;\n",
              "    }\n",
              "\n",
              "    .dataframe thead th {\n",
              "        text-align: right;\n",
              "    }\n",
              "</style>\n",
              "<table border=\"1\" class=\"dataframe\">\n",
              "  <thead>\n",
              "    <tr style=\"text-align: right;\">\n",
              "      <th></th>\n",
              "      <th>open</th>\n",
              "      <th>high</th>\n",
              "      <th>low</th>\n",
              "      <th>price</th>\n",
              "      <th>volume</th>\n",
              "    </tr>\n",
              "    <tr>\n",
              "      <th>dateTime</th>\n",
              "      <th></th>\n",
              "      <th></th>\n",
              "      <th></th>\n",
              "      <th></th>\n",
              "      <th></th>\n",
              "    </tr>\n",
              "  </thead>\n",
              "  <tbody>\n",
              "    <tr>\n",
              "      <th>2022-07-18 20:00:00</th>\n",
              "      <td>21617.92</td>\n",
              "      <td>21671.30</td>\n",
              "      <td>21505.62</td>\n",
              "      <td>21605.59</td>\n",
              "      <td>3108.11703</td>\n",
              "    </tr>\n",
              "    <tr>\n",
              "      <th>2022-07-18 20:30:00</th>\n",
              "      <td>21607.27</td>\n",
              "      <td>21678.43</td>\n",
              "      <td>21434.35</td>\n",
              "      <td>21493.18</td>\n",
              "      <td>3501.63688</td>\n",
              "    </tr>\n",
              "    <tr>\n",
              "      <th>2022-07-18 21:00:00</th>\n",
              "      <td>21491.79</td>\n",
              "      <td>21739.00</td>\n",
              "      <td>21445.25</td>\n",
              "      <td>21690.01</td>\n",
              "      <td>2877.25071</td>\n",
              "    </tr>\n",
              "    <tr>\n",
              "      <th>2022-07-18 21:30:00</th>\n",
              "      <td>21692.08</td>\n",
              "      <td>21756.30</td>\n",
              "      <td>21625.58</td>\n",
              "      <td>21659.73</td>\n",
              "      <td>2203.09375</td>\n",
              "    </tr>\n",
              "    <tr>\n",
              "      <th>2022-07-18 22:00:00</th>\n",
              "      <td>21660.90</td>\n",
              "      <td>21698.40</td>\n",
              "      <td>21577.76</td>\n",
              "      <td>21676.85</td>\n",
              "      <td>1101.99596</td>\n",
              "    </tr>\n",
              "  </tbody>\n",
              "</table>\n",
              "</div>\n",
              "      <button class=\"colab-df-convert\" onclick=\"convertToInteractive('df-7f5f8d2b-dd86-484a-915c-849ab9f472bb')\"\n",
              "              title=\"Convert this dataframe to an interactive table.\"\n",
              "              style=\"display:none;\">\n",
              "        \n",
              "  <svg xmlns=\"http://www.w3.org/2000/svg\" height=\"24px\"viewBox=\"0 0 24 24\"\n",
              "       width=\"24px\">\n",
              "    <path d=\"M0 0h24v24H0V0z\" fill=\"none\"/>\n",
              "    <path d=\"M18.56 5.44l.94 2.06.94-2.06 2.06-.94-2.06-.94-.94-2.06-.94 2.06-2.06.94zm-11 1L8.5 8.5l.94-2.06 2.06-.94-2.06-.94L8.5 2.5l-.94 2.06-2.06.94zm10 10l.94 2.06.94-2.06 2.06-.94-2.06-.94-.94-2.06-.94 2.06-2.06.94z\"/><path d=\"M17.41 7.96l-1.37-1.37c-.4-.4-.92-.59-1.43-.59-.52 0-1.04.2-1.43.59L10.3 9.45l-7.72 7.72c-.78.78-.78 2.05 0 2.83L4 21.41c.39.39.9.59 1.41.59.51 0 1.02-.2 1.41-.59l7.78-7.78 2.81-2.81c.8-.78.8-2.07 0-2.86zM5.41 20L4 18.59l7.72-7.72 1.47 1.35L5.41 20z\"/>\n",
              "  </svg>\n",
              "      </button>\n",
              "      \n",
              "  <style>\n",
              "    .colab-df-container {\n",
              "      display:flex;\n",
              "      flex-wrap:wrap;\n",
              "      gap: 12px;\n",
              "    }\n",
              "\n",
              "    .colab-df-convert {\n",
              "      background-color: #E8F0FE;\n",
              "      border: none;\n",
              "      border-radius: 50%;\n",
              "      cursor: pointer;\n",
              "      display: none;\n",
              "      fill: #1967D2;\n",
              "      height: 32px;\n",
              "      padding: 0 0 0 0;\n",
              "      width: 32px;\n",
              "    }\n",
              "\n",
              "    .colab-df-convert:hover {\n",
              "      background-color: #E2EBFA;\n",
              "      box-shadow: 0px 1px 2px rgba(60, 64, 67, 0.3), 0px 1px 3px 1px rgba(60, 64, 67, 0.15);\n",
              "      fill: #174EA6;\n",
              "    }\n",
              "\n",
              "    [theme=dark] .colab-df-convert {\n",
              "      background-color: #3B4455;\n",
              "      fill: #D2E3FC;\n",
              "    }\n",
              "\n",
              "    [theme=dark] .colab-df-convert:hover {\n",
              "      background-color: #434B5C;\n",
              "      box-shadow: 0px 1px 3px 1px rgba(0, 0, 0, 0.15);\n",
              "      filter: drop-shadow(0px 1px 2px rgba(0, 0, 0, 0.3));\n",
              "      fill: #FFFFFF;\n",
              "    }\n",
              "  </style>\n",
              "\n",
              "      <script>\n",
              "        const buttonEl =\n",
              "          document.querySelector('#df-7f5f8d2b-dd86-484a-915c-849ab9f472bb button.colab-df-convert');\n",
              "        buttonEl.style.display =\n",
              "          google.colab.kernel.accessAllowed ? 'block' : 'none';\n",
              "\n",
              "        async function convertToInteractive(key) {\n",
              "          const element = document.querySelector('#df-7f5f8d2b-dd86-484a-915c-849ab9f472bb');\n",
              "          const dataTable =\n",
              "            await google.colab.kernel.invokeFunction('convertToInteractive',\n",
              "                                                     [key], {});\n",
              "          if (!dataTable) return;\n",
              "\n",
              "          const docLinkHtml = 'Like what you see? Visit the ' +\n",
              "            '<a target=\"_blank\" href=https://colab.research.google.com/notebooks/data_table.ipynb>data table notebook</a>'\n",
              "            + ' to learn more about interactive tables.';\n",
              "          element.innerHTML = '';\n",
              "          dataTable['output_type'] = 'display_data';\n",
              "          await google.colab.output.renderOutput(dataTable, element);\n",
              "          const docLink = document.createElement('div');\n",
              "          docLink.innerHTML = docLinkHtml;\n",
              "          element.appendChild(docLink);\n",
              "        }\n",
              "      </script>\n",
              "    </div>\n",
              "  </div>\n",
              "  "
            ]
          },
          "metadata": {},
          "execution_count": 17
        }
      ]
    },
    {
      "cell_type": "code",
      "source": [
        "#plot\n",
        "df['price'].plot(title = \"Bitcoin Weighted Price\",x = \"time\",y = \"price\",figsize=(20, 10))\n",
        "plt.show()"
      ],
      "metadata": {
        "id": "lCwjQHaY_tqa",
        "colab": {
          "base_uri": "https://localhost:8080/",
          "height": 587
        },
        "outputId": "dad50db8-e4aa-4e1d-886d-e52549b1b1d0"
      },
      "execution_count": null,
      "outputs": [
        {
          "output_type": "display_data",
          "data": {
            "text/plain": [
              "<Figure size 1440x720 with 1 Axes>"
            ],
            "image/png": "[encoded data removed]"
          },
          "metadata": {
            "needs_background": "light"
          }
        }
      ]
    },
    {
      "cell_type": "markdown",
      "metadata": {
        "id": "u5MKAJNJ2D5C"
      },
      "source": [
        "## **Auto-correlation**"
      ]
    },
    {
      "cell_type": "code",
      "metadata": {
        "id": "aM-PSPiM2CEU",
        "colab": {
          "base_uri": "https://localhost:8080/",
          "height": 87
        },
        "outputId": "39e26341-b9ea-4352-93d4-c4a14b67c1e0"
      },
      "source": [
        "#Auto-correlation \n",
        "'''\n",
        "plt.figure(figsize=(20,15))\n",
        "plt.suptitle('Lag Plots', fontsize=22)\n",
        "\n",
        "plt.subplot(3,3,1)\n",
        "pd.plotting.lag_plot(df['price'], lag=1) #minute lag\n",
        "plt.title('1-Minute Lag')\n",
        "\n",
        "plt.subplot(3,3,2)\n",
        "pd.plotting.lag_plot(df['price'], lag=60) #hourley lag\n",
        "plt.title('1-Hour Lag')\n",
        "\n",
        "plt.subplot(3,3,3)\n",
        "pd.plotting.lag_plot(df['price'], lag=1440) #Daily lag\n",
        "plt.title('Daily Lag')\n",
        "\n",
        "plt.subplot(3,3,4)\n",
        "pd.plotting.lag_plot(df['price'], lag=10080) #weekly lag\n",
        "plt.title('Weekly Lag')\n",
        "'''"
      ],
      "execution_count": null,
      "outputs": [
        {
          "output_type": "execute_result",
          "data": {
            "text/plain": [
              "\"\\nplt.figure(figsize=(20,15))\\nplt.suptitle('Lag Plots', fontsize=22)\\n\\nplt.subplot(3,3,1)\\npd.plotting.lag_plot(df['price'], lag=1) #minute lag\\nplt.title('1-Minute Lag')\\n\\nplt.subplot(3,3,2)\\npd.plotting.lag_plot(df['price'], lag=60) #hourley lag\\nplt.title('1-Hour Lag')\\n\\nplt.subplot(3,3,3)\\npd.plotting.lag_plot(df['price'], lag=1440) #Daily lag\\nplt.title('Daily Lag')\\n\\nplt.subplot(3,3,4)\\npd.plotting.lag_plot(df['price'], lag=10080) #weekly lag\\nplt.title('Weekly Lag')\\n\""
            ],
            "application/vnd.google.colaboratory.intrinsic+json": {
              "type": "string"
            }
          },
          "metadata": {},
          "execution_count": 19
        }
      ]
    },
    {
      "cell_type": "code",
      "metadata": {
        "id": "KB5RuLS72CJX",
        "colab": {
          "base_uri": "https://localhost:8080/",
          "height": 53
        },
        "outputId": "6ee26258-f95e-4bec-80c8-20b5fda0143b"
      },
      "source": [
        "# Group by the day\n",
        "'''\n",
        "df['date'] = pd.to_datetime(df.index,unit='H').date\n",
        "display(df.head())\n",
        "group = df.groupby('date')\n",
        "new_df = group['price'].mean()\n",
        "display(new_df.head())\n",
        "'''"
      ],
      "execution_count": null,
      "outputs": [
        {
          "output_type": "execute_result",
          "data": {
            "text/plain": [
              "\"\\ndf['date'] = pd.to_datetime(df.index,unit='H').date\\ndisplay(df.head())\\ngroup = df.groupby('date')\\nnew_df = group['price'].mean()\\ndisplay(new_df.head())\\n\""
            ],
            "application/vnd.google.colaboratory.intrinsic+json": {
              "type": "string"
            }
          },
          "metadata": {},
          "execution_count": 20
        }
      ]
    },
    {
      "cell_type": "code",
      "source": [
        "# Make a copy of the dataframe.\n",
        "new_df = df.drop([\"open\", \"high\", \"low\", \"volume\"], axis=1)"
      ],
      "metadata": {
        "id": "wsKPWv2z_XDW"
      },
      "execution_count": null,
      "outputs": []
    },
    {
      "cell_type": "code",
      "source": [
        "new_df.info()"
      ],
      "metadata": {
        "colab": {
          "base_uri": "https://localhost:8080/"
        },
        "id": "v8tlWs-WVWK0",
        "outputId": "7ea6ca42-fd6b-4230-c2c3-140168769f40"
      },
      "execution_count": null,
      "outputs": [
        {
          "output_type": "stream",
          "name": "stdout",
          "text": [
            "<class 'pandas.core.frame.DataFrame'>\n",
            "DatetimeIndex: 52705 entries, 2019-07-14 22:30:00 to 2022-07-18 22:00:00\n",
            "Data columns (total 1 columns):\n",
            " #   Column  Non-Null Count  Dtype  \n",
            "---  ------  --------------  -----  \n",
            " 0   price   52705 non-null  float64\n",
            "dtypes: float64(1)\n",
            "memory usage: 823.5 KB\n"
          ]
        }
      ]
    },
    {
      "cell_type": "markdown",
      "metadata": {
        "id": "VK3Pw6zWSJMb"
      },
      "source": [
        "## Data Split"
      ]
    },
    {
      "cell_type": "markdown",
      "source": [
        "we first need to split the data into training and test set before applying normalization over data."
      ],
      "metadata": {
        "id": "OwVHYDBhUvbm"
      }
    },
    {
      "cell_type": "code",
      "metadata": {
        "id": "T4yvM_zy2CMy"
      },
      "source": [
        "#  Train data  70%  \n",
        "train = new_df[:int(new_df.shape[0]*0.7)].values\n",
        "# cross validation data  15%\n",
        "cv = new_df[int(new_df.shape[0]*0.7):int(new_df.shape[0]*0.85)].values\n",
        "# Test data  15%\n",
        "test = new_df[int(new_df.shape[0]*0.85):].values"
      ],
      "execution_count": null,
      "outputs": []
    },
    {
      "cell_type": "code",
      "metadata": {
        "id": "74wKvepR2CPi",
        "colab": {
          "base_uri": "https://localhost:8080/"
        },
        "outputId": "290e52ea-108a-4732-d6da-d13d2cd681cf"
      },
      "source": [
        "print(train.shape ,cv.shape , test.shape)"
      ],
      "execution_count": null,
      "outputs": [
        {
          "output_type": "stream",
          "name": "stdout",
          "text": [
            "(36893, 1) (7906, 1) (7906, 1)\n"
          ]
        }
      ]
    },
    {
      "cell_type": "markdown",
      "source": [
        "## Data Scaling"
      ],
      "metadata": {
        "id": "WFkU1-qSB2cQ"
      }
    },
    {
      "cell_type": "markdown",
      "source": [
        "Standard Scaler for Data"
      ],
      "metadata": {
        "id": "wYsx8gBHEbsM"
      }
    },
    {
      "cell_type": "markdown",
      "source": [
        "\n",
        "we should perform feature normalisation over the training data. Then perform normalisation on testing instances as well, but this time using the mean and variance of training explanatory variables. In this way, we can test and evaluate whether our model can generalize well to new, unseen data points"
      ],
      "metadata": {
        "id": "e4vmRAYa994M"
      }
    },
    {
      "cell_type": "code",
      "source": [
        "scaler = StandardScaler(copy=True, with_mean=True, with_std=True)\n",
        "#scaled_train  = scaler.fit_transform(train)\n",
        "\n",
        "scaler = scaler.fit(train)\n",
        "\n",
        "\n",
        "scaled_train = scaler.transform(train)\n",
        "scaled_cv   = scaler.transform(cv)\n",
        "scaled_test   = scaler.transform(test)\n"
      ],
      "metadata": {
        "id": "mGCHKdD0Bgj1"
      },
      "execution_count": null,
      "outputs": []
    },
    {
      "cell_type": "code",
      "source": [
        "scaled_train[0:25]"
      ],
      "metadata": {
        "id": "AvMpwAghOcUS",
        "colab": {
          "base_uri": "https://localhost:8080/"
        },
        "outputId": "ebb5c618-4ed2-4f00-cf36-d22eb2db3045"
      },
      "execution_count": null,
      "outputs": [
        {
          "output_type": "execute_result",
          "data": {
            "text/plain": [
              "array([[-0.60907402],\n",
              "       [-0.61456556],\n",
              "       [-0.62798129],\n",
              "       [-0.6424049 ],\n",
              "       [-0.63790866],\n",
              "       [-0.63233517],\n",
              "       [-0.63614534],\n",
              "       [-0.63533486],\n",
              "       [-0.63220597],\n",
              "       [-0.62315608],\n",
              "       [-0.62375662],\n",
              "       [-0.62684243],\n",
              "       [-0.62896584],\n",
              "       [-0.63026799],\n",
              "       [-0.62808178],\n",
              "       [-0.63229749],\n",
              "       [-0.62909145],\n",
              "       [-0.62434399],\n",
              "       [-0.61909769],\n",
              "       [-0.62278822],\n",
              "       [-0.62733291],\n",
              "       [-0.62332894],\n",
              "       [-0.61929986],\n",
              "       [-0.61908991],\n",
              "       [-0.62188144]])"
            ]
          },
          "metadata": {},
          "execution_count": 26
        }
      ]
    },
    {
      "cell_type": "markdown",
      "source": [
        "## Dataset Generator for LSTM"
      ],
      "metadata": {
        "id": "HlCnxFKaNIHr"
      }
    },
    {
      "cell_type": "markdown",
      "source": [
        "The input will be -> 1, 2, 3, 4, 5, 6, 7 \n",
        "\n",
        "And the output will be -> 8 \n",
        "-------\n",
        "The input will be -> 2, 3, 4, 5, 6, 7, 8 \n",
        "\n",
        "And the output will be -> 9\n",
        "-------\n",
        "..."
      ],
      "metadata": {
        "id": "v3Z5qnAQUdRS"
      }
    },
    {
      "cell_type": "code",
      "source": [
        "def data_generator(data,lookback  = 7):\n",
        "  x = [data[i:(i + lookback), 0] for i in range(len(data)-lookback)]\n",
        "  y = [data[i+lookback, 0] for i in range(len(data)-lookback)]\n",
        "  return np.array(x), np.array(y)"
      ],
      "metadata": {
        "id": "PMnRtxcuBgqr"
      },
      "execution_count": null,
      "outputs": []
    },
    {
      "cell_type": "code",
      "source": [
        "trainX, trainY = data_generator(scaled_train)\n",
        "CVX, CVY = data_generator(scaled_cv)\n",
        "testX, testY = data_generator(scaled_test)"
      ],
      "metadata": {
        "id": "7SHpwOVaPkaI"
      },
      "execution_count": null,
      "outputs": []
    },
    {
      "cell_type": "code",
      "source": [
        "print(\"trainX: \", trainX.shape)\n",
        "print(\"trainY: \", trainY.shape)\n",
        "print(\"CVX: \", CVX.shape)\n",
        "print(\"CVY: \", CVY.shape)\n",
        "print(\"testX: \", testX.shape)\n",
        "print(\"testY\", testY.shape)"
      ],
      "metadata": {
        "id": "aTGpPbK0RCBg",
        "colab": {
          "base_uri": "https://localhost:8080/"
        },
        "outputId": "f6709ae8-dcdb-4f1b-c4c1-f1d175b2fdee"
      },
      "execution_count": null,
      "outputs": [
        {
          "output_type": "stream",
          "name": "stdout",
          "text": [
            "trainX:  (36886, 7)\n",
            "trainY:  (36886,)\n",
            "CVX:  (7899, 7)\n",
            "CVY:  (7899,)\n",
            "testX:  (7899, 7)\n",
            "testY (7899,)\n"
          ]
        }
      ]
    },
    {
      "cell_type": "code",
      "source": [
        "print(trainX[1])\n",
        "print(trainX[2])"
      ],
      "metadata": {
        "colab": {
          "base_uri": "https://localhost:8080/"
        },
        "id": "uvUGTNkFXoBN",
        "outputId": "d23292d9-0ddd-428a-b128-feb2f8b83a12"
      },
      "execution_count": null,
      "outputs": [
        {
          "output_type": "stream",
          "name": "stdout",
          "text": [
            "[-0.61456556 -0.62798129 -0.6424049  -0.63790866 -0.63233517 -0.63614534\n",
            " -0.63533486]\n",
            "[-0.62798129 -0.6424049  -0.63790866 -0.63233517 -0.63614534 -0.63533486\n",
            " -0.63220597]\n"
          ]
        }
      ]
    },
    {
      "cell_type": "markdown",
      "source": [
        "For LSTM we need to reshape input to be a 3D Tensor of samples, time steps, features.\n",
        "\n",
        "The number of time steps is equal to the number of LSTM cells"
      ],
      "metadata": {
        "id": "hmnKOuid5Q6b"
      }
    },
    {
      "cell_type": "code",
      "source": [
        "# We use the reshape() function on the NumPy array to reshape the one-dimensional array into a three-dimensional array.\n",
        "def data_reshape(data):\n",
        "  return np.reshape(data, (data.shape[0], data.shape[1], 1))"
      ],
      "metadata": {
        "id": "S8JWwGTmYODi"
      },
      "execution_count": null,
      "outputs": []
    },
    {
      "cell_type": "code",
      "source": [
        "trainX = data_reshape(trainX)\n",
        "CVX = data_reshape(CVX)\n",
        "testX = data_reshape(testX)\n",
        "\n",
        "print(\"Shape of trainX: \", trainX.shape)\n",
        "print(\"Shape of CVX: \", CVX.shape)\n",
        "print(\"Shape of testX: \", testX.shape)"
      ],
      "metadata": {
        "id": "tSra9YuNYupj",
        "colab": {
          "base_uri": "https://localhost:8080/"
        },
        "outputId": "f6535d7a-005b-47f5-c05f-dc77f0f5b6c5"
      },
      "execution_count": null,
      "outputs": [
        {
          "output_type": "stream",
          "name": "stdout",
          "text": [
            "Shape of trainX:  (36886, 7, 1)\n",
            "Shape of CVX:  (7899, 7, 1)\n",
            "Shape of testX:  (7899, 7, 1)\n"
          ]
        }
      ]
    },
    {
      "cell_type": "markdown",
      "source": [
        "## LSTM Model"
      ],
      "metadata": {
        "id": "wYyoZ9jqWLQE"
      }
    },
    {
      "cell_type": "markdown",
      "source": [
        "to convert an input sequence into an output sequence we use **return_sequences=True**."
      ],
      "metadata": {
        "id": "A-YDSL9eE5OH"
      }
    },
    {
      "cell_type": "code",
      "source": [
        "# the input to every LSTM layer must be three-dimensional.\n",
        "model = Sequential()\n",
        "# input_shape is supposed to be (timesteps, n_features).\n",
        "model.add(LSTM(units = 128, activation = 'relu',return_sequences=True, input_shape = (trainX.shape[1], trainX.shape[2])))\n",
        "model.add(Dropout(0.2))\n",
        "# Adding a second LSTM layer and some Dropout regularisation\n",
        "model.add(LSTM(units = 64, input_shape = (trainX.shape[1], trainX.shape[2])))\n",
        "model.add(Dropout(0.2))\n",
        "\n",
        "\n",
        "# output layer\n",
        "model.add(Dense(units = 1))"
      ],
      "metadata": {
        "id": "xHk8-pYOTii3",
        "colab": {
          "base_uri": "https://localhost:8080/"
        },
        "outputId": "009ebef4-a35f-4aa6-dab1-4cc9081dc0a6"
      },
      "execution_count": null,
      "outputs": [
        {
          "output_type": "stream",
          "name": "stdout",
          "text": [
            "WARNING:tensorflow:Layer lstm will not use cuDNN kernels since it doesn't meet the criteria. It will use a generic GPU kernel as fallback when running on GPU.\n"
          ]
        }
      ]
    },
    {
      "cell_type": "code",
      "source": [
        "model.summary()"
      ],
      "metadata": {
        "id": "vKmWvP1JXoVh",
        "colab": {
          "base_uri": "https://localhost:8080/"
        },
        "outputId": "6bf6af40-cc7d-4baa-c247-2e88f82db29a"
      },
      "execution_count": null,
      "outputs": [
        {
          "output_type": "stream",
          "name": "stdout",
          "text": [
            "Model: \"sequential\"\n",
            "_________________________________________________________________\n",
            " Layer (type)                Output Shape              Param #   \n",
            "=================================================================\n",
            " lstm (LSTM)                 (None, 7, 128)            66560     \n",
            "                                                                 \n",
            " dropout (Dropout)           (None, 7, 128)            0         \n",
            "                                                                 \n",
            " lstm_1 (LSTM)               (None, 64)                49408     \n",
            "                                                                 \n",
            " dropout_1 (Dropout)         (None, 64)                0         \n",
            "                                                                 \n",
            " dense (Dense)               (None, 1)                 65        \n",
            "                                                                 \n",
            "=================================================================\n",
            "Total params: 116,033\n",
            "Trainable params: 116,033\n",
            "Non-trainable params: 0\n",
            "_________________________________________________________________\n"
          ]
        }
      ]
    },
    {
      "cell_type": "code",
      "source": [
        "# Compiling the LSTM\n",
        "model.compile(optimizer = 'adam', loss = 'mean_squared_error')\n",
        "\n",
        "#checkpoint_path = 'my_best_model.hdf5'\n",
        "'''\n",
        "checkpoint = ModelCheckpoint(filepath=checkpoint_path, \n",
        "                             monitor='val_loss',\n",
        "                             verbose=1, \n",
        "                             save_best_only=True,\n",
        "                             mode='min')\n",
        "'''\n",
        "\n",
        "earlystopping = EarlyStopping(monitor='val_loss', patience=10, restore_best_weights=True)\n",
        "ep = 30\n",
        "BS = 8\n",
        "\n",
        "callbacks = [earlystopping]\n",
        "# callbacks = [checkpoint]\n",
        "\n",
        "\n",
        "history = model.fit(trainX, trainY, batch_size = BS, epochs = ep, verbose=1, shuffle=False, validation_data=(CVX, CVY), callbacks=callbacks)"
      ],
      "metadata": {
        "id": "dx5-0EBlYHOq",
        "colab": {
          "base_uri": "https://localhost:8080/"
        },
        "outputId": "c9029265-5947-4da0-b93b-febf6a9bb6cf"
      },
      "execution_count": null,
      "outputs": [
        {
          "output_type": "stream",
          "name": "stdout",
          "text": [
            "Epoch 1/30\n",
            "4611/4611 [==============================] - 94s 19ms/step - loss: 0.0086 - val_loss: 0.2306\n",
            "Epoch 2/30\n",
            "4611/4611 [==============================] - 86s 19ms/step - loss: 0.0119 - val_loss: 0.2217\n",
            "Epoch 3/30\n",
            "4611/4611 [==============================] - 86s 19ms/step - loss: 0.0092 - val_loss: 0.2105\n",
            "Epoch 4/30\n",
            "4611/4611 [==============================] - 86s 19ms/step - loss: 0.0094 - val_loss: 0.2052\n",
            "Epoch 5/30\n",
            "4611/4611 [==============================] - 85s 19ms/step - loss: 0.0094 - val_loss: 0.1998\n",
            "Epoch 6/30\n",
            "4611/4611 [==============================] - 91s 20ms/step - loss: 0.0091 - val_loss: 0.1887\n",
            "Epoch 7/30\n",
            "4611/4611 [==============================] - 84s 18ms/step - loss: 0.0087 - val_loss: 0.1950\n",
            "Epoch 8/30\n",
            "4611/4611 [==============================] - 86s 19ms/step - loss: 0.0083 - val_loss: 0.1840\n",
            "Epoch 9/30\n",
            "4611/4611 [==============================] - 85s 18ms/step - loss: 0.0082 - val_loss: 0.1857\n",
            "Epoch 10/30\n",
            "4611/4611 [==============================] - 85s 18ms/step - loss: 0.0078 - val_loss: 0.1846\n",
            "Epoch 11/30\n",
            "4611/4611 [==============================] - 84s 18ms/step - loss: 0.0076 - val_loss: 0.1640\n",
            "Epoch 12/30\n",
            "4611/4611 [==============================] - 85s 19ms/step - loss: 0.0076 - val_loss: 0.1646\n",
            "Epoch 13/30\n",
            "4611/4611 [==============================] - 85s 19ms/step - loss: 0.0073 - val_loss: 0.1684\n",
            "Epoch 14/30\n",
            "4611/4611 [==============================] - 86s 19ms/step - loss: 0.0072 - val_loss: 0.1494\n",
            "Epoch 15/30\n",
            "4611/4611 [==============================] - 85s 18ms/step - loss: 0.0072 - val_loss: 0.1568\n",
            "Epoch 16/30\n",
            "4611/4611 [==============================] - 85s 18ms/step - loss: 0.0071 - val_loss: 0.1507\n",
            "Epoch 17/30\n",
            "4611/4611 [==============================] - 86s 19ms/step - loss: 0.0069 - val_loss: 0.1478\n",
            "Epoch 18/30\n",
            "4611/4611 [==============================] - 85s 18ms/step - loss: 0.0071 - val_loss: 0.1529\n",
            "Epoch 19/30\n",
            "4611/4611 [==============================] - 84s 18ms/step - loss: 0.0069 - val_loss: 0.1508\n",
            "Epoch 20/30\n",
            "4611/4611 [==============================] - 85s 18ms/step - loss: 0.0067 - val_loss: 0.1476\n",
            "Epoch 21/30\n",
            "4611/4611 [==============================] - 84s 18ms/step - loss: 0.0069 - val_loss: 0.1560\n",
            "Epoch 22/30\n",
            "4611/4611 [==============================] - 85s 18ms/step - loss: 0.0066 - val_loss: 0.1469\n",
            "Epoch 23/30\n",
            "4611/4611 [==============================] - 84s 18ms/step - loss: 0.0065 - val_loss: 0.1434\n",
            "Epoch 24/30\n",
            "4611/4611 [==============================] - 84s 18ms/step - loss: 0.0066 - val_loss: 0.1542\n",
            "Epoch 25/30\n",
            "4611/4611 [==============================] - 84s 18ms/step - loss: 0.0064 - val_loss: 0.1403\n",
            "Epoch 26/30\n",
            "4611/4611 [==============================] - 83s 18ms/step - loss: 0.0064 - val_loss: 0.1523\n",
            "Epoch 27/30\n",
            "4611/4611 [==============================] - 83s 18ms/step - loss: 0.0064 - val_loss: 0.1399\n",
            "Epoch 28/30\n",
            "4611/4611 [==============================] - 83s 18ms/step - loss: 0.0064 - val_loss: 0.1367\n",
            "Epoch 29/30\n",
            "4611/4611 [==============================] - 84s 18ms/step - loss: 0.0065 - val_loss: 0.1466\n",
            "Epoch 30/30\n",
            "4611/4611 [==============================] - 84s 18ms/step - loss: 0.0064 - val_loss: 0.1312\n"
          ]
        }
      ]
    },
    {
      "cell_type": "code",
      "source": [
        "# Save the model\n",
        "model.save_weights('LSTM_RNN_.h5')"
      ],
      "metadata": {
        "id": "OD3c6DF7aXv4"
      },
      "execution_count": null,
      "outputs": []
    },
    {
      "cell_type": "code",
      "source": [
        "# Load the model\n",
        "model.load_weights('LSTM_RNN_.h5')"
      ],
      "metadata": {
        "id": "elRDhyjzXp_r"
      },
      "execution_count": null,
      "outputs": []
    },
    {
      "cell_type": "code",
      "source": [
        "plt.figure(figsize=(16,7))\n",
        "plt.plot(history.history['loss'], label='train')\n",
        "plt.plot(history.history['val_loss'], label='test')\n",
        "\n",
        "plt.legend()\n",
        "plt.show()"
      ],
      "metadata": {
        "id": "EPq-IHCWcZDu",
        "colab": {
          "base_uri": "https://localhost:8080/",
          "height": 428
        },
        "outputId": "ff90d876-950f-4981-c677-73b3434244b3"
      },
      "execution_count": null,
      "outputs": [
        {
          "output_type": "display_data",
          "data": {
            "text/plain": [
              "<Figure size 1152x504 with 1 Axes>"
            ],
            "image/png": "[encoded data removed]"
          },
          "metadata": {
            "needs_background": "light"
          }
        }
      ]
    },
    {
      "cell_type": "markdown",
      "source": [
        "## LSTM Predictions vs. Actual testY"
      ],
      "metadata": {
        "id": "zgEdxyqedChF"
      }
    },
    {
      "cell_type": "markdown",
      "source": [
        "We need to transfer the scale data to the original data (real value), So we are going to use **inverse_transform** to Scale back the data to the original representation."
      ],
      "metadata": {
        "id": "KisM38l3JvoR"
      }
    },
    {
      "cell_type": "code",
      "source": [
        "predicted_test_data = model.predict(testX)\n",
        "predicted_test_data = scaler.inverse_transform(predicted_test_data)\n",
        "test_actual = scaler.inverse_transform(testY.reshape(-1, 1))"
      ],
      "metadata": {
        "id": "wxaxgNzycZGp"
      },
      "execution_count": null,
      "outputs": []
    },
    {
      "cell_type": "markdown",
      "source": [
        "difference between Predictions and Actual"
      ],
      "metadata": {
        "id": "AwiClrCatEvz"
      }
    },
    {
      "cell_type": "code",
      "source": [
        "l = zip(predicted_test_data,test_actual)\n",
        "m = map(lambda x: x[0]-x[1], l)\n",
        "r = reduce(lambda x,y: x + y, m)\n",
        "print(\"result of Predictions - Actual testY:\", r)"
      ],
      "metadata": {
        "id": "4h793o48l_yQ",
        "colab": {
          "base_uri": "https://localhost:8080/"
        },
        "outputId": "937598cc-31a8-4947-e358-2aa5b9f8ccd8"
      },
      "execution_count": null,
      "outputs": [
        {
          "output_type": "stream",
          "name": "stdout",
          "text": [
            "result of Predictions - Actual testY: [41453767.4974221]\n"
          ]
        }
      ]
    },
    {
      "cell_type": "code",
      "source": [
        "plt.figure(figsize=(16,7))\n",
        "\n",
        "plt.plot(predicted_test_data, 'r', marker='.', label='Predicted Test')\n",
        "\n",
        "plt.plot(test_actual, 'b', marker='.', label='Actual Test')\n",
        "\n",
        "plt.legend()\n",
        "plt.show()"
      ],
      "metadata": {
        "id": "WUA3_d48cZKl",
        "colab": {
          "base_uri": "https://localhost:8080/",
          "height": 428
        },
        "outputId": "8ea7786f-873a-40a9-b94b-65f35531450e"
      },
      "execution_count": null,
      "outputs": [
        {
          "output_type": "display_data",
          "data": {
            "text/plain": [
              "<Figure size 1152x504 with 1 Axes>"
            ],
            "image/png": "[encoded data removed]"
          },
          "metadata": {
            "needs_background": "light"
          }
        }
      ]
    },
    {
      "cell_type": "markdown",
      "source": [
        "##Mean squared error\n",
        "\n",
        "![RMSE1.jpg](data:image/jpeg;base64,/9j/4AAQSkZJRgABAQAAAQABAAD/2wBDAAgGBgcGBQgHBwcJCQgKDBQNDAsLDBkSEw8UHRofHh0aHBwgJC4nICIsIxwcKDcpLDAxNDQ0Hyc5PTgyPC4zNDL/2wBDAQkJCQwLDBgNDRgyIRwhMjIyMjIyMjIyMjIyMjIyMjIyMjIyMjIyMjIyMjIyMjIyMjIyMjIyMjIyMjIyMjIyMjL/wAARCACCAYUDASIAAhEBAxEB/8QAGwABAAIDAQEAAAAAAAAAAAAAAAUGAwQHAQL/xABJEAAABQIDAgoIAwQGCwAAAAAAAQIDBAURBhIhEzEUFhdBUVRWlJXSBxUiMmFxgZEjUqEzQpLRJCVTsbLBNDU2N0NVV3JzgsL/xAAWAQEBAQAAAAAAAAAAAAAAAAAAAQL/xAAjEQEBAQADAAEDBQEAAAAAAAAAAREhMUFhUYHBAiJCsdHw/9oADAMBAAIRAxEAPwDv4AAAAAAAAAAAAAAAAAAAAAAAAh5eJKZAeU1JddQpKzT7LC16kRGfukf5i3jBxyofWn+5veUBPgIDjlQ+tP8Ac3vKHHKh9af7m95QE+AgOOVD60/3N7yhxyofWn+5veUBPgIDjlQ+tP8Ac3vKHHKh9af7m95QE+AgOOVD60/3N7yhxyofWn+5veUBPgIDjlQ+tP8Ac3vKHHKh9af7m95QE+AgOOVD60/3N7yhxyofWn+5veUBPgIDjlQ+tP8Ac3vKHHKh9af7m95QE+AgOOVD60/3N7yhxyofWn+5veUBPgIDjlQ+tP8Ac3vKHHKh9af7m95QE+AgOOVD60/3N7yhxyofWn+5veUBPgIDjlQ+tP8Ac3vKHHKh9af7m95QE+AgOOVD60/3N7yhxyofWn+5veUBPgIDjlQ+tP8Ac3vKHHKh9af7m95QE+AgOOVD60/3N7yhxyofWn+5veUBPgIAsZULrL/dHvKJ8AAAAAAAAAAAAAAAAAAAAAAAAAAAAeD0AETR/wBvVF/mmK/RKSEsYiqIeZmU7+eU7+isv+QkzOxCeDSKs0xS5KE1GJmiW4QnbJuzfdnK/s/UbLL7cllLrDqHWlldK0KJSTL4GQ5RWSXFWqvxE501l56mu5NbktZkyo/kdy/9h1aM0TEZppPuoSRCzrVvDOAACAAAAAAAAAAAAAAAAAAAAAAAAAAAAAAAAAAAAAAAAAAAAAAAAAAAAAAAAAAAAAAAAAAAAAAA8MejG6f4K/kYl6EbQC/qs1fmfeV93FDnOJvSNiPDuM2aHPpdNYhS1mmPNfWs21JPQr2LQ9xGXxHSMP8A+ooa/wA7ZOfxa/5jRxhhKBjGhO0yamxmWZp4i9ptfMZB+rvVnPaMaiYtRGQ0xDw4lgjJxDaCWSSPeRkRFa99bjDMreMqTUadw6nUx2nSJCWHno7iszWY7Edj3lfT6ir+j3FVQwxXDwDitWV9o8tPlKvZ5N9E359LW+w684208nK4lKk3I9ektSMX5nSfFZAuNKqz0UulS5znux2lOfYtBr4fZUijx3X1ZpEhBOuq6VK1t9L2ASo9FPn4wmRcZN4bjUhMiQ6wb6XOE5Ekgjtr7JmRjZoWMGqpWp1Elw3YFUhJJxxlaiUlSD3KSotDIILOA+CWn8yfuPcyfzF9wH0A15LuyjOKSpKVEk1Fn3fUVChYwqdSwU7XVUnhT6XnG2o8RWU3UpXlJRGo+e1xNXF3AYWnNoyhxSdmoyJRpVa6bluMfMiWxEjOSn3UoZaSalrM9CIt5io2AGtDlsT4TMxhWdl5tLiFdKTK5H9jGclJV7qgH0Ar+Ma47hzDE+rMbBTsVs3EtvXsq3NprqdhI0iU/Mo8SVJbS0+60lbjab2SZlcyK4Qb4AAAA8FOjY+iysdcWW4btlIWpM25ZFqRbMki3na5FcT3BcgHyZpSWo06jU4dJgOTpj6Wo7Ze0oz/AELpMUbwDGh1K0JUlScqi013j6v+7fUB9APg1p/Mn7isYoxJModXoMOI1Gd9ZzCjrS5mzJTa5qK2mhFzgLSZjTmzm4bLbqm3Xc6iSlLKDWZmevNzaDcsKS9iHi7MqVMU0+/slocjJQ0pzKlzpJJGeVKiMFkWel1aLWIyn4ilWQ4ptxK0GlSFJOxkZHuMSArmD0Q0Udzgi33FLfW4+47HU0anFHmMyJREdtbF8hYwqAAAAAAAAAAAAAAAAAAAAAAAAAAADBLVkiPK/Kg/7hmEdVn0+pJrjSs2VtW7pLeQBQk5MP05B7yjN3/hIZ586LTYD0yW6lphlJqWpR2IiIfURvYw2G/yNpT9iHIcZYlxBKxSiO3hCoTqPBWaibsaUvukeij6UlzEF7J1tXCi0hWI601i2rRlNZCNNMiupsplB/vqI9y1dHMWgutxyUvSjjH/AKdzv4z/AJCPquOMe4gjIpkTB8mnpkrS25JVdRoSZ626NOcM8h810XH/APsJVv8AxFf5Ziv+gnoWXgLGX3dmm32GGoU9qfSH6e5+zdaNr5XKxDWo23VQ24z6lNyWW9g4pNrkaSsRlfTdYw+p5HPYEmqzvTJiOdSocacmCwzE/HlGySMxXOxkhdzundoMleoEqk0fFeLa26w/UJcLZNx2iPZsIT7qSM9VHm1vYt4t1BwbGw/Ups6NUJzjk103pKXVINLiz5zskjLfuKxCQxDQYmJKSqmzVOpjrWlStkrKZ5Tva/RoJZxI1L+5zSsUpeEMCUWZGelOVxexhMSFuGZtm7YjMiPTS+haaiah4YmNYhplYaYcpsanNOKkrddJb09SkGXt5TMrEetzMz+BC5VzD1OxBR1Uyc0pTF0qTkUaVIUncpJluMhjpWH26dm2s2dNVl2ZKlO5rJ6LFYj+ZlcW281HO2XG6z6O63jKuoTOdWh9yIy4d0R0JMySlJbiPQrnzjWqNN4H6PcB0JP+kyJjNnE6GRXNavuWgtjnoroS6fLp/CakmFIcNwo5ST2bZmrMeUv53EtNwdEnuUd1yXLS7SVZo7iVJIzO1rmVrHppuCf4W/lCPOLxR6SptDkuqKk0mM245GI7JkOOalm6SSRHp8RFekbD8GjYJqMWE0n+s50dLTFvZbM1JSZJLm0JR/UxcKjg2DOrfrhmVMhT1Nk067FdJO1SW4lEZGR2+Qy1bCVPrNIj059yUlMd1LzTyXTNxK0ncjzHe/1E8n/em8qfX0po1Xw9g+iQVMRJaVvykwsra3UIIiNBGZkRZrlc783xHxIjVDBNNxNihMdEFhcZKItMQvMlCyuW0UZeySjzFci6N5i3VLBkGqFAdekzEToN9hNadyulfeRnaxkfQZDYdwtBlUWXSpq5EtmWnK+t901KV8egj+REF6JenN8a4bhpwVR48n+mVisTmGHJrvtOma7qUZGe5JEVrFoRDrLcplM31cnNtUNE57h5ct7Fruv8BVS9GlMJdOdVUaq69TnCcjuOyM5psViKyiMrEXwG7Rnn5GNa+pa3diyTLLbajPLck5jURHprmItOgaPGZyZi7bL2dFpSm7nkUqorIzK+hmWx0OwzwZOJHZiEz6XT2I2udxictxRaaWI203+4nB6IisYzrb9Io+yp7S36pMVsIjSLZjUZanrzERGevQOc15xWH6rgl/1PUILMKWphx+QbZ7TaFqZmlSjuatTuOouYdadxM1XXJklTzTam22TNOzQSrXsVr3Oxa3GHFGE4eLIbMWbJlNMtOJdJLCiTdSTuRmZkZ6GMzjL8r8K9SsuNMX171l+LTKS+mIxCUd21Ky5jWpO5R6la+6wisdYcgRoVBoDTW1bn1knCbWV8jebOtCS5kkkiKwtacCQWqg5OjVCoxnpCSKVsXiSUgyK2ZRWsSrc6bDbq+EYFY9WrU7KYepyzVGeZdPOm5WMjM73uXSNTjDeaq1TpsNHpTwvTIEZthiHGekqbZLKRalluRc1zUIuViB2nYgx7idv8RNNjtwmE39nOSc1/ur9Beajg2DUarEqapM5iXHa2BuMPmk3Uc5K6d28rHqNeH6P6LCh1aCW3dhVVRqfYdWRpIz5yO17/ADMTxdikYsoTEfA9LU+pUmu1SVHZVPWozdI1ndWVW9KbEZWLTUWKpJ4f6X8Pw/8Ah0qA9JNPxWWQvl7pjaT6M6X/AFctVQqrrlPcJyOt2TnNFisRWMrWt8LiZRhiK3ixzEKZMnhbrBR1ozFszQVzIrWuWpmehh797/Sbx9kqmY2qcqIWbaoQTh+yeWxnbfuM/gK+1/vNkZf+WIz/AMZ2HtAkOyMWYlU6p3ZMuMtNpWZ5dEGZmRHprct3QNqjw1O1qo1lacvCMrLPTs08/wBTMzD2U+qwAACoAAAAAAAAAAAA5rS5+Iq3jzElJar7jECmbJLbiIzRqNakkoyMzTuLUvoJ6OkgKLgvElRrfr+DPebW5TJKo6JrCSInCte9juVy+w0PRxiutVmr1anVt9DimiS/FUTZJM2VGZEZ259LhPxq2Y6SA5birGVadx3RaBQH0MxHpKmJMjZktSjTY1km+hZSPf0n8BKO1+oT8ePYWaqfq9MSMh45Cm0G7JUrflIyykRc9iCc4Yv4CpvKrdJw5WH6lVsyo+ZyNJS0glZEpuWYrZbmem4Q2FzxJW8IU6qzcTusSZrW0SyiMySTM9UkV033Co6KAhYc2VTMLR5ddUrhLTCVS1NNmo81tbJSR316BG8o2Hf7Wd4dI8gCwVKXwCmyZmRS9i0pzKnU1WK+goeEJEx30aVBqoKzTW35CHf+5SzUX+IhcKPiGnV/bcBU+omrZtrGca39Gciv9BVKYjYPYvh9NVaV9Fpb/mYT1fHQE+4XyGozN2tRfipQnKylKjWThHqfMaS1L6jdIVOk0qeqpYndlxUt8MfSmOp2ykuNpRYjMkne1zPQ7GCTpbBDUuvN1Oq1GnpjPNOQTQS1O2LNmK5GREINjBjrTzbnBaEWRZKuiI6StOgzc0MZ6BHqLOMsQSpFMfYjS1NbJ1a0GlWVFj0JRmWvwBZmVbgIegCAAAAAAAAAAAAAAAAADwegAAAAAAAAAAAAAAAAADwB6AAAAAAAAAAAAAAAxOuIaaUtaiSREe87DhlHokjEuDcV12mzpzFTlTXnWODy3EE4lJ2IlJSZEojsZa9I7k+w1JZU080hxtW9K0koj+ZGMESmQaeSkxIMaOlfvbJpKL/O28TFlUWjVyjteiFVUpbUaM2qIpSmWrJs6ZWVf43MQE+HUaFjLDnqZhSnqjRuAG4XuoWmx5z+CU3+pl0jqfqCj5FN+qYOzUeY08HRYz6bW3jbbiRmdns2G07JJpbypIspHvIughb3pLkxyuFAhtemCl06M7mZo1MW4ajMjNTqzspRnzqPeYnKrGwljyinU5a2mHYxuJTKQ6SH2DQoy94tS3Xt8SFwbo9MYk8Kap0Rt/8AtEspJX3Irj5XQKO69t3aVBW7fNtFR0Gq/TewnmG865DU61U+QaWmpPuvyZDyokZ532XHmzXlQs76nci3i1M0KgYfgUupuViXkpTZOGw5PW82o8hosSDUaSO6tLELxJpVPnZeGQIz+QvY2rSVWLoK5aDAnDdCQtK00enpUncpMZBGX6Cy+ms0x2Z6qcdgMNOysl22nl5EmfQZkR2+wrnrHHnZuj+Iq8guI9BELQ5Fdf2vrmnRIdrbPg8k3c3Te6SsKwtHB8cVxj92ScF8k9NlZT/wjoA5/WVbD0s0pP7s2Hl+ralK/wDoT+UWblxZsRYf4wxGo3rWp0/I5n2lPkGytWlrGZby13Cucl6e2uMfFlfyF9HoqKDyYF21xh4ssOTBPbXGPi6v5C/AAoPJgntljDxZYcmCe2WMPFli/AAoPJgntljDxZYcmCe2WMPFli/AAoPJgntljDxZYcmCe2WMPFli/AAoPJgntljDxZYcmCe2WMPFli/AAoPJgntljDxZYcmCe2WMPFli/AAoPJintljDxZQcmKe2eMPFlC7StnwZ3a/s8p59TLS2upDkOCpsyg4phcLnyX6ViRtxUZLzqlpZcQo7JIzPS6f7hJ3i5xq0cmKe2WMPFlhyYJ7ZYw8WWNrBMNt2TWKnmdUlyc6yylby1pShB5DIiMzLU0mf1FzFS9qFyYJ7ZYw8WWHJgntljDxZYvwAKDyYJ7ZYw8WWHJgntljDxZYvwAKDyYJ7ZYw8WWHJgntljDxZYvwAKDyYJ7ZYw8WWHJgntljDxZYvwAKDyYJ7ZYw8WWHJgntljDxZYvwAKDyYJ7ZYw8WWHJgntljDxZYvwAKfR8Cep6qzO4z4lmbK/wCBLqCnWlXK2qT39IuAAAAAAAAAAAAAAAAAAAAAAAAAAAAADwU+vQOEekHDErL+xKRf6o0FxGJTLS3EOqQlTiL5VW1K++wTvRlAAAAAAAAAAAAAAAAAAAAAAAV/F89cDDE9TTT7r62FIaQ00pxRqMrFokjFXxRhxdR9GEL1W0r1hS2m5MP2DSraIIjMrHrrYytzjpAWExdVvA0J+Bg2mNyUqRJW1tX0qKxk4o8yrl8zMWTmABbduoAAAAAAAAAAAAAAAAAAAAAAAAAAAAAAAAAAAAAAAAAAAAAAAAAAAAAAAAAAAAAAAAAAAAAAAAAAAAAAAAAAAAAAAAAAAAAAAAAAAAAAAAAAAAAAAAAAAAAAAAAAAAAAAAAAAAAAAAAAAAAAAAAAAAAAAAAAAAAAAAAAAAAAAAAAAAAAAAAAAAAAAAAAAAAAAAAAAAD/2Q==)"
      ],
      "metadata": {
        "id": "xtuhVvv-fDue"
      }
    },
    {
      "cell_type": "code",
      "source": [
        "# Transformation to original form and making the predictions\n",
        "\n",
        "predicted_btc_price_train_data = model.predict(trainX)\n",
        "\n",
        "predicted_btc_price_train_data = scaler.inverse_transform(predicted_btc_price_train_data.reshape(-1, 1))\n",
        "\n",
        "train_actual = scaler.inverse_transform(trainY.reshape(-1, 1))"
      ],
      "metadata": {
        "id": "rZX8-c4iO-bI"
      },
      "execution_count": null,
      "outputs": []
    },
    {
      "cell_type": "code",
      "source": [
        "# Train Data\n",
        "rmse_lstm_train = math.sqrt(mean_squared_error(train_actual, predicted_btc_price_train_data))\n",
        "\n",
        "print('Test RMSE: %.3f' % rmse_lstm_train)"
      ],
      "metadata": {
        "id": "-HTubC_nfOrO",
        "colab": {
          "base_uri": "https://localhost:8080/"
        },
        "outputId": "7cf99680-0986-4695-eb5b-19b28161554c"
      },
      "execution_count": null,
      "outputs": [
        {
          "output_type": "stream",
          "name": "stdout",
          "text": [
            "Test RMSE: 5201.127\n"
          ]
        }
      ]
    },
    {
      "cell_type": "code",
      "source": [
        "# Test Data\n",
        "rmse_lstm_test = math.sqrt(mean_squared_error(test_actual, predicted_test_data))\n",
        "\n",
        "print('Test RMSE: %.3f' % rmse_lstm_test)"
      ],
      "metadata": {
        "id": "NY5Qs95rfGtq",
        "colab": {
          "base_uri": "https://localhost:8080/"
        },
        "outputId": "defb2ed5-1541-4b06-ad34-2308a24b1c51"
      },
      "execution_count": null,
      "outputs": [
        {
          "output_type": "stream",
          "name": "stdout",
          "text": [
            "Test RMSE: 5410.169\n"
          ]
        }
      ]
    }
  ]
}