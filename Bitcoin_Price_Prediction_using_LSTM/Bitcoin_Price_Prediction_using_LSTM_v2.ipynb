{
  "nbformat": 4,
  "nbformat_minor": 0,
  "metadata": {
    "colab": {
      "name": "Bitcoin_Price_Prediction_using_LSTM_v2.ipynb",
      "provenance": [],
      "collapsed_sections": []
    },
    "kernelspec": {
      "name": "python3",
      "display_name": "Python 3"
    },
    "language_info": {
      "name": "python"
    }
  },
  "cells": [
    {
      "cell_type": "code",
      "execution_count": null,
      "metadata": {
        "id": "pu4ml5QIHlGm"
      },
      "outputs": [],
      "source": [
        ""
      ]
    },
    {
      "cell_type": "code",
      "source": [
        "pip install python-binance"
      ],
      "metadata": {
        "colab": {
          "base_uri": "https://localhost:8080/"
        },
        "id": "7wCozrbDHrSN",
        "outputId": "9e36858a-98d3-4ce1-9325-3642847a5fc6"
      },
      "execution_count": 1,
      "outputs": [
        {
          "output_type": "stream",
          "name": "stdout",
          "text": [
            "Looking in indexes: https://pypi.org/simple, https://us-python.pkg.dev/colab-wheels/public/simple/\n",
            "Collecting python-binance\n",
            "  Downloading python_binance-1.0.16-py2.py3-none-any.whl (65 kB)\n",
            "\u001b[K     |████████████████████████████████| 65 kB 1.2 MB/s \n",
            "\u001b[?25hRequirement already satisfied: six in /usr/local/lib/python3.7/dist-packages (from python-binance) (1.15.0)\n",
            "Requirement already satisfied: requests in /usr/local/lib/python3.7/dist-packages (from python-binance) (2.23.0)\n",
            "Collecting ujson\n",
            "  Downloading ujson-5.3.0-cp37-cp37m-manylinux_2_17_x86_64.manylinux2014_x86_64.whl (45 kB)\n",
            "\u001b[K     |████████████████████████████████| 45 kB 601 kB/s \n",
            "\u001b[?25hCollecting dateparser\n",
            "  Downloading dateparser-1.1.1-py2.py3-none-any.whl (288 kB)\n",
            "\u001b[K     |████████████████████████████████| 288 kB 9.6 MB/s \n",
            "\u001b[?25hCollecting aiohttp\n",
            "  Downloading aiohttp-3.8.1-cp37-cp37m-manylinux_2_5_x86_64.manylinux1_x86_64.manylinux_2_12_x86_64.manylinux2010_x86_64.whl (1.1 MB)\n",
            "\u001b[K     |████████████████████████████████| 1.1 MB 29.6 MB/s \n",
            "\u001b[?25hCollecting websockets\n",
            "  Downloading websockets-10.3-cp37-cp37m-manylinux_2_5_x86_64.manylinux1_x86_64.manylinux_2_12_x86_64.manylinux2010_x86_64.whl (112 kB)\n",
            "\u001b[K     |████████████████████████████████| 112 kB 44.2 MB/s \n",
            "\u001b[?25hCollecting yarl<2.0,>=1.0\n",
            "  Downloading yarl-1.7.2-cp37-cp37m-manylinux_2_5_x86_64.manylinux1_x86_64.manylinux_2_12_x86_64.manylinux2010_x86_64.whl (271 kB)\n",
            "\u001b[K     |████████████████████████████████| 271 kB 53.6 MB/s \n",
            "\u001b[?25hCollecting frozenlist>=1.1.1\n",
            "  Downloading frozenlist-1.3.0-cp37-cp37m-manylinux_2_5_x86_64.manylinux1_x86_64.manylinux_2_17_x86_64.manylinux2014_x86_64.whl (144 kB)\n",
            "\u001b[K     |████████████████████████████████| 144 kB 56.4 MB/s \n",
            "\u001b[?25hRequirement already satisfied: attrs>=17.3.0 in /usr/local/lib/python3.7/dist-packages (from aiohttp->python-binance) (21.4.0)\n",
            "Requirement already satisfied: typing-extensions>=3.7.4 in /usr/local/lib/python3.7/dist-packages (from aiohttp->python-binance) (4.2.0)\n",
            "Collecting multidict<7.0,>=4.5\n",
            "  Downloading multidict-6.0.2-cp37-cp37m-manylinux_2_17_x86_64.manylinux2014_x86_64.whl (94 kB)\n",
            "\u001b[K     |████████████████████████████████| 94 kB 3.4 MB/s \n",
            "\u001b[?25hCollecting async-timeout<5.0,>=4.0.0a3\n",
            "  Downloading async_timeout-4.0.2-py3-none-any.whl (5.8 kB)\n",
            "Collecting asynctest==0.13.0\n",
            "  Downloading asynctest-0.13.0-py3-none-any.whl (26 kB)\n",
            "Requirement already satisfied: charset-normalizer<3.0,>=2.0 in /usr/local/lib/python3.7/dist-packages (from aiohttp->python-binance) (2.0.12)\n",
            "Collecting aiosignal>=1.1.2\n",
            "  Downloading aiosignal-1.2.0-py3-none-any.whl (8.2 kB)\n",
            "Requirement already satisfied: idna>=2.0 in /usr/local/lib/python3.7/dist-packages (from yarl<2.0,>=1.0->aiohttp->python-binance) (2.10)\n",
            "Requirement already satisfied: python-dateutil in /usr/local/lib/python3.7/dist-packages (from dateparser->python-binance) (2.8.2)\n",
            "Requirement already satisfied: regex!=2019.02.19,!=2021.8.27,<2022.3.15 in /usr/local/lib/python3.7/dist-packages (from dateparser->python-binance) (2019.12.20)\n",
            "Requirement already satisfied: pytz in /usr/local/lib/python3.7/dist-packages (from dateparser->python-binance) (2022.1)\n",
            "Requirement already satisfied: tzlocal in /usr/local/lib/python3.7/dist-packages (from dateparser->python-binance) (1.5.1)\n",
            "Requirement already satisfied: certifi>=2017.4.17 in /usr/local/lib/python3.7/dist-packages (from requests->python-binance) (2022.5.18.1)\n",
            "Requirement already satisfied: urllib3!=1.25.0,!=1.25.1,<1.26,>=1.21.1 in /usr/local/lib/python3.7/dist-packages (from requests->python-binance) (1.24.3)\n",
            "Requirement already satisfied: chardet<4,>=3.0.2 in /usr/local/lib/python3.7/dist-packages (from requests->python-binance) (3.0.4)\n",
            "Installing collected packages: multidict, frozenlist, yarl, asynctest, async-timeout, aiosignal, websockets, ujson, dateparser, aiohttp, python-binance\n",
            "Successfully installed aiohttp-3.8.1 aiosignal-1.2.0 async-timeout-4.0.2 asynctest-0.13.0 dateparser-1.1.1 frozenlist-1.3.0 multidict-6.0.2 python-binance-1.0.16 ujson-5.3.0 websockets-10.3 yarl-1.7.2\n"
          ]
        }
      ]
    },
    {
      "cell_type": "code",
      "source": [
        "pip install websocket_client"
      ],
      "metadata": {
        "colab": {
          "base_uri": "https://localhost:8080/"
        },
        "id": "82wL2ANHHrUV",
        "outputId": "5b01665d-5765-423d-a417-31651e320a0e"
      },
      "execution_count": 2,
      "outputs": [
        {
          "output_type": "stream",
          "name": "stdout",
          "text": [
            "Looking in indexes: https://pypi.org/simple, https://us-python.pkg.dev/colab-wheels/public/simple/\n",
            "Collecting websocket_client\n",
            "  Downloading websocket_client-1.3.2-py3-none-any.whl (54 kB)\n",
            "\u001b[K     |████████████████████████████████| 54 kB 1.5 MB/s \n",
            "\u001b[?25hInstalling collected packages: websocket-client\n",
            "Successfully installed websocket-client-1.3.2\n"
          ]
        }
      ]
    },
    {
      "cell_type": "code",
      "source": [
        "from binance.client import Client\n",
        "from binance.enums import *\n",
        "import time, datetime\n",
        "import pandas as pd\n",
        "from datetime import datetime, timedelta\n",
        "\n",
        "import matplotlib.pyplot as plt\n",
        "\n",
        "import math\n",
        "import numpy as np\n",
        "from functools import reduce\n",
        "\n",
        "from sklearn.preprocessing import StandardScaler\n",
        "from sklearn.metrics import mean_squared_error, mean_absolute_error, explained_variance_score, r2_score \n",
        "from sklearn.metrics import mean_poisson_deviance, mean_gamma_deviance, accuracy_score\n",
        "import sklearn.metrics as metrics\n",
        "\n",
        "import seaborn as sns\n",
        "\n",
        "from tensorflow.keras.models import Sequential\n",
        "from tensorflow.keras.layers import Dense, Dropout\n",
        "from tensorflow.keras.layers import LSTM\n",
        "from tensorflow.keras.callbacks import ModelCheckpoint, EarlyStopping"
      ],
      "metadata": {
        "id": "IUZJg8KdHrYB"
      },
      "execution_count": 3,
      "outputs": []
    },
    {
      "cell_type": "code",
      "source": [
        "SOCKET = \"wss://stream.binance.com:9443/ws/btcusdt@kline_1m\"\n",
        "TRADE_SYMBOL = 'BTCUSDT'\n",
        "TRADE_SYMBOL_HISTORY = 'BTCUSDT'\n",
        "API_KEY = 'ziew'\n",
        "API_SECRET = 'ziew'"
      ],
      "metadata": {
        "id": "xzlpCEWkHraB"
      },
      "execution_count": 4,
      "outputs": []
    },
    {
      "cell_type": "code",
      "source": [
        "client = Client(API_KEY, API_SECRET)#, tld='us')"
      ],
      "metadata": {
        "id": "MBrvKhoWHrdo"
      },
      "execution_count": 5,
      "outputs": []
    },
    {
      "cell_type": "code",
      "source": [
        "\n",
        "def GetHistoricalData(howLong):\n",
        "    howLong = howLong\n",
        "    # Calculate the timestamps for the binance api function\n",
        "    untilThisDate = datetime.now()\n",
        "    # sinceThisDate = untilThisDate - datetime.timedelta(days = howLong)\n",
        "    sinceThisDate = untilThisDate - timedelta(hours = howLong)\n",
        "    # Execute the query from binance - timestamps must be converted to strings !\n",
        "    candle = client.get_historical_klines(TRADE_SYMBOL_HISTORY, Client.KLINE_INTERVAL_15MINUTE, str(sinceThisDate), str(untilThisDate))\n",
        "    # print(\"TYPE\", type(candle),\"\\n\",candle)\n",
        "\n",
        "    # Create a dataframe to label all the columns returned by binance so we work with them later.\n",
        "    df = pd.DataFrame(candle, columns=['dateTime', 'open', 'high', 'low', 'close', 'volume', 'closeTime', 'quoteAssetVolume', 'numberOfTrades', 'takerBuyBaseVol', 'takerBuyQuoteVol', 'ignore'])\n",
        "    # as timestamp is returned in ms, let us convert this back to proper timestamps.\n",
        "    df.dateTime = pd.to_datetime(df.dateTime, unit='ms').dt.strftime('%Y-%m-%d %H:%M:%S')\n",
        "    # df.set_index('dateTime', inplace=True)\n",
        "\n",
        "    df[\"open\"] = df.open.astype(float)\n",
        "    df[\"high\"] = df.high.astype(float)\n",
        "    df[\"low\"] = df.low.astype(float)\n",
        "    df[\"close\"] = df.close.astype(float)\n",
        "    df[\"volume\"] = df.volume.astype(float)\n",
        "\n",
        "    # Get rid of columns we do not need\n",
        "    df = df.drop(['quoteAssetVolume', 'numberOfTrades', 'takerBuyBaseVol','takerBuyQuoteVol', 'ignore','closeTime'], axis=1)\n",
        "\n",
        "    return df"
      ],
      "metadata": {
        "id": "-JwhykY2Hrf5"
      },
      "execution_count": 6,
      "outputs": []
    },
    {
      "cell_type": "code",
      "source": [
        "print(\"Launching script...\")\n",
        "df=GetHistoricalData(24*20) # TAKE INTO ACCOUNT GMT-2 # 20 days"
      ],
      "metadata": {
        "colab": {
          "base_uri": "https://localhost:8080/"
        },
        "id": "aQpyujpfHrjw",
        "outputId": "0790a103-2bfe-4900-c396-a1c39e0c22c2"
      },
      "execution_count": 7,
      "outputs": [
        {
          "output_type": "stream",
          "name": "stdout",
          "text": [
            "Launching script...\n"
          ]
        }
      ]
    },
    {
      "cell_type": "code",
      "source": [
        "df"
      ],
      "metadata": {
        "id": "wkzIP_6WNYnn",
        "colab": {
          "base_uri": "https://localhost:8080/",
          "height": 424
        },
        "outputId": "1e777a64-db60-401c-c6b9-cb8a769f8ddf"
      },
      "execution_count": 8,
      "outputs": [
        {
          "output_type": "execute_result",
          "data": {
            "text/plain": [
              "                 dateTime      open      high       low     close     volume\n",
              "0     2022-05-16 23:00:00  30018.45  30044.64  29982.94  30017.88  212.55402\n",
              "1     2022-05-16 23:15:00  30017.88  30107.85  29950.00  30030.17  312.22602\n",
              "2     2022-05-16 23:30:00  30030.18  30076.23  29841.34  29902.84  702.89526\n",
              "3     2022-05-16 23:45:00  29902.85  29913.68  29827.92  29874.01  352.46294\n",
              "4     2022-05-17 00:00:00  29874.01  29964.88  29807.16  29917.22  402.37920\n",
              "...                   ...       ...       ...       ...       ...        ...\n",
              "1915  2022-06-05 21:45:00  29926.58  29980.78  29912.45  29965.23  148.61565\n",
              "1916  2022-06-05 22:00:00  29965.23  30070.83  29944.81  29993.90  782.86095\n",
              "1917  2022-06-05 22:15:00  29993.91  30037.04  29948.53  29948.54  296.21685\n",
              "1918  2022-06-05 22:30:00  29948.54  29957.87  29875.01  29945.49  396.46509\n",
              "1919  2022-06-05 22:45:00  29945.49  30059.78  29945.48  30038.59  408.98663\n",
              "\n",
              "[1920 rows x 6 columns]"
            ],
            "text/html": [
              "\n",
              "  <div id=\"df-3250097f-4974-4644-adec-5b2626598638\">\n",
              "    <div class=\"colab-df-container\">\n",
              "      <div>\n",
              "<style scoped>\n",
              "    .dataframe tbody tr th:only-of-type {\n",
              "        vertical-align: middle;\n",
              "    }\n",
              "\n",
              "    .dataframe tbody tr th {\n",
              "        vertical-align: top;\n",
              "    }\n",
              "\n",
              "    .dataframe thead th {\n",
              "        text-align: right;\n",
              "    }\n",
              "</style>\n",
              "<table border=\"1\" class=\"dataframe\">\n",
              "  <thead>\n",
              "    <tr style=\"text-align: right;\">\n",
              "      <th></th>\n",
              "      <th>dateTime</th>\n",
              "      <th>open</th>\n",
              "      <th>high</th>\n",
              "      <th>low</th>\n",
              "      <th>close</th>\n",
              "      <th>volume</th>\n",
              "    </tr>\n",
              "  </thead>\n",
              "  <tbody>\n",
              "    <tr>\n",
              "      <th>0</th>\n",
              "      <td>2022-05-16 23:00:00</td>\n",
              "      <td>30018.45</td>\n",
              "      <td>30044.64</td>\n",
              "      <td>29982.94</td>\n",
              "      <td>30017.88</td>\n",
              "      <td>212.55402</td>\n",
              "    </tr>\n",
              "    <tr>\n",
              "      <th>1</th>\n",
              "      <td>2022-05-16 23:15:00</td>\n",
              "      <td>30017.88</td>\n",
              "      <td>30107.85</td>\n",
              "      <td>29950.00</td>\n",
              "      <td>30030.17</td>\n",
              "      <td>312.22602</td>\n",
              "    </tr>\n",
              "    <tr>\n",
              "      <th>2</th>\n",
              "      <td>2022-05-16 23:30:00</td>\n",
              "      <td>30030.18</td>\n",
              "      <td>30076.23</td>\n",
              "      <td>29841.34</td>\n",
              "      <td>29902.84</td>\n",
              "      <td>702.89526</td>\n",
              "    </tr>\n",
              "    <tr>\n",
              "      <th>3</th>\n",
              "      <td>2022-05-16 23:45:00</td>\n",
              "      <td>29902.85</td>\n",
              "      <td>29913.68</td>\n",
              "      <td>29827.92</td>\n",
              "      <td>29874.01</td>\n",
              "      <td>352.46294</td>\n",
              "    </tr>\n",
              "    <tr>\n",
              "      <th>4</th>\n",
              "      <td>2022-05-17 00:00:00</td>\n",
              "      <td>29874.01</td>\n",
              "      <td>29964.88</td>\n",
              "      <td>29807.16</td>\n",
              "      <td>29917.22</td>\n",
              "      <td>402.37920</td>\n",
              "    </tr>\n",
              "    <tr>\n",
              "      <th>...</th>\n",
              "      <td>...</td>\n",
              "      <td>...</td>\n",
              "      <td>...</td>\n",
              "      <td>...</td>\n",
              "      <td>...</td>\n",
              "      <td>...</td>\n",
              "    </tr>\n",
              "    <tr>\n",
              "      <th>1915</th>\n",
              "      <td>2022-06-05 21:45:00</td>\n",
              "      <td>29926.58</td>\n",
              "      <td>29980.78</td>\n",
              "      <td>29912.45</td>\n",
              "      <td>29965.23</td>\n",
              "      <td>148.61565</td>\n",
              "    </tr>\n",
              "    <tr>\n",
              "      <th>1916</th>\n",
              "      <td>2022-06-05 22:00:00</td>\n",
              "      <td>29965.23</td>\n",
              "      <td>30070.83</td>\n",
              "      <td>29944.81</td>\n",
              "      <td>29993.90</td>\n",
              "      <td>782.86095</td>\n",
              "    </tr>\n",
              "    <tr>\n",
              "      <th>1917</th>\n",
              "      <td>2022-06-05 22:15:00</td>\n",
              "      <td>29993.91</td>\n",
              "      <td>30037.04</td>\n",
              "      <td>29948.53</td>\n",
              "      <td>29948.54</td>\n",
              "      <td>296.21685</td>\n",
              "    </tr>\n",
              "    <tr>\n",
              "      <th>1918</th>\n",
              "      <td>2022-06-05 22:30:00</td>\n",
              "      <td>29948.54</td>\n",
              "      <td>29957.87</td>\n",
              "      <td>29875.01</td>\n",
              "      <td>29945.49</td>\n",
              "      <td>396.46509</td>\n",
              "    </tr>\n",
              "    <tr>\n",
              "      <th>1919</th>\n",
              "      <td>2022-06-05 22:45:00</td>\n",
              "      <td>29945.49</td>\n",
              "      <td>30059.78</td>\n",
              "      <td>29945.48</td>\n",
              "      <td>30038.59</td>\n",
              "      <td>408.98663</td>\n",
              "    </tr>\n",
              "  </tbody>\n",
              "</table>\n",
              "<p>1920 rows × 6 columns</p>\n",
              "</div>\n",
              "      <button class=\"colab-df-convert\" onclick=\"convertToInteractive('df-3250097f-4974-4644-adec-5b2626598638')\"\n",
              "              title=\"Convert this dataframe to an interactive table.\"\n",
              "              style=\"display:none;\">\n",
              "        \n",
              "  <svg xmlns=\"http://www.w3.org/2000/svg\" height=\"24px\"viewBox=\"0 0 24 24\"\n",
              "       width=\"24px\">\n",
              "    <path d=\"M0 0h24v24H0V0z\" fill=\"none\"/>\n",
              "    <path d=\"M18.56 5.44l.94 2.06.94-2.06 2.06-.94-2.06-.94-.94-2.06-.94 2.06-2.06.94zm-11 1L8.5 8.5l.94-2.06 2.06-.94-2.06-.94L8.5 2.5l-.94 2.06-2.06.94zm10 10l.94 2.06.94-2.06 2.06-.94-2.06-.94-.94-2.06-.94 2.06-2.06.94z\"/><path d=\"M17.41 7.96l-1.37-1.37c-.4-.4-.92-.59-1.43-.59-.52 0-1.04.2-1.43.59L10.3 9.45l-7.72 7.72c-.78.78-.78 2.05 0 2.83L4 21.41c.39.39.9.59 1.41.59.51 0 1.02-.2 1.41-.59l7.78-7.78 2.81-2.81c.8-.78.8-2.07 0-2.86zM5.41 20L4 18.59l7.72-7.72 1.47 1.35L5.41 20z\"/>\n",
              "  </svg>\n",
              "      </button>\n",
              "      \n",
              "  <style>\n",
              "    .colab-df-container {\n",
              "      display:flex;\n",
              "      flex-wrap:wrap;\n",
              "      gap: 12px;\n",
              "    }\n",
              "\n",
              "    .colab-df-convert {\n",
              "      background-color: #E8F0FE;\n",
              "      border: none;\n",
              "      border-radius: 50%;\n",
              "      cursor: pointer;\n",
              "      display: none;\n",
              "      fill: #1967D2;\n",
              "      height: 32px;\n",
              "      padding: 0 0 0 0;\n",
              "      width: 32px;\n",
              "    }\n",
              "\n",
              "    .colab-df-convert:hover {\n",
              "      background-color: #E2EBFA;\n",
              "      box-shadow: 0px 1px 2px rgba(60, 64, 67, 0.3), 0px 1px 3px 1px rgba(60, 64, 67, 0.15);\n",
              "      fill: #174EA6;\n",
              "    }\n",
              "\n",
              "    [theme=dark] .colab-df-convert {\n",
              "      background-color: #3B4455;\n",
              "      fill: #D2E3FC;\n",
              "    }\n",
              "\n",
              "    [theme=dark] .colab-df-convert:hover {\n",
              "      background-color: #434B5C;\n",
              "      box-shadow: 0px 1px 3px 1px rgba(0, 0, 0, 0.15);\n",
              "      filter: drop-shadow(0px 1px 2px rgba(0, 0, 0, 0.3));\n",
              "      fill: #FFFFFF;\n",
              "    }\n",
              "  </style>\n",
              "\n",
              "      <script>\n",
              "        const buttonEl =\n",
              "          document.querySelector('#df-3250097f-4974-4644-adec-5b2626598638 button.colab-df-convert');\n",
              "        buttonEl.style.display =\n",
              "          google.colab.kernel.accessAllowed ? 'block' : 'none';\n",
              "\n",
              "        async function convertToInteractive(key) {\n",
              "          const element = document.querySelector('#df-3250097f-4974-4644-adec-5b2626598638');\n",
              "          const dataTable =\n",
              "            await google.colab.kernel.invokeFunction('convertToInteractive',\n",
              "                                                     [key], {});\n",
              "          if (!dataTable) return;\n",
              "\n",
              "          const docLinkHtml = 'Like what you see? Visit the ' +\n",
              "            '<a target=\"_blank\" href=https://colab.research.google.com/notebooks/data_table.ipynb>data table notebook</a>'\n",
              "            + ' to learn more about interactive tables.';\n",
              "          element.innerHTML = '';\n",
              "          dataTable['output_type'] = 'display_data';\n",
              "          await google.colab.output.renderOutput(dataTable, element);\n",
              "          const docLink = document.createElement('div');\n",
              "          docLink.innerHTML = docLinkHtml;\n",
              "          element.appendChild(docLink);\n",
              "        }\n",
              "      </script>\n",
              "    </div>\n",
              "  </div>\n",
              "  "
            ]
          },
          "metadata": {},
          "execution_count": 8
        }
      ]
    },
    {
      "cell_type": "code",
      "source": [
        "df.describe().transpose()"
      ],
      "metadata": {
        "colab": {
          "base_uri": "https://localhost:8080/",
          "height": 206
        },
        "id": "tZJdU2Zj-7Dj",
        "outputId": "2a019a52-3c91-4817-8dc9-87a63426f504"
      },
      "execution_count": 9,
      "outputs": [
        {
          "output_type": "execute_result",
          "data": {
            "text/plain": [
              "         count          mean         std          min           25%  \\\n",
              "open    1920.0  29848.629589  766.026547  28245.87000  29283.105000   \n",
              "high    1920.0  29910.560932  769.222707  28443.19000  29340.000000   \n",
              "low     1920.0  29786.593021  762.995110  28019.56000  29230.027500   \n",
              "close   1920.0  29848.636932  766.022951  28245.88000  29283.095000   \n",
              "volume  1920.0    601.680513  659.314730     52.45715    252.783895   \n",
              "\n",
              "                50%           75%          max  \n",
              "open    29740.06000  30236.595000  32300.96000  \n",
              "high    29784.26000  30304.465000  32399.00000  \n",
              "low     29694.07500  30166.890000  32143.93000  \n",
              "close   29740.06000  30236.595000  32300.96000  \n",
              "volume    409.85193    685.053047   7033.96025  "
            ],
            "text/html": [
              "\n",
              "  <div id=\"df-743501bd-9f69-4e3b-bfd4-dd6cc313a31e\">\n",
              "    <div class=\"colab-df-container\">\n",
              "      <div>\n",
              "<style scoped>\n",
              "    .dataframe tbody tr th:only-of-type {\n",
              "        vertical-align: middle;\n",
              "    }\n",
              "\n",
              "    .dataframe tbody tr th {\n",
              "        vertical-align: top;\n",
              "    }\n",
              "\n",
              "    .dataframe thead th {\n",
              "        text-align: right;\n",
              "    }\n",
              "</style>\n",
              "<table border=\"1\" class=\"dataframe\">\n",
              "  <thead>\n",
              "    <tr style=\"text-align: right;\">\n",
              "      <th></th>\n",
              "      <th>count</th>\n",
              "      <th>mean</th>\n",
              "      <th>std</th>\n",
              "      <th>min</th>\n",
              "      <th>25%</th>\n",
              "      <th>50%</th>\n",
              "      <th>75%</th>\n",
              "      <th>max</th>\n",
              "    </tr>\n",
              "  </thead>\n",
              "  <tbody>\n",
              "    <tr>\n",
              "      <th>open</th>\n",
              "      <td>1920.0</td>\n",
              "      <td>29848.629589</td>\n",
              "      <td>766.026547</td>\n",
              "      <td>28245.87000</td>\n",
              "      <td>29283.105000</td>\n",
              "      <td>29740.06000</td>\n",
              "      <td>30236.595000</td>\n",
              "      <td>32300.96000</td>\n",
              "    </tr>\n",
              "    <tr>\n",
              "      <th>high</th>\n",
              "      <td>1920.0</td>\n",
              "      <td>29910.560932</td>\n",
              "      <td>769.222707</td>\n",
              "      <td>28443.19000</td>\n",
              "      <td>29340.000000</td>\n",
              "      <td>29784.26000</td>\n",
              "      <td>30304.465000</td>\n",
              "      <td>32399.00000</td>\n",
              "    </tr>\n",
              "    <tr>\n",
              "      <th>low</th>\n",
              "      <td>1920.0</td>\n",
              "      <td>29786.593021</td>\n",
              "      <td>762.995110</td>\n",
              "      <td>28019.56000</td>\n",
              "      <td>29230.027500</td>\n",
              "      <td>29694.07500</td>\n",
              "      <td>30166.890000</td>\n",
              "      <td>32143.93000</td>\n",
              "    </tr>\n",
              "    <tr>\n",
              "      <th>close</th>\n",
              "      <td>1920.0</td>\n",
              "      <td>29848.636932</td>\n",
              "      <td>766.022951</td>\n",
              "      <td>28245.88000</td>\n",
              "      <td>29283.095000</td>\n",
              "      <td>29740.06000</td>\n",
              "      <td>30236.595000</td>\n",
              "      <td>32300.96000</td>\n",
              "    </tr>\n",
              "    <tr>\n",
              "      <th>volume</th>\n",
              "      <td>1920.0</td>\n",
              "      <td>601.680513</td>\n",
              "      <td>659.314730</td>\n",
              "      <td>52.45715</td>\n",
              "      <td>252.783895</td>\n",
              "      <td>409.85193</td>\n",
              "      <td>685.053047</td>\n",
              "      <td>7033.96025</td>\n",
              "    </tr>\n",
              "  </tbody>\n",
              "</table>\n",
              "</div>\n",
              "      <button class=\"colab-df-convert\" onclick=\"convertToInteractive('df-743501bd-9f69-4e3b-bfd4-dd6cc313a31e')\"\n",
              "              title=\"Convert this dataframe to an interactive table.\"\n",
              "              style=\"display:none;\">\n",
              "        \n",
              "  <svg xmlns=\"http://www.w3.org/2000/svg\" height=\"24px\"viewBox=\"0 0 24 24\"\n",
              "       width=\"24px\">\n",
              "    <path d=\"M0 0h24v24H0V0z\" fill=\"none\"/>\n",
              "    <path d=\"M18.56 5.44l.94 2.06.94-2.06 2.06-.94-2.06-.94-.94-2.06-.94 2.06-2.06.94zm-11 1L8.5 8.5l.94-2.06 2.06-.94-2.06-.94L8.5 2.5l-.94 2.06-2.06.94zm10 10l.94 2.06.94-2.06 2.06-.94-2.06-.94-.94-2.06-.94 2.06-2.06.94z\"/><path d=\"M17.41 7.96l-1.37-1.37c-.4-.4-.92-.59-1.43-.59-.52 0-1.04.2-1.43.59L10.3 9.45l-7.72 7.72c-.78.78-.78 2.05 0 2.83L4 21.41c.39.39.9.59 1.41.59.51 0 1.02-.2 1.41-.59l7.78-7.78 2.81-2.81c.8-.78.8-2.07 0-2.86zM5.41 20L4 18.59l7.72-7.72 1.47 1.35L5.41 20z\"/>\n",
              "  </svg>\n",
              "      </button>\n",
              "      \n",
              "  <style>\n",
              "    .colab-df-container {\n",
              "      display:flex;\n",
              "      flex-wrap:wrap;\n",
              "      gap: 12px;\n",
              "    }\n",
              "\n",
              "    .colab-df-convert {\n",
              "      background-color: #E8F0FE;\n",
              "      border: none;\n",
              "      border-radius: 50%;\n",
              "      cursor: pointer;\n",
              "      display: none;\n",
              "      fill: #1967D2;\n",
              "      height: 32px;\n",
              "      padding: 0 0 0 0;\n",
              "      width: 32px;\n",
              "    }\n",
              "\n",
              "    .colab-df-convert:hover {\n",
              "      background-color: #E2EBFA;\n",
              "      box-shadow: 0px 1px 2px rgba(60, 64, 67, 0.3), 0px 1px 3px 1px rgba(60, 64, 67, 0.15);\n",
              "      fill: #174EA6;\n",
              "    }\n",
              "\n",
              "    [theme=dark] .colab-df-convert {\n",
              "      background-color: #3B4455;\n",
              "      fill: #D2E3FC;\n",
              "    }\n",
              "\n",
              "    [theme=dark] .colab-df-convert:hover {\n",
              "      background-color: #434B5C;\n",
              "      box-shadow: 0px 1px 3px 1px rgba(0, 0, 0, 0.15);\n",
              "      filter: drop-shadow(0px 1px 2px rgba(0, 0, 0, 0.3));\n",
              "      fill: #FFFFFF;\n",
              "    }\n",
              "  </style>\n",
              "\n",
              "      <script>\n",
              "        const buttonEl =\n",
              "          document.querySelector('#df-743501bd-9f69-4e3b-bfd4-dd6cc313a31e button.colab-df-convert');\n",
              "        buttonEl.style.display =\n",
              "          google.colab.kernel.accessAllowed ? 'block' : 'none';\n",
              "\n",
              "        async function convertToInteractive(key) {\n",
              "          const element = document.querySelector('#df-743501bd-9f69-4e3b-bfd4-dd6cc313a31e');\n",
              "          const dataTable =\n",
              "            await google.colab.kernel.invokeFunction('convertToInteractive',\n",
              "                                                     [key], {});\n",
              "          if (!dataTable) return;\n",
              "\n",
              "          const docLinkHtml = 'Like what you see? Visit the ' +\n",
              "            '<a target=\"_blank\" href=https://colab.research.google.com/notebooks/data_table.ipynb>data table notebook</a>'\n",
              "            + ' to learn more about interactive tables.';\n",
              "          element.innerHTML = '';\n",
              "          dataTable['output_type'] = 'display_data';\n",
              "          await google.colab.output.renderOutput(dataTable, element);\n",
              "          const docLink = document.createElement('div');\n",
              "          docLink.innerHTML = docLinkHtml;\n",
              "          element.appendChild(docLink);\n",
              "        }\n",
              "      </script>\n",
              "    </div>\n",
              "  </div>\n",
              "  "
            ]
          },
          "metadata": {},
          "execution_count": 9
        }
      ]
    },
    {
      "cell_type": "code",
      "source": [
        "df.info()"
      ],
      "metadata": {
        "id": "Vo4E9um7Hrlh",
        "colab": {
          "base_uri": "https://localhost:8080/"
        },
        "outputId": "cfa161ab-90c7-465b-ea8b-5075d71bf1f8"
      },
      "execution_count": 10,
      "outputs": [
        {
          "output_type": "stream",
          "name": "stdout",
          "text": [
            "<class 'pandas.core.frame.DataFrame'>\n",
            "RangeIndex: 1920 entries, 0 to 1919\n",
            "Data columns (total 6 columns):\n",
            " #   Column    Non-Null Count  Dtype  \n",
            "---  ------    --------------  -----  \n",
            " 0   dateTime  1920 non-null   object \n",
            " 1   open      1920 non-null   float64\n",
            " 2   high      1920 non-null   float64\n",
            " 3   low       1920 non-null   float64\n",
            " 4   close     1920 non-null   float64\n",
            " 5   volume    1920 non-null   float64\n",
            "dtypes: float64(5), object(1)\n",
            "memory usage: 90.1+ KB\n"
          ]
        }
      ]
    },
    {
      "cell_type": "code",
      "source": [
        "#covert datatime column from object dtype to datetime dtype\n",
        "df[\"dateTime\"] = df.dateTime.astype('datetime64[ns]')"
      ],
      "metadata": {
        "id": "BF1CRfhSLEgO"
      },
      "execution_count": 11,
      "outputs": []
    },
    {
      "cell_type": "code",
      "source": [
        "df.info()"
      ],
      "metadata": {
        "id": "l0RWv23KLEik",
        "colab": {
          "base_uri": "https://localhost:8080/"
        },
        "outputId": "039c29b4-d292-43bb-87fe-711e8cc7ce06"
      },
      "execution_count": 12,
      "outputs": [
        {
          "output_type": "stream",
          "name": "stdout",
          "text": [
            "<class 'pandas.core.frame.DataFrame'>\n",
            "RangeIndex: 1920 entries, 0 to 1919\n",
            "Data columns (total 6 columns):\n",
            " #   Column    Non-Null Count  Dtype         \n",
            "---  ------    --------------  -----         \n",
            " 0   dateTime  1920 non-null   datetime64[ns]\n",
            " 1   open      1920 non-null   float64       \n",
            " 2   high      1920 non-null   float64       \n",
            " 3   low       1920 non-null   float64       \n",
            " 4   close     1920 non-null   float64       \n",
            " 5   volume    1920 non-null   float64       \n",
            "dtypes: datetime64[ns](1), float64(5)\n",
            "memory usage: 90.1 KB\n"
          ]
        }
      ]
    },
    {
      "cell_type": "code",
      "source": [
        "#Set time column as Index\n",
        "df.set_index('dateTime',inplace=True)"
      ],
      "metadata": {
        "id": "LcILrj5SLEl8"
      },
      "execution_count": 13,
      "outputs": []
    },
    {
      "cell_type": "code",
      "source": [
        "df.tail()"
      ],
      "metadata": {
        "id": "1jXoz5qdLEoK",
        "colab": {
          "base_uri": "https://localhost:8080/",
          "height": 238
        },
        "outputId": "1f46c616-ac7a-460c-8b4f-696292bf7d05"
      },
      "execution_count": 14,
      "outputs": [
        {
          "output_type": "execute_result",
          "data": {
            "text/plain": [
              "                         open      high       low     close     volume\n",
              "dateTime                                                              \n",
              "2022-06-05 21:45:00  29926.58  29980.78  29912.45  29965.23  148.61565\n",
              "2022-06-05 22:00:00  29965.23  30070.83  29944.81  29993.90  782.86095\n",
              "2022-06-05 22:15:00  29993.91  30037.04  29948.53  29948.54  296.21685\n",
              "2022-06-05 22:30:00  29948.54  29957.87  29875.01  29945.49  396.46509\n",
              "2022-06-05 22:45:00  29945.49  30059.78  29945.48  30038.59  408.98663"
            ],
            "text/html": [
              "\n",
              "  <div id=\"df-dfff07eb-4986-4e7d-bdbd-239562aedfdd\">\n",
              "    <div class=\"colab-df-container\">\n",
              "      <div>\n",
              "<style scoped>\n",
              "    .dataframe tbody tr th:only-of-type {\n",
              "        vertical-align: middle;\n",
              "    }\n",
              "\n",
              "    .dataframe tbody tr th {\n",
              "        vertical-align: top;\n",
              "    }\n",
              "\n",
              "    .dataframe thead th {\n",
              "        text-align: right;\n",
              "    }\n",
              "</style>\n",
              "<table border=\"1\" class=\"dataframe\">\n",
              "  <thead>\n",
              "    <tr style=\"text-align: right;\">\n",
              "      <th></th>\n",
              "      <th>open</th>\n",
              "      <th>high</th>\n",
              "      <th>low</th>\n",
              "      <th>close</th>\n",
              "      <th>volume</th>\n",
              "    </tr>\n",
              "    <tr>\n",
              "      <th>dateTime</th>\n",
              "      <th></th>\n",
              "      <th></th>\n",
              "      <th></th>\n",
              "      <th></th>\n",
              "      <th></th>\n",
              "    </tr>\n",
              "  </thead>\n",
              "  <tbody>\n",
              "    <tr>\n",
              "      <th>2022-06-05 21:45:00</th>\n",
              "      <td>29926.58</td>\n",
              "      <td>29980.78</td>\n",
              "      <td>29912.45</td>\n",
              "      <td>29965.23</td>\n",
              "      <td>148.61565</td>\n",
              "    </tr>\n",
              "    <tr>\n",
              "      <th>2022-06-05 22:00:00</th>\n",
              "      <td>29965.23</td>\n",
              "      <td>30070.83</td>\n",
              "      <td>29944.81</td>\n",
              "      <td>29993.90</td>\n",
              "      <td>782.86095</td>\n",
              "    </tr>\n",
              "    <tr>\n",
              "      <th>2022-06-05 22:15:00</th>\n",
              "      <td>29993.91</td>\n",
              "      <td>30037.04</td>\n",
              "      <td>29948.53</td>\n",
              "      <td>29948.54</td>\n",
              "      <td>296.21685</td>\n",
              "    </tr>\n",
              "    <tr>\n",
              "      <th>2022-06-05 22:30:00</th>\n",
              "      <td>29948.54</td>\n",
              "      <td>29957.87</td>\n",
              "      <td>29875.01</td>\n",
              "      <td>29945.49</td>\n",
              "      <td>396.46509</td>\n",
              "    </tr>\n",
              "    <tr>\n",
              "      <th>2022-06-05 22:45:00</th>\n",
              "      <td>29945.49</td>\n",
              "      <td>30059.78</td>\n",
              "      <td>29945.48</td>\n",
              "      <td>30038.59</td>\n",
              "      <td>408.98663</td>\n",
              "    </tr>\n",
              "  </tbody>\n",
              "</table>\n",
              "</div>\n",
              "      <button class=\"colab-df-convert\" onclick=\"convertToInteractive('df-dfff07eb-4986-4e7d-bdbd-239562aedfdd')\"\n",
              "              title=\"Convert this dataframe to an interactive table.\"\n",
              "              style=\"display:none;\">\n",
              "        \n",
              "  <svg xmlns=\"http://www.w3.org/2000/svg\" height=\"24px\"viewBox=\"0 0 24 24\"\n",
              "       width=\"24px\">\n",
              "    <path d=\"M0 0h24v24H0V0z\" fill=\"none\"/>\n",
              "    <path d=\"M18.56 5.44l.94 2.06.94-2.06 2.06-.94-2.06-.94-.94-2.06-.94 2.06-2.06.94zm-11 1L8.5 8.5l.94-2.06 2.06-.94-2.06-.94L8.5 2.5l-.94 2.06-2.06.94zm10 10l.94 2.06.94-2.06 2.06-.94-2.06-.94-.94-2.06-.94 2.06-2.06.94z\"/><path d=\"M17.41 7.96l-1.37-1.37c-.4-.4-.92-.59-1.43-.59-.52 0-1.04.2-1.43.59L10.3 9.45l-7.72 7.72c-.78.78-.78 2.05 0 2.83L4 21.41c.39.39.9.59 1.41.59.51 0 1.02-.2 1.41-.59l7.78-7.78 2.81-2.81c.8-.78.8-2.07 0-2.86zM5.41 20L4 18.59l7.72-7.72 1.47 1.35L5.41 20z\"/>\n",
              "  </svg>\n",
              "      </button>\n",
              "      \n",
              "  <style>\n",
              "    .colab-df-container {\n",
              "      display:flex;\n",
              "      flex-wrap:wrap;\n",
              "      gap: 12px;\n",
              "    }\n",
              "\n",
              "    .colab-df-convert {\n",
              "      background-color: #E8F0FE;\n",
              "      border: none;\n",
              "      border-radius: 50%;\n",
              "      cursor: pointer;\n",
              "      display: none;\n",
              "      fill: #1967D2;\n",
              "      height: 32px;\n",
              "      padding: 0 0 0 0;\n",
              "      width: 32px;\n",
              "    }\n",
              "\n",
              "    .colab-df-convert:hover {\n",
              "      background-color: #E2EBFA;\n",
              "      box-shadow: 0px 1px 2px rgba(60, 64, 67, 0.3), 0px 1px 3px 1px rgba(60, 64, 67, 0.15);\n",
              "      fill: #174EA6;\n",
              "    }\n",
              "\n",
              "    [theme=dark] .colab-df-convert {\n",
              "      background-color: #3B4455;\n",
              "      fill: #D2E3FC;\n",
              "    }\n",
              "\n",
              "    [theme=dark] .colab-df-convert:hover {\n",
              "      background-color: #434B5C;\n",
              "      box-shadow: 0px 1px 3px 1px rgba(0, 0, 0, 0.15);\n",
              "      filter: drop-shadow(0px 1px 2px rgba(0, 0, 0, 0.3));\n",
              "      fill: #FFFFFF;\n",
              "    }\n",
              "  </style>\n",
              "\n",
              "      <script>\n",
              "        const buttonEl =\n",
              "          document.querySelector('#df-dfff07eb-4986-4e7d-bdbd-239562aedfdd button.colab-df-convert');\n",
              "        buttonEl.style.display =\n",
              "          google.colab.kernel.accessAllowed ? 'block' : 'none';\n",
              "\n",
              "        async function convertToInteractive(key) {\n",
              "          const element = document.querySelector('#df-dfff07eb-4986-4e7d-bdbd-239562aedfdd');\n",
              "          const dataTable =\n",
              "            await google.colab.kernel.invokeFunction('convertToInteractive',\n",
              "                                                     [key], {});\n",
              "          if (!dataTable) return;\n",
              "\n",
              "          const docLinkHtml = 'Like what you see? Visit the ' +\n",
              "            '<a target=\"_blank\" href=https://colab.research.google.com/notebooks/data_table.ipynb>data table notebook</a>'\n",
              "            + ' to learn more about interactive tables.';\n",
              "          element.innerHTML = '';\n",
              "          dataTable['output_type'] = 'display_data';\n",
              "          await google.colab.output.renderOutput(dataTable, element);\n",
              "          const docLink = document.createElement('div');\n",
              "          docLink.innerHTML = docLinkHtml;\n",
              "          element.appendChild(docLink);\n",
              "        }\n",
              "      </script>\n",
              "    </div>\n",
              "  </div>\n",
              "  "
            ]
          },
          "metadata": {},
          "execution_count": 14
        }
      ]
    },
    {
      "cell_type": "code",
      "source": [
        "\n",
        "#  Train data \n",
        "train = df[:1500].values\n",
        "# cross validation data\n",
        "cv = df[1500:1700].values\n",
        "# Test data \n",
        "test = df[1700:].values"
      ],
      "metadata": {
        "id": "dTxlkxtcMIVU"
      },
      "execution_count": 36,
      "outputs": []
    },
    {
      "cell_type": "code",
      "source": [
        "print(train.shape,cv.shape,test.shape)"
      ],
      "metadata": {
        "id": "Mu2kUDF2MIX_",
        "colab": {
          "base_uri": "https://localhost:8080/"
        },
        "outputId": "e23ac198-2ede-4647-c4d4-e10fcb9f46a1"
      },
      "execution_count": 37,
      "outputs": [
        {
          "output_type": "stream",
          "name": "stdout",
          "text": [
            "(1500, 5) (200, 5) (220, 5)\n"
          ]
        }
      ]
    },
    {
      "cell_type": "code",
      "source": [
        "test"
      ],
      "metadata": {
        "id": "1Y_QM-uvOFA_",
        "colab": {
          "base_uri": "https://localhost:8080/"
        },
        "outputId": "4d935c09-019b-4b22-ae46-b9f574a23225"
      },
      "execution_count": 38,
      "outputs": [
        {
          "output_type": "execute_result",
          "data": {
            "text/plain": [
              "array([[29506.25   , 29542.11   , 29450.02   , 29493.65   ,   474.01524],\n",
              "       [29493.65   , 29520.06   , 29401.     , 29463.77   ,   490.37818],\n",
              "       [29463.76   , 29553.99   , 29448.66   , 29502.22   ,   448.14349],\n",
              "       ...,\n",
              "       [29993.91   , 30037.04   , 29948.53   , 29948.54   ,   296.21685],\n",
              "       [29948.54   , 29957.87   , 29875.01   , 29945.49   ,   396.46509],\n",
              "       [29945.49   , 30059.78   , 29945.48   , 30038.59   ,   408.98663]])"
            ]
          },
          "metadata": {},
          "execution_count": 38
        }
      ]
    },
    {
      "cell_type": "code",
      "source": [
        "type(train)"
      ],
      "metadata": {
        "id": "36u1e0PXfGCG",
        "colab": {
          "base_uri": "https://localhost:8080/"
        },
        "outputId": "4c39c5cc-837b-4cc7-ab7e-8ed1cbe7d487"
      },
      "execution_count": 39,
      "outputs": [
        {
          "output_type": "execute_result",
          "data": {
            "text/plain": [
              "numpy.ndarray"
            ]
          },
          "metadata": {},
          "execution_count": 39
        }
      ]
    },
    {
      "cell_type": "markdown",
      "source": [
        "Normalize the data"
      ],
      "metadata": {
        "id": "f4I53LTLA_No"
      }
    },
    {
      "cell_type": "code",
      "source": [
        "scaler = StandardScaler(copy=True, with_mean=True, with_std=True)\n",
        "#scaled_train  = scaler.fit_transform(train)\n",
        "\n",
        "scaler = scaler.fit(train)\n",
        "\n",
        "scaled_train = scaler.transform(train)\n",
        "scaled_cv   = scaler.transform(cv)\n",
        "scaled_test   = scaler.transform(test)"
      ],
      "metadata": {
        "id": "EgD2gyQGHWJy"
      },
      "execution_count": 40,
      "outputs": []
    },
    {
      "cell_type": "code",
      "source": [
        "def data_generator(data,lookback  = 7):\n",
        "  x = [data[i:(i + lookback)] for i in range(len(data)-lookback)]\n",
        "  y = [data[i+lookback, 3] for i in range(len(data)-lookback)] # we will take close price as output\n",
        "  return np.array(x), np.array(y)"
      ],
      "metadata": {
        "id": "VIIOge_iOXd_"
      },
      "execution_count": 41,
      "outputs": []
    },
    {
      "cell_type": "code",
      "source": [
        "trainX, trainY = data_generator(scaled_train)\n",
        "cvX, cvY = data_generator(scaled_cv)\n",
        "testX, testY = data_generator(scaled_test)"
      ],
      "metadata": {
        "id": "1HAdvyfjOXhI"
      },
      "execution_count": 42,
      "outputs": []
    },
    {
      "cell_type": "code",
      "source": [
        "print(\"trainX: \", trainX.shape)\n",
        "print(\"trainY: \", trainY.shape)\n",
        "print(\"crossValidationX: \", cvX.shape)\n",
        "print(\"crossValidationY: \", cvY.shape)\n",
        "print(\"testX: \", testX.shape)\n",
        "print(\"testY\", testY.shape)"
      ],
      "metadata": {
        "id": "yRriqoZkOrs8",
        "colab": {
          "base_uri": "https://localhost:8080/"
        },
        "outputId": "1e41a0bf-3555-435d-b3e6-54148f0050da"
      },
      "execution_count": 43,
      "outputs": [
        {
          "output_type": "stream",
          "name": "stdout",
          "text": [
            "trainX:  (1493, 7, 5)\n",
            "trainY:  (1493,)\n",
            "crossValidationX:  (193, 7, 5)\n",
            "crossValidationY:  (193,)\n",
            "testX:  (213, 7, 5)\n",
            "testY (213,)\n"
          ]
        }
      ]
    },
    {
      "cell_type": "code",
      "source": [
        "# the input to every LSTM layer must be three-dimensional.\n",
        "model = Sequential()\n",
        "# input_shape is supposed to be (timesteps, n_features).\n",
        "model.add(LSTM(units = 128, activation = 'relu',return_sequences=True, input_shape = (trainX.shape[1], trainX.shape[2])))\n",
        "model.add(Dropout(0.2))\n",
        "# Adding a second LSTM layer and some Dropout regularisation\n",
        "model.add(LSTM(units = 64, input_shape = (trainX.shape[1], trainX.shape[2])))\n",
        "model.add(Dropout(0.2))\n",
        "\n",
        "\n",
        "# output layer\n",
        "model.add(Dense(units = 1))"
      ],
      "metadata": {
        "id": "EdgYj0bZO5jm"
      },
      "execution_count": 44,
      "outputs": []
    },
    {
      "cell_type": "code",
      "source": [
        "model.summary()"
      ],
      "metadata": {
        "id": "eo_ryKHwO5mR",
        "colab": {
          "base_uri": "https://localhost:8080/"
        },
        "outputId": "923ec537-6d0b-4995-984e-7d2fa5980aa3"
      },
      "execution_count": 45,
      "outputs": [
        {
          "output_type": "stream",
          "name": "stdout",
          "text": [
            "Model: \"sequential_1\"\n",
            "_________________________________________________________________\n",
            " Layer (type)                Output Shape              Param #   \n",
            "=================================================================\n",
            " lstm_2 (LSTM)               (None, 7, 128)            68608     \n",
            "                                                                 \n",
            " dropout_2 (Dropout)         (None, 7, 128)            0         \n",
            "                                                                 \n",
            " lstm_3 (LSTM)               (None, 64)                49408     \n",
            "                                                                 \n",
            " dropout_3 (Dropout)         (None, 64)                0         \n",
            "                                                                 \n",
            " dense_1 (Dense)             (None, 1)                 65        \n",
            "                                                                 \n",
            "=================================================================\n",
            "Total params: 118,081\n",
            "Trainable params: 118,081\n",
            "Non-trainable params: 0\n",
            "_________________________________________________________________\n"
          ]
        }
      ]
    },
    {
      "cell_type": "code",
      "source": [
        "# Compiling the LSTM\n",
        "model.compile(optimizer = 'adam', loss = 'mean_squared_error')\n",
        "\n",
        "#checkpoint_path = 'my_best_model.hdf5'\n",
        "'''\n",
        "checkpoint = ModelCheckpoint(filepath=checkpoint_path, \n",
        "                             monitor='val_loss',\n",
        "                             verbose=1, \n",
        "                             save_best_only=True,\n",
        "                             mode='min')\n",
        "'''\n",
        "\n",
        "earlystopping = EarlyStopping(monitor='val_loss', patience=20, restore_best_weights=True)\n",
        "ep = 100\n",
        "BS = 8\n",
        "\n",
        "callbacks = [earlystopping]\n",
        "# callbacks = [checkpoint]\n",
        "\n",
        "\n",
        "history = model.fit(trainX, trainY, batch_size = BS, epochs = ep, verbose=1, shuffle=False, callbacks=callbacks, validation_data=(cvX, cvY)) #, callbacks=callbacks"
      ],
      "metadata": {
        "id": "sVXXsE1kO5qn",
        "colab": {
          "base_uri": "https://localhost:8080/"
        },
        "outputId": "bb601487-e0b3-492a-9a8b-d436f9f5d048"
      },
      "execution_count": 46,
      "outputs": [
        {
          "output_type": "stream",
          "name": "stdout",
          "text": [
            "Epoch 1/100\n",
            "187/187 [==============================] - 6s 17ms/step - loss: 0.0959 - val_loss: 0.1746\n",
            "Epoch 2/100\n",
            "187/187 [==============================] - 2s 13ms/step - loss: 0.0534 - val_loss: 0.1770\n",
            "Epoch 3/100\n",
            "187/187 [==============================] - 2s 13ms/step - loss: 0.0487 - val_loss: 0.2789\n",
            "Epoch 4/100\n",
            "187/187 [==============================] - 3s 13ms/step - loss: 0.0511 - val_loss: 0.3816\n",
            "Epoch 5/100\n",
            "187/187 [==============================] - 3s 14ms/step - loss: 0.0513 - val_loss: 0.4530\n",
            "Epoch 6/100\n",
            "187/187 [==============================] - 2s 13ms/step - loss: 0.0520 - val_loss: 0.3343\n",
            "Epoch 7/100\n",
            "187/187 [==============================] - 3s 14ms/step - loss: 0.0473 - val_loss: 0.3366\n",
            "Epoch 8/100\n",
            "187/187 [==============================] - 3s 14ms/step - loss: 0.0485 - val_loss: 0.3154\n",
            "Epoch 9/100\n",
            "187/187 [==============================] - 3s 14ms/step - loss: 0.0522 - val_loss: 0.4436\n",
            "Epoch 10/100\n",
            "187/187 [==============================] - 3s 14ms/step - loss: 0.0553 - val_loss: 0.2846\n",
            "Epoch 11/100\n",
            "187/187 [==============================] - 3s 14ms/step - loss: 0.0449 - val_loss: 0.3320\n",
            "Epoch 12/100\n",
            "187/187 [==============================] - 3s 14ms/step - loss: 0.0441 - val_loss: 0.2897\n",
            "Epoch 13/100\n",
            "187/187 [==============================] - 3s 14ms/step - loss: 0.0429 - val_loss: 0.2472\n",
            "Epoch 14/100\n",
            "187/187 [==============================] - 3s 14ms/step - loss: 0.0408 - val_loss: 0.1597\n",
            "Epoch 15/100\n",
            "187/187 [==============================] - 3s 14ms/step - loss: 0.0361 - val_loss: 0.1960\n",
            "Epoch 16/100\n",
            "187/187 [==============================] - 3s 14ms/step - loss: 0.0332 - val_loss: 0.0888\n",
            "Epoch 17/100\n",
            "187/187 [==============================] - 3s 14ms/step - loss: 0.0279 - val_loss: 0.0827\n",
            "Epoch 18/100\n",
            "187/187 [==============================] - 3s 14ms/step - loss: 0.0274 - val_loss: 0.1257\n",
            "Epoch 19/100\n",
            "187/187 [==============================] - 3s 14ms/step - loss: 0.0298 - val_loss: 0.1078\n",
            "Epoch 20/100\n",
            "187/187 [==============================] - 3s 14ms/step - loss: 0.0279 - val_loss: 0.0952\n",
            "Epoch 21/100\n",
            "187/187 [==============================] - 3s 14ms/step - loss: 0.0296 - val_loss: 0.1032\n",
            "Epoch 22/100\n",
            "187/187 [==============================] - 3s 15ms/step - loss: 0.0302 - val_loss: 0.0775\n",
            "Epoch 23/100\n",
            "187/187 [==============================] - 3s 14ms/step - loss: 0.0303 - val_loss: 0.1093\n",
            "Epoch 24/100\n",
            "187/187 [==============================] - 3s 14ms/step - loss: 0.0309 - val_loss: 0.1215\n",
            "Epoch 25/100\n",
            "187/187 [==============================] - 3s 14ms/step - loss: 0.0302 - val_loss: 0.1210\n",
            "Epoch 26/100\n",
            "187/187 [==============================] - 3s 14ms/step - loss: 0.0312 - val_loss: 0.1058\n",
            "Epoch 27/100\n",
            "187/187 [==============================] - 3s 14ms/step - loss: 0.0292 - val_loss: 0.0999\n",
            "Epoch 28/100\n",
            "187/187 [==============================] - 3s 14ms/step - loss: 0.0267 - val_loss: 0.0962\n",
            "Epoch 29/100\n",
            "187/187 [==============================] - 3s 13ms/step - loss: 0.0277 - val_loss: 0.0923\n",
            "Epoch 30/100\n",
            "187/187 [==============================] - 3s 14ms/step - loss: 0.0290 - val_loss: 0.1647\n",
            "Epoch 31/100\n",
            "187/187 [==============================] - 3s 15ms/step - loss: 0.0308 - val_loss: 0.1048\n",
            "Epoch 32/100\n",
            "187/187 [==============================] - 3s 15ms/step - loss: 0.0287 - val_loss: 0.1073\n",
            "Epoch 33/100\n",
            "187/187 [==============================] - 3s 16ms/step - loss: 0.0275 - val_loss: 0.0883\n",
            "Epoch 34/100\n",
            "187/187 [==============================] - 3s 14ms/step - loss: 0.0269 - val_loss: 0.0740\n",
            "Epoch 35/100\n",
            "187/187 [==============================] - 3s 15ms/step - loss: 0.0260 - val_loss: 0.0951\n",
            "Epoch 36/100\n",
            "187/187 [==============================] - 4s 20ms/step - loss: 0.0241 - val_loss: 0.0614\n",
            "Epoch 37/100\n",
            "187/187 [==============================] - 3s 16ms/step - loss: 0.0249 - val_loss: 0.0838\n",
            "Epoch 38/100\n",
            "187/187 [==============================] - 3s 15ms/step - loss: 0.0245 - val_loss: 0.0693\n",
            "Epoch 39/100\n",
            "187/187 [==============================] - 3s 14ms/step - loss: 0.0263 - val_loss: 0.0718\n",
            "Epoch 40/100\n",
            "187/187 [==============================] - 3s 14ms/step - loss: 0.0258 - val_loss: 0.0753\n",
            "Epoch 41/100\n",
            "187/187 [==============================] - 3s 14ms/step - loss: 0.0245 - val_loss: 0.0641\n",
            "Epoch 42/100\n",
            "187/187 [==============================] - 3s 14ms/step - loss: 0.0256 - val_loss: 0.0541\n",
            "Epoch 43/100\n",
            "187/187 [==============================] - 3s 14ms/step - loss: 0.0218 - val_loss: 0.0774\n",
            "Epoch 44/100\n",
            "187/187 [==============================] - 3s 14ms/step - loss: 0.0245 - val_loss: 0.0646\n",
            "Epoch 45/100\n",
            "187/187 [==============================] - 3s 14ms/step - loss: 0.0258 - val_loss: 0.0914\n",
            "Epoch 46/100\n",
            "187/187 [==============================] - 3s 14ms/step - loss: 0.0276 - val_loss: 0.0781\n",
            "Epoch 47/100\n",
            "187/187 [==============================] - 3s 14ms/step - loss: 0.0265 - val_loss: 0.1101\n",
            "Epoch 48/100\n",
            "187/187 [==============================] - 3s 13ms/step - loss: 0.0267 - val_loss: 0.0719\n",
            "Epoch 49/100\n",
            "187/187 [==============================] - 3s 14ms/step - loss: 0.0264 - val_loss: 0.1191\n",
            "Epoch 50/100\n",
            "187/187 [==============================] - 3s 14ms/step - loss: 0.0261 - val_loss: 0.1108\n",
            "Epoch 51/100\n",
            "187/187 [==============================] - 3s 14ms/step - loss: 0.0270 - val_loss: 0.0916\n",
            "Epoch 52/100\n",
            "187/187 [==============================] - 3s 14ms/step - loss: 0.0247 - val_loss: 0.0841\n",
            "Epoch 53/100\n",
            "187/187 [==============================] - 3s 14ms/step - loss: 0.0244 - val_loss: 0.1171\n",
            "Epoch 54/100\n",
            "187/187 [==============================] - 3s 14ms/step - loss: 0.0247 - val_loss: 0.0958\n",
            "Epoch 55/100\n",
            "187/187 [==============================] - 3s 14ms/step - loss: 0.0238 - val_loss: 0.0946\n",
            "Epoch 56/100\n",
            "187/187 [==============================] - 3s 14ms/step - loss: 0.0246 - val_loss: 0.0985\n",
            "Epoch 57/100\n",
            "187/187 [==============================] - 3s 14ms/step - loss: 0.0230 - val_loss: 0.0722\n",
            "Epoch 58/100\n",
            "187/187 [==============================] - 3s 14ms/step - loss: 0.0223 - val_loss: 0.0639\n",
            "Epoch 59/100\n",
            "187/187 [==============================] - 3s 14ms/step - loss: 0.0217 - val_loss: 0.0620\n",
            "Epoch 60/100\n",
            "187/187 [==============================] - 3s 14ms/step - loss: 0.0231 - val_loss: 0.0603\n",
            "Epoch 61/100\n",
            "187/187 [==============================] - 3s 15ms/step - loss: 0.0216 - val_loss: 0.0789\n",
            "Epoch 62/100\n",
            "187/187 [==============================] - 3s 14ms/step - loss: 0.0215 - val_loss: 0.0647\n"
          ]
        }
      ]
    },
    {
      "cell_type": "code",
      "source": [
        "plt.figure(figsize=(16,7))\n",
        "plt.plot(history.history['loss'], label='train')\n",
        "plt.plot(history.history['val_loss'], label='test')\n",
        "\n",
        "plt.legend()\n",
        "plt.show()"
      ],
      "metadata": {
        "colab": {
          "base_uri": "https://localhost:8080/",
          "height": 428
        },
        "id": "Xdv-bUwiHx_f",
        "outputId": "096fcab0-6a30-4ccc-999d-f7d7e69fa103"
      },
      "execution_count": 47,
      "outputs": [
        {
          "output_type": "display_data",
          "data": {
            "text/plain": [
              "<Figure size 1152x504 with 1 Axes>"
            ],
            "image/png": "[encoded data removed]"
          },
          "metadata": {
            "needs_background": "light"
          }
        }
      ]
    },
    {
      "cell_type": "code",
      "source": [
        "predicted_test_data = model.predict(testX)"
      ],
      "metadata": {
        "id": "EV7XSil6H4wA"
      },
      "execution_count": 48,
      "outputs": []
    },
    {
      "cell_type": "code",
      "source": [
        "def convert_(arr):\n",
        "  zeros = [ [0]*5 for _ in range(143) ]\n",
        "  for i in range(len(zeros)):\n",
        "    try:\n",
        "      zeros[i][3] = arr[i][0]\n",
        "    except:\n",
        "      zeros[i][3] = arr[i]\n",
        "  return zeros  "
      ],
      "metadata": {
        "id": "PJMbjpc6H8c0"
      },
      "execution_count": 50,
      "outputs": []
    },
    {
      "cell_type": "code",
      "source": [
        "predicted_test_data = scaler.inverse_transform(convert_(predicted_test_data))\n",
        "test_actual = scaler.inverse_transform(convert_(testY))"
      ],
      "metadata": {
        "id": "REegUmXPIB3M"
      },
      "execution_count": 51,
      "outputs": []
    },
    {
      "cell_type": "code",
      "source": [
        "plt.figure(figsize=(16,7))\n",
        "\n",
        "plt.plot(predicted_test_data[:, [3]], 'r', marker='.', label='Predicted Test')\n",
        "\n",
        "plt.plot(test_actual[:, [3]], 'b', marker='.', label='Actual Test')\n",
        "\n",
        "plt.legend()\n",
        "plt.show()"
      ],
      "metadata": {
        "id": "jNis7OPVIFLE",
        "colab": {
          "base_uri": "https://localhost:8080/",
          "height": 428
        },
        "outputId": "2803acc7-fea9-4f06-924d-c9b777826c0a"
      },
      "execution_count": 52,
      "outputs": [
        {
          "output_type": "display_data",
          "data": {
            "text/plain": [
              "<Figure size 1152x504 with 1 Axes>"
            ],
            "image/png": "[encoded data removed]"
          },
          "metadata": {
            "needs_background": "light"
          }
        }
      ]
    },
    {
      "cell_type": "code",
      "source": [
        "# Transformation to original form and making the predictions\n",
        "\n",
        "predicted_btc_price_train_data = model.predict(trainX)\n",
        "\n",
        "predicted_btc_price_train_data = scaler.inverse_transform(convert_(predicted_btc_price_train_data))\n",
        "\n",
        "train_actual = scaler.inverse_transform(convert_(trainY))"
      ],
      "metadata": {
        "id": "BlrOa82YdCql"
      },
      "execution_count": 53,
      "outputs": []
    },
    {
      "cell_type": "code",
      "source": [
        "# Train Data\n",
        "rmse_lstm_train = math.sqrt(mean_squared_error(train_actual[:, [3]], predicted_btc_price_train_data[:, [3]]))\n",
        "\n",
        "print('Test RMSE: %.3f' % rmse_lstm_train)"
      ],
      "metadata": {
        "id": "ONcJhiDosfu4",
        "colab": {
          "base_uri": "https://localhost:8080/"
        },
        "outputId": "5b80a5cb-2ad8-447a-a07c-b629a06bd0b0"
      },
      "execution_count": 54,
      "outputs": [
        {
          "output_type": "stream",
          "name": "stdout",
          "text": [
            "Test RMSE: 189.094\n"
          ]
        }
      ]
    },
    {
      "cell_type": "code",
      "source": [
        "# Test Data\n",
        "rmse_lstm_test = math.sqrt(mean_squared_error(test_actual[:, [3]], predicted_test_data[:, [3]]))\n",
        "\n",
        "print('Test RMSE: %.3f' % rmse_lstm_test)"
      ],
      "metadata": {
        "id": "MHr-kApSsfw6",
        "colab": {
          "base_uri": "https://localhost:8080/"
        },
        "outputId": "3ee5ea37-3d38-4734-f459-40902d3f9b1d"
      },
      "execution_count": 55,
      "outputs": [
        {
          "output_type": "stream",
          "name": "stdout",
          "text": [
            "Test RMSE: 63.504\n"
          ]
        }
      ]
    }
  ]
}