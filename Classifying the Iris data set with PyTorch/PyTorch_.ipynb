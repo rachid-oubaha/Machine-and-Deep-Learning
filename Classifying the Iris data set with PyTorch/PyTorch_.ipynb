{
  "nbformat": 4,
  "nbformat_minor": 0,
  "metadata": {
    "colab": {
      "provenance": []
    },
    "kernelspec": {
      "name": "python3",
      "display_name": "Python 3"
    },
    "language_info": {
      "name": "python"
    }
  },
  "cells": [
    {
      "cell_type": "markdown",
      "source": [
        "Installing PyTorch"
      ],
      "metadata": {
        "id": "c8iuot45el6L"
      }
    },
    {
      "cell_type": "code",
      "source": [
        "pip install torch "
      ],
      "metadata": {
        "colab": {
          "base_uri": "https://localhost:8080/"
        },
        "id": "sENu5EgKUSZc",
        "outputId": "c7b0c22a-be58-4434-d409-82bdef415221"
      },
      "execution_count": 1,
      "outputs": [
        {
          "output_type": "stream",
          "name": "stdout",
          "text": [
            "Looking in indexes: https://pypi.org/simple, https://us-python.pkg.dev/colab-wheels/public/simple/\n",
            "Requirement already satisfied: torch in /usr/local/lib/python3.8/dist-packages (1.13.1+cu116)\n",
            "Requirement already satisfied: typing-extensions in /usr/local/lib/python3.8/dist-packages (from torch) (4.4.0)\n"
          ]
        }
      ]
    },
    {
      "cell_type": "markdown",
      "source": [
        "Importing The Required Libraries"
      ],
      "metadata": {
        "id": "rK3qDcZ7ea1m"
      }
    },
    {
      "cell_type": "code",
      "source": [
        "import torch\n",
        "import torch.nn as nn\n",
        "import torch.nn.functional as F\n",
        "from torch.autograd import Variable\n",
        "from torch import optim\n",
        "import numpy as np\n",
        "\n",
        "from sklearn import datasets\n",
        "from sklearn.model_selection import train_test_split\n",
        "from sklearn.metrics import confusion_matrix\n",
        "from sklearn import metrics\n",
        "from sklearn.preprocessing import StandardScaler\n",
        "\n",
        "import seaborn as sn\n",
        "import pandas as pd\n",
        "\n",
        "\n",
        "import matplotlib.pyplot as plt\n",
        "%matplotlib inline"
      ],
      "metadata": {
        "id": "KFIva5SdUSbh"
      },
      "execution_count": null,
      "outputs": []
    },
    {
      "cell_type": "markdown",
      "source": [
        "Loading the data set"
      ],
      "metadata": {
        "id": "wMKnBHKdRxTw"
      }
    },
    {
      "cell_type": "code",
      "source": [
        "iris = datasets.load_iris()\n",
        "\n",
        "data = iris['data']\n",
        "target = iris['target']\n",
        "\n",
        "print(iris.target_names)\n",
        "\n",
        "print(iris['data'].shape[1])\n",
        "print(len(iris.target_names))"
      ],
      "metadata": {
        "colab": {
          "base_uri": "https://localhost:8080/"
        },
        "id": "Q92Mhtx86DgZ",
        "outputId": "42b7c13e-f0a3-448c-a026-4c2475e7aa79"
      },
      "execution_count": null,
      "outputs": [
        {
          "output_type": "stream",
          "name": "stdout",
          "text": [
            "['setosa' 'versicolor' 'virginica']\n",
            "4\n",
            "3\n"
          ]
        }
      ]
    },
    {
      "cell_type": "markdown",
      "source": [
        "Doing The Train Test Split And Scaling The Data"
      ],
      "metadata": {
        "id": "m4snaVOMexYx"
      }
    },
    {
      "cell_type": "code",
      "source": [
        "X_train, X_test, y_train, y_test = train_test_split(data, target, test_size=0.30, random_state=42)"
      ],
      "metadata": {
        "id": "nb8IRa0WhNZc"
      },
      "execution_count": null,
      "outputs": []
    },
    {
      "cell_type": "code",
      "source": [
        "\n",
        "scaler = StandardScaler()\n",
        "X_train = scaler.fit_transform(X_train)\n",
        "X_test = scaler.transform(X_test)"
      ],
      "metadata": {
        "id": "M-JSPeqDEh7x"
      },
      "execution_count": null,
      "outputs": []
    },
    {
      "cell_type": "markdown",
      "source": [
        "Converting From Numpy Array To Torch Tensor"
      ],
      "metadata": {
        "id": "6QTb4h3ye6c6"
      }
    },
    {
      "cell_type": "code",
      "source": [
        "X_train = torch.FloatTensor(X_train)\n",
        "X_test = torch.FloatTensor(X_test)\n",
        "y_train = torch.LongTensor(y_train)\n",
        "y_test = torch.LongTensor(y_test)"
      ],
      "metadata": {
        "id": "8hNa8O0ohL0c"
      },
      "execution_count": null,
      "outputs": []
    },
    {
      "cell_type": "markdown",
      "source": [
        "Defining Our Neural Network Model For Classification"
      ],
      "metadata": {
        "id": "wGsbQbb4fEWM"
      }
    },
    {
      "cell_type": "code",
      "source": [
        "# Number of features\n",
        "Dimensionality = iris['data'].shape[1]  # 4 columns\n",
        "# Number of classes\n",
        "Classes = len(iris.target_names) # 3 classes"
      ],
      "metadata": {
        "id": "Dy2TaW6pNFmJ"
      },
      "execution_count": null,
      "outputs": []
    },
    {
      "cell_type": "code",
      "source": [
        "# Neural Network\n",
        "class Net(nn.Module):\n",
        "  def __init__(self, input_dim, output_dim):\n",
        "    super(Net, self).__init__()\n",
        "\n",
        "    self.input_dim = input_dim\n",
        "    self.output_dim = output_dim\n",
        "    self.y_pred_test = 0\n",
        "\n",
        "    # input layer = 4\n",
        "    # hidden layer 1 = 32\n",
        "    # hidden layer 2 = 8\n",
        "    # output layer = 3 \n",
        "    self.fc1 = nn.Linear(self.input_dim, 128)  \n",
        "    self.fc2 = nn.Linear(128, 64)\n",
        "    self.fc3 = nn.Linear(64, self.output_dim)\n",
        "\n",
        "  \n",
        "  def forward(self, x):\n",
        "    x = F.relu(self.fc1(x))\n",
        "    x = F.relu(self.fc2(x))\n",
        "    x = F.log_softmax(self.fc3(x))\n",
        "    return x\n",
        "\n",
        "  def train(self, x, y, optimizer, loss_function, epochs):\n",
        "\n",
        "    # list of store losses\n",
        "    losses_train = []\n",
        "    losses_test = []\n",
        "    for i in range(epochs):\n",
        "      # Rest Gradient\n",
        "      optimizer.zero_grad()\n",
        "\n",
        "      # Forward\n",
        "      y_pred = self.forward(x)\n",
        "\n",
        "      # Loss function\n",
        "      loss_train = loss_function(y_pred, y)\n",
        "      \n",
        "      \n",
        "      # Backward\n",
        "      loss_train.backward()\n",
        "\n",
        "      # Update Parametres\n",
        "      optimizer.step()\n",
        "\n",
        "      # Add loss item to the list\n",
        "      losses_train.append(loss_train.item())\n",
        "\n",
        "      # validation testing\n",
        "      self.y_pred_test = net.forward(X_test)\n",
        "      loss_test = loss_function(self.y_pred_test, y_test)\n",
        "      losses_test.append(loss_test.item())\n",
        "\n",
        "      if (i + 1) % 200 == 0:\n",
        "        print(f\"Epoch {i+1}/{epochs}, Train Loss: {loss_train.item():.4f}, Test Loss: {loss_test.item():.4f}\")\n",
        "\n",
        "    return losses_train, losses_test\n",
        "\n",
        "  def get_accuracy(self, x, y):\n",
        "    predictions_train = []\n",
        "    predictions_test =  []\n",
        "    with torch.no_grad():\n",
        "      y_pred = self.forward(x)\n",
        "    count = 0\n",
        "    for i in range(len(y)):\n",
        "      if np.argmax(y_pred[i]) == y[i]:\n",
        "        count +=1\n",
        "    return count/len(y)\n",
        "\n",
        "  def confusion_matrix(self, y, labels):\n",
        "    y_pred = []\n",
        "    for i in range(len(y)):\n",
        "      y_pred.append(np.argmax(self.y_pred_test.detach().numpy()[i]))\n",
        "    conf_matrix = confusion_matrix(y.detach().numpy(), y_pred)\n",
        "    \n",
        "    cm_display = metrics.ConfusionMatrixDisplay(confusion_matrix = conf_matrix, display_labels = labels)\n",
        "    cm_display.plot()\n",
        "    plt.show()\n",
        "    return\n",
        "\n",
        "  def predict(self, x, labals):\n",
        "    with torch.no_grad():\n",
        "      x = torch.FloatTensor(x)\n",
        "      y = self.forward(x)\n",
        "    return labals[np.argmax(y.detach().numpy())] \n"
      ],
      "metadata": {
        "id": "G8krawD33jRA"
      },
      "execution_count": null,
      "outputs": []
    },
    {
      "cell_type": "code",
      "source": [
        "# Creating a neural network object nammed net\n",
        "net = Net(Dimensionality, Classes)\n",
        "print(net)\n",
        "print(net.parameters())\n",
        "params = list(net.parameters())\n",
        "print(len(params))\n",
        "print(params[0].size())"
      ],
      "metadata": {
        "colab": {
          "base_uri": "https://localhost:8080/"
        },
        "id": "8Vyz5851SjTp",
        "outputId": "048e3d3f-4c93-4e0f-e311-eb5f979b9ce9"
      },
      "execution_count": null,
      "outputs": [
        {
          "output_type": "stream",
          "name": "stdout",
          "text": [
            "Net(\n",
            "  (fc1): Linear(in_features=4, out_features=128, bias=True)\n",
            "  (fc2): Linear(in_features=128, out_features=64, bias=True)\n",
            "  (fc3): Linear(in_features=64, out_features=3, bias=True)\n",
            ")\n",
            "<generator object Module.parameters at 0x7f713c258d60>\n",
            "6\n",
            "torch.Size([128, 4])\n"
          ]
        }
      ]
    },
    {
      "cell_type": "code",
      "source": [
        "#Learning rate\n",
        "lr = 0.001\n",
        "\n",
        "# Number of epochs\n",
        "epochs = 1000\n",
        "\n",
        "# Loss function\n",
        "loss_function = nn.CrossEntropyLoss()\n",
        "\n",
        "# Optimizer\n",
        "optimizer = optim.Adam(net.parameters(), lr=lr)"
      ],
      "metadata": {
        "id": "VXmw6Qb_VuKD"
      },
      "execution_count": null,
      "outputs": []
    },
    {
      "cell_type": "code",
      "source": [
        "# Training the model\n",
        "losses_train, losses_test = net.train(X_train, y_train, optimizer, loss_function, epochs)"
      ],
      "metadata": {
        "colab": {
          "base_uri": "https://localhost:8080/"
        },
        "id": "tfVMKr3yR6Hm",
        "outputId": "0a72c0f6-9e25-43d9-90fb-fa521cd5c9d9"
      },
      "execution_count": null,
      "outputs": [
        {
          "output_type": "stream",
          "name": "stderr",
          "text": [
            "<ipython-input-165-3b388685937b>:20: UserWarning: Implicit dimension choice for log_softmax has been deprecated. Change the call to include dim=X as an argument.\n",
            "  x = F.log_softmax(self.fc3(x))\n"
          ]
        },
        {
          "output_type": "stream",
          "name": "stdout",
          "text": [
            "Epoch 200/1000, Train Loss: 0.0375, Test Loss: 0.0144\n",
            "Epoch 400/1000, Train Loss: 0.0074, Test Loss: 0.0082\n",
            "Epoch 600/1000, Train Loss: 0.0016, Test Loss: 0.0066\n",
            "Epoch 800/1000, Train Loss: 0.0006, Test Loss: 0.0068\n",
            "Epoch 1000/1000, Train Loss: 0.0003, Test Loss: 0.0059\n"
          ]
        }
      ]
    },
    {
      "cell_type": "code",
      "source": [
        "# Calculating the accuracy of the model\n",
        "train_accuracy = net.get_accuracy(X_train, y_train)\n",
        "test_accuracy = net.get_accuracy(X_test, y_test)\n",
        "print(f\"Training Accuracy: {round(train_accuracy*100,3)}\")\n",
        "print(f\"Test Accuracy: {round(test_accuracy*100,3)}\")"
      ],
      "metadata": {
        "colab": {
          "base_uri": "https://localhost:8080/"
        },
        "id": "DYZ8ZbxaG2_f",
        "outputId": "cbfc8d9c-8b6b-4e24-8f83-5e6529f18db7"
      },
      "execution_count": null,
      "outputs": [
        {
          "output_type": "stream",
          "name": "stdout",
          "text": [
            "Training Accuracy: 100.0\n",
            "Test Accuracy: 100.0\n"
          ]
        },
        {
          "output_type": "stream",
          "name": "stderr",
          "text": [
            "<ipython-input-165-3b388685937b>:20: UserWarning: Implicit dimension choice for log_softmax has been deprecated. Change the call to include dim=X as an argument.\n",
            "  x = F.log_softmax(self.fc3(x))\n"
          ]
        }
      ]
    },
    {
      "cell_type": "code",
      "source": [
        "# Plotting the confusion matrix\n",
        "net.confusion_matrix(y_test, iris.target_names)"
      ],
      "metadata": {
        "colab": {
          "base_uri": "https://localhost:8080/",
          "height": 279
        },
        "id": "Z7_iovlpYyFT",
        "outputId": "c92ca562-8093-4eea-f245-3e9351fb1858"
      },
      "execution_count": null,
      "outputs": [
        {
          "output_type": "display_data",
          "data": {
            "text/plain": [
              "<Figure size 432x288 with 2 Axes>"
            ],
            "image/png": "[encoded data removed]"
          },
          "metadata": {
            "needs_background": "light"
          }
        }
      ]
    },
    {
      "cell_type": "code",
      "source": [
        "# Predicting the outcome for a new data the result should be \"Iris-setosa\"\n",
        "new_data = [[5.1, 3.1, 1.4, 0.2]]\n",
        "new_data = scaler.transform(new_data)\n",
        "train_accuracy = net.predict(new_data, iris.target_names)\n",
        "print(train_accuracy)"
      ],
      "metadata": {
        "colab": {
          "base_uri": "https://localhost:8080/"
        },
        "id": "8HBBDA8oLHmA",
        "outputId": "c6e8c80f-677a-4368-ba48-cac4a276b799"
      },
      "execution_count": null,
      "outputs": [
        {
          "output_type": "stream",
          "name": "stdout",
          "text": [
            "setosa\n"
          ]
        },
        {
          "output_type": "stream",
          "name": "stderr",
          "text": [
            "<ipython-input-165-3b388685937b>:20: UserWarning: Implicit dimension choice for log_softmax has been deprecated. Change the call to include dim=X as an argument.\n",
            "  x = F.log_softmax(self.fc3(x))\n"
          ]
        }
      ]
    },
    {
      "cell_type": "code",
      "source": [
        "# Plotting training and validation loss\n",
        "plt.figure(figsize=(10,10))\n",
        "plt.plot(losses_train, label='train loss')\n",
        "plt.plot(losses_test, label='validation loss')\n",
        "plt.legend()\n",
        "plt.show()"
      ],
      "metadata": {
        "colab": {
          "base_uri": "https://localhost:8080/",
          "height": 592
        },
        "id": "r_VKTHpglAI-",
        "outputId": "556ace52-8ba3-4d3b-8445-3c6d7096ffca"
      },
      "execution_count": null,
      "outputs": [
        {
          "output_type": "display_data",
          "data": {
            "text/plain": [
              "<Figure size 720x720 with 1 Axes>"
            ],
            "image/png": "[encoded data removed]"
          },
          "metadata": {
            "needs_background": "light"
          }
        }
      ]
    },
    {
      "cell_type": "code",
      "source": [],
      "metadata": {
        "id": "-kj64PVuK_hD"
      },
      "execution_count": null,
      "outputs": []
    }
  ]
}